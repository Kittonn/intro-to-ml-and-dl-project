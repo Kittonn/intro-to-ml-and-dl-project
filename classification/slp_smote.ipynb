{
 "cells": [
  {
   "cell_type": "code",
   "execution_count": 4,
   "id": "c3e7b01d",
   "metadata": {},
   "outputs": [
    {
     "name": "stdout",
     "output_type": "stream",
     "text": [
      "Requirement already satisfied: pandas in /Users/7n100489/Library/CloudStorage/OneDrive-BankofAyudhyaPublicCompanyLimited/Desktop/Workspace/github/intro-to-ml-and-dl-project/.venv/lib/python3.13/site-packages (2.3.3)\n",
      "Requirement already satisfied: torch in /Users/7n100489/Library/CloudStorage/OneDrive-BankofAyudhyaPublicCompanyLimited/Desktop/Workspace/github/intro-to-ml-and-dl-project/.venv/lib/python3.13/site-packages (2.8.0)\n",
      "Requirement already satisfied: tqdm in /Users/7n100489/Library/CloudStorage/OneDrive-BankofAyudhyaPublicCompanyLimited/Desktop/Workspace/github/intro-to-ml-and-dl-project/.venv/lib/python3.13/site-packages (4.67.1)\n",
      "Requirement already satisfied: matplotlib in /Users/7n100489/Library/CloudStorage/OneDrive-BankofAyudhyaPublicCompanyLimited/Desktop/Workspace/github/intro-to-ml-and-dl-project/.venv/lib/python3.13/site-packages (3.10.6)\n",
      "Requirement already satisfied: imblearn in /Users/7n100489/Library/CloudStorage/OneDrive-BankofAyudhyaPublicCompanyLimited/Desktop/Workspace/github/intro-to-ml-and-dl-project/.venv/lib/python3.13/site-packages (0.0)\n",
      "Requirement already satisfied: numpy>=1.26.0 in /Users/7n100489/Library/CloudStorage/OneDrive-BankofAyudhyaPublicCompanyLimited/Desktop/Workspace/github/intro-to-ml-and-dl-project/.venv/lib/python3.13/site-packages (from pandas) (2.3.3)\n",
      "Requirement already satisfied: python-dateutil>=2.8.2 in /Users/7n100489/Library/CloudStorage/OneDrive-BankofAyudhyaPublicCompanyLimited/Desktop/Workspace/github/intro-to-ml-and-dl-project/.venv/lib/python3.13/site-packages (from pandas) (2.9.0.post0)\n",
      "Requirement already satisfied: pytz>=2020.1 in /Users/7n100489/Library/CloudStorage/OneDrive-BankofAyudhyaPublicCompanyLimited/Desktop/Workspace/github/intro-to-ml-and-dl-project/.venv/lib/python3.13/site-packages (from pandas) (2025.2)\n",
      "Requirement already satisfied: tzdata>=2022.7 in /Users/7n100489/Library/CloudStorage/OneDrive-BankofAyudhyaPublicCompanyLimited/Desktop/Workspace/github/intro-to-ml-and-dl-project/.venv/lib/python3.13/site-packages (from pandas) (2025.2)\n",
      "Requirement already satisfied: filelock in /Users/7n100489/Library/CloudStorage/OneDrive-BankofAyudhyaPublicCompanyLimited/Desktop/Workspace/github/intro-to-ml-and-dl-project/.venv/lib/python3.13/site-packages (from torch) (3.19.1)\n",
      "Requirement already satisfied: typing-extensions>=4.10.0 in /Users/7n100489/Library/CloudStorage/OneDrive-BankofAyudhyaPublicCompanyLimited/Desktop/Workspace/github/intro-to-ml-and-dl-project/.venv/lib/python3.13/site-packages (from torch) (4.15.0)\n",
      "Requirement already satisfied: setuptools in /Users/7n100489/Library/CloudStorage/OneDrive-BankofAyudhyaPublicCompanyLimited/Desktop/Workspace/github/intro-to-ml-and-dl-project/.venv/lib/python3.13/site-packages (from torch) (80.9.0)\n",
      "Requirement already satisfied: sympy>=1.13.3 in /Users/7n100489/Library/CloudStorage/OneDrive-BankofAyudhyaPublicCompanyLimited/Desktop/Workspace/github/intro-to-ml-and-dl-project/.venv/lib/python3.13/site-packages (from torch) (1.14.0)\n",
      "Requirement already satisfied: networkx in /Users/7n100489/Library/CloudStorage/OneDrive-BankofAyudhyaPublicCompanyLimited/Desktop/Workspace/github/intro-to-ml-and-dl-project/.venv/lib/python3.13/site-packages (from torch) (3.5)\n",
      "Requirement already satisfied: jinja2 in /Users/7n100489/Library/CloudStorage/OneDrive-BankofAyudhyaPublicCompanyLimited/Desktop/Workspace/github/intro-to-ml-and-dl-project/.venv/lib/python3.13/site-packages (from torch) (3.1.6)\n",
      "Requirement already satisfied: fsspec in /Users/7n100489/Library/CloudStorage/OneDrive-BankofAyudhyaPublicCompanyLimited/Desktop/Workspace/github/intro-to-ml-and-dl-project/.venv/lib/python3.13/site-packages (from torch) (2025.9.0)\n",
      "Requirement already satisfied: contourpy>=1.0.1 in /Users/7n100489/Library/CloudStorage/OneDrive-BankofAyudhyaPublicCompanyLimited/Desktop/Workspace/github/intro-to-ml-and-dl-project/.venv/lib/python3.13/site-packages (from matplotlib) (1.3.3)\n",
      "Requirement already satisfied: cycler>=0.10 in /Users/7n100489/Library/CloudStorage/OneDrive-BankofAyudhyaPublicCompanyLimited/Desktop/Workspace/github/intro-to-ml-and-dl-project/.venv/lib/python3.13/site-packages (from matplotlib) (0.12.1)\n",
      "Requirement already satisfied: fonttools>=4.22.0 in /Users/7n100489/Library/CloudStorage/OneDrive-BankofAyudhyaPublicCompanyLimited/Desktop/Workspace/github/intro-to-ml-and-dl-project/.venv/lib/python3.13/site-packages (from matplotlib) (4.60.1)\n",
      "Requirement already satisfied: kiwisolver>=1.3.1 in /Users/7n100489/Library/CloudStorage/OneDrive-BankofAyudhyaPublicCompanyLimited/Desktop/Workspace/github/intro-to-ml-and-dl-project/.venv/lib/python3.13/site-packages (from matplotlib) (1.4.9)\n",
      "Requirement already satisfied: packaging>=20.0 in /Users/7n100489/Library/CloudStorage/OneDrive-BankofAyudhyaPublicCompanyLimited/Desktop/Workspace/github/intro-to-ml-and-dl-project/.venv/lib/python3.13/site-packages (from matplotlib) (25.0)\n",
      "Requirement already satisfied: pillow>=8 in /Users/7n100489/Library/CloudStorage/OneDrive-BankofAyudhyaPublicCompanyLimited/Desktop/Workspace/github/intro-to-ml-and-dl-project/.venv/lib/python3.13/site-packages (from matplotlib) (11.3.0)\n",
      "Requirement already satisfied: pyparsing>=2.3.1 in /Users/7n100489/Library/CloudStorage/OneDrive-BankofAyudhyaPublicCompanyLimited/Desktop/Workspace/github/intro-to-ml-and-dl-project/.venv/lib/python3.13/site-packages (from matplotlib) (3.2.5)\n",
      "Requirement already satisfied: imbalanced-learn in /Users/7n100489/Library/CloudStorage/OneDrive-BankofAyudhyaPublicCompanyLimited/Desktop/Workspace/github/intro-to-ml-and-dl-project/.venv/lib/python3.13/site-packages (from imblearn) (0.14.0)\n",
      "Requirement already satisfied: six>=1.5 in /Users/7n100489/Library/CloudStorage/OneDrive-BankofAyudhyaPublicCompanyLimited/Desktop/Workspace/github/intro-to-ml-and-dl-project/.venv/lib/python3.13/site-packages (from python-dateutil>=2.8.2->pandas) (1.17.0)\n",
      "Requirement already satisfied: mpmath<1.4,>=1.1.0 in /Users/7n100489/Library/CloudStorage/OneDrive-BankofAyudhyaPublicCompanyLimited/Desktop/Workspace/github/intro-to-ml-and-dl-project/.venv/lib/python3.13/site-packages (from sympy>=1.13.3->torch) (1.3.0)\n",
      "Requirement already satisfied: scipy<2,>=1.11.4 in /Users/7n100489/Library/CloudStorage/OneDrive-BankofAyudhyaPublicCompanyLimited/Desktop/Workspace/github/intro-to-ml-and-dl-project/.venv/lib/python3.13/site-packages (from imbalanced-learn->imblearn) (1.16.2)\n",
      "Requirement already satisfied: scikit-learn<2,>=1.4.2 in /Users/7n100489/Library/CloudStorage/OneDrive-BankofAyudhyaPublicCompanyLimited/Desktop/Workspace/github/intro-to-ml-and-dl-project/.venv/lib/python3.13/site-packages (from imbalanced-learn->imblearn) (1.7.2)\n",
      "Requirement already satisfied: joblib<2,>=1.2.0 in /Users/7n100489/Library/CloudStorage/OneDrive-BankofAyudhyaPublicCompanyLimited/Desktop/Workspace/github/intro-to-ml-and-dl-project/.venv/lib/python3.13/site-packages (from imbalanced-learn->imblearn) (1.5.2)\n",
      "Requirement already satisfied: threadpoolctl<4,>=2.0.0 in /Users/7n100489/Library/CloudStorage/OneDrive-BankofAyudhyaPublicCompanyLimited/Desktop/Workspace/github/intro-to-ml-and-dl-project/.venv/lib/python3.13/site-packages (from imbalanced-learn->imblearn) (3.6.0)\n",
      "Requirement already satisfied: MarkupSafe>=2.0 in /Users/7n100489/Library/CloudStorage/OneDrive-BankofAyudhyaPublicCompanyLimited/Desktop/Workspace/github/intro-to-ml-and-dl-project/.venv/lib/python3.13/site-packages (from jinja2->torch) (3.0.3)\n",
      "Note: you may need to restart the kernel to use updated packages.\n"
     ]
    }
   ],
   "source": [
    "%pip install pandas torch tqdm matplotlib imblearn"
   ]
  },
  {
   "cell_type": "code",
   "execution_count": 5,
   "id": "41b6430b",
   "metadata": {},
   "outputs": [],
   "source": [
    "import torch.nn as nn\n",
    "import torch\n",
    "import pandas as pd\n",
    "from sklearn.model_selection import train_test_split\n",
    "from sklearn.preprocessing import StandardScaler\n",
    "from torch.utils.data import DataLoader, TensorDataset\n",
    "from tqdm import tqdm\n",
    "import matplotlib.pyplot as plt\n",
    "from imblearn.over_sampling import SMOTE\n"
   ]
  },
  {
   "cell_type": "code",
   "execution_count": 6,
   "id": "c30a672c",
   "metadata": {},
   "outputs": [
    {
     "name": "stdout",
     "output_type": "stream",
     "text": [
      "Before SMOTE: (3219, 5) (3219,)\n",
      "After SMOTE: (5446, 5) (5446,)\n"
     ]
    }
   ],
   "source": [
    "df = pd.read_csv(\"../df_unbalanced_classification.csv\")\n",
    "\n",
    "selected_feature = [\n",
    "    \"differentiate\",\n",
    "    \"Node Positive Ratio\",\n",
    "    \"N Stage Encoded\",\n",
    "    \"Estrogen Status Encoded\",\n",
    "    \"Progesterone Status Encoded\",\n",
    "]\n",
    "\n",
    "# X = df.drop(columns=[\"Survival More Than 6 Years\"]).values\n",
    "X = df[selected_feature].values\n",
    "y = df[\"Status_encoded\"].values\n",
    "\n",
    "X_train, X_test, y_train, y_test = train_test_split(\n",
    "    X, y, test_size=0.2, random_state=42\n",
    ")\n",
    "\n",
    "smote = SMOTE(random_state=42)\n",
    "X_train_res, y_train_res = smote.fit_resample(X_train, y_train)\n",
    "\n",
    "print(\"Before SMOTE:\", X_train.shape, y_train.shape)\n",
    "print(\"After SMOTE:\", X_train_res.shape, y_train_res.shape)\n",
    "\n",
    "\n",
    "scaler = StandardScaler()\n",
    "X_train_scaled = scaler.fit_transform(X_train_res)\n",
    "X_test_scaled = scaler.transform(X_test)\n",
    "\n",
    "X_train_tensor = torch.tensor(X_train_scaled, dtype=torch.float32)\n",
    "X_test_tensor = torch.tensor(X_test_scaled, dtype=torch.float32)\n",
    "y_train_tensor = torch.tensor(y_train_res, dtype=torch.long)\n",
    "y_test_tensor = torch.tensor(y_test, dtype=torch.long)\n",
    "\n",
    "train_dataset = TensorDataset(X_train_tensor, y_train_tensor)\n",
    "train_loader = DataLoader(train_dataset, batch_size=32, shuffle=True)\n",
    "\n",
    "test_dataset = TensorDataset(X_test_tensor, y_test_tensor)\n",
    "test_loader = DataLoader(test_dataset, batch_size=32, shuffle=False)"
   ]
  },
  {
   "cell_type": "code",
   "execution_count": 11,
   "id": "e75fc86c",
   "metadata": {},
   "outputs": [],
   "source": [
    "class SLP(nn.Module):\n",
    "    def __init__(self, input_dim, output_dim):\n",
    "        super(SLP, self).__init__()\n",
    "        self.linear = nn.Linear(input_dim, output_dim)\n",
    "\n",
    "    def forward(self, x):\n",
    "        return self.linear(x)\n",
    "\n",
    "    def predict(self, x):\n",
    "        self.eval()\n",
    "        with torch.no_grad():\n",
    "            logits = self.forward(x)\n",
    "            probs = torch.softmax(logits, dim=1)\n",
    "            return torch.argmax(probs, dim=1)"
   ]
  },
  {
   "cell_type": "code",
   "execution_count": 12,
   "id": "ae18a3f4",
   "metadata": {},
   "outputs": [],
   "source": [
    "def train(model, train_loader, criterion, optimizer, epochs=50):\n",
    "    train_losses = []\n",
    "    train_accuracies = []\n",
    "    val_losses = []\n",
    "    val_accuracies = []\n",
    "\n",
    "    for epoch in range(epochs):\n",
    "        model.train()\n",
    "        train_acc = 0\n",
    "        train_loss = 0\n",
    "\n",
    "        for X_batch, y_batch in tqdm(\n",
    "            train_loader, desc=f\"Epoch {epoch + 1}/{epochs} - Training\"\n",
    "        ):\n",
    "            optimizer.zero_grad()\n",
    "            outputs = model(X_batch)\n",
    "            loss = criterion(outputs, y_batch)\n",
    "            loss.backward()\n",
    "            optimizer.step()\n",
    "            train_loss += loss.item()\n",
    "            _, predicted = torch.max(outputs, 1)\n",
    "            train_acc += (predicted == y_batch).sum().item()\n",
    "\n",
    "        avg_train_loss = train_loss / len(train_dataset)\n",
    "        avg_train_acc = train_acc / len(train_dataset)\n",
    "\n",
    "        train_losses.append(avg_train_loss)\n",
    "        train_accuracies.append(avg_train_acc)\n",
    "\n",
    "        model.eval()\n",
    "        val_acc = 0\n",
    "        val_loss = 0\n",
    "        with torch.no_grad():\n",
    "            for X_batch, y_batch in tqdm(\n",
    "                test_loader, desc=f\"Epoch {epoch + 1}/{epochs} - Validation\"\n",
    "            ):\n",
    "                outputs = model(X_batch)\n",
    "                loss = criterion(outputs, y_batch)\n",
    "                val_loss += loss.item()\n",
    "                _, predicted = torch.max(outputs, 1)\n",
    "                val_acc += (predicted == y_batch).sum().item()\n",
    "\n",
    "        avg_val_loss = val_loss / len(test_dataset)\n",
    "        avg_val_acc = val_acc / len(test_dataset)\n",
    "        val_losses.append(avg_val_loss)\n",
    "        val_accuracies.append(avg_val_acc)\n",
    "\n",
    "        print(\n",
    "            f\"Epoch {epoch + 1}/{epochs} - \"\n",
    "            f\"Train Loss: {avg_train_loss:.4f}, Train Acc: {avg_train_acc:.4f}, \"\n",
    "            f\"Val Loss: {avg_val_loss:.4f}, Val Acc: {avg_val_acc:.4f}\"\n",
    "        )\n",
    "\n",
    "    return train_losses, train_accuracies, val_losses, val_accuracies"
   ]
  },
  {
   "cell_type": "code",
   "execution_count": 13,
   "id": "2a40db54",
   "metadata": {},
   "outputs": [
    {
     "name": "stderr",
     "output_type": "stream",
     "text": [
      "Epoch 1/100 - Training: 100%|██████████| 171/171 [00:00<00:00, 2415.28it/s]\n",
      "Epoch 1/100 - Validation: 100%|██████████| 26/26 [00:00<00:00, 5349.62it/s]\n"
     ]
    },
    {
     "name": "stdout",
     "output_type": "stream",
     "text": [
      "Epoch 1/100 - Train Loss: 0.0248, Train Acc: 0.5108, Val Loss: 0.0217, Val Acc: 0.6807\n"
     ]
    },
    {
     "name": "stderr",
     "output_type": "stream",
     "text": [
      "Epoch 2/100 - Training: 100%|██████████| 171/171 [00:00<00:00, 2955.10it/s]\n",
      "Epoch 2/100 - Validation: 100%|██████████| 26/26 [00:00<00:00, 5216.80it/s]\n"
     ]
    },
    {
     "name": "stdout",
     "output_type": "stream",
     "text": [
      "Epoch 2/100 - Train Loss: 0.0243, Train Acc: 0.5360, Val Loss: 0.0214, Val Acc: 0.6795\n"
     ]
    },
    {
     "name": "stderr",
     "output_type": "stream",
     "text": [
      "Epoch 3/100 - Training: 100%|██████████| 171/171 [00:00<00:00, 2943.76it/s]\n",
      "Epoch 3/100 - Validation: 100%|██████████| 26/26 [00:00<00:00, 5164.91it/s]\n"
     ]
    },
    {
     "name": "stdout",
     "output_type": "stream",
     "text": [
      "Epoch 3/100 - Train Loss: 0.0237, Train Acc: 0.5487, Val Loss: 0.0211, Val Acc: 0.6807\n"
     ]
    },
    {
     "name": "stderr",
     "output_type": "stream",
     "text": [
      "Epoch 4/100 - Training: 100%|██████████| 171/171 [00:00<00:00, 2939.78it/s]\n",
      "Epoch 4/100 - Validation: 100%|██████████| 26/26 [00:00<00:00, 5152.46it/s]\n"
     ]
    },
    {
     "name": "stdout",
     "output_type": "stream",
     "text": [
      "Epoch 4/100 - Train Loss: 0.0232, Train Acc: 0.5538, Val Loss: 0.0209, Val Acc: 0.6783\n"
     ]
    },
    {
     "name": "stderr",
     "output_type": "stream",
     "text": [
      "Epoch 5/100 - Training: 100%|██████████| 171/171 [00:00<00:00, 2955.76it/s]\n",
      "Epoch 5/100 - Validation: 100%|██████████| 26/26 [00:00<00:00, 5143.47it/s]\n"
     ]
    },
    {
     "name": "stdout",
     "output_type": "stream",
     "text": [
      "Epoch 5/100 - Train Loss: 0.0229, Train Acc: 0.5637, Val Loss: 0.0207, Val Acc: 0.6845\n"
     ]
    },
    {
     "name": "stderr",
     "output_type": "stream",
     "text": [
      "Epoch 6/100 - Training: 100%|██████████| 171/171 [00:00<00:00, 2927.84it/s]\n",
      "Epoch 6/100 - Validation: 100%|██████████| 26/26 [00:00<00:00, 5236.33it/s]\n"
     ]
    },
    {
     "name": "stdout",
     "output_type": "stream",
     "text": [
      "Epoch 6/100 - Train Loss: 0.0225, Train Acc: 0.5700, Val Loss: 0.0205, Val Acc: 0.6832\n"
     ]
    },
    {
     "name": "stderr",
     "output_type": "stream",
     "text": [
      "Epoch 7/100 - Training: 100%|██████████| 171/171 [00:00<00:00, 3018.59it/s]\n",
      "Epoch 7/100 - Validation: 100%|██████████| 26/26 [00:00<00:00, 4924.23it/s]\n"
     ]
    },
    {
     "name": "stdout",
     "output_type": "stream",
     "text": [
      "Epoch 7/100 - Train Loss: 0.0222, Train Acc: 0.5758, Val Loss: 0.0203, Val Acc: 0.6832\n"
     ]
    },
    {
     "name": "stderr",
     "output_type": "stream",
     "text": [
      "Epoch 8/100 - Training: 100%|██████████| 171/171 [00:00<00:00, 2987.83it/s]\n",
      "Epoch 8/100 - Validation: 100%|██████████| 26/26 [00:00<00:00, 4949.48it/s]\n"
     ]
    },
    {
     "name": "stdout",
     "output_type": "stream",
     "text": [
      "Epoch 8/100 - Train Loss: 0.0219, Train Acc: 0.5817, Val Loss: 0.0201, Val Acc: 0.6832\n"
     ]
    },
    {
     "name": "stderr",
     "output_type": "stream",
     "text": [
      "Epoch 9/100 - Training: 100%|██████████| 171/171 [00:00<00:00, 2971.12it/s]\n",
      "Epoch 9/100 - Validation: 100%|██████████| 26/26 [00:00<00:00, 5376.25it/s]\n"
     ]
    },
    {
     "name": "stdout",
     "output_type": "stream",
     "text": [
      "Epoch 9/100 - Train Loss: 0.0216, Train Acc: 0.5867, Val Loss: 0.0200, Val Acc: 0.6807\n"
     ]
    },
    {
     "name": "stderr",
     "output_type": "stream",
     "text": [
      "Epoch 10/100 - Training: 100%|██████████| 171/171 [00:00<00:00, 2995.04it/s]\n",
      "Epoch 10/100 - Validation: 100%|██████████| 26/26 [00:00<00:00, 5694.32it/s]\n"
     ]
    },
    {
     "name": "stdout",
     "output_type": "stream",
     "text": [
      "Epoch 10/100 - Train Loss: 0.0213, Train Acc: 0.5929, Val Loss: 0.0198, Val Acc: 0.6845\n"
     ]
    },
    {
     "name": "stderr",
     "output_type": "stream",
     "text": [
      "Epoch 11/100 - Training: 100%|██████████| 171/171 [00:00<00:00, 3082.87it/s]\n",
      "Epoch 11/100 - Validation: 100%|██████████| 26/26 [00:00<00:00, 5396.47it/s]\n"
     ]
    },
    {
     "name": "stdout",
     "output_type": "stream",
     "text": [
      "Epoch 11/100 - Train Loss: 0.0211, Train Acc: 0.6004, Val Loss: 0.0197, Val Acc: 0.6857\n"
     ]
    },
    {
     "name": "stderr",
     "output_type": "stream",
     "text": [
      "Epoch 12/100 - Training: 100%|██████████| 171/171 [00:00<00:00, 3000.14it/s]\n",
      "Epoch 12/100 - Validation: 100%|██████████| 26/26 [00:00<00:00, 5252.48it/s]\n"
     ]
    },
    {
     "name": "stdout",
     "output_type": "stream",
     "text": [
      "Epoch 12/100 - Train Loss: 0.0209, Train Acc: 0.6080, Val Loss: 0.0196, Val Acc: 0.6969\n"
     ]
    },
    {
     "name": "stderr",
     "output_type": "stream",
     "text": [
      "Epoch 13/100 - Training: 100%|██████████| 171/171 [00:00<00:00, 3015.01it/s]\n",
      "Epoch 13/100 - Validation: 100%|██████████| 26/26 [00:00<00:00, 4949.71it/s]\n"
     ]
    },
    {
     "name": "stdout",
     "output_type": "stream",
     "text": [
      "Epoch 13/100 - Train Loss: 0.0207, Train Acc: 0.6116, Val Loss: 0.0195, Val Acc: 0.6981\n"
     ]
    },
    {
     "name": "stderr",
     "output_type": "stream",
     "text": [
      "Epoch 14/100 - Training: 100%|██████████| 171/171 [00:00<00:00, 2901.70it/s]\n",
      "Epoch 14/100 - Validation: 100%|██████████| 26/26 [00:00<00:00, 5696.70it/s]\n"
     ]
    },
    {
     "name": "stdout",
     "output_type": "stream",
     "text": [
      "Epoch 14/100 - Train Loss: 0.0205, Train Acc: 0.6115, Val Loss: 0.0194, Val Acc: 0.7043\n"
     ]
    },
    {
     "name": "stderr",
     "output_type": "stream",
     "text": [
      "Epoch 15/100 - Training: 100%|██████████| 171/171 [00:00<00:00, 2973.76it/s]\n",
      "Epoch 15/100 - Validation: 100%|██████████| 26/26 [00:00<00:00, 5717.91it/s]\n"
     ]
    },
    {
     "name": "stdout",
     "output_type": "stream",
     "text": [
      "Epoch 15/100 - Train Loss: 0.0204, Train Acc: 0.6127, Val Loss: 0.0193, Val Acc: 0.7130\n"
     ]
    },
    {
     "name": "stderr",
     "output_type": "stream",
     "text": [
      "Epoch 16/100 - Training: 100%|██████████| 171/171 [00:00<00:00, 2902.94it/s]\n",
      "Epoch 16/100 - Validation: 100%|██████████| 26/26 [00:00<00:00, 4182.72it/s]\n"
     ]
    },
    {
     "name": "stdout",
     "output_type": "stream",
     "text": [
      "Epoch 16/100 - Train Loss: 0.0203, Train Acc: 0.6175, Val Loss: 0.0192, Val Acc: 0.7379\n"
     ]
    },
    {
     "name": "stderr",
     "output_type": "stream",
     "text": [
      "Epoch 17/100 - Training: 100%|██████████| 171/171 [00:00<00:00, 2876.66it/s]\n",
      "Epoch 17/100 - Validation: 100%|██████████| 26/26 [00:00<00:00, 5088.04it/s]\n"
     ]
    },
    {
     "name": "stdout",
     "output_type": "stream",
     "text": [
      "Epoch 17/100 - Train Loss: 0.0202, Train Acc: 0.6272, Val Loss: 0.0192, Val Acc: 0.7503\n"
     ]
    },
    {
     "name": "stderr",
     "output_type": "stream",
     "text": [
      "Epoch 18/100 - Training: 100%|██████████| 171/171 [00:00<00:00, 3010.67it/s]\n",
      "Epoch 18/100 - Validation: 100%|██████████| 26/26 [00:00<00:00, 5184.31it/s]\n"
     ]
    },
    {
     "name": "stdout",
     "output_type": "stream",
     "text": [
      "Epoch 18/100 - Train Loss: 0.0200, Train Acc: 0.6324, Val Loss: 0.0191, Val Acc: 0.7516\n"
     ]
    },
    {
     "name": "stderr",
     "output_type": "stream",
     "text": [
      "Epoch 19/100 - Training: 100%|██████████| 171/171 [00:00<00:00, 2996.80it/s]\n",
      "Epoch 19/100 - Validation: 100%|██████████| 26/26 [00:00<00:00, 5551.98it/s]\n"
     ]
    },
    {
     "name": "stdout",
     "output_type": "stream",
     "text": [
      "Epoch 19/100 - Train Loss: 0.0200, Train Acc: 0.6474, Val Loss: 0.0191, Val Acc: 0.7478\n"
     ]
    },
    {
     "name": "stderr",
     "output_type": "stream",
     "text": [
      "Epoch 20/100 - Training: 100%|██████████| 171/171 [00:00<00:00, 3005.74it/s]\n",
      "Epoch 20/100 - Validation: 100%|██████████| 26/26 [00:00<00:00, 5683.93it/s]\n"
     ]
    },
    {
     "name": "stdout",
     "output_type": "stream",
     "text": [
      "Epoch 20/100 - Train Loss: 0.0199, Train Acc: 0.6482, Val Loss: 0.0190, Val Acc: 0.7478\n"
     ]
    },
    {
     "name": "stderr",
     "output_type": "stream",
     "text": [
      "Epoch 21/100 - Training: 100%|██████████| 171/171 [00:00<00:00, 3055.00it/s]\n",
      "Epoch 21/100 - Validation: 100%|██████████| 26/26 [00:00<00:00, 5321.16it/s]\n"
     ]
    },
    {
     "name": "stdout",
     "output_type": "stream",
     "text": [
      "Epoch 21/100 - Train Loss: 0.0198, Train Acc: 0.6480, Val Loss: 0.0190, Val Acc: 0.7478\n"
     ]
    },
    {
     "name": "stderr",
     "output_type": "stream",
     "text": [
      "Epoch 22/100 - Training: 100%|██████████| 171/171 [00:00<00:00, 3012.20it/s]\n",
      "Epoch 22/100 - Validation: 100%|██████████| 26/26 [00:00<00:00, 5328.70it/s]\n"
     ]
    },
    {
     "name": "stdout",
     "output_type": "stream",
     "text": [
      "Epoch 22/100 - Train Loss: 0.0197, Train Acc: 0.6482, Val Loss: 0.0189, Val Acc: 0.7466\n"
     ]
    },
    {
     "name": "stderr",
     "output_type": "stream",
     "text": [
      "Epoch 23/100 - Training: 100%|██████████| 171/171 [00:00<00:00, 3061.77it/s]\n",
      "Epoch 23/100 - Validation: 100%|██████████| 26/26 [00:00<00:00, 5216.55it/s]\n"
     ]
    },
    {
     "name": "stdout",
     "output_type": "stream",
     "text": [
      "Epoch 23/100 - Train Loss: 0.0197, Train Acc: 0.6485, Val Loss: 0.0189, Val Acc: 0.7466\n"
     ]
    },
    {
     "name": "stderr",
     "output_type": "stream",
     "text": [
      "Epoch 24/100 - Training: 100%|██████████| 171/171 [00:00<00:00, 3029.03it/s]\n",
      "Epoch 24/100 - Validation: 100%|██████████| 26/26 [00:00<00:00, 6094.67it/s]\n"
     ]
    },
    {
     "name": "stdout",
     "output_type": "stream",
     "text": [
      "Epoch 24/100 - Train Loss: 0.0196, Train Acc: 0.6485, Val Loss: 0.0189, Val Acc: 0.7466\n"
     ]
    },
    {
     "name": "stderr",
     "output_type": "stream",
     "text": [
      "Epoch 25/100 - Training: 100%|██████████| 171/171 [00:00<00:00, 2906.09it/s]\n",
      "Epoch 25/100 - Validation: 100%|██████████| 26/26 [00:00<00:00, 5377.84it/s]\n"
     ]
    },
    {
     "name": "stdout",
     "output_type": "stream",
     "text": [
      "Epoch 25/100 - Train Loss: 0.0196, Train Acc: 0.6485, Val Loss: 0.0188, Val Acc: 0.7466\n"
     ]
    },
    {
     "name": "stderr",
     "output_type": "stream",
     "text": [
      "Epoch 26/100 - Training: 100%|██████████| 171/171 [00:00<00:00, 3076.39it/s]\n",
      "Epoch 26/100 - Validation: 100%|██████████| 26/26 [00:00<00:00, 4967.52it/s]\n"
     ]
    },
    {
     "name": "stdout",
     "output_type": "stream",
     "text": [
      "Epoch 26/100 - Train Loss: 0.0195, Train Acc: 0.6487, Val Loss: 0.0188, Val Acc: 0.7466\n"
     ]
    },
    {
     "name": "stderr",
     "output_type": "stream",
     "text": [
      "Epoch 27/100 - Training: 100%|██████████| 171/171 [00:00<00:00, 3026.83it/s]\n",
      "Epoch 27/100 - Validation: 100%|██████████| 26/26 [00:00<00:00, 5937.06it/s]\n"
     ]
    },
    {
     "name": "stdout",
     "output_type": "stream",
     "text": [
      "Epoch 27/100 - Train Loss: 0.0196, Train Acc: 0.6487, Val Loss: 0.0188, Val Acc: 0.7466\n"
     ]
    },
    {
     "name": "stderr",
     "output_type": "stream",
     "text": [
      "Epoch 28/100 - Training: 100%|██████████| 171/171 [00:00<00:00, 3060.48it/s]\n",
      "Epoch 28/100 - Validation: 100%|██████████| 26/26 [00:00<00:00, 5358.55it/s]\n"
     ]
    },
    {
     "name": "stdout",
     "output_type": "stream",
     "text": [
      "Epoch 28/100 - Train Loss: 0.0195, Train Acc: 0.6539, Val Loss: 0.0188, Val Acc: 0.7453\n"
     ]
    },
    {
     "name": "stderr",
     "output_type": "stream",
     "text": [
      "Epoch 29/100 - Training: 100%|██████████| 171/171 [00:00<00:00, 3030.67it/s]\n",
      "Epoch 29/100 - Validation: 100%|██████████| 26/26 [00:00<00:00, 6050.71it/s]\n"
     ]
    },
    {
     "name": "stdout",
     "output_type": "stream",
     "text": [
      "Epoch 29/100 - Train Loss: 0.0195, Train Acc: 0.6552, Val Loss: 0.0188, Val Acc: 0.7453\n"
     ]
    },
    {
     "name": "stderr",
     "output_type": "stream",
     "text": [
      "Epoch 30/100 - Training: 100%|██████████| 171/171 [00:00<00:00, 3101.54it/s]\n",
      "Epoch 30/100 - Validation: 100%|██████████| 26/26 [00:00<00:00, 5398.61it/s]\n"
     ]
    },
    {
     "name": "stdout",
     "output_type": "stream",
     "text": [
      "Epoch 30/100 - Train Loss: 0.0195, Train Acc: 0.6552, Val Loss: 0.0188, Val Acc: 0.7453\n"
     ]
    },
    {
     "name": "stderr",
     "output_type": "stream",
     "text": [
      "Epoch 31/100 - Training: 100%|██████████| 171/171 [00:00<00:00, 3048.13it/s]\n",
      "Epoch 31/100 - Validation: 100%|██████████| 26/26 [00:00<00:00, 6231.89it/s]\n"
     ]
    },
    {
     "name": "stdout",
     "output_type": "stream",
     "text": [
      "Epoch 31/100 - Train Loss: 0.0194, Train Acc: 0.6557, Val Loss: 0.0188, Val Acc: 0.7416\n"
     ]
    },
    {
     "name": "stderr",
     "output_type": "stream",
     "text": [
      "Epoch 32/100 - Training: 100%|██████████| 171/171 [00:00<00:00, 3000.96it/s]\n",
      "Epoch 32/100 - Validation: 100%|██████████| 26/26 [00:00<00:00, 5325.58it/s]\n"
     ]
    },
    {
     "name": "stdout",
     "output_type": "stream",
     "text": [
      "Epoch 32/100 - Train Loss: 0.0194, Train Acc: 0.6581, Val Loss: 0.0187, Val Acc: 0.7379\n"
     ]
    },
    {
     "name": "stderr",
     "output_type": "stream",
     "text": [
      "Epoch 33/100 - Training: 100%|██████████| 171/171 [00:00<00:00, 3040.60it/s]\n",
      "Epoch 33/100 - Validation: 100%|██████████| 26/26 [00:00<00:00, 5377.31it/s]\n"
     ]
    },
    {
     "name": "stdout",
     "output_type": "stream",
     "text": [
      "Epoch 33/100 - Train Loss: 0.0194, Train Acc: 0.6586, Val Loss: 0.0187, Val Acc: 0.7429\n"
     ]
    },
    {
     "name": "stderr",
     "output_type": "stream",
     "text": [
      "Epoch 34/100 - Training: 100%|██████████| 171/171 [00:00<00:00, 2990.60it/s]\n",
      "Epoch 34/100 - Validation: 100%|██████████| 26/26 [00:00<00:00, 5310.28it/s]\n"
     ]
    },
    {
     "name": "stdout",
     "output_type": "stream",
     "text": [
      "Epoch 34/100 - Train Loss: 0.0194, Train Acc: 0.6612, Val Loss: 0.0187, Val Acc: 0.7503\n"
     ]
    },
    {
     "name": "stderr",
     "output_type": "stream",
     "text": [
      "Epoch 35/100 - Training: 100%|██████████| 171/171 [00:00<00:00, 2936.68it/s]\n",
      "Epoch 35/100 - Validation: 100%|██████████| 26/26 [00:00<00:00, 5540.41it/s]\n"
     ]
    },
    {
     "name": "stdout",
     "output_type": "stream",
     "text": [
      "Epoch 35/100 - Train Loss: 0.0194, Train Acc: 0.6634, Val Loss: 0.0187, Val Acc: 0.7528\n"
     ]
    },
    {
     "name": "stderr",
     "output_type": "stream",
     "text": [
      "Epoch 36/100 - Training: 100%|██████████| 171/171 [00:00<00:00, 3038.27it/s]\n",
      "Epoch 36/100 - Validation: 100%|██████████| 26/26 [00:00<00:00, 5473.94it/s]\n"
     ]
    },
    {
     "name": "stdout",
     "output_type": "stream",
     "text": [
      "Epoch 36/100 - Train Loss: 0.0194, Train Acc: 0.6676, Val Loss: 0.0187, Val Acc: 0.7540\n"
     ]
    },
    {
     "name": "stderr",
     "output_type": "stream",
     "text": [
      "Epoch 37/100 - Training: 100%|██████████| 171/171 [00:00<00:00, 3074.54it/s]\n",
      "Epoch 37/100 - Validation: 100%|██████████| 26/26 [00:00<00:00, 5039.83it/s]\n"
     ]
    },
    {
     "name": "stdout",
     "output_type": "stream",
     "text": [
      "Epoch 37/100 - Train Loss: 0.0194, Train Acc: 0.6684, Val Loss: 0.0187, Val Acc: 0.7491\n"
     ]
    },
    {
     "name": "stderr",
     "output_type": "stream",
     "text": [
      "Epoch 38/100 - Training: 100%|██████████| 171/171 [00:00<00:00, 3019.76it/s]\n",
      "Epoch 38/100 - Validation: 100%|██████████| 26/26 [00:00<00:00, 5168.83it/s]\n"
     ]
    },
    {
     "name": "stdout",
     "output_type": "stream",
     "text": [
      "Epoch 38/100 - Train Loss: 0.0194, Train Acc: 0.6676, Val Loss: 0.0187, Val Acc: 0.7491\n"
     ]
    },
    {
     "name": "stderr",
     "output_type": "stream",
     "text": [
      "Epoch 39/100 - Training: 100%|██████████| 171/171 [00:00<00:00, 3052.91it/s]\n",
      "Epoch 39/100 - Validation: 100%|██████████| 26/26 [00:00<00:00, 5254.75it/s]\n"
     ]
    },
    {
     "name": "stdout",
     "output_type": "stream",
     "text": [
      "Epoch 39/100 - Train Loss: 0.0193, Train Acc: 0.6658, Val Loss: 0.0187, Val Acc: 0.7491\n"
     ]
    },
    {
     "name": "stderr",
     "output_type": "stream",
     "text": [
      "Epoch 40/100 - Training: 100%|██████████| 171/171 [00:00<00:00, 3036.17it/s]\n",
      "Epoch 40/100 - Validation: 100%|██████████| 26/26 [00:00<00:00, 5093.27it/s]\n"
     ]
    },
    {
     "name": "stdout",
     "output_type": "stream",
     "text": [
      "Epoch 40/100 - Train Loss: 0.0194, Train Acc: 0.6660, Val Loss: 0.0187, Val Acc: 0.7491\n"
     ]
    },
    {
     "name": "stderr",
     "output_type": "stream",
     "text": [
      "Epoch 41/100 - Training: 100%|██████████| 171/171 [00:00<00:00, 3002.89it/s]\n",
      "Epoch 41/100 - Validation: 100%|██████████| 26/26 [00:00<00:00, 5465.44it/s]\n"
     ]
    },
    {
     "name": "stdout",
     "output_type": "stream",
     "text": [
      "Epoch 41/100 - Train Loss: 0.0193, Train Acc: 0.6647, Val Loss: 0.0187, Val Acc: 0.7478\n"
     ]
    },
    {
     "name": "stderr",
     "output_type": "stream",
     "text": [
      "Epoch 42/100 - Training: 100%|██████████| 171/171 [00:00<00:00, 2970.56it/s]\n",
      "Epoch 42/100 - Validation: 100%|██████████| 26/26 [00:00<00:00, 5752.29it/s]\n"
     ]
    },
    {
     "name": "stdout",
     "output_type": "stream",
     "text": [
      "Epoch 42/100 - Train Loss: 0.0193, Train Acc: 0.6631, Val Loss: 0.0187, Val Acc: 0.7478\n"
     ]
    },
    {
     "name": "stderr",
     "output_type": "stream",
     "text": [
      "Epoch 43/100 - Training: 100%|██████████| 171/171 [00:00<00:00, 3040.92it/s]\n",
      "Epoch 43/100 - Validation: 100%|██████████| 26/26 [00:00<00:00, 5631.39it/s]\n"
     ]
    },
    {
     "name": "stdout",
     "output_type": "stream",
     "text": [
      "Epoch 43/100 - Train Loss: 0.0193, Train Acc: 0.6631, Val Loss: 0.0187, Val Acc: 0.7478\n"
     ]
    },
    {
     "name": "stderr",
     "output_type": "stream",
     "text": [
      "Epoch 44/100 - Training: 100%|██████████| 171/171 [00:00<00:00, 3042.01it/s]\n",
      "Epoch 44/100 - Validation: 100%|██████████| 26/26 [00:00<00:00, 5344.11it/s]\n"
     ]
    },
    {
     "name": "stdout",
     "output_type": "stream",
     "text": [
      "Epoch 44/100 - Train Loss: 0.0194, Train Acc: 0.6631, Val Loss: 0.0187, Val Acc: 0.7478\n"
     ]
    },
    {
     "name": "stderr",
     "output_type": "stream",
     "text": [
      "Epoch 45/100 - Training: 100%|██████████| 171/171 [00:00<00:00, 2876.99it/s]\n",
      "Epoch 45/100 - Validation: 100%|██████████| 26/26 [00:00<00:00, 5619.20it/s]\n"
     ]
    },
    {
     "name": "stdout",
     "output_type": "stream",
     "text": [
      "Epoch 45/100 - Train Loss: 0.0193, Train Acc: 0.6631, Val Loss: 0.0187, Val Acc: 0.7478\n"
     ]
    },
    {
     "name": "stderr",
     "output_type": "stream",
     "text": [
      "Epoch 46/100 - Training: 100%|██████████| 171/171 [00:00<00:00, 3064.14it/s]\n",
      "Epoch 46/100 - Validation: 100%|██████████| 26/26 [00:00<00:00, 5278.15it/s]\n"
     ]
    },
    {
     "name": "stdout",
     "output_type": "stream",
     "text": [
      "Epoch 46/100 - Train Loss: 0.0193, Train Acc: 0.6634, Val Loss: 0.0187, Val Acc: 0.7491\n"
     ]
    },
    {
     "name": "stderr",
     "output_type": "stream",
     "text": [
      "Epoch 47/100 - Training: 100%|██████████| 171/171 [00:00<00:00, 3096.66it/s]\n",
      "Epoch 47/100 - Validation: 100%|██████████| 26/26 [00:00<00:00, 6043.67it/s]\n"
     ]
    },
    {
     "name": "stdout",
     "output_type": "stream",
     "text": [
      "Epoch 47/100 - Train Loss: 0.0193, Train Acc: 0.6629, Val Loss: 0.0187, Val Acc: 0.7491\n"
     ]
    },
    {
     "name": "stderr",
     "output_type": "stream",
     "text": [
      "Epoch 48/100 - Training: 100%|██████████| 171/171 [00:00<00:00, 3013.11it/s]\n",
      "Epoch 48/100 - Validation: 100%|██████████| 26/26 [00:00<00:00, 5069.35it/s]\n"
     ]
    },
    {
     "name": "stdout",
     "output_type": "stream",
     "text": [
      "Epoch 48/100 - Train Loss: 0.0193, Train Acc: 0.6610, Val Loss: 0.0187, Val Acc: 0.7491\n"
     ]
    },
    {
     "name": "stderr",
     "output_type": "stream",
     "text": [
      "Epoch 49/100 - Training: 100%|██████████| 171/171 [00:00<00:00, 3044.05it/s]\n",
      "Epoch 49/100 - Validation: 100%|██████████| 26/26 [00:00<00:00, 5464.62it/s]\n"
     ]
    },
    {
     "name": "stdout",
     "output_type": "stream",
     "text": [
      "Epoch 49/100 - Train Loss: 0.0193, Train Acc: 0.6621, Val Loss: 0.0187, Val Acc: 0.7429\n"
     ]
    },
    {
     "name": "stderr",
     "output_type": "stream",
     "text": [
      "Epoch 50/100 - Training: 100%|██████████| 171/171 [00:00<00:00, 3105.82it/s]\n",
      "Epoch 50/100 - Validation: 100%|██████████| 26/26 [00:00<00:00, 5393.00it/s]\n"
     ]
    },
    {
     "name": "stdout",
     "output_type": "stream",
     "text": [
      "Epoch 50/100 - Train Loss: 0.0193, Train Acc: 0.6616, Val Loss: 0.0187, Val Acc: 0.7429\n"
     ]
    },
    {
     "name": "stderr",
     "output_type": "stream",
     "text": [
      "Epoch 51/100 - Training: 100%|██████████| 171/171 [00:00<00:00, 3024.25it/s]\n",
      "Epoch 51/100 - Validation: 100%|██████████| 26/26 [00:00<00:00, 5348.83it/s]\n"
     ]
    },
    {
     "name": "stdout",
     "output_type": "stream",
     "text": [
      "Epoch 51/100 - Train Loss: 0.0193, Train Acc: 0.6605, Val Loss: 0.0187, Val Acc: 0.7441\n"
     ]
    },
    {
     "name": "stderr",
     "output_type": "stream",
     "text": [
      "Epoch 52/100 - Training: 100%|██████████| 171/171 [00:00<00:00, 3032.01it/s]\n",
      "Epoch 52/100 - Validation: 100%|██████████| 26/26 [00:00<00:00, 5301.76it/s]\n"
     ]
    },
    {
     "name": "stdout",
     "output_type": "stream",
     "text": [
      "Epoch 52/100 - Train Loss: 0.0193, Train Acc: 0.6603, Val Loss: 0.0187, Val Acc: 0.7441\n"
     ]
    },
    {
     "name": "stderr",
     "output_type": "stream",
     "text": [
      "Epoch 53/100 - Training: 100%|██████████| 171/171 [00:00<00:00, 3081.08it/s]\n",
      "Epoch 53/100 - Validation: 100%|██████████| 26/26 [00:00<00:00, 5183.57it/s]\n"
     ]
    },
    {
     "name": "stdout",
     "output_type": "stream",
     "text": [
      "Epoch 53/100 - Train Loss: 0.0193, Train Acc: 0.6603, Val Loss: 0.0187, Val Acc: 0.7429\n"
     ]
    },
    {
     "name": "stderr",
     "output_type": "stream",
     "text": [
      "Epoch 54/100 - Training: 100%|██████████| 171/171 [00:00<00:00, 3022.11it/s]\n",
      "Epoch 54/100 - Validation: 100%|██████████| 26/26 [00:00<00:00, 5172.26it/s]\n"
     ]
    },
    {
     "name": "stdout",
     "output_type": "stream",
     "text": [
      "Epoch 54/100 - Train Loss: 0.0193, Train Acc: 0.6607, Val Loss: 0.0187, Val Acc: 0.7441\n"
     ]
    },
    {
     "name": "stderr",
     "output_type": "stream",
     "text": [
      "Epoch 55/100 - Training: 100%|██████████| 171/171 [00:00<00:00, 3001.06it/s]\n",
      "Epoch 55/100 - Validation: 100%|██████████| 26/26 [00:00<00:00, 5531.98it/s]\n"
     ]
    },
    {
     "name": "stdout",
     "output_type": "stream",
     "text": [
      "Epoch 55/100 - Train Loss: 0.0193, Train Acc: 0.6605, Val Loss: 0.0187, Val Acc: 0.7441\n"
     ]
    },
    {
     "name": "stderr",
     "output_type": "stream",
     "text": [
      "Epoch 56/100 - Training: 100%|██████████| 171/171 [00:00<00:00, 2958.22it/s]\n",
      "Epoch 56/100 - Validation: 100%|██████████| 26/26 [00:00<00:00, 5206.34it/s]\n"
     ]
    },
    {
     "name": "stdout",
     "output_type": "stream",
     "text": [
      "Epoch 56/100 - Train Loss: 0.0193, Train Acc: 0.6605, Val Loss: 0.0187, Val Acc: 0.7441\n"
     ]
    },
    {
     "name": "stderr",
     "output_type": "stream",
     "text": [
      "Epoch 57/100 - Training: 100%|██████████| 171/171 [00:00<00:00, 2918.23it/s]\n",
      "Epoch 57/100 - Validation: 100%|██████████| 26/26 [00:00<00:00, 5244.14it/s]\n"
     ]
    },
    {
     "name": "stdout",
     "output_type": "stream",
     "text": [
      "Epoch 57/100 - Train Loss: 0.0193, Train Acc: 0.6605, Val Loss: 0.0187, Val Acc: 0.7441\n"
     ]
    },
    {
     "name": "stderr",
     "output_type": "stream",
     "text": [
      "Epoch 58/100 - Training: 100%|██████████| 171/171 [00:00<00:00, 2913.71it/s]\n",
      "Epoch 58/100 - Validation: 100%|██████████| 26/26 [00:00<00:00, 5096.84it/s]\n"
     ]
    },
    {
     "name": "stdout",
     "output_type": "stream",
     "text": [
      "Epoch 58/100 - Train Loss: 0.0193, Train Acc: 0.6605, Val Loss: 0.0187, Val Acc: 0.7441\n"
     ]
    },
    {
     "name": "stderr",
     "output_type": "stream",
     "text": [
      "Epoch 59/100 - Training: 100%|██████████| 171/171 [00:00<00:00, 3033.85it/s]\n",
      "Epoch 59/100 - Validation: 100%|██████████| 26/26 [00:00<00:00, 5159.78it/s]\n"
     ]
    },
    {
     "name": "stdout",
     "output_type": "stream",
     "text": [
      "Epoch 59/100 - Train Loss: 0.0193, Train Acc: 0.6605, Val Loss: 0.0187, Val Acc: 0.7441\n"
     ]
    },
    {
     "name": "stderr",
     "output_type": "stream",
     "text": [
      "Epoch 60/100 - Training: 100%|██████████| 171/171 [00:00<00:00, 3009.39it/s]\n",
      "Epoch 60/100 - Validation: 100%|██████████| 26/26 [00:00<00:00, 5127.99it/s]\n"
     ]
    },
    {
     "name": "stdout",
     "output_type": "stream",
     "text": [
      "Epoch 60/100 - Train Loss: 0.0192, Train Acc: 0.6601, Val Loss: 0.0188, Val Acc: 0.7441\n"
     ]
    },
    {
     "name": "stderr",
     "output_type": "stream",
     "text": [
      "Epoch 61/100 - Training: 100%|██████████| 171/171 [00:00<00:00, 3037.78it/s]\n",
      "Epoch 61/100 - Validation: 100%|██████████| 26/26 [00:00<00:00, 5851.99it/s]\n"
     ]
    },
    {
     "name": "stdout",
     "output_type": "stream",
     "text": [
      "Epoch 61/100 - Train Loss: 0.0193, Train Acc: 0.6601, Val Loss: 0.0188, Val Acc: 0.7441\n"
     ]
    },
    {
     "name": "stderr",
     "output_type": "stream",
     "text": [
      "Epoch 62/100 - Training: 100%|██████████| 171/171 [00:00<00:00, 3061.77it/s]\n",
      "Epoch 62/100 - Validation: 100%|██████████| 26/26 [00:00<00:00, 5456.41it/s]\n"
     ]
    },
    {
     "name": "stdout",
     "output_type": "stream",
     "text": [
      "Epoch 62/100 - Train Loss: 0.0193, Train Acc: 0.6601, Val Loss: 0.0188, Val Acc: 0.7441\n"
     ]
    },
    {
     "name": "stderr",
     "output_type": "stream",
     "text": [
      "Epoch 63/100 - Training: 100%|██████████| 171/171 [00:00<00:00, 3102.31it/s]\n",
      "Epoch 63/100 - Validation: 100%|██████████| 26/26 [00:00<00:00, 5132.10it/s]\n"
     ]
    },
    {
     "name": "stdout",
     "output_type": "stream",
     "text": [
      "Epoch 63/100 - Train Loss: 0.0192, Train Acc: 0.6601, Val Loss: 0.0188, Val Acc: 0.7441\n"
     ]
    },
    {
     "name": "stderr",
     "output_type": "stream",
     "text": [
      "Epoch 64/100 - Training: 100%|██████████| 171/171 [00:00<00:00, 3002.33it/s]\n",
      "Epoch 64/100 - Validation: 100%|██████████| 26/26 [00:00<00:00, 5297.38it/s]\n"
     ]
    },
    {
     "name": "stdout",
     "output_type": "stream",
     "text": [
      "Epoch 64/100 - Train Loss: 0.0193, Train Acc: 0.6601, Val Loss: 0.0188, Val Acc: 0.7441\n"
     ]
    },
    {
     "name": "stderr",
     "output_type": "stream",
     "text": [
      "Epoch 65/100 - Training: 100%|██████████| 171/171 [00:00<00:00, 3062.27it/s]\n",
      "Epoch 65/100 - Validation: 100%|██████████| 26/26 [00:00<00:00, 5803.72it/s]\n"
     ]
    },
    {
     "name": "stdout",
     "output_type": "stream",
     "text": [
      "Epoch 65/100 - Train Loss: 0.0192, Train Acc: 0.6601, Val Loss: 0.0188, Val Acc: 0.7441\n"
     ]
    },
    {
     "name": "stderr",
     "output_type": "stream",
     "text": [
      "Epoch 66/100 - Training: 100%|██████████| 171/171 [00:00<00:00, 3105.25it/s]\n",
      "Epoch 66/100 - Validation: 100%|██████████| 26/26 [00:00<00:00, 6045.34it/s]\n"
     ]
    },
    {
     "name": "stdout",
     "output_type": "stream",
     "text": [
      "Epoch 66/100 - Train Loss: 0.0193, Train Acc: 0.6599, Val Loss: 0.0188, Val Acc: 0.7441\n"
     ]
    },
    {
     "name": "stderr",
     "output_type": "stream",
     "text": [
      "Epoch 67/100 - Training: 100%|██████████| 171/171 [00:00<00:00, 3101.93it/s]\n",
      "Epoch 67/100 - Validation: 100%|██████████| 26/26 [00:00<00:00, 5356.45it/s]\n"
     ]
    },
    {
     "name": "stdout",
     "output_type": "stream",
     "text": [
      "Epoch 67/100 - Train Loss: 0.0192, Train Acc: 0.6601, Val Loss: 0.0188, Val Acc: 0.7429\n"
     ]
    },
    {
     "name": "stderr",
     "output_type": "stream",
     "text": [
      "Epoch 68/100 - Training: 100%|██████████| 171/171 [00:00<00:00, 3067.27it/s]\n",
      "Epoch 68/100 - Validation: 100%|██████████| 26/26 [00:00<00:00, 6299.94it/s]\n"
     ]
    },
    {
     "name": "stdout",
     "output_type": "stream",
     "text": [
      "Epoch 68/100 - Train Loss: 0.0193, Train Acc: 0.6599, Val Loss: 0.0188, Val Acc: 0.7429\n"
     ]
    },
    {
     "name": "stderr",
     "output_type": "stream",
     "text": [
      "Epoch 69/100 - Training: 100%|██████████| 171/171 [00:00<00:00, 3057.45it/s]\n",
      "Epoch 69/100 - Validation: 100%|██████████| 26/26 [00:00<00:00, 5600.73it/s]\n"
     ]
    },
    {
     "name": "stdout",
     "output_type": "stream",
     "text": [
      "Epoch 69/100 - Train Loss: 0.0193, Train Acc: 0.6599, Val Loss: 0.0188, Val Acc: 0.7429\n"
     ]
    },
    {
     "name": "stderr",
     "output_type": "stream",
     "text": [
      "Epoch 70/100 - Training: 100%|██████████| 171/171 [00:00<00:00, 3014.00it/s]\n",
      "Epoch 70/100 - Validation: 100%|██████████| 26/26 [00:00<00:00, 5558.20it/s]\n"
     ]
    },
    {
     "name": "stdout",
     "output_type": "stream",
     "text": [
      "Epoch 70/100 - Train Loss: 0.0193, Train Acc: 0.6601, Val Loss: 0.0188, Val Acc: 0.7441\n"
     ]
    },
    {
     "name": "stderr",
     "output_type": "stream",
     "text": [
      "Epoch 71/100 - Training: 100%|██████████| 171/171 [00:00<00:00, 3067.93it/s]\n",
      "Epoch 71/100 - Validation: 100%|██████████| 26/26 [00:00<00:00, 6060.80it/s]\n"
     ]
    },
    {
     "name": "stdout",
     "output_type": "stream",
     "text": [
      "Epoch 71/100 - Train Loss: 0.0193, Train Acc: 0.6599, Val Loss: 0.0188, Val Acc: 0.7429\n"
     ]
    },
    {
     "name": "stderr",
     "output_type": "stream",
     "text": [
      "Epoch 72/100 - Training: 100%|██████████| 171/171 [00:00<00:00, 3102.48it/s]\n",
      "Epoch 72/100 - Validation: 100%|██████████| 26/26 [00:00<00:00, 5604.76it/s]\n"
     ]
    },
    {
     "name": "stdout",
     "output_type": "stream",
     "text": [
      "Epoch 72/100 - Train Loss: 0.0192, Train Acc: 0.6599, Val Loss: 0.0188, Val Acc: 0.7429\n"
     ]
    },
    {
     "name": "stderr",
     "output_type": "stream",
     "text": [
      "Epoch 73/100 - Training: 100%|██████████| 171/171 [00:00<00:00, 2878.50it/s]\n",
      "Epoch 73/100 - Validation: 100%|██████████| 26/26 [00:00<00:00, 5141.53it/s]\n"
     ]
    },
    {
     "name": "stdout",
     "output_type": "stream",
     "text": [
      "Epoch 73/100 - Train Loss: 0.0193, Train Acc: 0.6596, Val Loss: 0.0188, Val Acc: 0.7429\n"
     ]
    },
    {
     "name": "stderr",
     "output_type": "stream",
     "text": [
      "Epoch 74/100 - Training: 100%|██████████| 171/171 [00:00<00:00, 2978.27it/s]\n",
      "Epoch 74/100 - Validation: 100%|██████████| 26/26 [00:00<00:00, 5344.37it/s]\n"
     ]
    },
    {
     "name": "stdout",
     "output_type": "stream",
     "text": [
      "Epoch 74/100 - Train Loss: 0.0193, Train Acc: 0.6598, Val Loss: 0.0188, Val Acc: 0.7429\n"
     ]
    },
    {
     "name": "stderr",
     "output_type": "stream",
     "text": [
      "Epoch 75/100 - Training: 100%|██████████| 171/171 [00:00<00:00, 3050.47it/s]\n",
      "Epoch 75/100 - Validation: 100%|██████████| 26/26 [00:00<00:00, 5186.53it/s]\n"
     ]
    },
    {
     "name": "stdout",
     "output_type": "stream",
     "text": [
      "Epoch 75/100 - Train Loss: 0.0193, Train Acc: 0.6598, Val Loss: 0.0188, Val Acc: 0.7441\n"
     ]
    },
    {
     "name": "stderr",
     "output_type": "stream",
     "text": [
      "Epoch 76/100 - Training: 100%|██████████| 171/171 [00:00<00:00, 2961.81it/s]\n",
      "Epoch 76/100 - Validation: 100%|██████████| 26/26 [00:00<00:00, 5262.11it/s]\n"
     ]
    },
    {
     "name": "stdout",
     "output_type": "stream",
     "text": [
      "Epoch 76/100 - Train Loss: 0.0192, Train Acc: 0.6598, Val Loss: 0.0188, Val Acc: 0.7441\n"
     ]
    },
    {
     "name": "stderr",
     "output_type": "stream",
     "text": [
      "Epoch 77/100 - Training: 100%|██████████| 171/171 [00:00<00:00, 3047.41it/s]\n",
      "Epoch 77/100 - Validation: 100%|██████████| 26/26 [00:00<00:00, 6085.83it/s]\n"
     ]
    },
    {
     "name": "stdout",
     "output_type": "stream",
     "text": [
      "Epoch 77/100 - Train Loss: 0.0193, Train Acc: 0.6599, Val Loss: 0.0188, Val Acc: 0.7441\n"
     ]
    },
    {
     "name": "stderr",
     "output_type": "stream",
     "text": [
      "Epoch 78/100 - Training: 100%|██████████| 171/171 [00:00<00:00, 2962.68it/s]\n",
      "Epoch 78/100 - Validation: 100%|██████████| 26/26 [00:00<00:00, 5337.83it/s]\n"
     ]
    },
    {
     "name": "stdout",
     "output_type": "stream",
     "text": [
      "Epoch 78/100 - Train Loss: 0.0192, Train Acc: 0.6594, Val Loss: 0.0188, Val Acc: 0.7441\n"
     ]
    },
    {
     "name": "stderr",
     "output_type": "stream",
     "text": [
      "Epoch 79/100 - Training: 100%|██████████| 171/171 [00:00<00:00, 3036.82it/s]\n",
      "Epoch 79/100 - Validation: 100%|██████████| 26/26 [00:00<00:00, 5273.05it/s]\n"
     ]
    },
    {
     "name": "stdout",
     "output_type": "stream",
     "text": [
      "Epoch 79/100 - Train Loss: 0.0193, Train Acc: 0.6596, Val Loss: 0.0188, Val Acc: 0.7441\n"
     ]
    },
    {
     "name": "stderr",
     "output_type": "stream",
     "text": [
      "Epoch 80/100 - Training: 100%|██████████| 171/171 [00:00<00:00, 2972.54it/s]\n",
      "Epoch 80/100 - Validation: 100%|██████████| 26/26 [00:00<00:00, 5619.20it/s]\n"
     ]
    },
    {
     "name": "stdout",
     "output_type": "stream",
     "text": [
      "Epoch 80/100 - Train Loss: 0.0192, Train Acc: 0.6596, Val Loss: 0.0188, Val Acc: 0.7441\n"
     ]
    },
    {
     "name": "stderr",
     "output_type": "stream",
     "text": [
      "Epoch 81/100 - Training: 100%|██████████| 171/171 [00:00<00:00, 3066.00it/s]\n",
      "Epoch 81/100 - Validation: 100%|██████████| 26/26 [00:00<00:00, 5534.23it/s]\n"
     ]
    },
    {
     "name": "stdout",
     "output_type": "stream",
     "text": [
      "Epoch 81/100 - Train Loss: 0.0193, Train Acc: 0.6596, Val Loss: 0.0188, Val Acc: 0.7441\n"
     ]
    },
    {
     "name": "stderr",
     "output_type": "stream",
     "text": [
      "Epoch 82/100 - Training: 100%|██████████| 171/171 [00:00<00:00, 3108.02it/s]\n",
      "Epoch 82/100 - Validation: 100%|██████████| 26/26 [00:00<00:00, 5393.00it/s]\n"
     ]
    },
    {
     "name": "stdout",
     "output_type": "stream",
     "text": [
      "Epoch 82/100 - Train Loss: 0.0193, Train Acc: 0.6598, Val Loss: 0.0188, Val Acc: 0.7441\n"
     ]
    },
    {
     "name": "stderr",
     "output_type": "stream",
     "text": [
      "Epoch 83/100 - Training: 100%|██████████| 171/171 [00:00<00:00, 3095.47it/s]\n",
      "Epoch 83/100 - Validation: 100%|██████████| 26/26 [00:00<00:00, 5721.81it/s]\n"
     ]
    },
    {
     "name": "stdout",
     "output_type": "stream",
     "text": [
      "Epoch 83/100 - Train Loss: 0.0193, Train Acc: 0.6586, Val Loss: 0.0188, Val Acc: 0.7317\n"
     ]
    },
    {
     "name": "stderr",
     "output_type": "stream",
     "text": [
      "Epoch 84/100 - Training: 100%|██████████| 171/171 [00:00<00:00, 2986.69it/s]\n",
      "Epoch 84/100 - Validation: 100%|██████████| 26/26 [00:00<00:00, 5766.28it/s]\n"
     ]
    },
    {
     "name": "stdout",
     "output_type": "stream",
     "text": [
      "Epoch 84/100 - Train Loss: 0.0193, Train Acc: 0.6559, Val Loss: 0.0188, Val Acc: 0.7317\n"
     ]
    },
    {
     "name": "stderr",
     "output_type": "stream",
     "text": [
      "Epoch 85/100 - Training: 100%|██████████| 171/171 [00:00<00:00, 3044.16it/s]\n",
      "Epoch 85/100 - Validation: 100%|██████████| 26/26 [00:00<00:00, 5637.51it/s]\n"
     ]
    },
    {
     "name": "stdout",
     "output_type": "stream",
     "text": [
      "Epoch 85/100 - Train Loss: 0.0192, Train Acc: 0.6553, Val Loss: 0.0188, Val Acc: 0.7317\n"
     ]
    },
    {
     "name": "stderr",
     "output_type": "stream",
     "text": [
      "Epoch 86/100 - Training: 100%|██████████| 171/171 [00:00<00:00, 3020.29it/s]\n",
      "Epoch 86/100 - Validation: 100%|██████████| 26/26 [00:00<00:00, 5221.04it/s]\n"
     ]
    },
    {
     "name": "stdout",
     "output_type": "stream",
     "text": [
      "Epoch 86/100 - Train Loss: 0.0192, Train Acc: 0.6553, Val Loss: 0.0188, Val Acc: 0.7317\n"
     ]
    },
    {
     "name": "stderr",
     "output_type": "stream",
     "text": [
      "Epoch 87/100 - Training: 100%|██████████| 171/171 [00:00<00:00, 2999.69it/s]\n",
      "Epoch 87/100 - Validation: 100%|██████████| 26/26 [00:00<00:00, 5519.94it/s]\n"
     ]
    },
    {
     "name": "stdout",
     "output_type": "stream",
     "text": [
      "Epoch 87/100 - Train Loss: 0.0193, Train Acc: 0.6552, Val Loss: 0.0188, Val Acc: 0.7317\n"
     ]
    },
    {
     "name": "stderr",
     "output_type": "stream",
     "text": [
      "Epoch 88/100 - Training: 100%|██████████| 171/171 [00:00<00:00, 3044.87it/s]\n",
      "Epoch 88/100 - Validation: 100%|██████████| 26/26 [00:00<00:00, 5578.10it/s]\n"
     ]
    },
    {
     "name": "stdout",
     "output_type": "stream",
     "text": [
      "Epoch 88/100 - Train Loss: 0.0193, Train Acc: 0.6544, Val Loss: 0.0188, Val Acc: 0.7304\n"
     ]
    },
    {
     "name": "stderr",
     "output_type": "stream",
     "text": [
      "Epoch 89/100 - Training: 100%|██████████| 171/171 [00:00<00:00, 3038.44it/s]\n",
      "Epoch 89/100 - Validation: 100%|██████████| 26/26 [00:00<00:00, 5600.73it/s]\n"
     ]
    },
    {
     "name": "stdout",
     "output_type": "stream",
     "text": [
      "Epoch 89/100 - Train Loss: 0.0193, Train Acc: 0.6542, Val Loss: 0.0188, Val Acc: 0.7304\n"
     ]
    },
    {
     "name": "stderr",
     "output_type": "stream",
     "text": [
      "Epoch 90/100 - Training: 100%|██████████| 171/171 [00:00<00:00, 2990.71it/s]\n",
      "Epoch 90/100 - Validation: 100%|██████████| 26/26 [00:00<00:00, 5602.17it/s]\n"
     ]
    },
    {
     "name": "stdout",
     "output_type": "stream",
     "text": [
      "Epoch 90/100 - Train Loss: 0.0192, Train Acc: 0.6535, Val Loss: 0.0188, Val Acc: 0.7304\n"
     ]
    },
    {
     "name": "stderr",
     "output_type": "stream",
     "text": [
      "Epoch 91/100 - Training: 100%|██████████| 171/171 [00:00<00:00, 3129.01it/s]\n",
      "Epoch 91/100 - Validation: 100%|██████████| 26/26 [00:00<00:00, 5566.43it/s]\n"
     ]
    },
    {
     "name": "stdout",
     "output_type": "stream",
     "text": [
      "Epoch 91/100 - Train Loss: 0.0192, Train Acc: 0.6533, Val Loss: 0.0188, Val Acc: 0.7304\n"
     ]
    },
    {
     "name": "stderr",
     "output_type": "stream",
     "text": [
      "Epoch 92/100 - Training: 100%|██████████| 171/171 [00:00<00:00, 2965.40it/s]\n",
      "Epoch 92/100 - Validation: 100%|██████████| 26/26 [00:00<00:00, 5402.89it/s]\n"
     ]
    },
    {
     "name": "stdout",
     "output_type": "stream",
     "text": [
      "Epoch 92/100 - Train Loss: 0.0193, Train Acc: 0.6535, Val Loss: 0.0188, Val Acc: 0.7304\n"
     ]
    },
    {
     "name": "stderr",
     "output_type": "stream",
     "text": [
      "Epoch 93/100 - Training: 100%|██████████| 171/171 [00:00<00:00, 2995.53it/s]\n",
      "Epoch 93/100 - Validation: 100%|██████████| 26/26 [00:00<00:00, 5912.27it/s]\n"
     ]
    },
    {
     "name": "stdout",
     "output_type": "stream",
     "text": [
      "Epoch 93/100 - Train Loss: 0.0192, Train Acc: 0.6537, Val Loss: 0.0188, Val Acc: 0.7304\n"
     ]
    },
    {
     "name": "stderr",
     "output_type": "stream",
     "text": [
      "Epoch 94/100 - Training: 100%|██████████| 171/171 [00:00<00:00, 3077.92it/s]\n",
      "Epoch 94/100 - Validation: 100%|██████████| 26/26 [00:00<00:00, 5234.58it/s]\n"
     ]
    },
    {
     "name": "stdout",
     "output_type": "stream",
     "text": [
      "Epoch 94/100 - Train Loss: 0.0193, Train Acc: 0.6535, Val Loss: 0.0188, Val Acc: 0.7304\n"
     ]
    },
    {
     "name": "stderr",
     "output_type": "stream",
     "text": [
      "Epoch 95/100 - Training: 100%|██████████| 171/171 [00:00<00:00, 3102.87it/s]\n",
      "Epoch 95/100 - Validation: 100%|██████████| 26/26 [00:00<00:00, 5413.35it/s]\n"
     ]
    },
    {
     "name": "stdout",
     "output_type": "stream",
     "text": [
      "Epoch 95/100 - Train Loss: 0.0193, Train Acc: 0.6541, Val Loss: 0.0188, Val Acc: 0.7304\n"
     ]
    },
    {
     "name": "stderr",
     "output_type": "stream",
     "text": [
      "Epoch 96/100 - Training: 100%|██████████| 171/171 [00:00<00:00, 3029.27it/s]\n",
      "Epoch 96/100 - Validation: 100%|██████████| 26/26 [00:00<00:00, 5443.88it/s]\n"
     ]
    },
    {
     "name": "stdout",
     "output_type": "stream",
     "text": [
      "Epoch 96/100 - Train Loss: 0.0192, Train Acc: 0.6542, Val Loss: 0.0188, Val Acc: 0.7304\n"
     ]
    },
    {
     "name": "stderr",
     "output_type": "stream",
     "text": [
      "Epoch 97/100 - Training: 100%|██████████| 171/171 [00:00<00:00, 3042.87it/s]\n",
      "Epoch 97/100 - Validation: 100%|██████████| 26/26 [00:00<00:00, 5965.97it/s]\n"
     ]
    },
    {
     "name": "stdout",
     "output_type": "stream",
     "text": [
      "Epoch 97/100 - Train Loss: 0.0192, Train Acc: 0.6541, Val Loss: 0.0188, Val Acc: 0.7304\n"
     ]
    },
    {
     "name": "stderr",
     "output_type": "stream",
     "text": [
      "Epoch 98/100 - Training: 100%|██████████| 171/171 [00:00<00:00, 3028.06it/s]\n",
      "Epoch 98/100 - Validation: 100%|██████████| 26/26 [00:00<00:00, 5767.50it/s]\n"
     ]
    },
    {
     "name": "stdout",
     "output_type": "stream",
     "text": [
      "Epoch 98/100 - Train Loss: 0.0193, Train Acc: 0.6539, Val Loss: 0.0188, Val Acc: 0.7304\n"
     ]
    },
    {
     "name": "stderr",
     "output_type": "stream",
     "text": [
      "Epoch 99/100 - Training: 100%|██████████| 171/171 [00:00<00:00, 3015.39it/s]\n",
      "Epoch 99/100 - Validation: 100%|██████████| 26/26 [00:00<00:00, 5191.71it/s]\n"
     ]
    },
    {
     "name": "stdout",
     "output_type": "stream",
     "text": [
      "Epoch 99/100 - Train Loss: 0.0192, Train Acc: 0.6541, Val Loss: 0.0188, Val Acc: 0.7304\n"
     ]
    },
    {
     "name": "stderr",
     "output_type": "stream",
     "text": [
      "Epoch 100/100 - Training: 100%|██████████| 171/171 [00:00<00:00, 3061.72it/s]\n",
      "Epoch 100/100 - Validation: 100%|██████████| 26/26 [00:00<00:00, 5342.02it/s]"
     ]
    },
    {
     "name": "stdout",
     "output_type": "stream",
     "text": [
      "Epoch 100/100 - Train Loss: 0.0192, Train Acc: 0.6539, Val Loss: 0.0188, Val Acc: 0.7304\n"
     ]
    },
    {
     "name": "stderr",
     "output_type": "stream",
     "text": [
      "\n"
     ]
    }
   ],
   "source": [
    "model = SLP(input_dim=X_train_tensor.shape[1], output_dim=2)\n",
    "\n",
    "criterion = nn.CrossEntropyLoss()\n",
    "\n",
    "# optimizer = torch.optim.SGD(model.parameters(), lr=0.001)\n",
    "optimizer = torch.optim.Adam(model.parameters(), lr=0.0001)\n",
    "epochs = 100\n",
    "\n",
    "train_losses, train_accuracies, val_losses, val_accuracies = train(\n",
    "    model, train_loader, criterion, optimizer, epochs=epochs\n",
    ")"
   ]
  },
  {
   "cell_type": "code",
   "execution_count": 14,
   "id": "c75bcc4a",
   "metadata": {},
   "outputs": [
    {
     "data": {
      "image/png": "[encoded data removed]",
      "text/plain": [
       "<Figure size 1200x500 with 2 Axes>"
      ]
     },
     "metadata": {},
     "output_type": "display_data"
    }
   ],
   "source": [
    "epochs_range = list(range(1, epochs + 1))\n",
    "\n",
    "fig, axs = plt.subplots(1, 2, figsize=(12, 5))\n",
    "\n",
    "# Plot Loss\n",
    "axs[0].plot(epochs_range, train_losses, label=\"Train Loss\")\n",
    "axs[0].plot(epochs_range, val_losses, label=\"Validation Loss\")\n",
    "axs[0].set_xlabel(\"Epochs\")\n",
    "axs[0].set_ylabel(\"Loss\")\n",
    "axs[0].set_title(\"Loss Curve\")\n",
    "axs[0].legend()\n",
    "axs[0].grid(True)\n",
    "\n",
    "# Plot Accuracy\n",
    "axs[1].plot(epochs_range, train_accuracies, label=\"Train Accuracy\")\n",
    "axs[1].plot(epochs_range, val_accuracies, label=\"Validation Accuracy\")\n",
    "axs[1].set_xlabel(\"Epochs\")\n",
    "axs[1].set_ylabel(\"Accuracy\")\n",
    "axs[1].set_title(\"Accuracy Curve\")\n",
    "axs[1].legend()\n",
    "axs[1].grid(True)\n",
    "\n",
    "plt.tight_layout()\n",
    "plt.show()\n"
   ]
  },
  {
   "cell_type": "code",
   "execution_count": null,
   "id": "599e60a8",
   "metadata": {},
   "outputs": [
    {
     "data": {
      "image/png": "[encoded data removed]",
      "text/plain": [
       "<Figure size 640x480 with 2 Axes>"
      ]
     },
     "metadata": {},
     "output_type": "display_data"
    }
   ],
   "source": [
    "from sklearn.metrics import confusion_matrix, ConfusionMatrixDisplay\n",
    "\n",
    "y_pred = model.predict(X_test_tensor)\n",
    "y_true = y_test_tensor.cpu().numpy()\n",
    "y_pred = y_pred.cpu().numpy()\n",
    "\n",
    "cm = confusion_matrix(y_true, y_pred)\n",
    "\n",
    "disp = ConfusionMatrixDisplay(confusion_matrix=cm)\n",
    "disp.plot(cmap=plt.cm.Blues)\n",
    "plt.title(\"Confusion Matrix\")\n",
    "plt.show()"
   ]
  }
 ],
 "metadata": {
  "kernelspec": {
   "display_name": ".venv",
   "language": "python",
   "name": "python3"
  },
  "language_info": {
   "codemirror_mode": {
    "name": "ipython",
    "version": 3
   },
   "file_extension": ".py",
   "mimetype": "text/x-python",
   "name": "python",
   "nbconvert_exporter": "python",
   "pygments_lexer": "ipython3",
   "version": "3.13.5"
  }
 },
 "nbformat": 4,
 "nbformat_minor": 5
}
