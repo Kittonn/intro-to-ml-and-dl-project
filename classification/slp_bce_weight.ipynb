{
 "cells": [
  {
   "cell_type": "code",
   "execution_count": 9,
   "id": "c3e7b01d",
   "metadata": {},
   "outputs": [
    {
     "name": "stdout",
     "output_type": "stream",
     "text": [
      "Requirement already satisfied: pandas in /Users/7n100489/Library/CloudStorage/OneDrive-BankofAyudhyaPublicCompanyLimited/Desktop/Workspace/github/intro-to-ml-and-dl-project/.venv/lib/python3.13/site-packages (2.3.3)\n",
      "Requirement already satisfied: torch in /Users/7n100489/Library/CloudStorage/OneDrive-BankofAyudhyaPublicCompanyLimited/Desktop/Workspace/github/intro-to-ml-and-dl-project/.venv/lib/python3.13/site-packages (2.8.0)\n",
      "Requirement already satisfied: tqdm in /Users/7n100489/Library/CloudStorage/OneDrive-BankofAyudhyaPublicCompanyLimited/Desktop/Workspace/github/intro-to-ml-and-dl-project/.venv/lib/python3.13/site-packages (4.67.1)\n",
      "Requirement already satisfied: matplotlib in /Users/7n100489/Library/CloudStorage/OneDrive-BankofAyudhyaPublicCompanyLimited/Desktop/Workspace/github/intro-to-ml-and-dl-project/.venv/lib/python3.13/site-packages (3.10.6)\n",
      "Requirement already satisfied: imblearn in /Users/7n100489/Library/CloudStorage/OneDrive-BankofAyudhyaPublicCompanyLimited/Desktop/Workspace/github/intro-to-ml-and-dl-project/.venv/lib/python3.13/site-packages (0.0)\n",
      "Requirement already satisfied: numpy>=1.26.0 in /Users/7n100489/Library/CloudStorage/OneDrive-BankofAyudhyaPublicCompanyLimited/Desktop/Workspace/github/intro-to-ml-and-dl-project/.venv/lib/python3.13/site-packages (from pandas) (2.3.3)\n",
      "Requirement already satisfied: python-dateutil>=2.8.2 in /Users/7n100489/Library/CloudStorage/OneDrive-BankofAyudhyaPublicCompanyLimited/Desktop/Workspace/github/intro-to-ml-and-dl-project/.venv/lib/python3.13/site-packages (from pandas) (2.9.0.post0)\n",
      "Requirement already satisfied: pytz>=2020.1 in /Users/7n100489/Library/CloudStorage/OneDrive-BankofAyudhyaPublicCompanyLimited/Desktop/Workspace/github/intro-to-ml-and-dl-project/.venv/lib/python3.13/site-packages (from pandas) (2025.2)\n",
      "Requirement already satisfied: tzdata>=2022.7 in /Users/7n100489/Library/CloudStorage/OneDrive-BankofAyudhyaPublicCompanyLimited/Desktop/Workspace/github/intro-to-ml-and-dl-project/.venv/lib/python3.13/site-packages (from pandas) (2025.2)\n",
      "Requirement already satisfied: filelock in /Users/7n100489/Library/CloudStorage/OneDrive-BankofAyudhyaPublicCompanyLimited/Desktop/Workspace/github/intro-to-ml-and-dl-project/.venv/lib/python3.13/site-packages (from torch) (3.19.1)\n",
      "Requirement already satisfied: typing-extensions>=4.10.0 in /Users/7n100489/Library/CloudStorage/OneDrive-BankofAyudhyaPublicCompanyLimited/Desktop/Workspace/github/intro-to-ml-and-dl-project/.venv/lib/python3.13/site-packages (from torch) (4.15.0)\n",
      "Requirement already satisfied: setuptools in /Users/7n100489/Library/CloudStorage/OneDrive-BankofAyudhyaPublicCompanyLimited/Desktop/Workspace/github/intro-to-ml-and-dl-project/.venv/lib/python3.13/site-packages (from torch) (80.9.0)\n",
      "Requirement already satisfied: sympy>=1.13.3 in /Users/7n100489/Library/CloudStorage/OneDrive-BankofAyudhyaPublicCompanyLimited/Desktop/Workspace/github/intro-to-ml-and-dl-project/.venv/lib/python3.13/site-packages (from torch) (1.14.0)\n",
      "Requirement already satisfied: networkx in /Users/7n100489/Library/CloudStorage/OneDrive-BankofAyudhyaPublicCompanyLimited/Desktop/Workspace/github/intro-to-ml-and-dl-project/.venv/lib/python3.13/site-packages (from torch) (3.5)\n",
      "Requirement already satisfied: jinja2 in /Users/7n100489/Library/CloudStorage/OneDrive-BankofAyudhyaPublicCompanyLimited/Desktop/Workspace/github/intro-to-ml-and-dl-project/.venv/lib/python3.13/site-packages (from torch) (3.1.6)\n",
      "Requirement already satisfied: fsspec in /Users/7n100489/Library/CloudStorage/OneDrive-BankofAyudhyaPublicCompanyLimited/Desktop/Workspace/github/intro-to-ml-and-dl-project/.venv/lib/python3.13/site-packages (from torch) (2025.9.0)\n",
      "Requirement already satisfied: contourpy>=1.0.1 in /Users/7n100489/Library/CloudStorage/OneDrive-BankofAyudhyaPublicCompanyLimited/Desktop/Workspace/github/intro-to-ml-and-dl-project/.venv/lib/python3.13/site-packages (from matplotlib) (1.3.3)\n",
      "Requirement already satisfied: cycler>=0.10 in /Users/7n100489/Library/CloudStorage/OneDrive-BankofAyudhyaPublicCompanyLimited/Desktop/Workspace/github/intro-to-ml-and-dl-project/.venv/lib/python3.13/site-packages (from matplotlib) (0.12.1)\n",
      "Requirement already satisfied: fonttools>=4.22.0 in /Users/7n100489/Library/CloudStorage/OneDrive-BankofAyudhyaPublicCompanyLimited/Desktop/Workspace/github/intro-to-ml-and-dl-project/.venv/lib/python3.13/site-packages (from matplotlib) (4.60.1)\n",
      "Requirement already satisfied: kiwisolver>=1.3.1 in /Users/7n100489/Library/CloudStorage/OneDrive-BankofAyudhyaPublicCompanyLimited/Desktop/Workspace/github/intro-to-ml-and-dl-project/.venv/lib/python3.13/site-packages (from matplotlib) (1.4.9)\n",
      "Requirement already satisfied: packaging>=20.0 in /Users/7n100489/Library/CloudStorage/OneDrive-BankofAyudhyaPublicCompanyLimited/Desktop/Workspace/github/intro-to-ml-and-dl-project/.venv/lib/python3.13/site-packages (from matplotlib) (25.0)\n",
      "Requirement already satisfied: pillow>=8 in /Users/7n100489/Library/CloudStorage/OneDrive-BankofAyudhyaPublicCompanyLimited/Desktop/Workspace/github/intro-to-ml-and-dl-project/.venv/lib/python3.13/site-packages (from matplotlib) (11.3.0)\n",
      "Requirement already satisfied: pyparsing>=2.3.1 in /Users/7n100489/Library/CloudStorage/OneDrive-BankofAyudhyaPublicCompanyLimited/Desktop/Workspace/github/intro-to-ml-and-dl-project/.venv/lib/python3.13/site-packages (from matplotlib) (3.2.5)\n",
      "Requirement already satisfied: imbalanced-learn in /Users/7n100489/Library/CloudStorage/OneDrive-BankofAyudhyaPublicCompanyLimited/Desktop/Workspace/github/intro-to-ml-and-dl-project/.venv/lib/python3.13/site-packages (from imblearn) (0.14.0)\n",
      "Requirement already satisfied: six>=1.5 in /Users/7n100489/Library/CloudStorage/OneDrive-BankofAyudhyaPublicCompanyLimited/Desktop/Workspace/github/intro-to-ml-and-dl-project/.venv/lib/python3.13/site-packages (from python-dateutil>=2.8.2->pandas) (1.17.0)\n",
      "Requirement already satisfied: mpmath<1.4,>=1.1.0 in /Users/7n100489/Library/CloudStorage/OneDrive-BankofAyudhyaPublicCompanyLimited/Desktop/Workspace/github/intro-to-ml-and-dl-project/.venv/lib/python3.13/site-packages (from sympy>=1.13.3->torch) (1.3.0)\n",
      "Requirement already satisfied: scipy<2,>=1.11.4 in /Users/7n100489/Library/CloudStorage/OneDrive-BankofAyudhyaPublicCompanyLimited/Desktop/Workspace/github/intro-to-ml-and-dl-project/.venv/lib/python3.13/site-packages (from imbalanced-learn->imblearn) (1.16.2)\n",
      "Requirement already satisfied: scikit-learn<2,>=1.4.2 in /Users/7n100489/Library/CloudStorage/OneDrive-BankofAyudhyaPublicCompanyLimited/Desktop/Workspace/github/intro-to-ml-and-dl-project/.venv/lib/python3.13/site-packages (from imbalanced-learn->imblearn) (1.7.2)\n",
      "Requirement already satisfied: joblib<2,>=1.2.0 in /Users/7n100489/Library/CloudStorage/OneDrive-BankofAyudhyaPublicCompanyLimited/Desktop/Workspace/github/intro-to-ml-and-dl-project/.venv/lib/python3.13/site-packages (from imbalanced-learn->imblearn) (1.5.2)\n",
      "Requirement already satisfied: threadpoolctl<4,>=2.0.0 in /Users/7n100489/Library/CloudStorage/OneDrive-BankofAyudhyaPublicCompanyLimited/Desktop/Workspace/github/intro-to-ml-and-dl-project/.venv/lib/python3.13/site-packages (from imbalanced-learn->imblearn) (3.6.0)\n",
      "Requirement already satisfied: MarkupSafe>=2.0 in /Users/7n100489/Library/CloudStorage/OneDrive-BankofAyudhyaPublicCompanyLimited/Desktop/Workspace/github/intro-to-ml-and-dl-project/.venv/lib/python3.13/site-packages (from jinja2->torch) (3.0.3)\n",
      "Note: you may need to restart the kernel to use updated packages.\n"
     ]
    }
   ],
   "source": [
    "%pip install pandas torch tqdm matplotlib imblearn"
   ]
  },
  {
   "cell_type": "code",
   "execution_count": 10,
   "id": "41b6430b",
   "metadata": {},
   "outputs": [],
   "source": [
    "import torch.nn as nn\n",
    "import torch\n",
    "import pandas as pd\n",
    "from sklearn.model_selection import train_test_split\n",
    "from sklearn.preprocessing import StandardScaler\n",
    "from torch.utils.data import DataLoader, TensorDataset\n",
    "from tqdm import tqdm\n",
    "import matplotlib.pyplot as plt\n",
    "import numpy as np\n",
    "from sklearn.utils.class_weight import compute_class_weight\n"
   ]
  },
  {
   "cell_type": "code",
   "execution_count": 11,
   "id": "c30a672c",
   "metadata": {},
   "outputs": [],
   "source": [
    "df = pd.read_csv(\"../df_unbalanced_classification.csv\")\n",
    "\n",
    "selected_feature = [\n",
    "    \"differentiate\",\n",
    "    \"Node Positive Ratio\",\n",
    "    \"N Stage Encoded\",\n",
    "    \"Estrogen Status Encoded\",\n",
    "    \"Progesterone Status Encoded\",\n",
    "]\n",
    "\n",
    "# X = df.drop(columns=[\"Survival More Than 6 Years\"]).values\n",
    "X = df[selected_feature].values\n",
    "y = df[\"Status_encoded\"].values\n",
    "\n",
    "X_train, X_test, y_train, y_test = train_test_split(\n",
    "    X, y, test_size=0.2, random_state=42\n",
    ")\n",
    "\n",
    "classes = np.unique(y_train)\n",
    "weights = compute_class_weight('balanced', classes=classes, y=y_train)\n",
    "class_weights = torch.tensor(weights, dtype=torch.float32)\n",
    "\n",
    "scaler = StandardScaler()\n",
    "X_train_scaled = scaler.fit_transform(X_train)\n",
    "X_test_scaled = scaler.transform(X_test)\n",
    "\n",
    "X_train_tensor = torch.tensor(X_train_scaled, dtype=torch.float32)\n",
    "X_test_tensor = torch.tensor(X_test_scaled, dtype=torch.float32)\n",
    "y_train_tensor = torch.tensor(y_train, dtype=torch.long)\n",
    "y_test_tensor = torch.tensor(y_test, dtype=torch.long)\n",
    "\n",
    "train_dataset = TensorDataset(X_train_tensor, y_train_tensor)\n",
    "train_loader = DataLoader(train_dataset, batch_size=32, shuffle=True)\n",
    "\n",
    "test_dataset = TensorDataset(X_test_tensor, y_test_tensor)\n",
    "test_loader = DataLoader(test_dataset, batch_size=32, shuffle=False)"
   ]
  },
  {
   "cell_type": "code",
   "execution_count": 12,
   "id": "e75fc86c",
   "metadata": {},
   "outputs": [],
   "source": [
    "class SLP(nn.Module):\n",
    "    def __init__(self, input_dim, output_dim):\n",
    "        super(SLP, self).__init__()\n",
    "        self.linear = nn.Linear(input_dim, output_dim)\n",
    "\n",
    "    def forward(self, x):\n",
    "        return self.linear(x)\n",
    "\n",
    "    def predict(self, x):\n",
    "        self.eval()\n",
    "        with torch.no_grad():\n",
    "            logits = self.forward(x)\n",
    "            probs = torch.softmax(logits, dim=1)\n",
    "            return torch.argmax(probs, dim=1)"
   ]
  },
  {
   "cell_type": "code",
   "execution_count": 13,
   "id": "ae18a3f4",
   "metadata": {},
   "outputs": [],
   "source": [
    "def train(model, train_loader, criterion, optimizer, epochs=50):\n",
    "    train_losses = []\n",
    "    train_accuracies = []\n",
    "    val_losses = []\n",
    "    val_accuracies = []\n",
    "\n",
    "    for epoch in range(epochs):\n",
    "        model.train()\n",
    "        train_acc = 0\n",
    "        train_loss = 0\n",
    "\n",
    "        for X_batch, y_batch in tqdm(\n",
    "            train_loader, desc=f\"Epoch {epoch + 1}/{epochs} - Training\"\n",
    "        ):\n",
    "            optimizer.zero_grad()\n",
    "            outputs = model(X_batch)\n",
    "            loss = criterion(outputs, y_batch)\n",
    "            loss.backward()\n",
    "            optimizer.step()\n",
    "            train_loss += loss.item()\n",
    "            _, predicted = torch.max(outputs, 1)\n",
    "            train_acc += (predicted == y_batch).sum().item()\n",
    "\n",
    "        avg_train_loss = train_loss / len(train_dataset)\n",
    "        avg_train_acc = train_acc / len(train_dataset)\n",
    "\n",
    "        train_losses.append(avg_train_loss)\n",
    "        train_accuracies.append(avg_train_acc)\n",
    "\n",
    "        model.eval()\n",
    "        val_acc = 0\n",
    "        val_loss = 0\n",
    "        with torch.no_grad():\n",
    "            for X_batch, y_batch in tqdm(\n",
    "                test_loader, desc=f\"Epoch {epoch + 1}/{epochs} - Validation\"\n",
    "            ):\n",
    "                outputs = model(X_batch)\n",
    "                loss = criterion(outputs, y_batch)\n",
    "                val_loss += loss.item()\n",
    "                _, predicted = torch.max(outputs, 1)\n",
    "                val_acc += (predicted == y_batch).sum().item()\n",
    "\n",
    "        avg_val_loss = val_loss / len(test_dataset)\n",
    "        avg_val_acc = val_acc / len(test_dataset)\n",
    "        val_losses.append(avg_val_loss)\n",
    "        val_accuracies.append(avg_val_acc)\n",
    "\n",
    "        print(\n",
    "            f\"Epoch {epoch + 1}/{epochs} - \"\n",
    "            f\"Train Loss: {avg_train_loss:.4f}, Train Acc: {avg_train_acc:.4f}, \"\n",
    "            f\"Val Loss: {avg_val_loss:.4f}, Val Acc: {avg_val_acc:.4f}\"\n",
    "        )\n",
    "\n",
    "    return train_losses, train_accuracies, val_losses, val_accuracies"
   ]
  },
  {
   "cell_type": "code",
   "execution_count": 14,
   "id": "2a40db54",
   "metadata": {},
   "outputs": [
    {
     "name": "stderr",
     "output_type": "stream",
     "text": [
      "Epoch 1/100 - Training: 100%|██████████| 101/101 [00:00<00:00, 2305.35it/s]\n",
      "Epoch 1/100 - Validation: 100%|██████████| 26/26 [00:00<00:00, 4138.91it/s]\n"
     ]
    },
    {
     "name": "stdout",
     "output_type": "stream",
     "text": [
      "Epoch 1/100 - Train Loss: 0.0245, Train Acc: 0.6167, Val Loss: 0.0257, Val Acc: 0.6211\n"
     ]
    },
    {
     "name": "stderr",
     "output_type": "stream",
     "text": [
      "Epoch 2/100 - Training: 100%|██████████| 101/101 [00:00<00:00, 2627.20it/s]\n",
      "Epoch 2/100 - Validation: 100%|██████████| 26/26 [00:00<00:00, 5268.21it/s]\n"
     ]
    },
    {
     "name": "stdout",
     "output_type": "stream",
     "text": [
      "Epoch 2/100 - Train Loss: 0.0242, Train Acc: 0.6182, Val Loss: 0.0254, Val Acc: 0.6273\n"
     ]
    },
    {
     "name": "stderr",
     "output_type": "stream",
     "text": [
      "Epoch 3/100 - Training: 100%|██████████| 101/101 [00:00<00:00, 2866.07it/s]\n",
      "Epoch 3/100 - Validation: 100%|██████████| 26/26 [00:00<00:00, 5378.37it/s]\n"
     ]
    },
    {
     "name": "stdout",
     "output_type": "stream",
     "text": [
      "Epoch 3/100 - Train Loss: 0.0239, Train Acc: 0.6210, Val Loss: 0.0250, Val Acc: 0.6373\n"
     ]
    },
    {
     "name": "stderr",
     "output_type": "stream",
     "text": [
      "Epoch 4/100 - Training: 100%|██████████| 101/101 [00:00<00:00, 2883.08it/s]\n",
      "Epoch 4/100 - Validation: 100%|██████████| 26/26 [00:00<00:00, 5523.57it/s]\n"
     ]
    },
    {
     "name": "stdout",
     "output_type": "stream",
     "text": [
      "Epoch 4/100 - Train Loss: 0.0236, Train Acc: 0.6331, Val Loss: 0.0247, Val Acc: 0.6373\n"
     ]
    },
    {
     "name": "stderr",
     "output_type": "stream",
     "text": [
      "Epoch 5/100 - Training: 100%|██████████| 101/101 [00:00<00:00, 2892.31it/s]\n",
      "Epoch 5/100 - Validation: 100%|██████████| 26/26 [00:00<00:00, 5327.92it/s]\n"
     ]
    },
    {
     "name": "stdout",
     "output_type": "stream",
     "text": [
      "Epoch 5/100 - Train Loss: 0.0232, Train Acc: 0.6353, Val Loss: 0.0244, Val Acc: 0.6509\n"
     ]
    },
    {
     "name": "stderr",
     "output_type": "stream",
     "text": [
      "Epoch 6/100 - Training: 100%|██████████| 101/101 [00:00<00:00, 2900.98it/s]\n",
      "Epoch 6/100 - Validation: 100%|██████████| 26/26 [00:00<00:00, 5418.73it/s]\n"
     ]
    },
    {
     "name": "stdout",
     "output_type": "stream",
     "text": [
      "Epoch 6/100 - Train Loss: 0.0231, Train Acc: 0.6477, Val Loss: 0.0241, Val Acc: 0.6758\n"
     ]
    },
    {
     "name": "stderr",
     "output_type": "stream",
     "text": [
      "Epoch 7/100 - Training: 100%|██████████| 101/101 [00:00<00:00, 2884.98it/s]\n",
      "Epoch 7/100 - Validation: 100%|██████████| 26/26 [00:00<00:00, 5323.76it/s]\n"
     ]
    },
    {
     "name": "stdout",
     "output_type": "stream",
     "text": [
      "Epoch 7/100 - Train Loss: 0.0230, Train Acc: 0.6623, Val Loss: 0.0238, Val Acc: 0.6795\n"
     ]
    },
    {
     "name": "stderr",
     "output_type": "stream",
     "text": [
      "Epoch 8/100 - Training: 100%|██████████| 101/101 [00:00<00:00, 2873.55it/s]\n",
      "Epoch 8/100 - Validation: 100%|██████████| 26/26 [00:00<00:00, 5264.39it/s]\n"
     ]
    },
    {
     "name": "stdout",
     "output_type": "stream",
     "text": [
      "Epoch 8/100 - Train Loss: 0.0226, Train Acc: 0.6719, Val Loss: 0.0236, Val Acc: 0.6845\n"
     ]
    },
    {
     "name": "stderr",
     "output_type": "stream",
     "text": [
      "Epoch 9/100 - Training: 100%|██████████| 101/101 [00:00<00:00, 2843.48it/s]\n",
      "Epoch 9/100 - Validation: 100%|██████████| 26/26 [00:00<00:00, 5357.50it/s]\n"
     ]
    },
    {
     "name": "stdout",
     "output_type": "stream",
     "text": [
      "Epoch 9/100 - Train Loss: 0.0225, Train Acc: 0.6785, Val Loss: 0.0234, Val Acc: 0.6845\n"
     ]
    },
    {
     "name": "stderr",
     "output_type": "stream",
     "text": [
      "Epoch 10/100 - Training: 100%|██████████| 101/101 [00:00<00:00, 2634.47it/s]\n",
      "Epoch 10/100 - Validation: 100%|██████████| 26/26 [00:00<00:00, 4824.45it/s]\n"
     ]
    },
    {
     "name": "stdout",
     "output_type": "stream",
     "text": [
      "Epoch 10/100 - Train Loss: 0.0223, Train Acc: 0.6844, Val Loss: 0.0231, Val Acc: 0.6907\n"
     ]
    },
    {
     "name": "stderr",
     "output_type": "stream",
     "text": [
      "Epoch 11/100 - Training: 100%|██████████| 101/101 [00:00<00:00, 2870.38it/s]\n",
      "Epoch 11/100 - Validation: 100%|██████████| 26/26 [00:00<00:00, 5280.20it/s]\n"
     ]
    },
    {
     "name": "stdout",
     "output_type": "stream",
     "text": [
      "Epoch 11/100 - Train Loss: 0.0222, Train Acc: 0.6884, Val Loss: 0.0229, Val Acc: 0.6981\n"
     ]
    },
    {
     "name": "stderr",
     "output_type": "stream",
     "text": [
      "Epoch 12/100 - Training: 100%|██████████| 101/101 [00:00<00:00, 2817.46it/s]\n",
      "Epoch 12/100 - Validation: 100%|██████████| 26/26 [00:00<00:00, 5089.94it/s]\n"
     ]
    },
    {
     "name": "stdout",
     "output_type": "stream",
     "text": [
      "Epoch 12/100 - Train Loss: 0.0220, Train Acc: 0.6921, Val Loss: 0.0227, Val Acc: 0.6981\n"
     ]
    },
    {
     "name": "stderr",
     "output_type": "stream",
     "text": [
      "Epoch 13/100 - Training: 100%|██████████| 101/101 [00:00<00:00, 2824.07it/s]\n",
      "Epoch 13/100 - Validation: 100%|██████████| 26/26 [00:00<00:00, 5187.76it/s]\n"
     ]
    },
    {
     "name": "stdout",
     "output_type": "stream",
     "text": [
      "Epoch 13/100 - Train Loss: 0.0217, Train Acc: 0.6956, Val Loss: 0.0226, Val Acc: 0.6981\n"
     ]
    },
    {
     "name": "stderr",
     "output_type": "stream",
     "text": [
      "Epoch 14/100 - Training: 100%|██████████| 101/101 [00:00<00:00, 2820.59it/s]\n",
      "Epoch 14/100 - Validation: 100%|██████████| 26/26 [00:00<00:00, 5376.52it/s]\n"
     ]
    },
    {
     "name": "stdout",
     "output_type": "stream",
     "text": [
      "Epoch 14/100 - Train Loss: 0.0215, Train Acc: 0.6993, Val Loss: 0.0224, Val Acc: 0.7043\n"
     ]
    },
    {
     "name": "stderr",
     "output_type": "stream",
     "text": [
      "Epoch 15/100 - Training: 100%|██████████| 101/101 [00:00<00:00, 2836.61it/s]\n",
      "Epoch 15/100 - Validation: 100%|██████████| 26/26 [00:00<00:00, 5169.07it/s]\n"
     ]
    },
    {
     "name": "stdout",
     "output_type": "stream",
     "text": [
      "Epoch 15/100 - Train Loss: 0.0214, Train Acc: 0.6999, Val Loss: 0.0222, Val Acc: 0.7019\n"
     ]
    },
    {
     "name": "stderr",
     "output_type": "stream",
     "text": [
      "Epoch 16/100 - Training: 100%|██████████| 101/101 [00:00<00:00, 2859.66it/s]\n",
      "Epoch 16/100 - Validation: 100%|██████████| 26/26 [00:00<00:00, 5271.52it/s]\n"
     ]
    },
    {
     "name": "stdout",
     "output_type": "stream",
     "text": [
      "Epoch 16/100 - Train Loss: 0.0213, Train Acc: 0.7005, Val Loss: 0.0221, Val Acc: 0.7006\n"
     ]
    },
    {
     "name": "stderr",
     "output_type": "stream",
     "text": [
      "Epoch 17/100 - Training: 100%|██████████| 101/101 [00:00<00:00, 2799.90it/s]\n",
      "Epoch 17/100 - Validation: 100%|██████████| 26/26 [00:00<00:00, 5175.20it/s]\n"
     ]
    },
    {
     "name": "stdout",
     "output_type": "stream",
     "text": [
      "Epoch 17/100 - Train Loss: 0.0211, Train Acc: 0.7008, Val Loss: 0.0219, Val Acc: 0.7019\n"
     ]
    },
    {
     "name": "stderr",
     "output_type": "stream",
     "text": [
      "Epoch 18/100 - Training: 100%|██████████| 101/101 [00:00<00:00, 2889.17it/s]\n",
      "Epoch 18/100 - Validation: 100%|██████████| 26/26 [00:00<00:00, 5285.57it/s]\n"
     ]
    },
    {
     "name": "stdout",
     "output_type": "stream",
     "text": [
      "Epoch 18/100 - Train Loss: 0.0211, Train Acc: 0.7002, Val Loss: 0.0218, Val Acc: 0.7006\n"
     ]
    },
    {
     "name": "stderr",
     "output_type": "stream",
     "text": [
      "Epoch 19/100 - Training: 100%|██████████| 101/101 [00:00<00:00, 2465.57it/s]\n",
      "Epoch 19/100 - Validation: 100%|██████████| 26/26 [00:00<00:00, 5020.11it/s]\n"
     ]
    },
    {
     "name": "stdout",
     "output_type": "stream",
     "text": [
      "Epoch 19/100 - Train Loss: 0.0210, Train Acc: 0.6968, Val Loss: 0.0217, Val Acc: 0.7093\n"
     ]
    },
    {
     "name": "stderr",
     "output_type": "stream",
     "text": [
      "Epoch 20/100 - Training: 100%|██████████| 101/101 [00:00<00:00, 2856.25it/s]\n",
      "Epoch 20/100 - Validation: 100%|██████████| 26/26 [00:00<00:00, 5470.10it/s]\n"
     ]
    },
    {
     "name": "stdout",
     "output_type": "stream",
     "text": [
      "Epoch 20/100 - Train Loss: 0.0208, Train Acc: 0.7002, Val Loss: 0.0216, Val Acc: 0.7081\n"
     ]
    },
    {
     "name": "stderr",
     "output_type": "stream",
     "text": [
      "Epoch 21/100 - Training: 100%|██████████| 101/101 [00:00<00:00, 2872.99it/s]\n",
      "Epoch 21/100 - Validation: 100%|██████████| 26/26 [00:00<00:00, 5479.44it/s]\n"
     ]
    },
    {
     "name": "stdout",
     "output_type": "stream",
     "text": [
      "Epoch 21/100 - Train Loss: 0.0208, Train Acc: 0.6974, Val Loss: 0.0214, Val Acc: 0.7068\n"
     ]
    },
    {
     "name": "stderr",
     "output_type": "stream",
     "text": [
      "Epoch 22/100 - Training: 100%|██████████| 101/101 [00:00<00:00, 2877.08it/s]\n",
      "Epoch 22/100 - Validation: 100%|██████████| 26/26 [00:00<00:00, 5311.57it/s]\n"
     ]
    },
    {
     "name": "stdout",
     "output_type": "stream",
     "text": [
      "Epoch 22/100 - Train Loss: 0.0206, Train Acc: 0.6977, Val Loss: 0.0213, Val Acc: 0.7031\n"
     ]
    },
    {
     "name": "stderr",
     "output_type": "stream",
     "text": [
      "Epoch 23/100 - Training: 100%|██████████| 101/101 [00:00<00:00, 2878.22it/s]\n",
      "Epoch 23/100 - Validation: 100%|██████████| 26/26 [00:00<00:00, 5375.46it/s]\n"
     ]
    },
    {
     "name": "stdout",
     "output_type": "stream",
     "text": [
      "Epoch 23/100 - Train Loss: 0.0205, Train Acc: 0.6965, Val Loss: 0.0212, Val Acc: 0.7019\n"
     ]
    },
    {
     "name": "stderr",
     "output_type": "stream",
     "text": [
      "Epoch 24/100 - Training: 100%|██████████| 101/101 [00:00<00:00, 2884.98it/s]\n",
      "Epoch 24/100 - Validation: 100%|██████████| 26/26 [00:00<00:00, 3749.68it/s]\n"
     ]
    },
    {
     "name": "stdout",
     "output_type": "stream",
     "text": [
      "Epoch 24/100 - Train Loss: 0.0206, Train Acc: 0.6977, Val Loss: 0.0211, Val Acc: 0.7006\n"
     ]
    },
    {
     "name": "stderr",
     "output_type": "stream",
     "text": [
      "Epoch 25/100 - Training: 100%|██████████| 101/101 [00:00<00:00, 2500.50it/s]\n",
      "Epoch 25/100 - Validation: 100%|██████████| 26/26 [00:00<00:00, 5523.57it/s]\n"
     ]
    },
    {
     "name": "stdout",
     "output_type": "stream",
     "text": [
      "Epoch 25/100 - Train Loss: 0.0204, Train Acc: 0.6962, Val Loss: 0.0210, Val Acc: 0.7019\n"
     ]
    },
    {
     "name": "stderr",
     "output_type": "stream",
     "text": [
      "Epoch 26/100 - Training: 100%|██████████| 101/101 [00:00<00:00, 2808.68it/s]\n",
      "Epoch 26/100 - Validation: 100%|██████████| 26/26 [00:00<00:00, 4763.76it/s]\n"
     ]
    },
    {
     "name": "stdout",
     "output_type": "stream",
     "text": [
      "Epoch 26/100 - Train Loss: 0.0204, Train Acc: 0.6931, Val Loss: 0.0209, Val Acc: 0.7006\n"
     ]
    },
    {
     "name": "stderr",
     "output_type": "stream",
     "text": [
      "Epoch 27/100 - Training: 100%|██████████| 101/101 [00:00<00:00, 2632.80it/s]\n",
      "Epoch 27/100 - Validation: 100%|██████████| 26/26 [00:00<00:00, 4784.66it/s]\n"
     ]
    },
    {
     "name": "stdout",
     "output_type": "stream",
     "text": [
      "Epoch 27/100 - Train Loss: 0.0203, Train Acc: 0.6934, Val Loss: 0.0209, Val Acc: 0.7019\n"
     ]
    },
    {
     "name": "stderr",
     "output_type": "stream",
     "text": [
      "Epoch 28/100 - Training: 100%|██████████| 101/101 [00:00<00:00, 2564.17it/s]\n",
      "Epoch 28/100 - Validation: 100%|██████████| 26/26 [00:00<00:00, 5077.14it/s]\n"
     ]
    },
    {
     "name": "stdout",
     "output_type": "stream",
     "text": [
      "Epoch 28/100 - Train Loss: 0.0202, Train Acc: 0.6925, Val Loss: 0.0208, Val Acc: 0.6994\n"
     ]
    },
    {
     "name": "stderr",
     "output_type": "stream",
     "text": [
      "Epoch 29/100 - Training: 100%|██████████| 101/101 [00:00<00:00, 2875.93it/s]\n",
      "Epoch 29/100 - Validation: 100%|██████████| 26/26 [00:00<00:00, 4985.69it/s]\n"
     ]
    },
    {
     "name": "stdout",
     "output_type": "stream",
     "text": [
      "Epoch 29/100 - Train Loss: 0.0202, Train Acc: 0.6912, Val Loss: 0.0207, Val Acc: 0.6981\n"
     ]
    },
    {
     "name": "stderr",
     "output_type": "stream",
     "text": [
      "Epoch 30/100 - Training: 100%|██████████| 101/101 [00:00<00:00, 2761.44it/s]\n",
      "Epoch 30/100 - Validation: 100%|██████████| 26/26 [00:00<00:00, 5304.85it/s]\n"
     ]
    },
    {
     "name": "stdout",
     "output_type": "stream",
     "text": [
      "Epoch 30/100 - Train Loss: 0.0202, Train Acc: 0.6893, Val Loss: 0.0206, Val Acc: 0.6969\n"
     ]
    },
    {
     "name": "stderr",
     "output_type": "stream",
     "text": [
      "Epoch 31/100 - Training: 100%|██████████| 101/101 [00:00<00:00, 2904.20it/s]\n",
      "Epoch 31/100 - Validation: 100%|██████████| 26/26 [00:00<00:00, 5476.14it/s]\n"
     ]
    },
    {
     "name": "stdout",
     "output_type": "stream",
     "text": [
      "Epoch 31/100 - Train Loss: 0.0200, Train Acc: 0.6897, Val Loss: 0.0206, Val Acc: 0.6981\n"
     ]
    },
    {
     "name": "stderr",
     "output_type": "stream",
     "text": [
      "Epoch 32/100 - Training: 100%|██████████| 101/101 [00:00<00:00, 2863.47it/s]\n",
      "Epoch 32/100 - Validation: 100%|██████████| 26/26 [00:00<00:00, 5165.89it/s]\n"
     ]
    },
    {
     "name": "stdout",
     "output_type": "stream",
     "text": [
      "Epoch 32/100 - Train Loss: 0.0201, Train Acc: 0.6890, Val Loss: 0.0205, Val Acc: 0.6994\n"
     ]
    },
    {
     "name": "stderr",
     "output_type": "stream",
     "text": [
      "Epoch 33/100 - Training: 100%|██████████| 101/101 [00:00<00:00, 2968.16it/s]\n",
      "Epoch 33/100 - Validation: 100%|██████████| 26/26 [00:00<00:00, 5370.69it/s]\n"
     ]
    },
    {
     "name": "stdout",
     "output_type": "stream",
     "text": [
      "Epoch 33/100 - Train Loss: 0.0199, Train Acc: 0.6875, Val Loss: 0.0205, Val Acc: 0.6981\n"
     ]
    },
    {
     "name": "stderr",
     "output_type": "stream",
     "text": [
      "Epoch 34/100 - Training: 100%|██████████| 101/101 [00:00<00:00, 2990.64it/s]\n",
      "Epoch 34/100 - Validation: 100%|██████████| 26/26 [00:00<00:00, 5440.35it/s]\n"
     ]
    },
    {
     "name": "stdout",
     "output_type": "stream",
     "text": [
      "Epoch 34/100 - Train Loss: 0.0198, Train Acc: 0.6844, Val Loss: 0.0204, Val Acc: 0.6994\n"
     ]
    },
    {
     "name": "stderr",
     "output_type": "stream",
     "text": [
      "Epoch 35/100 - Training: 100%|██████████| 101/101 [00:00<00:00, 3036.52it/s]\n",
      "Epoch 35/100 - Validation: 100%|██████████| 26/26 [00:00<00:00, 5325.58it/s]\n"
     ]
    },
    {
     "name": "stdout",
     "output_type": "stream",
     "text": [
      "Epoch 35/100 - Train Loss: 0.0199, Train Acc: 0.6856, Val Loss: 0.0204, Val Acc: 0.7043\n"
     ]
    },
    {
     "name": "stderr",
     "output_type": "stream",
     "text": [
      "Epoch 36/100 - Training: 100%|██████████| 101/101 [00:00<00:00, 3005.94it/s]\n",
      "Epoch 36/100 - Validation: 100%|██████████| 26/26 [00:00<00:00, 5547.46it/s]\n"
     ]
    },
    {
     "name": "stdout",
     "output_type": "stream",
     "text": [
      "Epoch 36/100 - Train Loss: 0.0199, Train Acc: 0.6890, Val Loss: 0.0203, Val Acc: 0.7068\n"
     ]
    },
    {
     "name": "stderr",
     "output_type": "stream",
     "text": [
      "Epoch 37/100 - Training: 100%|██████████| 101/101 [00:00<00:00, 2699.23it/s]\n",
      "Epoch 37/100 - Validation: 100%|██████████| 26/26 [00:00<00:00, 4509.26it/s]\n"
     ]
    },
    {
     "name": "stdout",
     "output_type": "stream",
     "text": [
      "Epoch 37/100 - Train Loss: 0.0198, Train Acc: 0.6881, Val Loss: 0.0203, Val Acc: 0.7081\n"
     ]
    },
    {
     "name": "stderr",
     "output_type": "stream",
     "text": [
      "Epoch 38/100 - Training: 100%|██████████| 101/101 [00:00<00:00, 2848.59it/s]\n",
      "Epoch 38/100 - Validation: 100%|██████████| 26/26 [00:00<00:00, 5580.39it/s]\n"
     ]
    },
    {
     "name": "stdout",
     "output_type": "stream",
     "text": [
      "Epoch 38/100 - Train Loss: 0.0197, Train Acc: 0.6887, Val Loss: 0.0202, Val Acc: 0.7081\n"
     ]
    },
    {
     "name": "stderr",
     "output_type": "stream",
     "text": [
      "Epoch 39/100 - Training: 100%|██████████| 101/101 [00:00<00:00, 2980.92it/s]\n",
      "Epoch 39/100 - Validation: 100%|██████████| 26/26 [00:00<00:00, 5279.94it/s]\n"
     ]
    },
    {
     "name": "stdout",
     "output_type": "stream",
     "text": [
      "Epoch 39/100 - Train Loss: 0.0198, Train Acc: 0.6878, Val Loss: 0.0202, Val Acc: 0.7093\n"
     ]
    },
    {
     "name": "stderr",
     "output_type": "stream",
     "text": [
      "Epoch 40/100 - Training: 100%|██████████| 101/101 [00:00<00:00, 2932.11it/s]\n",
      "Epoch 40/100 - Validation: 100%|██████████| 26/26 [00:00<00:00, 5103.99it/s]\n"
     ]
    },
    {
     "name": "stdout",
     "output_type": "stream",
     "text": [
      "Epoch 40/100 - Train Loss: 0.0197, Train Acc: 0.6862, Val Loss: 0.0201, Val Acc: 0.7093\n"
     ]
    },
    {
     "name": "stderr",
     "output_type": "stream",
     "text": [
      "Epoch 41/100 - Training: 100%|██████████| 101/101 [00:00<00:00, 2923.38it/s]\n",
      "Epoch 41/100 - Validation: 100%|██████████| 26/26 [00:00<00:00, 5430.33it/s]\n"
     ]
    },
    {
     "name": "stdout",
     "output_type": "stream",
     "text": [
      "Epoch 41/100 - Train Loss: 0.0197, Train Acc: 0.6853, Val Loss: 0.0201, Val Acc: 0.7143\n"
     ]
    },
    {
     "name": "stderr",
     "output_type": "stream",
     "text": [
      "Epoch 42/100 - Training: 100%|██████████| 101/101 [00:00<00:00, 2901.36it/s]\n",
      "Epoch 42/100 - Validation: 100%|██████████| 26/26 [00:00<00:00, 5306.15it/s]\n"
     ]
    },
    {
     "name": "stdout",
     "output_type": "stream",
     "text": [
      "Epoch 42/100 - Train Loss: 0.0196, Train Acc: 0.6853, Val Loss: 0.0201, Val Acc: 0.7130\n"
     ]
    },
    {
     "name": "stderr",
     "output_type": "stream",
     "text": [
      "Epoch 43/100 - Training: 100%|██████████| 101/101 [00:00<00:00, 2873.80it/s]\n",
      "Epoch 43/100 - Validation: 100%|██████████| 26/26 [00:00<00:00, 5195.92it/s]\n"
     ]
    },
    {
     "name": "stdout",
     "output_type": "stream",
     "text": [
      "Epoch 43/100 - Train Loss: 0.0196, Train Acc: 0.6822, Val Loss: 0.0200, Val Acc: 0.7130\n"
     ]
    },
    {
     "name": "stderr",
     "output_type": "stream",
     "text": [
      "Epoch 44/100 - Training: 100%|██████████| 101/101 [00:00<00:00, 2840.43it/s]\n",
      "Epoch 44/100 - Validation: 100%|██████████| 26/26 [00:00<00:00, 4970.46it/s]\n"
     ]
    },
    {
     "name": "stdout",
     "output_type": "stream",
     "text": [
      "Epoch 44/100 - Train Loss: 0.0196, Train Acc: 0.6884, Val Loss: 0.0200, Val Acc: 0.7292\n"
     ]
    },
    {
     "name": "stderr",
     "output_type": "stream",
     "text": [
      "Epoch 45/100 - Training: 100%|██████████| 101/101 [00:00<00:00, 2905.88it/s]\n",
      "Epoch 45/100 - Validation: 100%|██████████| 26/26 [00:00<00:00, 5481.37it/s]\n"
     ]
    },
    {
     "name": "stdout",
     "output_type": "stream",
     "text": [
      "Epoch 45/100 - Train Loss: 0.0195, Train Acc: 0.6990, Val Loss: 0.0200, Val Acc: 0.7329\n"
     ]
    },
    {
     "name": "stderr",
     "output_type": "stream",
     "text": [
      "Epoch 46/100 - Training: 100%|██████████| 101/101 [00:00<00:00, 2978.20it/s]\n",
      "Epoch 46/100 - Validation: 100%|██████████| 26/26 [00:00<00:00, 5611.98it/s]\n"
     ]
    },
    {
     "name": "stdout",
     "output_type": "stream",
     "text": [
      "Epoch 46/100 - Train Loss: 0.0195, Train Acc: 0.7011, Val Loss: 0.0199, Val Acc: 0.7329\n"
     ]
    },
    {
     "name": "stderr",
     "output_type": "stream",
     "text": [
      "Epoch 47/100 - Training: 100%|██████████| 101/101 [00:00<00:00, 2970.35it/s]\n",
      "Epoch 47/100 - Validation: 100%|██████████| 26/26 [00:00<00:00, 5573.83it/s]\n"
     ]
    },
    {
     "name": "stdout",
     "output_type": "stream",
     "text": [
      "Epoch 47/100 - Train Loss: 0.0194, Train Acc: 0.7027, Val Loss: 0.0199, Val Acc: 0.7354\n"
     ]
    },
    {
     "name": "stderr",
     "output_type": "stream",
     "text": [
      "Epoch 48/100 - Training: 100%|██████████| 101/101 [00:00<00:00, 3019.44it/s]\n",
      "Epoch 48/100 - Validation: 100%|██████████| 26/26 [00:00<00:00, 5536.47it/s]\n"
     ]
    },
    {
     "name": "stdout",
     "output_type": "stream",
     "text": [
      "Epoch 48/100 - Train Loss: 0.0194, Train Acc: 0.7036, Val Loss: 0.0199, Val Acc: 0.7391\n"
     ]
    },
    {
     "name": "stderr",
     "output_type": "stream",
     "text": [
      "Epoch 49/100 - Training: 100%|██████████| 101/101 [00:00<00:00, 2535.84it/s]\n",
      "Epoch 49/100 - Validation: 100%|██████████| 26/26 [00:00<00:00, 4757.52it/s]\n"
     ]
    },
    {
     "name": "stdout",
     "output_type": "stream",
     "text": [
      "Epoch 49/100 - Train Loss: 0.0194, Train Acc: 0.7043, Val Loss: 0.0198, Val Acc: 0.7404\n"
     ]
    },
    {
     "name": "stderr",
     "output_type": "stream",
     "text": [
      "Epoch 50/100 - Training: 100%|██████████| 101/101 [00:00<00:00, 2380.11it/s]\n",
      "Epoch 50/100 - Validation: 100%|██████████| 26/26 [00:00<00:00, 4752.34it/s]\n"
     ]
    },
    {
     "name": "stdout",
     "output_type": "stream",
     "text": [
      "Epoch 50/100 - Train Loss: 0.0194, Train Acc: 0.7052, Val Loss: 0.0198, Val Acc: 0.7441\n"
     ]
    },
    {
     "name": "stderr",
     "output_type": "stream",
     "text": [
      "Epoch 51/100 - Training: 100%|██████████| 101/101 [00:00<00:00, 2933.40it/s]\n",
      "Epoch 51/100 - Validation: 100%|██████████| 26/26 [00:00<00:00, 5238.85it/s]\n"
     ]
    },
    {
     "name": "stdout",
     "output_type": "stream",
     "text": [
      "Epoch 51/100 - Train Loss: 0.0195, Train Acc: 0.7055, Val Loss: 0.0198, Val Acc: 0.7466\n"
     ]
    },
    {
     "name": "stderr",
     "output_type": "stream",
     "text": [
      "Epoch 52/100 - Training: 100%|██████████| 101/101 [00:00<00:00, 2999.52it/s]\n",
      "Epoch 52/100 - Validation: 100%|██████████| 26/26 [00:00<00:00, 5517.98it/s]\n"
     ]
    },
    {
     "name": "stdout",
     "output_type": "stream",
     "text": [
      "Epoch 52/100 - Train Loss: 0.0194, Train Acc: 0.7064, Val Loss: 0.0198, Val Acc: 0.7453\n"
     ]
    },
    {
     "name": "stderr",
     "output_type": "stream",
     "text": [
      "Epoch 53/100 - Training: 100%|██████████| 101/101 [00:00<00:00, 3045.84it/s]\n",
      "Epoch 53/100 - Validation: 100%|██████████| 26/26 [00:00<00:00, 5462.15it/s]\n"
     ]
    },
    {
     "name": "stdout",
     "output_type": "stream",
     "text": [
      "Epoch 53/100 - Train Loss: 0.0194, Train Acc: 0.7083, Val Loss: 0.0197, Val Acc: 0.7441\n"
     ]
    },
    {
     "name": "stderr",
     "output_type": "stream",
     "text": [
      "Epoch 54/100 - Training: 100%|██████████| 101/101 [00:00<00:00, 3026.32it/s]\n",
      "Epoch 54/100 - Validation: 100%|██████████| 26/26 [00:00<00:00, 5403.16it/s]\n"
     ]
    },
    {
     "name": "stdout",
     "output_type": "stream",
     "text": [
      "Epoch 54/100 - Train Loss: 0.0193, Train Acc: 0.7086, Val Loss: 0.0197, Val Acc: 0.7429\n"
     ]
    },
    {
     "name": "stderr",
     "output_type": "stream",
     "text": [
      "Epoch 55/100 - Training: 100%|██████████| 101/101 [00:00<00:00, 2739.89it/s]\n",
      "Epoch 55/100 - Validation: 100%|██████████| 26/26 [00:00<00:00, 5341.23it/s]\n"
     ]
    },
    {
     "name": "stdout",
     "output_type": "stream",
     "text": [
      "Epoch 55/100 - Train Loss: 0.0194, Train Acc: 0.7092, Val Loss: 0.0197, Val Acc: 0.7429\n"
     ]
    },
    {
     "name": "stderr",
     "output_type": "stream",
     "text": [
      "Epoch 56/100 - Training: 100%|██████████| 101/101 [00:00<00:00, 2961.11it/s]\n",
      "Epoch 56/100 - Validation: 100%|██████████| 26/26 [00:00<00:00, 5390.60it/s]\n"
     ]
    },
    {
     "name": "stdout",
     "output_type": "stream",
     "text": [
      "Epoch 56/100 - Train Loss: 0.0193, Train Acc: 0.7089, Val Loss: 0.0197, Val Acc: 0.7429\n"
     ]
    },
    {
     "name": "stderr",
     "output_type": "stream",
     "text": [
      "Epoch 57/100 - Training: 100%|██████████| 101/101 [00:00<00:00, 2928.48it/s]\n",
      "Epoch 57/100 - Validation: 100%|██████████| 26/26 [00:00<00:00, 5171.28it/s]\n"
     ]
    },
    {
     "name": "stdout",
     "output_type": "stream",
     "text": [
      "Epoch 57/100 - Train Loss: 0.0194, Train Acc: 0.7092, Val Loss: 0.0197, Val Acc: 0.7429\n"
     ]
    },
    {
     "name": "stderr",
     "output_type": "stream",
     "text": [
      "Epoch 58/100 - Training: 100%|██████████| 101/101 [00:00<00:00, 2857.54it/s]\n",
      "Epoch 58/100 - Validation: 100%|██████████| 26/26 [00:00<00:00, 5219.79it/s]\n"
     ]
    },
    {
     "name": "stdout",
     "output_type": "stream",
     "text": [
      "Epoch 58/100 - Train Loss: 0.0194, Train Acc: 0.7102, Val Loss: 0.0197, Val Acc: 0.7429\n"
     ]
    },
    {
     "name": "stderr",
     "output_type": "stream",
     "text": [
      "Epoch 59/100 - Training: 100%|██████████| 101/101 [00:00<00:00, 2891.26it/s]\n",
      "Epoch 59/100 - Validation: 100%|██████████| 26/26 [00:00<00:00, 5509.62it/s]\n"
     ]
    },
    {
     "name": "stdout",
     "output_type": "stream",
     "text": [
      "Epoch 59/100 - Train Loss: 0.0194, Train Acc: 0.7105, Val Loss: 0.0196, Val Acc: 0.7429\n"
     ]
    },
    {
     "name": "stderr",
     "output_type": "stream",
     "text": [
      "Epoch 60/100 - Training: 100%|██████████| 101/101 [00:00<00:00, 2941.96it/s]\n",
      "Epoch 60/100 - Validation: 100%|██████████| 26/26 [00:00<00:00, 5741.08it/s]\n"
     ]
    },
    {
     "name": "stdout",
     "output_type": "stream",
     "text": [
      "Epoch 60/100 - Train Loss: 0.0194, Train Acc: 0.7111, Val Loss: 0.0196, Val Acc: 0.7416\n"
     ]
    },
    {
     "name": "stderr",
     "output_type": "stream",
     "text": [
      "Epoch 61/100 - Training: 100%|██████████| 101/101 [00:00<00:00, 2938.61it/s]\n",
      "Epoch 61/100 - Validation: 100%|██████████| 26/26 [00:00<00:00, 5397.54it/s]\n"
     ]
    },
    {
     "name": "stdout",
     "output_type": "stream",
     "text": [
      "Epoch 61/100 - Train Loss: 0.0193, Train Acc: 0.7123, Val Loss: 0.0196, Val Acc: 0.7429\n"
     ]
    },
    {
     "name": "stderr",
     "output_type": "stream",
     "text": [
      "Epoch 62/100 - Training: 100%|██████████| 101/101 [00:00<00:00, 2939.14it/s]\n",
      "Epoch 62/100 - Validation: 100%|██████████| 26/26 [00:00<00:00, 5390.60it/s]\n"
     ]
    },
    {
     "name": "stdout",
     "output_type": "stream",
     "text": [
      "Epoch 62/100 - Train Loss: 0.0193, Train Acc: 0.7130, Val Loss: 0.0196, Val Acc: 0.7416\n"
     ]
    },
    {
     "name": "stderr",
     "output_type": "stream",
     "text": [
      "Epoch 63/100 - Training: 100%|██████████| 101/101 [00:00<00:00, 3009.45it/s]\n",
      "Epoch 63/100 - Validation: 100%|██████████| 26/26 [00:00<00:00, 5194.68it/s]\n"
     ]
    },
    {
     "name": "stdout",
     "output_type": "stream",
     "text": [
      "Epoch 63/100 - Train Loss: 0.0193, Train Acc: 0.7130, Val Loss: 0.0196, Val Acc: 0.7416\n"
     ]
    },
    {
     "name": "stderr",
     "output_type": "stream",
     "text": [
      "Epoch 64/100 - Training: 100%|██████████| 101/101 [00:00<00:00, 3003.90it/s]\n",
      "Epoch 64/100 - Validation: 100%|██████████| 26/26 [00:00<00:00, 5333.13it/s]\n"
     ]
    },
    {
     "name": "stdout",
     "output_type": "stream",
     "text": [
      "Epoch 64/100 - Train Loss: 0.0193, Train Acc: 0.7133, Val Loss: 0.0196, Val Acc: 0.7404\n"
     ]
    },
    {
     "name": "stderr",
     "output_type": "stream",
     "text": [
      "Epoch 65/100 - Training: 100%|██████████| 101/101 [00:00<00:00, 3002.19it/s]\n",
      "Epoch 65/100 - Validation: 100%|██████████| 26/26 [00:00<00:00, 5235.83it/s]\n"
     ]
    },
    {
     "name": "stdout",
     "output_type": "stream",
     "text": [
      "Epoch 65/100 - Train Loss: 0.0193, Train Acc: 0.7130, Val Loss: 0.0195, Val Acc: 0.7391\n"
     ]
    },
    {
     "name": "stderr",
     "output_type": "stream",
     "text": [
      "Epoch 66/100 - Training: 100%|██████████| 101/101 [00:00<00:00, 2974.45it/s]\n",
      "Epoch 66/100 - Validation: 100%|██████████| 26/26 [00:00<00:00, 4767.92it/s]\n"
     ]
    },
    {
     "name": "stdout",
     "output_type": "stream",
     "text": [
      "Epoch 66/100 - Train Loss: 0.0192, Train Acc: 0.7133, Val Loss: 0.0195, Val Acc: 0.7404\n"
     ]
    },
    {
     "name": "stderr",
     "output_type": "stream",
     "text": [
      "Epoch 67/100 - Training: 100%|██████████| 101/101 [00:00<00:00, 2751.97it/s]\n",
      "Epoch 67/100 - Validation: 100%|██████████| 26/26 [00:00<00:00, 5187.76it/s]\n"
     ]
    },
    {
     "name": "stdout",
     "output_type": "stream",
     "text": [
      "Epoch 67/100 - Train Loss: 0.0191, Train Acc: 0.7151, Val Loss: 0.0195, Val Acc: 0.7429\n"
     ]
    },
    {
     "name": "stderr",
     "output_type": "stream",
     "text": [
      "Epoch 68/100 - Training: 100%|██████████| 101/101 [00:00<00:00, 2938.25it/s]\n",
      "Epoch 68/100 - Validation: 100%|██████████| 26/26 [00:00<00:00, 5726.91it/s]\n"
     ]
    },
    {
     "name": "stdout",
     "output_type": "stream",
     "text": [
      "Epoch 68/100 - Train Loss: 0.0192, Train Acc: 0.7161, Val Loss: 0.0195, Val Acc: 0.7416\n"
     ]
    },
    {
     "name": "stderr",
     "output_type": "stream",
     "text": [
      "Epoch 69/100 - Training: 100%|██████████| 101/101 [00:00<00:00, 2952.17it/s]\n",
      "Epoch 69/100 - Validation: 100%|██████████| 26/26 [00:00<00:00, 5864.90it/s]\n"
     ]
    },
    {
     "name": "stdout",
     "output_type": "stream",
     "text": [
      "Epoch 69/100 - Train Loss: 0.0192, Train Acc: 0.7158, Val Loss: 0.0195, Val Acc: 0.7429\n"
     ]
    },
    {
     "name": "stderr",
     "output_type": "stream",
     "text": [
      "Epoch 70/100 - Training: 100%|██████████| 101/101 [00:00<00:00, 2994.11it/s]\n",
      "Epoch 70/100 - Validation: 100%|██████████| 26/26 [00:00<00:00, 5266.43it/s]\n"
     ]
    },
    {
     "name": "stdout",
     "output_type": "stream",
     "text": [
      "Epoch 70/100 - Train Loss: 0.0192, Train Acc: 0.7148, Val Loss: 0.0195, Val Acc: 0.7416\n"
     ]
    },
    {
     "name": "stderr",
     "output_type": "stream",
     "text": [
      "Epoch 71/100 - Training: 100%|██████████| 101/101 [00:00<00:00, 2969.47it/s]\n",
      "Epoch 71/100 - Validation: 100%|██████████| 26/26 [00:00<00:00, 5287.62it/s]\n"
     ]
    },
    {
     "name": "stdout",
     "output_type": "stream",
     "text": [
      "Epoch 71/100 - Train Loss: 0.0192, Train Acc: 0.7161, Val Loss: 0.0195, Val Acc: 0.7416\n"
     ]
    },
    {
     "name": "stderr",
     "output_type": "stream",
     "text": [
      "Epoch 72/100 - Training: 100%|██████████| 101/101 [00:00<00:00, 3027.04it/s]\n",
      "Epoch 72/100 - Validation: 100%|██████████| 26/26 [00:00<00:00, 5158.56it/s]\n"
     ]
    },
    {
     "name": "stdout",
     "output_type": "stream",
     "text": [
      "Epoch 72/100 - Train Loss: 0.0192, Train Acc: 0.7154, Val Loss: 0.0195, Val Acc: 0.7429\n"
     ]
    },
    {
     "name": "stderr",
     "output_type": "stream",
     "text": [
      "Epoch 73/100 - Training: 100%|██████████| 101/101 [00:00<00:00, 3060.98it/s]\n",
      "Epoch 73/100 - Validation: 100%|██████████| 26/26 [00:00<00:00, 5149.79it/s]\n"
     ]
    },
    {
     "name": "stdout",
     "output_type": "stream",
     "text": [
      "Epoch 73/100 - Train Loss: 0.0192, Train Acc: 0.7154, Val Loss: 0.0195, Val Acc: 0.7441\n"
     ]
    },
    {
     "name": "stderr",
     "output_type": "stream",
     "text": [
      "Epoch 74/100 - Training: 100%|██████████| 101/101 [00:00<00:00, 3001.49it/s]\n",
      "Epoch 74/100 - Validation: 100%|██████████| 26/26 [00:00<00:00, 5237.59it/s]\n"
     ]
    },
    {
     "name": "stdout",
     "output_type": "stream",
     "text": [
      "Epoch 74/100 - Train Loss: 0.0192, Train Acc: 0.7148, Val Loss: 0.0194, Val Acc: 0.7441\n"
     ]
    },
    {
     "name": "stderr",
     "output_type": "stream",
     "text": [
      "Epoch 75/100 - Training: 100%|██████████| 101/101 [00:00<00:00, 2971.89it/s]\n",
      "Epoch 75/100 - Validation: 100%|██████████| 26/26 [00:00<00:00, 4912.91it/s]\n"
     ]
    },
    {
     "name": "stdout",
     "output_type": "stream",
     "text": [
      "Epoch 75/100 - Train Loss: 0.0191, Train Acc: 0.7158, Val Loss: 0.0194, Val Acc: 0.7441\n"
     ]
    },
    {
     "name": "stderr",
     "output_type": "stream",
     "text": [
      "Epoch 76/100 - Training: 100%|██████████| 101/101 [00:00<00:00, 2936.45it/s]\n",
      "Epoch 76/100 - Validation: 100%|██████████| 26/26 [00:00<00:00, 5513.24it/s]\n"
     ]
    },
    {
     "name": "stdout",
     "output_type": "stream",
     "text": [
      "Epoch 76/100 - Train Loss: 0.0192, Train Acc: 0.7161, Val Loss: 0.0194, Val Acc: 0.7453\n"
     ]
    },
    {
     "name": "stderr",
     "output_type": "stream",
     "text": [
      "Epoch 77/100 - Training: 100%|██████████| 101/101 [00:00<00:00, 2802.83it/s]\n",
      "Epoch 77/100 - Validation: 100%|██████████| 26/26 [00:00<00:00, 5280.45it/s]\n"
     ]
    },
    {
     "name": "stdout",
     "output_type": "stream",
     "text": [
      "Epoch 77/100 - Train Loss: 0.0192, Train Acc: 0.7164, Val Loss: 0.0194, Val Acc: 0.7478\n"
     ]
    },
    {
     "name": "stderr",
     "output_type": "stream",
     "text": [
      "Epoch 78/100 - Training: 100%|██████████| 101/101 [00:00<00:00, 2864.01it/s]\n",
      "Epoch 78/100 - Validation: 100%|██████████| 26/26 [00:00<00:00, 4783.82it/s]\n"
     ]
    },
    {
     "name": "stdout",
     "output_type": "stream",
     "text": [
      "Epoch 78/100 - Train Loss: 0.0192, Train Acc: 0.7167, Val Loss: 0.0194, Val Acc: 0.7478\n"
     ]
    },
    {
     "name": "stderr",
     "output_type": "stream",
     "text": [
      "Epoch 79/100 - Training: 100%|██████████| 101/101 [00:00<00:00, 2795.30it/s]\n",
      "Epoch 79/100 - Validation: 100%|██████████| 26/26 [00:00<00:00, 5309.25it/s]\n"
     ]
    },
    {
     "name": "stdout",
     "output_type": "stream",
     "text": [
      "Epoch 79/100 - Train Loss: 0.0191, Train Acc: 0.7170, Val Loss: 0.0194, Val Acc: 0.7478\n"
     ]
    },
    {
     "name": "stderr",
     "output_type": "stream",
     "text": [
      "Epoch 80/100 - Training: 100%|██████████| 101/101 [00:00<00:00, 2970.66it/s]\n",
      "Epoch 80/100 - Validation: 100%|██████████| 26/26 [00:00<00:00, 5499.06it/s]\n"
     ]
    },
    {
     "name": "stdout",
     "output_type": "stream",
     "text": [
      "Epoch 80/100 - Train Loss: 0.0191, Train Acc: 0.7167, Val Loss: 0.0194, Val Acc: 0.7466\n"
     ]
    },
    {
     "name": "stderr",
     "output_type": "stream",
     "text": [
      "Epoch 81/100 - Training: 100%|██████████| 101/101 [00:00<00:00, 2956.33it/s]\n",
      "Epoch 81/100 - Validation: 100%|██████████| 26/26 [00:00<00:00, 5451.78it/s]\n"
     ]
    },
    {
     "name": "stdout",
     "output_type": "stream",
     "text": [
      "Epoch 81/100 - Train Loss: 0.0191, Train Acc: 0.7164, Val Loss: 0.0194, Val Acc: 0.7441\n"
     ]
    },
    {
     "name": "stderr",
     "output_type": "stream",
     "text": [
      "Epoch 82/100 - Training: 100%|██████████| 101/101 [00:00<00:00, 2959.78it/s]\n",
      "Epoch 82/100 - Validation: 100%|██████████| 26/26 [00:00<00:00, 5417.92it/s]\n"
     ]
    },
    {
     "name": "stdout",
     "output_type": "stream",
     "text": [
      "Epoch 82/100 - Train Loss: 0.0191, Train Acc: 0.7167, Val Loss: 0.0194, Val Acc: 0.7429\n"
     ]
    },
    {
     "name": "stderr",
     "output_type": "stream",
     "text": [
      "Epoch 83/100 - Training: 100%|██████████| 101/101 [00:00<00:00, 2719.29it/s]\n",
      "Epoch 83/100 - Validation: 100%|██████████| 26/26 [00:00<00:00, 5212.56it/s]\n"
     ]
    },
    {
     "name": "stdout",
     "output_type": "stream",
     "text": [
      "Epoch 83/100 - Train Loss: 0.0192, Train Acc: 0.7164, Val Loss: 0.0194, Val Acc: 0.7429\n"
     ]
    },
    {
     "name": "stderr",
     "output_type": "stream",
     "text": [
      "Epoch 84/100 - Training: 100%|██████████| 101/101 [00:00<00:00, 2635.65it/s]\n",
      "Epoch 84/100 - Validation: 100%|██████████| 26/26 [00:00<00:00, 4892.63it/s]\n"
     ]
    },
    {
     "name": "stdout",
     "output_type": "stream",
     "text": [
      "Epoch 84/100 - Train Loss: 0.0192, Train Acc: 0.7158, Val Loss: 0.0194, Val Acc: 0.7429\n"
     ]
    },
    {
     "name": "stderr",
     "output_type": "stream",
     "text": [
      "Epoch 85/100 - Training: 100%|██████████| 101/101 [00:00<00:00, 2752.33it/s]\n",
      "Epoch 85/100 - Validation: 100%|██████████| 26/26 [00:00<00:00, 4753.17it/s]\n"
     ]
    },
    {
     "name": "stdout",
     "output_type": "stream",
     "text": [
      "Epoch 85/100 - Train Loss: 0.0190, Train Acc: 0.7151, Val Loss: 0.0194, Val Acc: 0.7429\n"
     ]
    },
    {
     "name": "stderr",
     "output_type": "stream",
     "text": [
      "Epoch 86/100 - Training: 100%|██████████| 101/101 [00:00<00:00, 2716.52it/s]\n",
      "Epoch 86/100 - Validation: 100%|██████████| 26/26 [00:00<00:00, 5093.98it/s]\n"
     ]
    },
    {
     "name": "stdout",
     "output_type": "stream",
     "text": [
      "Epoch 86/100 - Train Loss: 0.0192, Train Acc: 0.7151, Val Loss: 0.0194, Val Acc: 0.7429\n"
     ]
    },
    {
     "name": "stderr",
     "output_type": "stream",
     "text": [
      "Epoch 87/100 - Training: 100%|██████████| 101/101 [00:00<00:00, 2781.28it/s]\n",
      "Epoch 87/100 - Validation: 100%|██████████| 26/26 [00:00<00:00, 4861.66it/s]\n"
     ]
    },
    {
     "name": "stdout",
     "output_type": "stream",
     "text": [
      "Epoch 87/100 - Train Loss: 0.0192, Train Acc: 0.7154, Val Loss: 0.0193, Val Acc: 0.7429\n"
     ]
    },
    {
     "name": "stderr",
     "output_type": "stream",
     "text": [
      "Epoch 88/100 - Training: 100%|██████████| 101/101 [00:00<00:00, 2846.84it/s]\n",
      "Epoch 88/100 - Validation: 100%|██████████| 26/26 [00:00<00:00, 4998.94it/s]\n"
     ]
    },
    {
     "name": "stdout",
     "output_type": "stream",
     "text": [
      "Epoch 88/100 - Train Loss: 0.0192, Train Acc: 0.7161, Val Loss: 0.0193, Val Acc: 0.7429\n"
     ]
    },
    {
     "name": "stderr",
     "output_type": "stream",
     "text": [
      "Epoch 89/100 - Training: 100%|██████████| 101/101 [00:00<00:00, 2866.94it/s]\n",
      "Epoch 89/100 - Validation: 100%|██████████| 26/26 [00:00<00:00, 5284.55it/s]\n"
     ]
    },
    {
     "name": "stdout",
     "output_type": "stream",
     "text": [
      "Epoch 89/100 - Train Loss: 0.0191, Train Acc: 0.7161, Val Loss: 0.0193, Val Acc: 0.7429\n"
     ]
    },
    {
     "name": "stderr",
     "output_type": "stream",
     "text": [
      "Epoch 90/100 - Training: 100%|██████████| 101/101 [00:00<00:00, 2891.91it/s]\n",
      "Epoch 90/100 - Validation: 100%|██████████| 26/26 [00:00<00:00, 6188.75it/s]\n"
     ]
    },
    {
     "name": "stdout",
     "output_type": "stream",
     "text": [
      "Epoch 90/100 - Train Loss: 0.0192, Train Acc: 0.7161, Val Loss: 0.0193, Val Acc: 0.7441\n"
     ]
    },
    {
     "name": "stderr",
     "output_type": "stream",
     "text": [
      "Epoch 91/100 - Training: 100%|██████████| 101/101 [00:00<00:00, 2904.38it/s]\n",
      "Epoch 91/100 - Validation: 100%|██████████| 26/26 [00:00<00:00, 5386.34it/s]\n"
     ]
    },
    {
     "name": "stdout",
     "output_type": "stream",
     "text": [
      "Epoch 91/100 - Train Loss: 0.0190, Train Acc: 0.7161, Val Loss: 0.0193, Val Acc: 0.7429\n"
     ]
    },
    {
     "name": "stderr",
     "output_type": "stream",
     "text": [
      "Epoch 92/100 - Training: 100%|██████████| 101/101 [00:00<00:00, 2904.07it/s]\n",
      "Epoch 92/100 - Validation: 100%|██████████| 26/26 [00:00<00:00, 5367.52it/s]\n"
     ]
    },
    {
     "name": "stdout",
     "output_type": "stream",
     "text": [
      "Epoch 92/100 - Train Loss: 0.0191, Train Acc: 0.7158, Val Loss: 0.0193, Val Acc: 0.7429\n"
     ]
    },
    {
     "name": "stderr",
     "output_type": "stream",
     "text": [
      "Epoch 93/100 - Training: 100%|██████████| 101/101 [00:00<00:00, 2900.13it/s]\n",
      "Epoch 93/100 - Validation: 100%|██████████| 26/26 [00:00<00:00, 5713.11it/s]\n"
     ]
    },
    {
     "name": "stdout",
     "output_type": "stream",
     "text": [
      "Epoch 93/100 - Train Loss: 0.0190, Train Acc: 0.7158, Val Loss: 0.0193, Val Acc: 0.7441\n"
     ]
    },
    {
     "name": "stderr",
     "output_type": "stream",
     "text": [
      "Epoch 94/100 - Training: 100%|██████████| 101/101 [00:00<00:00, 2940.84it/s]\n",
      "Epoch 94/100 - Validation: 100%|██████████| 26/26 [00:00<00:00, 5529.45it/s]\n"
     ]
    },
    {
     "name": "stdout",
     "output_type": "stream",
     "text": [
      "Epoch 94/100 - Train Loss: 0.0191, Train Acc: 0.7158, Val Loss: 0.0193, Val Acc: 0.7441\n"
     ]
    },
    {
     "name": "stderr",
     "output_type": "stream",
     "text": [
      "Epoch 95/100 - Training: 100%|██████████| 101/101 [00:00<00:00, 2923.81it/s]\n",
      "Epoch 95/100 - Validation: 100%|██████████| 26/26 [00:00<00:00, 5333.39it/s]\n"
     ]
    },
    {
     "name": "stdout",
     "output_type": "stream",
     "text": [
      "Epoch 95/100 - Train Loss: 0.0192, Train Acc: 0.7161, Val Loss: 0.0193, Val Acc: 0.7441\n"
     ]
    },
    {
     "name": "stderr",
     "output_type": "stream",
     "text": [
      "Epoch 96/100 - Training: 100%|██████████| 101/101 [00:00<00:00, 2989.15it/s]\n",
      "Epoch 96/100 - Validation: 100%|██████████| 26/26 [00:00<00:00, 5588.97it/s]\n"
     ]
    },
    {
     "name": "stdout",
     "output_type": "stream",
     "text": [
      "Epoch 96/100 - Train Loss: 0.0191, Train Acc: 0.7164, Val Loss: 0.0193, Val Acc: 0.7441\n"
     ]
    },
    {
     "name": "stderr",
     "output_type": "stream",
     "text": [
      "Epoch 97/100 - Training: 100%|██████████| 101/101 [00:00<00:00, 2903.55it/s]\n",
      "Epoch 97/100 - Validation: 100%|██████████| 26/26 [00:00<00:00, 5528.05it/s]\n"
     ]
    },
    {
     "name": "stdout",
     "output_type": "stream",
     "text": [
      "Epoch 97/100 - Train Loss: 0.0192, Train Acc: 0.7158, Val Loss: 0.0193, Val Acc: 0.7441\n"
     ]
    },
    {
     "name": "stderr",
     "output_type": "stream",
     "text": [
      "Epoch 98/100 - Training: 100%|██████████| 101/101 [00:00<00:00, 3017.01it/s]\n",
      "Epoch 98/100 - Validation: 100%|██████████| 26/26 [00:00<00:00, 5510.73it/s]\n"
     ]
    },
    {
     "name": "stdout",
     "output_type": "stream",
     "text": [
      "Epoch 98/100 - Train Loss: 0.0190, Train Acc: 0.7158, Val Loss: 0.0193, Val Acc: 0.7441\n"
     ]
    },
    {
     "name": "stderr",
     "output_type": "stream",
     "text": [
      "Epoch 99/100 - Training: 100%|██████████| 101/101 [00:00<00:00, 2970.16it/s]\n",
      "Epoch 99/100 - Validation: 100%|██████████| 26/26 [00:00<00:00, 5373.07it/s]\n"
     ]
    },
    {
     "name": "stdout",
     "output_type": "stream",
     "text": [
      "Epoch 99/100 - Train Loss: 0.0191, Train Acc: 0.7170, Val Loss: 0.0193, Val Acc: 0.7441\n"
     ]
    },
    {
     "name": "stderr",
     "output_type": "stream",
     "text": [
      "Epoch 100/100 - Training: 100%|██████████| 101/101 [00:00<00:00, 2933.89it/s]\n",
      "Epoch 100/100 - Validation: 100%|██████████| 26/26 [00:00<00:00, 5221.04it/s]"
     ]
    },
    {
     "name": "stdout",
     "output_type": "stream",
     "text": [
      "Epoch 100/100 - Train Loss: 0.0192, Train Acc: 0.7179, Val Loss: 0.0193, Val Acc: 0.7441\n"
     ]
    },
    {
     "name": "stderr",
     "output_type": "stream",
     "text": [
      "\n"
     ]
    }
   ],
   "source": [
    "model = SLP(input_dim=X_train_tensor.shape[1], output_dim=2)\n",
    "\n",
    "criterion = nn.CrossEntropyLoss(weight=class_weights)\n",
    "\n",
    "# optimizer = torch.optim.SGD(model.parameters(), lr=0.001)\n",
    "optimizer = torch.optim.Adam(model.parameters(), lr=0.0001)\n",
    "epochs = 100\n",
    "\n",
    "train_losses, train_accuracies, val_losses, val_accuracies = train(\n",
    "    model, train_loader, criterion, optimizer, epochs=epochs\n",
    ")"
   ]
  },
  {
   "cell_type": "code",
   "execution_count": 15,
   "id": "c75bcc4a",
   "metadata": {},
   "outputs": [
    {
     "data": {
      "image/png": "[encoded data removed]",
      "text/plain": [
       "<Figure size 1200x500 with 2 Axes>"
      ]
     },
     "metadata": {},
     "output_type": "display_data"
    }
   ],
   "source": [
    "epochs_range = list(range(1, epochs + 1))\n",
    "\n",
    "fig, axs = plt.subplots(1, 2, figsize=(12, 5))\n",
    "\n",
    "# Plot Loss\n",
    "axs[0].plot(epochs_range, train_losses, label=\"Train Loss\")\n",
    "axs[0].plot(epochs_range, val_losses, label=\"Validation Loss\")\n",
    "axs[0].set_xlabel(\"Epochs\")\n",
    "axs[0].set_ylabel(\"Loss\")\n",
    "axs[0].set_title(\"Loss Curve\")\n",
    "axs[0].legend()\n",
    "axs[0].grid(True)\n",
    "\n",
    "# Plot Accuracy\n",
    "axs[1].plot(epochs_range, train_accuracies, label=\"Train Accuracy\")\n",
    "axs[1].plot(epochs_range, val_accuracies, label=\"Validation Accuracy\")\n",
    "axs[1].set_xlabel(\"Epochs\")\n",
    "axs[1].set_ylabel(\"Accuracy\")\n",
    "axs[1].set_title(\"Accuracy Curve\")\n",
    "axs[1].legend()\n",
    "axs[1].grid(True)\n",
    "\n",
    "plt.tight_layout()\n",
    "plt.show()\n"
   ]
  },
  {
   "cell_type": "code",
   "execution_count": 16,
   "id": "3e2cb6ba",
   "metadata": {},
   "outputs": [
    {
     "data": {
      "image/png": "[encoded data removed]",
      "text/plain": [
       "<Figure size 640x480 with 2 Axes>"
      ]
     },
     "metadata": {},
     "output_type": "display_data"
    }
   ],
   "source": [
    "import matplotlib.pyplot as plt\n",
    "from sklearn.metrics import confusion_matrix, ConfusionMatrixDisplay\n",
    "\n",
    "y_pred = model.predict(X_test_tensor)\n",
    "\n",
    "y_true = y_test_tensor.cpu().numpy()\n",
    "y_pred = y_pred.cpu().numpy()\n",
    "\n",
    "cm = confusion_matrix(y_true, y_pred)\n",
    "\n",
    "disp = ConfusionMatrixDisplay(confusion_matrix=cm)\n",
    "disp.plot(cmap=plt.cm.Blues)\n",
    "plt.title(\"Confusion Matrix\")\n",
    "plt.show()\n"
   ]
  }
 ],
 "metadata": {
  "kernelspec": {
   "display_name": ".venv",
   "language": "python",
   "name": "python3"
  },
  "language_info": {
   "codemirror_mode": {
    "name": "ipython",
    "version": 3
   },
   "file_extension": ".py",
   "mimetype": "text/x-python",
   "name": "python",
   "nbconvert_exporter": "python",
   "pygments_lexer": "ipython3",
   "version": "3.13.5"
  }
 },
 "nbformat": 4,
 "nbformat_minor": 5
}
