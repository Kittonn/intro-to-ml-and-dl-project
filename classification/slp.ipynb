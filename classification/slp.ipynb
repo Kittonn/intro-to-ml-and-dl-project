{
 "cells": [
  {
   "cell_type": "code",
   "execution_count": 9,
   "id": "c3e7b01d",
   "metadata": {},
   "outputs": [
    {
     "name": "stdout",
     "output_type": "stream",
     "text": [
      "Requirement already satisfied: pandas in /Users/7n100489/Library/CloudStorage/OneDrive-BankofAyudhyaPublicCompanyLimited/Desktop/Workspace/github/intro-to-ml-and-dl-project/.venv/lib/python3.13/site-packages (2.3.3)\n",
      "Requirement already satisfied: torch in /Users/7n100489/Library/CloudStorage/OneDrive-BankofAyudhyaPublicCompanyLimited/Desktop/Workspace/github/intro-to-ml-and-dl-project/.venv/lib/python3.13/site-packages (2.8.0)\n",
      "Requirement already satisfied: tqdm in /Users/7n100489/Library/CloudStorage/OneDrive-BankofAyudhyaPublicCompanyLimited/Desktop/Workspace/github/intro-to-ml-and-dl-project/.venv/lib/python3.13/site-packages (4.67.1)\n",
      "Requirement already satisfied: matplotlib in /Users/7n100489/Library/CloudStorage/OneDrive-BankofAyudhyaPublicCompanyLimited/Desktop/Workspace/github/intro-to-ml-and-dl-project/.venv/lib/python3.13/site-packages (3.10.6)\n",
      "Requirement already satisfied: numpy>=1.26.0 in /Users/7n100489/Library/CloudStorage/OneDrive-BankofAyudhyaPublicCompanyLimited/Desktop/Workspace/github/intro-to-ml-and-dl-project/.venv/lib/python3.13/site-packages (from pandas) (2.3.3)\n",
      "Requirement already satisfied: python-dateutil>=2.8.2 in /Users/7n100489/Library/CloudStorage/OneDrive-BankofAyudhyaPublicCompanyLimited/Desktop/Workspace/github/intro-to-ml-and-dl-project/.venv/lib/python3.13/site-packages (from pandas) (2.9.0.post0)\n",
      "Requirement already satisfied: pytz>=2020.1 in /Users/7n100489/Library/CloudStorage/OneDrive-BankofAyudhyaPublicCompanyLimited/Desktop/Workspace/github/intro-to-ml-and-dl-project/.venv/lib/python3.13/site-packages (from pandas) (2025.2)\n",
      "Requirement already satisfied: tzdata>=2022.7 in /Users/7n100489/Library/CloudStorage/OneDrive-BankofAyudhyaPublicCompanyLimited/Desktop/Workspace/github/intro-to-ml-and-dl-project/.venv/lib/python3.13/site-packages (from pandas) (2025.2)\n",
      "Requirement already satisfied: filelock in /Users/7n100489/Library/CloudStorage/OneDrive-BankofAyudhyaPublicCompanyLimited/Desktop/Workspace/github/intro-to-ml-and-dl-project/.venv/lib/python3.13/site-packages (from torch) (3.19.1)\n",
      "Requirement already satisfied: typing-extensions>=4.10.0 in /Users/7n100489/Library/CloudStorage/OneDrive-BankofAyudhyaPublicCompanyLimited/Desktop/Workspace/github/intro-to-ml-and-dl-project/.venv/lib/python3.13/site-packages (from torch) (4.15.0)\n",
      "Requirement already satisfied: setuptools in /Users/7n100489/Library/CloudStorage/OneDrive-BankofAyudhyaPublicCompanyLimited/Desktop/Workspace/github/intro-to-ml-and-dl-project/.venv/lib/python3.13/site-packages (from torch) (80.9.0)\n",
      "Requirement already satisfied: sympy>=1.13.3 in /Users/7n100489/Library/CloudStorage/OneDrive-BankofAyudhyaPublicCompanyLimited/Desktop/Workspace/github/intro-to-ml-and-dl-project/.venv/lib/python3.13/site-packages (from torch) (1.14.0)\n",
      "Requirement already satisfied: networkx in /Users/7n100489/Library/CloudStorage/OneDrive-BankofAyudhyaPublicCompanyLimited/Desktop/Workspace/github/intro-to-ml-and-dl-project/.venv/lib/python3.13/site-packages (from torch) (3.5)\n",
      "Requirement already satisfied: jinja2 in /Users/7n100489/Library/CloudStorage/OneDrive-BankofAyudhyaPublicCompanyLimited/Desktop/Workspace/github/intro-to-ml-and-dl-project/.venv/lib/python3.13/site-packages (from torch) (3.1.6)\n",
      "Requirement already satisfied: fsspec in /Users/7n100489/Library/CloudStorage/OneDrive-BankofAyudhyaPublicCompanyLimited/Desktop/Workspace/github/intro-to-ml-and-dl-project/.venv/lib/python3.13/site-packages (from torch) (2025.9.0)\n",
      "Requirement already satisfied: contourpy>=1.0.1 in /Users/7n100489/Library/CloudStorage/OneDrive-BankofAyudhyaPublicCompanyLimited/Desktop/Workspace/github/intro-to-ml-and-dl-project/.venv/lib/python3.13/site-packages (from matplotlib) (1.3.3)\n",
      "Requirement already satisfied: cycler>=0.10 in /Users/7n100489/Library/CloudStorage/OneDrive-BankofAyudhyaPublicCompanyLimited/Desktop/Workspace/github/intro-to-ml-and-dl-project/.venv/lib/python3.13/site-packages (from matplotlib) (0.12.1)\n",
      "Requirement already satisfied: fonttools>=4.22.0 in /Users/7n100489/Library/CloudStorage/OneDrive-BankofAyudhyaPublicCompanyLimited/Desktop/Workspace/github/intro-to-ml-and-dl-project/.venv/lib/python3.13/site-packages (from matplotlib) (4.60.1)\n",
      "Requirement already satisfied: kiwisolver>=1.3.1 in /Users/7n100489/Library/CloudStorage/OneDrive-BankofAyudhyaPublicCompanyLimited/Desktop/Workspace/github/intro-to-ml-and-dl-project/.venv/lib/python3.13/site-packages (from matplotlib) (1.4.9)\n",
      "Requirement already satisfied: packaging>=20.0 in /Users/7n100489/Library/CloudStorage/OneDrive-BankofAyudhyaPublicCompanyLimited/Desktop/Workspace/github/intro-to-ml-and-dl-project/.venv/lib/python3.13/site-packages (from matplotlib) (25.0)\n",
      "Requirement already satisfied: pillow>=8 in /Users/7n100489/Library/CloudStorage/OneDrive-BankofAyudhyaPublicCompanyLimited/Desktop/Workspace/github/intro-to-ml-and-dl-project/.venv/lib/python3.13/site-packages (from matplotlib) (11.3.0)\n",
      "Requirement already satisfied: pyparsing>=2.3.1 in /Users/7n100489/Library/CloudStorage/OneDrive-BankofAyudhyaPublicCompanyLimited/Desktop/Workspace/github/intro-to-ml-and-dl-project/.venv/lib/python3.13/site-packages (from matplotlib) (3.2.5)\n",
      "Requirement already satisfied: six>=1.5 in /Users/7n100489/Library/CloudStorage/OneDrive-BankofAyudhyaPublicCompanyLimited/Desktop/Workspace/github/intro-to-ml-and-dl-project/.venv/lib/python3.13/site-packages (from python-dateutil>=2.8.2->pandas) (1.17.0)\n",
      "Requirement already satisfied: mpmath<1.4,>=1.1.0 in /Users/7n100489/Library/CloudStorage/OneDrive-BankofAyudhyaPublicCompanyLimited/Desktop/Workspace/github/intro-to-ml-and-dl-project/.venv/lib/python3.13/site-packages (from sympy>=1.13.3->torch) (1.3.0)\n",
      "Requirement already satisfied: MarkupSafe>=2.0 in /Users/7n100489/Library/CloudStorage/OneDrive-BankofAyudhyaPublicCompanyLimited/Desktop/Workspace/github/intro-to-ml-and-dl-project/.venv/lib/python3.13/site-packages (from jinja2->torch) (3.0.3)\n",
      "Note: you may need to restart the kernel to use updated packages.\n"
     ]
    }
   ],
   "source": [
    "%pip install pandas torch tqdm matplotlib"
   ]
  },
  {
   "cell_type": "code",
   "execution_count": 10,
   "id": "41b6430b",
   "metadata": {},
   "outputs": [],
   "source": [
    "import torch.nn as nn\n",
    "import torch\n",
    "import pandas as pd\n",
    "from sklearn.model_selection import train_test_split\n",
    "from sklearn.preprocessing import StandardScaler\n",
    "from torch.utils.data import DataLoader, TensorDataset\n",
    "from tqdm import tqdm\n",
    "import matplotlib.pyplot as plt\n"
   ]
  },
  {
   "cell_type": "code",
   "execution_count": 11,
   "id": "c30a672c",
   "metadata": {},
   "outputs": [],
   "source": [
    "df = pd.read_csv(\"../classification_breast_cancer_data.csv\")\n",
    "\n",
    "selected_feature = [\n",
    "    \"Age\",\n",
    "    \"Tumor Size\",\n",
    "    \"Node Positive Ratio\",\n",
    "    \"N Stage Encoded\",\n",
    "    \"Estrogen Status Encoded\",\n",
    "    \"Progesterone Status Encoded\",\n",
    "]\n",
    "\n",
    "# X = df.drop(columns=[\"Survival More Than 6 Years\"]).values\n",
    "X = df[selected_feature].values\n",
    "y = df[\"Survival More Than 6 Years\"].values\n",
    "\n",
    "X_train, X_test, y_train, y_test = train_test_split(\n",
    "    X, y, test_size=0.2, random_state=42\n",
    ")\n",
    "\n",
    "scaler = StandardScaler()\n",
    "X_train_scaled = scaler.fit_transform(X_train)\n",
    "X_test_scaled = scaler.transform(X_test)\n",
    "\n",
    "X_train_tensor = torch.tensor(X_train_scaled, dtype=torch.float32)\n",
    "X_test_tensor = torch.tensor(X_test_scaled, dtype=torch.float32)\n",
    "y_train_tensor = torch.tensor(y_train, dtype=torch.long)\n",
    "y_test_tensor = torch.tensor(y_test, dtype=torch.long)\n",
    "\n",
    "train_dataset = TensorDataset(X_train_tensor, y_train_tensor)\n",
    "train_loader = DataLoader(train_dataset, batch_size=32, shuffle=True)\n",
    "\n",
    "test_dataset = TensorDataset(X_test_tensor, y_test_tensor)\n",
    "test_loader = DataLoader(test_dataset, batch_size=32, shuffle=False)"
   ]
  },
  {
   "cell_type": "code",
   "execution_count": 12,
   "id": "e75fc86c",
   "metadata": {},
   "outputs": [],
   "source": [
    "class SLP(nn.Module):\n",
    "    def __init__(self, input_dim, output_dim):\n",
    "        super(SLP, self).__init__()\n",
    "        self.linear = nn.Linear(input_dim, output_dim)\n",
    "    \n",
    "    def forward(self, x):\n",
    "        return self.linear(x)"
   ]
  },
  {
   "cell_type": "code",
   "execution_count": 13,
   "id": "ae18a3f4",
   "metadata": {},
   "outputs": [],
   "source": [
    "def train(model, train_loader, criterion, optimizer, epochs=50):\n",
    "    train_losses = []\n",
    "    train_accuracies = []\n",
    "    val_losses = []\n",
    "    val_accuracies = []\n",
    "\n",
    "    for epoch in range(epochs):\n",
    "        model.train()\n",
    "        train_acc = 0\n",
    "        train_loss = 0\n",
    "\n",
    "        for X_batch, y_batch in tqdm(\n",
    "            train_loader, desc=f\"Epoch {epoch + 1}/{epochs} - Training\"\n",
    "        ):\n",
    "            optimizer.zero_grad()\n",
    "            outputs = model(X_batch)\n",
    "            loss = criterion(outputs, y_batch)\n",
    "            loss.backward()\n",
    "            optimizer.step()\n",
    "            train_loss += loss.item()\n",
    "            _, predicted = torch.max(outputs, 1)\n",
    "            train_acc += (predicted == y_batch).sum().item()\n",
    "\n",
    "        avg_train_loss = train_loss / len(train_dataset)\n",
    "        avg_train_acc = train_acc / len(train_dataset)\n",
    "\n",
    "        train_losses.append(avg_train_loss)\n",
    "        train_accuracies.append(avg_train_acc)\n",
    "\n",
    "        model.eval()\n",
    "        val_acc = 0\n",
    "        val_loss = 0\n",
    "        with torch.no_grad():\n",
    "            for X_batch, y_batch in tqdm(\n",
    "                test_loader, desc=f\"Epoch {epoch + 1}/{epochs} - Validation\"\n",
    "            ):\n",
    "                outputs = model(X_batch)\n",
    "                loss = criterion(outputs, y_batch)\n",
    "                val_loss += loss.item()\n",
    "                _, predicted = torch.max(outputs, 1)\n",
    "                val_acc += (predicted == y_batch).sum().item()\n",
    "\n",
    "        avg_val_loss = val_loss / len(test_dataset)\n",
    "        avg_val_acc = val_acc / len(test_dataset)\n",
    "        val_losses.append(avg_val_loss)\n",
    "        val_accuracies.append(avg_val_acc)\n",
    "\n",
    "        print(\n",
    "            f\"Epoch {epoch + 1}/{epochs} - \"\n",
    "            f\"Train Loss: {avg_train_loss:.4f}, Train Acc: {avg_train_acc:.4f}, \"\n",
    "            f\"Val Loss: {avg_val_loss:.4f}, Val Acc: {avg_val_acc:.4f}\"\n",
    "        )\n",
    "\n",
    "    return train_losses, train_accuracies, val_losses, val_accuracies"
   ]
  },
  {
   "cell_type": "code",
   "execution_count": 14,
   "id": "2a40db54",
   "metadata": {},
   "outputs": [
    {
     "name": "stderr",
     "output_type": "stream",
     "text": [
      "Epoch 1/50 - Training: 100%|██████████| 101/101 [00:00<00:00, 2209.05it/s]\n",
      "Epoch 1/50 - Validation: 100%|██████████| 26/26 [00:00<00:00, 5099.22it/s]\n"
     ]
    },
    {
     "name": "stdout",
     "output_type": "stream",
     "text": [
      "Epoch 1/50 - Train Loss: 0.0227, Train Acc: 0.4930, Val Loss: 0.0235, Val Acc: 0.5118\n"
     ]
    },
    {
     "name": "stderr",
     "output_type": "stream",
     "text": [
      "Epoch 2/50 - Training: 100%|██████████| 101/101 [00:00<00:00, 3011.84it/s]\n",
      "Epoch 2/50 - Validation: 100%|██████████| 26/26 [00:00<00:00, 5226.30it/s]\n"
     ]
    },
    {
     "name": "stdout",
     "output_type": "stream",
     "text": [
      "Epoch 2/50 - Train Loss: 0.0225, Train Acc: 0.4927, Val Loss: 0.0233, Val Acc: 0.5205\n"
     ]
    },
    {
     "name": "stderr",
     "output_type": "stream",
     "text": [
      "Epoch 3/50 - Training: 100%|██████████| 101/101 [00:00<00:00, 3160.69it/s]\n",
      "Epoch 3/50 - Validation: 100%|██████████| 26/26 [00:00<00:00, 5416.57it/s]\n"
     ]
    },
    {
     "name": "stdout",
     "output_type": "stream",
     "text": [
      "Epoch 3/50 - Train Loss: 0.0224, Train Acc: 0.5002, Val Loss: 0.0232, Val Acc: 0.5217\n"
     ]
    },
    {
     "name": "stderr",
     "output_type": "stream",
     "text": [
      "Epoch 4/50 - Training: 100%|██████████| 101/101 [00:00<00:00, 3165.63it/s]\n",
      "Epoch 4/50 - Validation: 100%|██████████| 26/26 [00:00<00:00, 5472.57it/s]\n"
     ]
    },
    {
     "name": "stdout",
     "output_type": "stream",
     "text": [
      "Epoch 4/50 - Train Loss: 0.0223, Train Acc: 0.5008, Val Loss: 0.0230, Val Acc: 0.5230\n"
     ]
    },
    {
     "name": "stderr",
     "output_type": "stream",
     "text": [
      "Epoch 5/50 - Training: 100%|██████████| 101/101 [00:00<00:00, 3188.34it/s]\n",
      "Epoch 5/50 - Validation: 100%|██████████| 26/26 [00:00<00:00, 5491.03it/s]\n"
     ]
    },
    {
     "name": "stdout",
     "output_type": "stream",
     "text": [
      "Epoch 5/50 - Train Loss: 0.0222, Train Acc: 0.5017, Val Loss: 0.0229, Val Acc: 0.5280\n"
     ]
    },
    {
     "name": "stderr",
     "output_type": "stream",
     "text": [
      "Epoch 6/50 - Training: 100%|██████████| 101/101 [00:00<00:00, 3195.58it/s]\n",
      "Epoch 6/50 - Validation: 100%|██████████| 26/26 [00:00<00:00, 5452.87it/s]\n"
     ]
    },
    {
     "name": "stdout",
     "output_type": "stream",
     "text": [
      "Epoch 6/50 - Train Loss: 0.0221, Train Acc: 0.5023, Val Loss: 0.0228, Val Acc: 0.5280\n"
     ]
    },
    {
     "name": "stderr",
     "output_type": "stream",
     "text": [
      "Epoch 7/50 - Training: 100%|██████████| 101/101 [00:00<00:00, 3244.60it/s]\n",
      "Epoch 7/50 - Validation: 100%|██████████| 26/26 [00:00<00:00, 5536.47it/s]\n"
     ]
    },
    {
     "name": "stdout",
     "output_type": "stream",
     "text": [
      "Epoch 7/50 - Train Loss: 0.0221, Train Acc: 0.5014, Val Loss: 0.0228, Val Acc: 0.5280\n"
     ]
    },
    {
     "name": "stderr",
     "output_type": "stream",
     "text": [
      "Epoch 8/50 - Training: 100%|██████████| 101/101 [00:00<00:00, 3229.09it/s]\n",
      "Epoch 8/50 - Validation: 100%|██████████| 26/26 [00:00<00:00, 5281.48it/s]\n"
     ]
    },
    {
     "name": "stdout",
     "output_type": "stream",
     "text": [
      "Epoch 8/50 - Train Loss: 0.0220, Train Acc: 0.5023, Val Loss: 0.0227, Val Acc: 0.5292\n"
     ]
    },
    {
     "name": "stderr",
     "output_type": "stream",
     "text": [
      "Epoch 9/50 - Training: 100%|██████████| 101/101 [00:00<00:00, 3247.51it/s]\n",
      "Epoch 9/50 - Validation: 100%|██████████| 26/26 [00:00<00:00, 5194.93it/s]\n"
     ]
    },
    {
     "name": "stdout",
     "output_type": "stream",
     "text": [
      "Epoch 9/50 - Train Loss: 0.0220, Train Acc: 0.5026, Val Loss: 0.0226, Val Acc: 0.5280\n"
     ]
    },
    {
     "name": "stderr",
     "output_type": "stream",
     "text": [
      "Epoch 10/50 - Training: 100%|██████████| 101/101 [00:00<00:00, 3176.50it/s]\n",
      "Epoch 10/50 - Validation: 100%|██████████| 26/26 [00:00<00:00, 5553.11it/s]\n"
     ]
    },
    {
     "name": "stdout",
     "output_type": "stream",
     "text": [
      "Epoch 10/50 - Train Loss: 0.0219, Train Acc: 0.5042, Val Loss: 0.0226, Val Acc: 0.5230\n"
     ]
    },
    {
     "name": "stderr",
     "output_type": "stream",
     "text": [
      "Epoch 11/50 - Training: 100%|██████████| 101/101 [00:00<00:00, 3178.89it/s]\n",
      "Epoch 11/50 - Validation: 100%|██████████| 26/26 [00:00<00:00, 5367.26it/s]\n"
     ]
    },
    {
     "name": "stdout",
     "output_type": "stream",
     "text": [
      "Epoch 11/50 - Train Loss: 0.0219, Train Acc: 0.5054, Val Loss: 0.0225, Val Acc: 0.5255\n"
     ]
    },
    {
     "name": "stderr",
     "output_type": "stream",
     "text": [
      "Epoch 12/50 - Training: 100%|██████████| 101/101 [00:00<00:00, 3217.37it/s]\n",
      "Epoch 12/50 - Validation: 100%|██████████| 26/26 [00:00<00:00, 5162.71it/s]\n"
     ]
    },
    {
     "name": "stdout",
     "output_type": "stream",
     "text": [
      "Epoch 12/50 - Train Loss: 0.0219, Train Acc: 0.5054, Val Loss: 0.0225, Val Acc: 0.5168\n"
     ]
    },
    {
     "name": "stderr",
     "output_type": "stream",
     "text": [
      "Epoch 13/50 - Training: 100%|██████████| 101/101 [00:00<00:00, 3090.30it/s]\n",
      "Epoch 13/50 - Validation: 100%|██████████| 26/26 [00:00<00:00, 5060.41it/s]\n"
     ]
    },
    {
     "name": "stdout",
     "output_type": "stream",
     "text": [
      "Epoch 13/50 - Train Loss: 0.0218, Train Acc: 0.5039, Val Loss: 0.0224, Val Acc: 0.5180\n"
     ]
    },
    {
     "name": "stderr",
     "output_type": "stream",
     "text": [
      "Epoch 14/50 - Training: 100%|██████████| 101/101 [00:00<00:00, 3055.15it/s]\n",
      "Epoch 14/50 - Validation: 100%|██████████| 26/26 [00:00<00:00, 5588.97it/s]\n"
     ]
    },
    {
     "name": "stdout",
     "output_type": "stream",
     "text": [
      "Epoch 14/50 - Train Loss: 0.0218, Train Acc: 0.5057, Val Loss: 0.0224, Val Acc: 0.5180\n"
     ]
    },
    {
     "name": "stderr",
     "output_type": "stream",
     "text": [
      "Epoch 15/50 - Training: 100%|██████████| 101/101 [00:00<00:00, 3178.79it/s]\n",
      "Epoch 15/50 - Validation: 100%|██████████| 26/26 [00:00<00:00, 5555.65it/s]\n"
     ]
    },
    {
     "name": "stdout",
     "output_type": "stream",
     "text": [
      "Epoch 15/50 - Train Loss: 0.0218, Train Acc: 0.5082, Val Loss: 0.0224, Val Acc: 0.5230\n"
     ]
    },
    {
     "name": "stderr",
     "output_type": "stream",
     "text": [
      "Epoch 16/50 - Training: 100%|██████████| 101/101 [00:00<00:00, 3227.03it/s]\n",
      "Epoch 16/50 - Validation: 100%|██████████| 26/26 [00:00<00:00, 5162.71it/s]\n"
     ]
    },
    {
     "name": "stdout",
     "output_type": "stream",
     "text": [
      "Epoch 16/50 - Train Loss: 0.0218, Train Acc: 0.5160, Val Loss: 0.0224, Val Acc: 0.5292\n"
     ]
    },
    {
     "name": "stderr",
     "output_type": "stream",
     "text": [
      "Epoch 17/50 - Training: 100%|██████████| 101/101 [00:00<00:00, 3145.53it/s]\n",
      "Epoch 17/50 - Validation: 100%|██████████| 26/26 [00:00<00:00, 4811.89it/s]\n"
     ]
    },
    {
     "name": "stdout",
     "output_type": "stream",
     "text": [
      "Epoch 17/50 - Train Loss: 0.0218, Train Acc: 0.5235, Val Loss: 0.0223, Val Acc: 0.5342\n"
     ]
    },
    {
     "name": "stderr",
     "output_type": "stream",
     "text": [
      "Epoch 18/50 - Training: 100%|██████████| 101/101 [00:00<00:00, 3140.64it/s]\n",
      "Epoch 18/50 - Validation: 100%|██████████| 26/26 [00:00<00:00, 5290.96it/s]\n"
     ]
    },
    {
     "name": "stdout",
     "output_type": "stream",
     "text": [
      "Epoch 18/50 - Train Loss: 0.0217, Train Acc: 0.5263, Val Loss: 0.0223, Val Acc: 0.5391\n"
     ]
    },
    {
     "name": "stderr",
     "output_type": "stream",
     "text": [
      "Epoch 19/50 - Training: 100%|██████████| 101/101 [00:00<00:00, 3069.17it/s]\n",
      "Epoch 19/50 - Validation: 100%|██████████| 26/26 [00:00<00:00, 5650.94it/s]\n"
     ]
    },
    {
     "name": "stdout",
     "output_type": "stream",
     "text": [
      "Epoch 19/50 - Train Loss: 0.0217, Train Acc: 0.5284, Val Loss: 0.0223, Val Acc: 0.5441\n"
     ]
    },
    {
     "name": "stderr",
     "output_type": "stream",
     "text": [
      "Epoch 20/50 - Training: 100%|██████████| 101/101 [00:00<00:00, 3147.47it/s]\n",
      "Epoch 20/50 - Validation: 100%|██████████| 26/26 [00:00<00:00, 5081.16it/s]\n"
     ]
    },
    {
     "name": "stdout",
     "output_type": "stream",
     "text": [
      "Epoch 20/50 - Train Loss: 0.0217, Train Acc: 0.5278, Val Loss: 0.0223, Val Acc: 0.5478\n"
     ]
    },
    {
     "name": "stderr",
     "output_type": "stream",
     "text": [
      "Epoch 21/50 - Training: 100%|██████████| 101/101 [00:00<00:00, 3182.09it/s]\n",
      "Epoch 21/50 - Validation: 100%|██████████| 26/26 [00:00<00:00, 5293.01it/s]\n"
     ]
    },
    {
     "name": "stdout",
     "output_type": "stream",
     "text": [
      "Epoch 21/50 - Train Loss: 0.0217, Train Acc: 0.5322, Val Loss: 0.0223, Val Acc: 0.5503\n"
     ]
    },
    {
     "name": "stderr",
     "output_type": "stream",
     "text": [
      "Epoch 22/50 - Training: 100%|██████████| 101/101 [00:00<00:00, 3152.81it/s]\n",
      "Epoch 22/50 - Validation: 100%|██████████| 26/26 [00:00<00:00, 5067.23it/s]\n"
     ]
    },
    {
     "name": "stdout",
     "output_type": "stream",
     "text": [
      "Epoch 22/50 - Train Loss: 0.0217, Train Acc: 0.5340, Val Loss: 0.0222, Val Acc: 0.5540\n"
     ]
    },
    {
     "name": "stderr",
     "output_type": "stream",
     "text": [
      "Epoch 23/50 - Training: 100%|██████████| 101/101 [00:00<00:00, 3172.81it/s]\n",
      "Epoch 23/50 - Validation: 100%|██████████| 26/26 [00:00<00:00, 5184.55it/s]\n"
     ]
    },
    {
     "name": "stdout",
     "output_type": "stream",
     "text": [
      "Epoch 23/50 - Train Loss: 0.0217, Train Acc: 0.5356, Val Loss: 0.0222, Val Acc: 0.5565\n"
     ]
    },
    {
     "name": "stderr",
     "output_type": "stream",
     "text": [
      "Epoch 24/50 - Training: 100%|██████████| 101/101 [00:00<00:00, 3204.81it/s]\n",
      "Epoch 24/50 - Validation: 100%|██████████| 26/26 [00:00<00:00, 5223.04it/s]\n"
     ]
    },
    {
     "name": "stdout",
     "output_type": "stream",
     "text": [
      "Epoch 24/50 - Train Loss: 0.0217, Train Acc: 0.5359, Val Loss: 0.0222, Val Acc: 0.5578\n"
     ]
    },
    {
     "name": "stderr",
     "output_type": "stream",
     "text": [
      "Epoch 25/50 - Training: 100%|██████████| 101/101 [00:00<00:00, 3239.04it/s]\n",
      "Epoch 25/50 - Validation: 100%|██████████| 26/26 [00:00<00:00, 5930.92it/s]\n"
     ]
    },
    {
     "name": "stdout",
     "output_type": "stream",
     "text": [
      "Epoch 25/50 - Train Loss: 0.0217, Train Acc: 0.5356, Val Loss: 0.0222, Val Acc: 0.5578\n"
     ]
    },
    {
     "name": "stderr",
     "output_type": "stream",
     "text": [
      "Epoch 26/50 - Training: 100%|██████████| 101/101 [00:00<00:00, 3099.39it/s]\n",
      "Epoch 26/50 - Validation: 100%|██████████| 26/26 [00:00<00:00, 5275.85it/s]\n"
     ]
    },
    {
     "name": "stdout",
     "output_type": "stream",
     "text": [
      "Epoch 26/50 - Train Loss: 0.0217, Train Acc: 0.5362, Val Loss: 0.0222, Val Acc: 0.5590\n"
     ]
    },
    {
     "name": "stderr",
     "output_type": "stream",
     "text": [
      "Epoch 27/50 - Training: 100%|██████████| 101/101 [00:00<00:00, 2897.55it/s]\n",
      "Epoch 27/50 - Validation: 100%|██████████| 26/26 [00:00<00:00, 4753.79it/s]\n"
     ]
    },
    {
     "name": "stdout",
     "output_type": "stream",
     "text": [
      "Epoch 27/50 - Train Loss: 0.0217, Train Acc: 0.5390, Val Loss: 0.0222, Val Acc: 0.5565\n"
     ]
    },
    {
     "name": "stderr",
     "output_type": "stream",
     "text": [
      "Epoch 28/50 - Training: 100%|██████████| 101/101 [00:00<00:00, 2205.67it/s]\n",
      "Epoch 28/50 - Validation: 100%|██████████| 26/26 [00:00<00:00, 3878.78it/s]\n"
     ]
    },
    {
     "name": "stdout",
     "output_type": "stream",
     "text": [
      "Epoch 28/50 - Train Loss: 0.0217, Train Acc: 0.5384, Val Loss: 0.0222, Val Acc: 0.5578\n"
     ]
    },
    {
     "name": "stderr",
     "output_type": "stream",
     "text": [
      "Epoch 29/50 - Training: 100%|██████████| 101/101 [00:00<00:00, 2306.98it/s]\n",
      "Epoch 29/50 - Validation: 100%|██████████| 26/26 [00:00<00:00, 3701.69it/s]\n"
     ]
    },
    {
     "name": "stdout",
     "output_type": "stream",
     "text": [
      "Epoch 29/50 - Train Loss: 0.0217, Train Acc: 0.5377, Val Loss: 0.0222, Val Acc: 0.5602\n"
     ]
    },
    {
     "name": "stderr",
     "output_type": "stream",
     "text": [
      "Epoch 30/50 - Training: 100%|██████████| 101/101 [00:00<00:00, 1364.64it/s]\n",
      "Epoch 30/50 - Validation: 100%|██████████| 26/26 [00:00<00:00, 4398.67it/s]\n"
     ]
    },
    {
     "name": "stdout",
     "output_type": "stream",
     "text": [
      "Epoch 30/50 - Train Loss: 0.0217, Train Acc: 0.5362, Val Loss: 0.0222, Val Acc: 0.5602\n"
     ]
    },
    {
     "name": "stderr",
     "output_type": "stream",
     "text": [
      "Epoch 31/50 - Training: 100%|██████████| 101/101 [00:00<00:00, 2844.76it/s]\n",
      "Epoch 31/50 - Validation: 100%|██████████| 26/26 [00:00<00:00, 4700.11it/s]\n"
     ]
    },
    {
     "name": "stdout",
     "output_type": "stream",
     "text": [
      "Epoch 31/50 - Train Loss: 0.0217, Train Acc: 0.5409, Val Loss: 0.0222, Val Acc: 0.5627\n"
     ]
    },
    {
     "name": "stderr",
     "output_type": "stream",
     "text": [
      "Epoch 32/50 - Training: 100%|██████████| 101/101 [00:00<00:00, 2854.90it/s]\n",
      "Epoch 32/50 - Validation: 100%|██████████| 26/26 [00:00<00:00, 4617.32it/s]\n"
     ]
    },
    {
     "name": "stdout",
     "output_type": "stream",
     "text": [
      "Epoch 32/50 - Train Loss: 0.0217, Train Acc: 0.5381, Val Loss: 0.0222, Val Acc: 0.5578\n"
     ]
    },
    {
     "name": "stderr",
     "output_type": "stream",
     "text": [
      "Epoch 33/50 - Training: 100%|██████████| 101/101 [00:00<00:00, 2897.89it/s]\n",
      "Epoch 33/50 - Validation: 100%|██████████| 26/26 [00:00<00:00, 4917.56it/s]\n"
     ]
    },
    {
     "name": "stdout",
     "output_type": "stream",
     "text": [
      "Epoch 33/50 - Train Loss: 0.0217, Train Acc: 0.5390, Val Loss: 0.0222, Val Acc: 0.5590\n"
     ]
    },
    {
     "name": "stderr",
     "output_type": "stream",
     "text": [
      "Epoch 34/50 - Training: 100%|██████████| 101/101 [00:00<00:00, 2852.69it/s]\n",
      "Epoch 34/50 - Validation: 100%|██████████| 26/26 [00:00<00:00, 5304.85it/s]\n"
     ]
    },
    {
     "name": "stdout",
     "output_type": "stream",
     "text": [
      "Epoch 34/50 - Train Loss: 0.0216, Train Acc: 0.5377, Val Loss: 0.0222, Val Acc: 0.5615\n"
     ]
    },
    {
     "name": "stderr",
     "output_type": "stream",
     "text": [
      "Epoch 35/50 - Training: 100%|██████████| 101/101 [00:00<00:00, 3186.73it/s]\n",
      "Epoch 35/50 - Validation: 100%|██████████| 26/26 [00:00<00:00, 5428.98it/s]\n"
     ]
    },
    {
     "name": "stdout",
     "output_type": "stream",
     "text": [
      "Epoch 35/50 - Train Loss: 0.0216, Train Acc: 0.5362, Val Loss: 0.0222, Val Acc: 0.5615\n"
     ]
    },
    {
     "name": "stderr",
     "output_type": "stream",
     "text": [
      "Epoch 36/50 - Training: 100%|██████████| 101/101 [00:00<00:00, 3249.38it/s]\n",
      "Epoch 36/50 - Validation: 100%|██████████| 26/26 [00:00<00:00, 5385.28it/s]\n"
     ]
    },
    {
     "name": "stdout",
     "output_type": "stream",
     "text": [
      "Epoch 36/50 - Train Loss: 0.0216, Train Acc: 0.5371, Val Loss: 0.0222, Val Acc: 0.5615\n"
     ]
    },
    {
     "name": "stderr",
     "output_type": "stream",
     "text": [
      "Epoch 37/50 - Training: 100%|██████████| 101/101 [00:00<00:00, 3258.20it/s]\n",
      "Epoch 37/50 - Validation: 100%|██████████| 26/26 [00:00<00:00, 5388.74it/s]\n"
     ]
    },
    {
     "name": "stdout",
     "output_type": "stream",
     "text": [
      "Epoch 37/50 - Train Loss: 0.0216, Train Acc: 0.5387, Val Loss: 0.0222, Val Acc: 0.5615\n"
     ]
    },
    {
     "name": "stderr",
     "output_type": "stream",
     "text": [
      "Epoch 38/50 - Training: 100%|██████████| 101/101 [00:00<00:00, 3256.27it/s]\n",
      "Epoch 38/50 - Validation: 100%|██████████| 26/26 [00:00<00:00, 5509.62it/s]\n"
     ]
    },
    {
     "name": "stdout",
     "output_type": "stream",
     "text": [
      "Epoch 38/50 - Train Loss: 0.0216, Train Acc: 0.5362, Val Loss: 0.0222, Val Acc: 0.5590\n"
     ]
    },
    {
     "name": "stderr",
     "output_type": "stream",
     "text": [
      "Epoch 39/50 - Training: 100%|██████████| 101/101 [00:00<00:00, 3276.14it/s]\n",
      "Epoch 39/50 - Validation: 100%|██████████| 26/26 [00:00<00:00, 5475.87it/s]\n"
     ]
    },
    {
     "name": "stdout",
     "output_type": "stream",
     "text": [
      "Epoch 39/50 - Train Loss: 0.0216, Train Acc: 0.5337, Val Loss: 0.0222, Val Acc: 0.5565\n"
     ]
    },
    {
     "name": "stderr",
     "output_type": "stream",
     "text": [
      "Epoch 40/50 - Training: 100%|██████████| 101/101 [00:00<00:00, 3258.38it/s]\n",
      "Epoch 40/50 - Validation: 100%|██████████| 26/26 [00:00<00:00, 5761.10it/s]\n"
     ]
    },
    {
     "name": "stdout",
     "output_type": "stream",
     "text": [
      "Epoch 40/50 - Train Loss: 0.0216, Train Acc: 0.5337, Val Loss: 0.0221, Val Acc: 0.5565\n"
     ]
    },
    {
     "name": "stderr",
     "output_type": "stream",
     "text": [
      "Epoch 41/50 - Training: 100%|██████████| 101/101 [00:00<00:00, 3188.43it/s]\n",
      "Epoch 41/50 - Validation: 100%|██████████| 26/26 [00:00<00:00, 5056.66it/s]\n"
     ]
    },
    {
     "name": "stdout",
     "output_type": "stream",
     "text": [
      "Epoch 41/50 - Train Loss: 0.0216, Train Acc: 0.5346, Val Loss: 0.0221, Val Acc: 0.5540\n"
     ]
    },
    {
     "name": "stderr",
     "output_type": "stream",
     "text": [
      "Epoch 42/50 - Training: 100%|██████████| 101/101 [00:00<00:00, 3159.77it/s]\n",
      "Epoch 42/50 - Validation: 100%|██████████| 26/26 [00:00<00:00, 5332.35it/s]\n"
     ]
    },
    {
     "name": "stdout",
     "output_type": "stream",
     "text": [
      "Epoch 42/50 - Train Loss: 0.0216, Train Acc: 0.5334, Val Loss: 0.0221, Val Acc: 0.5528\n"
     ]
    },
    {
     "name": "stderr",
     "output_type": "stream",
     "text": [
      "Epoch 43/50 - Training: 100%|██████████| 101/101 [00:00<00:00, 3193.89it/s]\n",
      "Epoch 43/50 - Validation: 100%|██████████| 26/26 [00:00<00:00, 6113.46it/s]\n"
     ]
    },
    {
     "name": "stdout",
     "output_type": "stream",
     "text": [
      "Epoch 43/50 - Train Loss: 0.0216, Train Acc: 0.5340, Val Loss: 0.0221, Val Acc: 0.5528\n"
     ]
    },
    {
     "name": "stderr",
     "output_type": "stream",
     "text": [
      "Epoch 44/50 - Training: 100%|██████████| 101/101 [00:00<00:00, 3326.85it/s]\n",
      "Epoch 44/50 - Validation: 100%|██████████| 26/26 [00:00<00:00, 5313.64it/s]\n"
     ]
    },
    {
     "name": "stdout",
     "output_type": "stream",
     "text": [
      "Epoch 44/50 - Train Loss: 0.0216, Train Acc: 0.5331, Val Loss: 0.0221, Val Acc: 0.5540\n"
     ]
    },
    {
     "name": "stderr",
     "output_type": "stream",
     "text": [
      "Epoch 45/50 - Training: 100%|██████████| 101/101 [00:00<00:00, 3135.66it/s]\n",
      "Epoch 45/50 - Validation: 100%|██████████| 26/26 [00:00<00:00, 5208.32it/s]\n"
     ]
    },
    {
     "name": "stdout",
     "output_type": "stream",
     "text": [
      "Epoch 45/50 - Train Loss: 0.0216, Train Acc: 0.5349, Val Loss: 0.0221, Val Acc: 0.5553\n"
     ]
    },
    {
     "name": "stderr",
     "output_type": "stream",
     "text": [
      "Epoch 46/50 - Training: 100%|██████████| 101/101 [00:00<00:00, 3097.31it/s]\n",
      "Epoch 46/50 - Validation: 100%|██████████| 26/26 [00:00<00:00, 5373.87it/s]\n"
     ]
    },
    {
     "name": "stdout",
     "output_type": "stream",
     "text": [
      "Epoch 46/50 - Train Loss: 0.0216, Train Acc: 0.5331, Val Loss: 0.0221, Val Acc: 0.5590\n"
     ]
    },
    {
     "name": "stderr",
     "output_type": "stream",
     "text": [
      "Epoch 47/50 - Training: 100%|██████████| 101/101 [00:00<00:00, 3083.80it/s]\n",
      "Epoch 47/50 - Validation: 100%|██████████| 26/26 [00:00<00:00, 5033.78it/s]\n"
     ]
    },
    {
     "name": "stdout",
     "output_type": "stream",
     "text": [
      "Epoch 47/50 - Train Loss: 0.0216, Train Acc: 0.5346, Val Loss: 0.0221, Val Acc: 0.5578\n"
     ]
    },
    {
     "name": "stderr",
     "output_type": "stream",
     "text": [
      "Epoch 48/50 - Training: 100%|██████████| 101/101 [00:00<00:00, 3001.68it/s]\n",
      "Epoch 48/50 - Validation: 100%|██████████| 26/26 [00:00<00:00, 5798.47it/s]\n"
     ]
    },
    {
     "name": "stdout",
     "output_type": "stream",
     "text": [
      "Epoch 48/50 - Train Loss: 0.0216, Train Acc: 0.5340, Val Loss: 0.0221, Val Acc: 0.5565\n"
     ]
    },
    {
     "name": "stderr",
     "output_type": "stream",
     "text": [
      "Epoch 49/50 - Training: 100%|██████████| 101/101 [00:00<00:00, 3124.12it/s]\n",
      "Epoch 49/50 - Validation: 100%|██████████| 26/26 [00:00<00:00, 5315.97it/s]\n"
     ]
    },
    {
     "name": "stdout",
     "output_type": "stream",
     "text": [
      "Epoch 49/50 - Train Loss: 0.0216, Train Acc: 0.5349, Val Loss: 0.0221, Val Acc: 0.5553\n"
     ]
    },
    {
     "name": "stderr",
     "output_type": "stream",
     "text": [
      "Epoch 50/50 - Training: 100%|██████████| 101/101 [00:00<00:00, 3132.88it/s]\n",
      "Epoch 50/50 - Validation: 100%|██████████| 26/26 [00:00<00:00, 5624.13it/s]"
     ]
    },
    {
     "name": "stdout",
     "output_type": "stream",
     "text": [
      "Epoch 50/50 - Train Loss: 0.0216, Train Acc: 0.5343, Val Loss: 0.0221, Val Acc: 0.5565\n"
     ]
    },
    {
     "name": "stderr",
     "output_type": "stream",
     "text": [
      "\n"
     ]
    }
   ],
   "source": [
    "model = SLP(input_dim=X_train_tensor.shape[1], output_dim=2)\n",
    "\n",
    "criterion = nn.CrossEntropyLoss()\n",
    "optimizer = torch.optim.SGD(model.parameters(), lr=0.001)\n",
    "epochs = 50\n",
    "\n",
    "train_losses, train_accuracies, val_losses, val_accuracies = train(\n",
    "    model, train_loader, criterion, optimizer, epochs=epochs\n",
    ")"
   ]
  },
  {
   "cell_type": "code",
   "execution_count": 15,
   "id": "c75bcc4a",
   "metadata": {},
   "outputs": [
    {
     "data": {
      "image/png": "[encoded data removed]",
      "text/plain": [
       "<Figure size 1200x500 with 2 Axes>"
      ]
     },
     "metadata": {},
     "output_type": "display_data"
    }
   ],
   "source": [
    "epochs_range = list(range(1, epochs + 1))\n",
    "\n",
    "fig, axs = plt.subplots(1, 2, figsize=(12, 5))\n",
    "\n",
    "# Plot Loss\n",
    "axs[0].plot(epochs_range, train_losses, label=\"Train Loss\")\n",
    "axs[0].plot(epochs_range, val_losses, label=\"Validation Loss\")\n",
    "axs[0].set_xlabel(\"Epochs\")\n",
    "axs[0].set_ylabel(\"Loss\")\n",
    "axs[0].set_title(\"Loss Curve\")\n",
    "axs[0].legend()\n",
    "axs[0].grid(True)\n",
    "\n",
    "# Plot Accuracy\n",
    "axs[1].plot(epochs_range, train_accuracies, label=\"Train Accuracy\")\n",
    "axs[1].plot(epochs_range, val_accuracies, label=\"Validation Accuracy\")\n",
    "axs[1].set_xlabel(\"Epochs\")\n",
    "axs[1].set_ylabel(\"Accuracy\")\n",
    "axs[1].set_title(\"Accuracy Curve\")\n",
    "axs[1].legend()\n",
    "axs[1].grid(True)\n",
    "\n",
    "plt.tight_layout()\n",
    "plt.show()\n"
   ]
  }
 ],
 "metadata": {
  "kernelspec": {
   "display_name": ".venv",
   "language": "python",
   "name": "python3"
  },
  "language_info": {
   "codemirror_mode": {
    "name": "ipython",
    "version": 3
   },
   "file_extension": ".py",
   "mimetype": "text/x-python",
   "name": "python",
   "nbconvert_exporter": "python",
   "pygments_lexer": "ipython3",
   "version": "3.13.5"
  }
 },
 "nbformat": 4,
 "nbformat_minor": 5
}
