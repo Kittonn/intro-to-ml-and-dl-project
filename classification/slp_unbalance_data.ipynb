{
 "cells": [
  {
   "cell_type": "code",
   "execution_count": 43,
   "id": "c3e7b01d",
   "metadata": {},
   "outputs": [
    {
     "name": "stdout",
     "output_type": "stream",
     "text": [
      "Requirement already satisfied: pandas in /Users/7n100489/Library/CloudStorage/OneDrive-BankofAyudhyaPublicCompanyLimited/Desktop/Workspace/github/intro-to-ml-and-dl-project/.venv/lib/python3.13/site-packages (2.3.3)\n",
      "Requirement already satisfied: torch in /Users/7n100489/Library/CloudStorage/OneDrive-BankofAyudhyaPublicCompanyLimited/Desktop/Workspace/github/intro-to-ml-and-dl-project/.venv/lib/python3.13/site-packages (2.8.0)\n",
      "Requirement already satisfied: tqdm in /Users/7n100489/Library/CloudStorage/OneDrive-BankofAyudhyaPublicCompanyLimited/Desktop/Workspace/github/intro-to-ml-and-dl-project/.venv/lib/python3.13/site-packages (4.67.1)\n",
      "Requirement already satisfied: matplotlib in /Users/7n100489/Library/CloudStorage/OneDrive-BankofAyudhyaPublicCompanyLimited/Desktop/Workspace/github/intro-to-ml-and-dl-project/.venv/lib/python3.13/site-packages (3.10.6)\n",
      "Requirement already satisfied: imblearn in /Users/7n100489/Library/CloudStorage/OneDrive-BankofAyudhyaPublicCompanyLimited/Desktop/Workspace/github/intro-to-ml-and-dl-project/.venv/lib/python3.13/site-packages (0.0)\n",
      "Requirement already satisfied: numpy>=1.26.0 in /Users/7n100489/Library/CloudStorage/OneDrive-BankofAyudhyaPublicCompanyLimited/Desktop/Workspace/github/intro-to-ml-and-dl-project/.venv/lib/python3.13/site-packages (from pandas) (2.3.3)\n",
      "Requirement already satisfied: python-dateutil>=2.8.2 in /Users/7n100489/Library/CloudStorage/OneDrive-BankofAyudhyaPublicCompanyLimited/Desktop/Workspace/github/intro-to-ml-and-dl-project/.venv/lib/python3.13/site-packages (from pandas) (2.9.0.post0)\n",
      "Requirement already satisfied: pytz>=2020.1 in /Users/7n100489/Library/CloudStorage/OneDrive-BankofAyudhyaPublicCompanyLimited/Desktop/Workspace/github/intro-to-ml-and-dl-project/.venv/lib/python3.13/site-packages (from pandas) (2025.2)\n",
      "Requirement already satisfied: tzdata>=2022.7 in /Users/7n100489/Library/CloudStorage/OneDrive-BankofAyudhyaPublicCompanyLimited/Desktop/Workspace/github/intro-to-ml-and-dl-project/.venv/lib/python3.13/site-packages (from pandas) (2025.2)\n",
      "Requirement already satisfied: filelock in /Users/7n100489/Library/CloudStorage/OneDrive-BankofAyudhyaPublicCompanyLimited/Desktop/Workspace/github/intro-to-ml-and-dl-project/.venv/lib/python3.13/site-packages (from torch) (3.19.1)\n",
      "Requirement already satisfied: typing-extensions>=4.10.0 in /Users/7n100489/Library/CloudStorage/OneDrive-BankofAyudhyaPublicCompanyLimited/Desktop/Workspace/github/intro-to-ml-and-dl-project/.venv/lib/python3.13/site-packages (from torch) (4.15.0)\n",
      "Requirement already satisfied: setuptools in /Users/7n100489/Library/CloudStorage/OneDrive-BankofAyudhyaPublicCompanyLimited/Desktop/Workspace/github/intro-to-ml-and-dl-project/.venv/lib/python3.13/site-packages (from torch) (80.9.0)\n",
      "Requirement already satisfied: sympy>=1.13.3 in /Users/7n100489/Library/CloudStorage/OneDrive-BankofAyudhyaPublicCompanyLimited/Desktop/Workspace/github/intro-to-ml-and-dl-project/.venv/lib/python3.13/site-packages (from torch) (1.14.0)\n",
      "Requirement already satisfied: networkx in /Users/7n100489/Library/CloudStorage/OneDrive-BankofAyudhyaPublicCompanyLimited/Desktop/Workspace/github/intro-to-ml-and-dl-project/.venv/lib/python3.13/site-packages (from torch) (3.5)\n",
      "Requirement already satisfied: jinja2 in /Users/7n100489/Library/CloudStorage/OneDrive-BankofAyudhyaPublicCompanyLimited/Desktop/Workspace/github/intro-to-ml-and-dl-project/.venv/lib/python3.13/site-packages (from torch) (3.1.6)\n",
      "Requirement already satisfied: fsspec in /Users/7n100489/Library/CloudStorage/OneDrive-BankofAyudhyaPublicCompanyLimited/Desktop/Workspace/github/intro-to-ml-and-dl-project/.venv/lib/python3.13/site-packages (from torch) (2025.9.0)\n",
      "Requirement already satisfied: contourpy>=1.0.1 in /Users/7n100489/Library/CloudStorage/OneDrive-BankofAyudhyaPublicCompanyLimited/Desktop/Workspace/github/intro-to-ml-and-dl-project/.venv/lib/python3.13/site-packages (from matplotlib) (1.3.3)\n",
      "Requirement already satisfied: cycler>=0.10 in /Users/7n100489/Library/CloudStorage/OneDrive-BankofAyudhyaPublicCompanyLimited/Desktop/Workspace/github/intro-to-ml-and-dl-project/.venv/lib/python3.13/site-packages (from matplotlib) (0.12.1)\n",
      "Requirement already satisfied: fonttools>=4.22.0 in /Users/7n100489/Library/CloudStorage/OneDrive-BankofAyudhyaPublicCompanyLimited/Desktop/Workspace/github/intro-to-ml-and-dl-project/.venv/lib/python3.13/site-packages (from matplotlib) (4.60.1)\n",
      "Requirement already satisfied: kiwisolver>=1.3.1 in /Users/7n100489/Library/CloudStorage/OneDrive-BankofAyudhyaPublicCompanyLimited/Desktop/Workspace/github/intro-to-ml-and-dl-project/.venv/lib/python3.13/site-packages (from matplotlib) (1.4.9)\n",
      "Requirement already satisfied: packaging>=20.0 in /Users/7n100489/Library/CloudStorage/OneDrive-BankofAyudhyaPublicCompanyLimited/Desktop/Workspace/github/intro-to-ml-and-dl-project/.venv/lib/python3.13/site-packages (from matplotlib) (25.0)\n",
      "Requirement already satisfied: pillow>=8 in /Users/7n100489/Library/CloudStorage/OneDrive-BankofAyudhyaPublicCompanyLimited/Desktop/Workspace/github/intro-to-ml-and-dl-project/.venv/lib/python3.13/site-packages (from matplotlib) (11.3.0)\n",
      "Requirement already satisfied: pyparsing>=2.3.1 in /Users/7n100489/Library/CloudStorage/OneDrive-BankofAyudhyaPublicCompanyLimited/Desktop/Workspace/github/intro-to-ml-and-dl-project/.venv/lib/python3.13/site-packages (from matplotlib) (3.2.5)\n",
      "Requirement already satisfied: imbalanced-learn in /Users/7n100489/Library/CloudStorage/OneDrive-BankofAyudhyaPublicCompanyLimited/Desktop/Workspace/github/intro-to-ml-and-dl-project/.venv/lib/python3.13/site-packages (from imblearn) (0.14.0)\n",
      "Requirement already satisfied: six>=1.5 in /Users/7n100489/Library/CloudStorage/OneDrive-BankofAyudhyaPublicCompanyLimited/Desktop/Workspace/github/intro-to-ml-and-dl-project/.venv/lib/python3.13/site-packages (from python-dateutil>=2.8.2->pandas) (1.17.0)\n",
      "Requirement already satisfied: mpmath<1.4,>=1.1.0 in /Users/7n100489/Library/CloudStorage/OneDrive-BankofAyudhyaPublicCompanyLimited/Desktop/Workspace/github/intro-to-ml-and-dl-project/.venv/lib/python3.13/site-packages (from sympy>=1.13.3->torch) (1.3.0)\n",
      "Requirement already satisfied: scipy<2,>=1.11.4 in /Users/7n100489/Library/CloudStorage/OneDrive-BankofAyudhyaPublicCompanyLimited/Desktop/Workspace/github/intro-to-ml-and-dl-project/.venv/lib/python3.13/site-packages (from imbalanced-learn->imblearn) (1.16.2)\n",
      "Requirement already satisfied: scikit-learn<2,>=1.4.2 in /Users/7n100489/Library/CloudStorage/OneDrive-BankofAyudhyaPublicCompanyLimited/Desktop/Workspace/github/intro-to-ml-and-dl-project/.venv/lib/python3.13/site-packages (from imbalanced-learn->imblearn) (1.7.2)\n",
      "Requirement already satisfied: joblib<2,>=1.2.0 in /Users/7n100489/Library/CloudStorage/OneDrive-BankofAyudhyaPublicCompanyLimited/Desktop/Workspace/github/intro-to-ml-and-dl-project/.venv/lib/python3.13/site-packages (from imbalanced-learn->imblearn) (1.5.2)\n",
      "Requirement already satisfied: threadpoolctl<4,>=2.0.0 in /Users/7n100489/Library/CloudStorage/OneDrive-BankofAyudhyaPublicCompanyLimited/Desktop/Workspace/github/intro-to-ml-and-dl-project/.venv/lib/python3.13/site-packages (from imbalanced-learn->imblearn) (3.6.0)\n",
      "Requirement already satisfied: MarkupSafe>=2.0 in /Users/7n100489/Library/CloudStorage/OneDrive-BankofAyudhyaPublicCompanyLimited/Desktop/Workspace/github/intro-to-ml-and-dl-project/.venv/lib/python3.13/site-packages (from jinja2->torch) (3.0.3)\n",
      "Note: you may need to restart the kernel to use updated packages.\n"
     ]
    }
   ],
   "source": [
    "%pip install pandas torch tqdm matplotlib imblearn"
   ]
  },
  {
   "cell_type": "code",
   "execution_count": 44,
   "id": "41b6430b",
   "metadata": {},
   "outputs": [],
   "source": [
    "import torch.nn as nn\n",
    "import torch\n",
    "import pandas as pd\n",
    "from sklearn.model_selection import train_test_split\n",
    "from sklearn.preprocessing import StandardScaler\n",
    "from torch.utils.data import DataLoader, TensorDataset\n",
    "from tqdm import tqdm\n",
    "import matplotlib.pyplot as plt\n",
    "from imblearn.over_sampling import RandomOverSampler"
   ]
  },
  {
   "cell_type": "code",
   "execution_count": 45,
   "id": "c30a672c",
   "metadata": {},
   "outputs": [],
   "source": [
    "df = pd.read_csv(\"../df_unbalanced_classification.csv\")\n",
    "\n",
    "selected_feature = [\n",
    "    \"differentiate\",\n",
    "    \"Node Positive Ratio\",\n",
    "    \"N Stage Encoded\",\n",
    "    \"Estrogen Status Encoded\",\n",
    "    \"Progesterone Status Encoded\",\n",
    "]\n",
    "\n",
    "# X = df.drop(columns=[\"Survival More Than 6 Years\"]).values\n",
    "X = df[selected_feature].values\n",
    "y = df[\"Status_encoded\"].values\n",
    "\n",
    "X_train, X_test, y_train, y_test = train_test_split(\n",
    "    X, y, test_size=0.2, random_state=42\n",
    ")\n",
    "\n",
    "scaler = StandardScaler()\n",
    "X_train_scaled = scaler.fit_transform(X_train)\n",
    "X_test_scaled = scaler.transform(X_test)\n",
    "\n",
    "X_train_tensor = torch.tensor(X_train_scaled, dtype=torch.float32)\n",
    "X_test_tensor = torch.tensor(X_test_scaled, dtype=torch.float32)\n",
    "y_train_tensor = torch.tensor(y_train, dtype=torch.long)\n",
    "y_test_tensor = torch.tensor(y_test, dtype=torch.long)\n",
    "\n",
    "train_dataset = TensorDataset(X_train_tensor, y_train_tensor)\n",
    "train_loader = DataLoader(train_dataset, batch_size=32, shuffle=True)\n",
    "\n",
    "test_dataset = TensorDataset(X_test_tensor, y_test_tensor)\n",
    "test_loader = DataLoader(test_dataset, batch_size=32, shuffle=False)"
   ]
  },
  {
   "cell_type": "code",
   "execution_count": 46,
   "id": "e75fc86c",
   "metadata": {},
   "outputs": [],
   "source": [
    "class SLP(nn.Module):\n",
    "    def __init__(self, input_dim, output_dim):\n",
    "        super(SLP, self).__init__()\n",
    "        self.linear = nn.Linear(input_dim, output_dim)\n",
    "    \n",
    "    def forward(self, x):\n",
    "        return self.linear(x)"
   ]
  },
  {
   "cell_type": "code",
   "execution_count": 47,
   "id": "ae18a3f4",
   "metadata": {},
   "outputs": [],
   "source": [
    "def train(model, train_loader, criterion, optimizer, epochs=50):\n",
    "    train_losses = []\n",
    "    train_accuracies = []\n",
    "    val_losses = []\n",
    "    val_accuracies = []\n",
    "\n",
    "    for epoch in range(epochs):\n",
    "        model.train()\n",
    "        train_acc = 0\n",
    "        train_loss = 0\n",
    "\n",
    "        for X_batch, y_batch in tqdm(\n",
    "            train_loader, desc=f\"Epoch {epoch + 1}/{epochs} - Training\"\n",
    "        ):\n",
    "            optimizer.zero_grad()\n",
    "            outputs = model(X_batch)\n",
    "            loss = criterion(outputs, y_batch)\n",
    "            loss.backward()\n",
    "            optimizer.step()\n",
    "            train_loss += loss.item()\n",
    "            _, predicted = torch.max(outputs, 1)\n",
    "            train_acc += (predicted == y_batch).sum().item()\n",
    "\n",
    "        avg_train_loss = train_loss / len(train_dataset)\n",
    "        avg_train_acc = train_acc / len(train_dataset)\n",
    "\n",
    "        train_losses.append(avg_train_loss)\n",
    "        train_accuracies.append(avg_train_acc)\n",
    "\n",
    "        model.eval()\n",
    "        val_acc = 0\n",
    "        val_loss = 0\n",
    "        with torch.no_grad():\n",
    "            for X_batch, y_batch in tqdm(\n",
    "                test_loader, desc=f\"Epoch {epoch + 1}/{epochs} - Validation\"\n",
    "            ):\n",
    "                outputs = model(X_batch)\n",
    "                loss = criterion(outputs, y_batch)\n",
    "                val_loss += loss.item()\n",
    "                _, predicted = torch.max(outputs, 1)\n",
    "                val_acc += (predicted == y_batch).sum().item()\n",
    "\n",
    "        avg_val_loss = val_loss / len(test_dataset)\n",
    "        avg_val_acc = val_acc / len(test_dataset)\n",
    "        val_losses.append(avg_val_loss)\n",
    "        val_accuracies.append(avg_val_acc)\n",
    "\n",
    "        print(\n",
    "            f\"Epoch {epoch + 1}/{epochs} - \"\n",
    "            f\"Train Loss: {avg_train_loss:.4f}, Train Acc: {avg_train_acc:.4f}, \"\n",
    "            f\"Val Loss: {avg_val_loss:.4f}, Val Acc: {avg_val_acc:.4f}\"\n",
    "        )\n",
    "\n",
    "    return train_losses, train_accuracies, val_losses, val_accuracies"
   ]
  },
  {
   "cell_type": "code",
   "execution_count": 48,
   "id": "2a40db54",
   "metadata": {},
   "outputs": [
    {
     "name": "stderr",
     "output_type": "stream",
     "text": [
      "Epoch 1/100 - Training: 100%|██████████| 101/101 [00:00<00:00, 1940.94it/s]\n",
      "Epoch 1/100 - Validation: 100%|██████████| 26/26 [00:00<00:00, 3899.17it/s]\n"
     ]
    },
    {
     "name": "stdout",
     "output_type": "stream",
     "text": [
      "Epoch 1/100 - Train Loss: 0.0205, Train Acc: 0.6738, Val Loss: 0.0188, Val Acc: 0.7379\n"
     ]
    },
    {
     "name": "stderr",
     "output_type": "stream",
     "text": [
      "Epoch 2/100 - Training: 100%|██████████| 101/101 [00:00<00:00, 2713.94it/s]\n",
      "Epoch 2/100 - Validation: 100%|██████████| 26/26 [00:00<00:00, 4986.60it/s]\n"
     ]
    },
    {
     "name": "stdout",
     "output_type": "stream",
     "text": [
      "Epoch 2/100 - Train Loss: 0.0181, Train Acc: 0.7409, Val Loss: 0.0171, Val Acc: 0.7963\n"
     ]
    },
    {
     "name": "stderr",
     "output_type": "stream",
     "text": [
      "Epoch 3/100 - Training: 100%|██████████| 101/101 [00:00<00:00, 2886.55it/s]\n",
      "Epoch 3/100 - Validation: 100%|██████████| 26/26 [00:00<00:00, 4958.26it/s]\n"
     ]
    },
    {
     "name": "stdout",
     "output_type": "stream",
     "text": [
      "Epoch 3/100 - Train Loss: 0.0165, Train Acc: 0.7869, Val Loss: 0.0158, Val Acc: 0.8311\n"
     ]
    },
    {
     "name": "stderr",
     "output_type": "stream",
     "text": [
      "Epoch 4/100 - Training: 100%|██████████| 101/101 [00:00<00:00, 2884.88it/s]\n",
      "Epoch 4/100 - Validation: 100%|██████████| 26/26 [00:00<00:00, 5082.11it/s]\n"
     ]
    },
    {
     "name": "stdout",
     "output_type": "stream",
     "text": [
      "Epoch 4/100 - Train Loss: 0.0154, Train Acc: 0.8180, Val Loss: 0.0150, Val Acc: 0.8522\n"
     ]
    },
    {
     "name": "stderr",
     "output_type": "stream",
     "text": [
      "Epoch 5/100 - Training: 100%|██████████| 101/101 [00:00<00:00, 2627.47it/s]\n",
      "Epoch 5/100 - Validation: 100%|██████████| 26/26 [00:00<00:00, 4748.82it/s]\n"
     ]
    },
    {
     "name": "stdout",
     "output_type": "stream",
     "text": [
      "Epoch 5/100 - Train Loss: 0.0145, Train Acc: 0.8354, Val Loss: 0.0143, Val Acc: 0.8596\n"
     ]
    },
    {
     "name": "stderr",
     "output_type": "stream",
     "text": [
      "Epoch 6/100 - Training: 100%|██████████| 101/101 [00:00<00:00, 2876.61it/s]\n",
      "Epoch 6/100 - Validation: 100%|██████████| 26/26 [00:00<00:00, 5037.50it/s]\n"
     ]
    },
    {
     "name": "stdout",
     "output_type": "stream",
     "text": [
      "Epoch 6/100 - Train Loss: 0.0139, Train Acc: 0.8431, Val Loss: 0.0137, Val Acc: 0.8634\n"
     ]
    },
    {
     "name": "stderr",
     "output_type": "stream",
     "text": [
      "Epoch 7/100 - Training: 100%|██████████| 101/101 [00:00<00:00, 2854.48it/s]\n",
      "Epoch 7/100 - Validation: 100%|██████████| 26/26 [00:00<00:00, 5181.11it/s]\n"
     ]
    },
    {
     "name": "stdout",
     "output_type": "stream",
     "text": [
      "Epoch 7/100 - Train Loss: 0.0134, Train Acc: 0.8490, Val Loss: 0.0133, Val Acc: 0.8696\n"
     ]
    },
    {
     "name": "stderr",
     "output_type": "stream",
     "text": [
      "Epoch 8/100 - Training: 100%|██████████| 101/101 [00:00<00:00, 2866.22it/s]\n",
      "Epoch 8/100 - Validation: 100%|██████████| 26/26 [00:00<00:00, 5296.35it/s]\n"
     ]
    },
    {
     "name": "stdout",
     "output_type": "stream",
     "text": [
      "Epoch 8/100 - Train Loss: 0.0131, Train Acc: 0.8487, Val Loss: 0.0130, Val Acc: 0.8696\n"
     ]
    },
    {
     "name": "stderr",
     "output_type": "stream",
     "text": [
      "Epoch 9/100 - Training: 100%|██████████| 101/101 [00:00<00:00, 2892.66it/s]\n",
      "Epoch 9/100 - Validation: 100%|██████████| 26/26 [00:00<00:00, 5146.14it/s]\n"
     ]
    },
    {
     "name": "stdout",
     "output_type": "stream",
     "text": [
      "Epoch 9/100 - Train Loss: 0.0128, Train Acc: 0.8475, Val Loss: 0.0128, Val Acc: 0.8683\n"
     ]
    },
    {
     "name": "stderr",
     "output_type": "stream",
     "text": [
      "Epoch 10/100 - Training: 100%|██████████| 101/101 [00:00<00:00, 2941.84it/s]\n",
      "Epoch 10/100 - Validation: 100%|██████████| 26/26 [00:00<00:00, 4857.11it/s]\n"
     ]
    },
    {
     "name": "stdout",
     "output_type": "stream",
     "text": [
      "Epoch 10/100 - Train Loss: 0.0126, Train Acc: 0.8481, Val Loss: 0.0126, Val Acc: 0.8683\n"
     ]
    },
    {
     "name": "stderr",
     "output_type": "stream",
     "text": [
      "Epoch 11/100 - Training: 100%|██████████| 101/101 [00:00<00:00, 2798.40it/s]\n",
      "Epoch 11/100 - Validation: 100%|██████████| 26/26 [00:00<00:00, 5091.13it/s]\n"
     ]
    },
    {
     "name": "stdout",
     "output_type": "stream",
     "text": [
      "Epoch 11/100 - Train Loss: 0.0124, Train Acc: 0.8493, Val Loss: 0.0125, Val Acc: 0.8683\n"
     ]
    },
    {
     "name": "stderr",
     "output_type": "stream",
     "text": [
      "Epoch 12/100 - Training: 100%|██████████| 101/101 [00:00<00:00, 2910.23it/s]\n",
      "Epoch 12/100 - Validation: 100%|██████████| 26/26 [00:00<00:00, 5159.53it/s]\n"
     ]
    },
    {
     "name": "stdout",
     "output_type": "stream",
     "text": [
      "Epoch 12/100 - Train Loss: 0.0123, Train Acc: 0.8496, Val Loss: 0.0124, Val Acc: 0.8671\n"
     ]
    },
    {
     "name": "stderr",
     "output_type": "stream",
     "text": [
      "Epoch 13/100 - Training: 100%|██████████| 101/101 [00:00<00:00, 2844.11it/s]\n",
      "Epoch 13/100 - Validation: 100%|██████████| 26/26 [00:00<00:00, 5336.79it/s]\n"
     ]
    },
    {
     "name": "stdout",
     "output_type": "stream",
     "text": [
      "Epoch 13/100 - Train Loss: 0.0122, Train Acc: 0.8493, Val Loss: 0.0123, Val Acc: 0.8671\n"
     ]
    },
    {
     "name": "stderr",
     "output_type": "stream",
     "text": [
      "Epoch 14/100 - Training: 100%|██████████| 101/101 [00:00<00:00, 2811.90it/s]\n",
      "Epoch 14/100 - Validation: 100%|██████████| 26/26 [00:00<00:00, 4821.04it/s]\n"
     ]
    },
    {
     "name": "stdout",
     "output_type": "stream",
     "text": [
      "Epoch 14/100 - Train Loss: 0.0122, Train Acc: 0.8500, Val Loss: 0.0123, Val Acc: 0.8671\n"
     ]
    },
    {
     "name": "stderr",
     "output_type": "stream",
     "text": [
      "Epoch 15/100 - Training: 100%|██████████| 101/101 [00:00<00:00, 2620.92it/s]\n",
      "Epoch 15/100 - Validation: 100%|██████████| 26/26 [00:00<00:00, 5005.83it/s]\n"
     ]
    },
    {
     "name": "stdout",
     "output_type": "stream",
     "text": [
      "Epoch 15/100 - Train Loss: 0.0121, Train Acc: 0.8500, Val Loss: 0.0123, Val Acc: 0.8671\n"
     ]
    },
    {
     "name": "stderr",
     "output_type": "stream",
     "text": [
      "Epoch 16/100 - Training: 100%|██████████| 101/101 [00:00<00:00, 2681.88it/s]\n",
      "Epoch 16/100 - Validation: 100%|██████████| 26/26 [00:00<00:00, 5011.81it/s]\n"
     ]
    },
    {
     "name": "stdout",
     "output_type": "stream",
     "text": [
      "Epoch 16/100 - Train Loss: 0.0121, Train Acc: 0.8496, Val Loss: 0.0122, Val Acc: 0.8671\n"
     ]
    },
    {
     "name": "stderr",
     "output_type": "stream",
     "text": [
      "Epoch 17/100 - Training: 100%|██████████| 101/101 [00:00<00:00, 2976.27it/s]\n",
      "Epoch 17/100 - Validation: 100%|██████████| 26/26 [00:00<00:00, 5093.03it/s]\n"
     ]
    },
    {
     "name": "stdout",
     "output_type": "stream",
     "text": [
      "Epoch 17/100 - Train Loss: 0.0120, Train Acc: 0.8509, Val Loss: 0.0122, Val Acc: 0.8658\n"
     ]
    },
    {
     "name": "stderr",
     "output_type": "stream",
     "text": [
      "Epoch 18/100 - Training: 100%|██████████| 101/101 [00:00<00:00, 2965.27it/s]\n",
      "Epoch 18/100 - Validation: 100%|██████████| 26/26 [00:00<00:00, 4982.72it/s]\n"
     ]
    },
    {
     "name": "stdout",
     "output_type": "stream",
     "text": [
      "Epoch 18/100 - Train Loss: 0.0120, Train Acc: 0.8500, Val Loss: 0.0122, Val Acc: 0.8658\n"
     ]
    },
    {
     "name": "stderr",
     "output_type": "stream",
     "text": [
      "Epoch 19/100 - Training: 100%|██████████| 101/101 [00:00<00:00, 2900.05it/s]\n",
      "Epoch 19/100 - Validation: 100%|██████████| 26/26 [00:00<00:00, 5137.41it/s]\n"
     ]
    },
    {
     "name": "stdout",
     "output_type": "stream",
     "text": [
      "Epoch 19/100 - Train Loss: 0.0120, Train Acc: 0.8503, Val Loss: 0.0122, Val Acc: 0.8658\n"
     ]
    },
    {
     "name": "stderr",
     "output_type": "stream",
     "text": [
      "Epoch 20/100 - Training: 100%|██████████| 101/101 [00:00<00:00, 2884.67it/s]\n",
      "Epoch 20/100 - Validation: 100%|██████████| 26/26 [00:00<00:00, 5427.90it/s]\n"
     ]
    },
    {
     "name": "stdout",
     "output_type": "stream",
     "text": [
      "Epoch 20/100 - Train Loss: 0.0120, Train Acc: 0.8503, Val Loss: 0.0122, Val Acc: 0.8658\n"
     ]
    },
    {
     "name": "stderr",
     "output_type": "stream",
     "text": [
      "Epoch 21/100 - Training: 100%|██████████| 101/101 [00:00<00:00, 2892.90it/s]\n",
      "Epoch 21/100 - Validation: 100%|██████████| 26/26 [00:00<00:00, 5359.87it/s]\n"
     ]
    },
    {
     "name": "stdout",
     "output_type": "stream",
     "text": [
      "Epoch 21/100 - Train Loss: 0.0120, Train Acc: 0.8503, Val Loss: 0.0122, Val Acc: 0.8658\n"
     ]
    },
    {
     "name": "stderr",
     "output_type": "stream",
     "text": [
      "Epoch 22/100 - Training: 100%|██████████| 101/101 [00:00<00:00, 2865.64it/s]\n",
      "Epoch 22/100 - Validation: 100%|██████████| 26/26 [00:00<00:00, 5592.69it/s]\n"
     ]
    },
    {
     "name": "stdout",
     "output_type": "stream",
     "text": [
      "Epoch 22/100 - Train Loss: 0.0120, Train Acc: 0.8506, Val Loss: 0.0122, Val Acc: 0.8658\n"
     ]
    },
    {
     "name": "stderr",
     "output_type": "stream",
     "text": [
      "Epoch 23/100 - Training: 100%|██████████| 101/101 [00:00<00:00, 2700.60it/s]\n",
      "Epoch 23/100 - Validation: 100%|██████████| 26/26 [00:00<00:00, 4909.59it/s]\n"
     ]
    },
    {
     "name": "stdout",
     "output_type": "stream",
     "text": [
      "Epoch 23/100 - Train Loss: 0.0120, Train Acc: 0.8503, Val Loss: 0.0122, Val Acc: 0.8658\n"
     ]
    },
    {
     "name": "stderr",
     "output_type": "stream",
     "text": [
      "Epoch 24/100 - Training: 100%|██████████| 101/101 [00:00<00:00, 2501.24it/s]\n",
      "Epoch 24/100 - Validation: 100%|██████████| 26/26 [00:00<00:00, 3656.88it/s]\n"
     ]
    },
    {
     "name": "stdout",
     "output_type": "stream",
     "text": [
      "Epoch 24/100 - Train Loss: 0.0120, Train Acc: 0.8503, Val Loss: 0.0122, Val Acc: 0.8658\n"
     ]
    },
    {
     "name": "stderr",
     "output_type": "stream",
     "text": [
      "Epoch 25/100 - Training: 100%|██████████| 101/101 [00:00<00:00, 2000.79it/s]\n",
      "Epoch 25/100 - Validation: 100%|██████████| 26/26 [00:00<00:00, 4648.82it/s]\n"
     ]
    },
    {
     "name": "stdout",
     "output_type": "stream",
     "text": [
      "Epoch 25/100 - Train Loss: 0.0120, Train Acc: 0.8503, Val Loss: 0.0122, Val Acc: 0.8658\n"
     ]
    },
    {
     "name": "stderr",
     "output_type": "stream",
     "text": [
      "Epoch 26/100 - Training: 100%|██████████| 101/101 [00:00<00:00, 2575.87it/s]\n",
      "Epoch 26/100 - Validation: 100%|██████████| 26/26 [00:00<00:00, 5149.79it/s]\n"
     ]
    },
    {
     "name": "stdout",
     "output_type": "stream",
     "text": [
      "Epoch 26/100 - Train Loss: 0.0120, Train Acc: 0.8496, Val Loss: 0.0122, Val Acc: 0.8658\n"
     ]
    },
    {
     "name": "stderr",
     "output_type": "stream",
     "text": [
      "Epoch 27/100 - Training: 100%|██████████| 101/101 [00:00<00:00, 2865.97it/s]\n",
      "Epoch 27/100 - Validation: 100%|██████████| 26/26 [00:00<00:00, 5255.77it/s]\n"
     ]
    },
    {
     "name": "stdout",
     "output_type": "stream",
     "text": [
      "Epoch 27/100 - Train Loss: 0.0120, Train Acc: 0.8490, Val Loss: 0.0122, Val Acc: 0.8658\n"
     ]
    },
    {
     "name": "stderr",
     "output_type": "stream",
     "text": [
      "Epoch 28/100 - Training: 100%|██████████| 101/101 [00:00<00:00, 2826.60it/s]\n",
      "Epoch 28/100 - Validation: 100%|██████████| 26/26 [00:00<00:00, 5205.09it/s]\n"
     ]
    },
    {
     "name": "stdout",
     "output_type": "stream",
     "text": [
      "Epoch 28/100 - Train Loss: 0.0120, Train Acc: 0.8503, Val Loss: 0.0122, Val Acc: 0.8658\n"
     ]
    },
    {
     "name": "stderr",
     "output_type": "stream",
     "text": [
      "Epoch 29/100 - Training: 100%|██████████| 101/101 [00:00<00:00, 2872.01it/s]\n",
      "Epoch 29/100 - Validation: 100%|██████████| 26/26 [00:00<00:00, 5135.24it/s]\n"
     ]
    },
    {
     "name": "stdout",
     "output_type": "stream",
     "text": [
      "Epoch 29/100 - Train Loss: 0.0120, Train Acc: 0.8509, Val Loss: 0.0122, Val Acc: 0.8658\n"
     ]
    },
    {
     "name": "stderr",
     "output_type": "stream",
     "text": [
      "Epoch 30/100 - Training: 100%|██████████| 101/101 [00:00<00:00, 2813.23it/s]\n",
      "Epoch 30/100 - Validation: 100%|██████████| 26/26 [00:00<00:00, 5075.25it/s]\n"
     ]
    },
    {
     "name": "stdout",
     "output_type": "stream",
     "text": [
      "Epoch 30/100 - Train Loss: 0.0119, Train Acc: 0.8493, Val Loss: 0.0122, Val Acc: 0.8658\n"
     ]
    },
    {
     "name": "stderr",
     "output_type": "stream",
     "text": [
      "Epoch 31/100 - Training: 100%|██████████| 101/101 [00:00<00:00, 2706.45it/s]\n",
      "Epoch 31/100 - Validation: 100%|██████████| 26/26 [00:00<00:00, 5237.59it/s]\n"
     ]
    },
    {
     "name": "stdout",
     "output_type": "stream",
     "text": [
      "Epoch 31/100 - Train Loss: 0.0120, Train Acc: 0.8503, Val Loss: 0.0122, Val Acc: 0.8646\n"
     ]
    },
    {
     "name": "stderr",
     "output_type": "stream",
     "text": [
      "Epoch 32/100 - Training: 100%|██████████| 101/101 [00:00<00:00, 2781.37it/s]\n",
      "Epoch 32/100 - Validation: 100%|██████████| 26/26 [00:00<00:00, 5347.78it/s]\n"
     ]
    },
    {
     "name": "stdout",
     "output_type": "stream",
     "text": [
      "Epoch 32/100 - Train Loss: 0.0120, Train Acc: 0.8503, Val Loss: 0.0122, Val Acc: 0.8658\n"
     ]
    },
    {
     "name": "stderr",
     "output_type": "stream",
     "text": [
      "Epoch 33/100 - Training: 100%|██████████| 101/101 [00:00<00:00, 2787.06it/s]\n",
      "Epoch 33/100 - Validation: 100%|██████████| 26/26 [00:00<00:00, 4785.50it/s]\n"
     ]
    },
    {
     "name": "stdout",
     "output_type": "stream",
     "text": [
      "Epoch 33/100 - Train Loss: 0.0120, Train Acc: 0.8500, Val Loss: 0.0122, Val Acc: 0.8658\n"
     ]
    },
    {
     "name": "stderr",
     "output_type": "stream",
     "text": [
      "Epoch 34/100 - Training: 100%|██████████| 101/101 [00:00<00:00, 2745.39it/s]\n",
      "Epoch 34/100 - Validation: 100%|██████████| 26/26 [00:00<00:00, 4978.18it/s]\n"
     ]
    },
    {
     "name": "stdout",
     "output_type": "stream",
     "text": [
      "Epoch 34/100 - Train Loss: 0.0120, Train Acc: 0.8500, Val Loss: 0.0122, Val Acc: 0.8671\n"
     ]
    },
    {
     "name": "stderr",
     "output_type": "stream",
     "text": [
      "Epoch 35/100 - Training: 100%|██████████| 101/101 [00:00<00:00, 2823.28it/s]\n",
      "Epoch 35/100 - Validation: 100%|██████████| 26/26 [00:00<00:00, 5086.14it/s]\n"
     ]
    },
    {
     "name": "stdout",
     "output_type": "stream",
     "text": [
      "Epoch 35/100 - Train Loss: 0.0120, Train Acc: 0.8500, Val Loss: 0.0122, Val Acc: 0.8658\n"
     ]
    },
    {
     "name": "stderr",
     "output_type": "stream",
     "text": [
      "Epoch 36/100 - Training: 100%|██████████| 101/101 [00:00<00:00, 2199.47it/s]\n",
      "Epoch 36/100 - Validation: 100%|██████████| 26/26 [00:00<00:00, 5037.74it/s]\n"
     ]
    },
    {
     "name": "stdout",
     "output_type": "stream",
     "text": [
      "Epoch 36/100 - Train Loss: 0.0120, Train Acc: 0.8500, Val Loss: 0.0122, Val Acc: 0.8658\n"
     ]
    },
    {
     "name": "stderr",
     "output_type": "stream",
     "text": [
      "Epoch 37/100 - Training: 100%|██████████| 101/101 [00:00<00:00, 2757.69it/s]\n",
      "Epoch 37/100 - Validation: 100%|██████████| 26/26 [00:00<00:00, 5225.04it/s]\n"
     ]
    },
    {
     "name": "stdout",
     "output_type": "stream",
     "text": [
      "Epoch 37/100 - Train Loss: 0.0120, Train Acc: 0.8500, Val Loss: 0.0122, Val Acc: 0.8646\n"
     ]
    },
    {
     "name": "stderr",
     "output_type": "stream",
     "text": [
      "Epoch 38/100 - Training: 100%|██████████| 101/101 [00:00<00:00, 2738.75it/s]\n",
      "Epoch 38/100 - Validation: 100%|██████████| 26/26 [00:00<00:00, 5149.54it/s]\n"
     ]
    },
    {
     "name": "stdout",
     "output_type": "stream",
     "text": [
      "Epoch 38/100 - Train Loss: 0.0120, Train Acc: 0.8503, Val Loss: 0.0122, Val Acc: 0.8658\n"
     ]
    },
    {
     "name": "stderr",
     "output_type": "stream",
     "text": [
      "Epoch 39/100 - Training: 100%|██████████| 101/101 [00:00<00:00, 2757.38it/s]\n",
      "Epoch 39/100 - Validation: 100%|██████████| 26/26 [00:00<00:00, 5239.86it/s]\n"
     ]
    },
    {
     "name": "stdout",
     "output_type": "stream",
     "text": [
      "Epoch 39/100 - Train Loss: 0.0120, Train Acc: 0.8493, Val Loss: 0.0122, Val Acc: 0.8658\n"
     ]
    },
    {
     "name": "stderr",
     "output_type": "stream",
     "text": [
      "Epoch 40/100 - Training: 100%|██████████| 101/101 [00:00<00:00, 2790.68it/s]\n",
      "Epoch 40/100 - Validation: 100%|██████████| 26/26 [00:00<00:00, 5207.33it/s]\n"
     ]
    },
    {
     "name": "stdout",
     "output_type": "stream",
     "text": [
      "Epoch 40/100 - Train Loss: 0.0120, Train Acc: 0.8506, Val Loss: 0.0122, Val Acc: 0.8658\n"
     ]
    },
    {
     "name": "stderr",
     "output_type": "stream",
     "text": [
      "Epoch 41/100 - Training: 100%|██████████| 101/101 [00:00<00:00, 2865.23it/s]\n",
      "Epoch 41/100 - Validation: 100%|██████████| 26/26 [00:00<00:00, 5216.80it/s]\n"
     ]
    },
    {
     "name": "stdout",
     "output_type": "stream",
     "text": [
      "Epoch 41/100 - Train Loss: 0.0120, Train Acc: 0.8503, Val Loss: 0.0122, Val Acc: 0.8646\n"
     ]
    },
    {
     "name": "stderr",
     "output_type": "stream",
     "text": [
      "Epoch 42/100 - Training: 100%|██████████| 101/101 [00:00<00:00, 2870.05it/s]\n",
      "Epoch 42/100 - Validation: 100%|██████████| 26/26 [00:00<00:00, 5248.43it/s]\n"
     ]
    },
    {
     "name": "stdout",
     "output_type": "stream",
     "text": [
      "Epoch 42/100 - Train Loss: 0.0120, Train Acc: 0.8493, Val Loss: 0.0122, Val Acc: 0.8658\n"
     ]
    },
    {
     "name": "stderr",
     "output_type": "stream",
     "text": [
      "Epoch 43/100 - Training: 100%|██████████| 101/101 [00:00<00:00, 2878.96it/s]\n",
      "Epoch 43/100 - Validation: 100%|██████████| 26/26 [00:00<00:00, 5502.67it/s]\n"
     ]
    },
    {
     "name": "stdout",
     "output_type": "stream",
     "text": [
      "Epoch 43/100 - Train Loss: 0.0120, Train Acc: 0.8500, Val Loss: 0.0122, Val Acc: 0.8658\n"
     ]
    },
    {
     "name": "stderr",
     "output_type": "stream",
     "text": [
      "Epoch 44/100 - Training: 100%|██████████| 101/101 [00:00<00:00, 2899.04it/s]\n",
      "Epoch 44/100 - Validation: 100%|██████████| 26/26 [00:00<00:00, 5285.57it/s]\n"
     ]
    },
    {
     "name": "stdout",
     "output_type": "stream",
     "text": [
      "Epoch 44/100 - Train Loss: 0.0120, Train Acc: 0.8506, Val Loss: 0.0122, Val Acc: 0.8646\n"
     ]
    },
    {
     "name": "stderr",
     "output_type": "stream",
     "text": [
      "Epoch 45/100 - Training: 100%|██████████| 101/101 [00:00<00:00, 2919.44it/s]\n",
      "Epoch 45/100 - Validation: 100%|██████████| 26/26 [00:00<00:00, 5439.27it/s]\n"
     ]
    },
    {
     "name": "stdout",
     "output_type": "stream",
     "text": [
      "Epoch 45/100 - Train Loss: 0.0119, Train Acc: 0.8503, Val Loss: 0.0122, Val Acc: 0.8646\n"
     ]
    },
    {
     "name": "stderr",
     "output_type": "stream",
     "text": [
      "Epoch 46/100 - Training: 100%|██████████| 101/101 [00:00<00:00, 2861.75it/s]\n",
      "Epoch 46/100 - Validation: 100%|██████████| 26/26 [00:00<00:00, 5584.10it/s]\n"
     ]
    },
    {
     "name": "stdout",
     "output_type": "stream",
     "text": [
      "Epoch 46/100 - Train Loss: 0.0120, Train Acc: 0.8506, Val Loss: 0.0122, Val Acc: 0.8658\n"
     ]
    },
    {
     "name": "stderr",
     "output_type": "stream",
     "text": [
      "Epoch 47/100 - Training: 100%|██████████| 101/101 [00:00<00:00, 2919.52it/s]\n",
      "Epoch 47/100 - Validation: 100%|██████████| 26/26 [00:00<00:00, 5420.34it/s]\n"
     ]
    },
    {
     "name": "stdout",
     "output_type": "stream",
     "text": [
      "Epoch 47/100 - Train Loss: 0.0120, Train Acc: 0.8509, Val Loss: 0.0122, Val Acc: 0.8646\n"
     ]
    },
    {
     "name": "stderr",
     "output_type": "stream",
     "text": [
      "Epoch 48/100 - Training: 100%|██████████| 101/101 [00:00<00:00, 2914.88it/s]\n",
      "Epoch 48/100 - Validation: 100%|██████████| 26/26 [00:00<00:00, 5316.75it/s]\n"
     ]
    },
    {
     "name": "stdout",
     "output_type": "stream",
     "text": [
      "Epoch 48/100 - Train Loss: 0.0120, Train Acc: 0.8503, Val Loss: 0.0122, Val Acc: 0.8646\n"
     ]
    },
    {
     "name": "stderr",
     "output_type": "stream",
     "text": [
      "Epoch 49/100 - Training: 100%|██████████| 101/101 [00:00<00:00, 2911.01it/s]\n",
      "Epoch 49/100 - Validation: 100%|██████████| 26/26 [00:00<00:00, 5311.57it/s]\n"
     ]
    },
    {
     "name": "stdout",
     "output_type": "stream",
     "text": [
      "Epoch 49/100 - Train Loss: 0.0120, Train Acc: 0.8493, Val Loss: 0.0122, Val Acc: 0.8646\n"
     ]
    },
    {
     "name": "stderr",
     "output_type": "stream",
     "text": [
      "Epoch 50/100 - Training: 100%|██████████| 101/101 [00:00<00:00, 2826.84it/s]\n",
      "Epoch 50/100 - Validation: 100%|██████████| 26/26 [00:00<00:00, 5216.55it/s]\n"
     ]
    },
    {
     "name": "stdout",
     "output_type": "stream",
     "text": [
      "Epoch 50/100 - Train Loss: 0.0120, Train Acc: 0.8503, Val Loss: 0.0122, Val Acc: 0.8658\n"
     ]
    },
    {
     "name": "stderr",
     "output_type": "stream",
     "text": [
      "Epoch 51/100 - Training: 100%|██████████| 101/101 [00:00<00:00, 2885.86it/s]\n",
      "Epoch 51/100 - Validation: 100%|██████████| 26/26 [00:00<00:00, 5105.19it/s]\n"
     ]
    },
    {
     "name": "stdout",
     "output_type": "stream",
     "text": [
      "Epoch 51/100 - Train Loss: 0.0120, Train Acc: 0.8506, Val Loss: 0.0122, Val Acc: 0.8658\n"
     ]
    },
    {
     "name": "stderr",
     "output_type": "stream",
     "text": [
      "Epoch 52/100 - Training: 100%|██████████| 101/101 [00:00<00:00, 2827.78it/s]\n",
      "Epoch 52/100 - Validation: 100%|██████████| 26/26 [00:00<00:00, 5454.23it/s]\n"
     ]
    },
    {
     "name": "stdout",
     "output_type": "stream",
     "text": [
      "Epoch 52/100 - Train Loss: 0.0120, Train Acc: 0.8500, Val Loss: 0.0122, Val Acc: 0.8658\n"
     ]
    },
    {
     "name": "stderr",
     "output_type": "stream",
     "text": [
      "Epoch 53/100 - Training: 100%|██████████| 101/101 [00:00<00:00, 2820.39it/s]\n",
      "Epoch 53/100 - Validation: 100%|██████████| 26/26 [00:00<00:00, 5390.87it/s]\n"
     ]
    },
    {
     "name": "stdout",
     "output_type": "stream",
     "text": [
      "Epoch 53/100 - Train Loss: 0.0120, Train Acc: 0.8500, Val Loss: 0.0122, Val Acc: 0.8646\n"
     ]
    },
    {
     "name": "stderr",
     "output_type": "stream",
     "text": [
      "Epoch 54/100 - Training: 100%|██████████| 101/101 [00:00<00:00, 2802.51it/s]\n",
      "Epoch 54/100 - Validation: 100%|██████████| 26/26 [00:00<00:00, 5247.17it/s]\n"
     ]
    },
    {
     "name": "stdout",
     "output_type": "stream",
     "text": [
      "Epoch 54/100 - Train Loss: 0.0120, Train Acc: 0.8506, Val Loss: 0.0122, Val Acc: 0.8658\n"
     ]
    },
    {
     "name": "stderr",
     "output_type": "stream",
     "text": [
      "Epoch 55/100 - Training: 100%|██████████| 101/101 [00:00<00:00, 2499.31it/s]\n",
      "Epoch 55/100 - Validation: 100%|██████████| 26/26 [00:00<00:00, 4340.03it/s]\n"
     ]
    },
    {
     "name": "stdout",
     "output_type": "stream",
     "text": [
      "Epoch 55/100 - Train Loss: 0.0120, Train Acc: 0.8506, Val Loss: 0.0122, Val Acc: 0.8658\n"
     ]
    },
    {
     "name": "stderr",
     "output_type": "stream",
     "text": [
      "Epoch 56/100 - Training: 100%|██████████| 101/101 [00:00<00:00, 2684.98it/s]\n",
      "Epoch 56/100 - Validation: 100%|██████████| 26/26 [00:00<00:00, 5274.83it/s]\n"
     ]
    },
    {
     "name": "stdout",
     "output_type": "stream",
     "text": [
      "Epoch 56/100 - Train Loss: 0.0119, Train Acc: 0.8506, Val Loss: 0.0122, Val Acc: 0.8658\n"
     ]
    },
    {
     "name": "stderr",
     "output_type": "stream",
     "text": [
      "Epoch 57/100 - Training: 100%|██████████| 101/101 [00:00<00:00, 2848.51it/s]\n",
      "Epoch 57/100 - Validation: 100%|██████████| 26/26 [00:00<00:00, 5305.89it/s]\n"
     ]
    },
    {
     "name": "stdout",
     "output_type": "stream",
     "text": [
      "Epoch 57/100 - Train Loss: 0.0120, Train Acc: 0.8503, Val Loss: 0.0122, Val Acc: 0.8658\n"
     ]
    },
    {
     "name": "stderr",
     "output_type": "stream",
     "text": [
      "Epoch 58/100 - Training: 100%|██████████| 101/101 [00:00<00:00, 2816.73it/s]\n",
      "Epoch 58/100 - Validation: 100%|██████████| 26/26 [00:00<00:00, 5377.31it/s]\n"
     ]
    },
    {
     "name": "stdout",
     "output_type": "stream",
     "text": [
      "Epoch 58/100 - Train Loss: 0.0120, Train Acc: 0.8496, Val Loss: 0.0122, Val Acc: 0.8646\n"
     ]
    },
    {
     "name": "stderr",
     "output_type": "stream",
     "text": [
      "Epoch 59/100 - Training: 100%|██████████| 101/101 [00:00<00:00, 2861.27it/s]\n",
      "Epoch 59/100 - Validation: 100%|██████████| 26/26 [00:00<00:00, 5306.40it/s]\n"
     ]
    },
    {
     "name": "stdout",
     "output_type": "stream",
     "text": [
      "Epoch 59/100 - Train Loss: 0.0120, Train Acc: 0.8500, Val Loss: 0.0122, Val Acc: 0.8658\n"
     ]
    },
    {
     "name": "stderr",
     "output_type": "stream",
     "text": [
      "Epoch 60/100 - Training: 100%|██████████| 101/101 [00:00<00:00, 2674.30it/s]\n",
      "Epoch 60/100 - Validation: 100%|██████████| 26/26 [00:00<00:00, 4838.15it/s]\n"
     ]
    },
    {
     "name": "stdout",
     "output_type": "stream",
     "text": [
      "Epoch 60/100 - Train Loss: 0.0120, Train Acc: 0.8506, Val Loss: 0.0122, Val Acc: 0.8658\n"
     ]
    },
    {
     "name": "stderr",
     "output_type": "stream",
     "text": [
      "Epoch 61/100 - Training: 100%|██████████| 101/101 [00:00<00:00, 2610.17it/s]\n",
      "Epoch 61/100 - Validation: 100%|██████████| 26/26 [00:00<00:00, 4797.92it/s]\n"
     ]
    },
    {
     "name": "stdout",
     "output_type": "stream",
     "text": [
      "Epoch 61/100 - Train Loss: 0.0120, Train Acc: 0.8503, Val Loss: 0.0122, Val Acc: 0.8646\n"
     ]
    },
    {
     "name": "stderr",
     "output_type": "stream",
     "text": [
      "Epoch 62/100 - Training: 100%|██████████| 101/101 [00:00<00:00, 2635.17it/s]\n",
      "Epoch 62/100 - Validation: 100%|██████████| 26/26 [00:00<00:00, 5289.67it/s]\n"
     ]
    },
    {
     "name": "stdout",
     "output_type": "stream",
     "text": [
      "Epoch 62/100 - Train Loss: 0.0120, Train Acc: 0.8503, Val Loss: 0.0122, Val Acc: 0.8646\n"
     ]
    },
    {
     "name": "stderr",
     "output_type": "stream",
     "text": [
      "Epoch 63/100 - Training: 100%|██████████| 101/101 [00:00<00:00, 2790.29it/s]\n",
      "Epoch 63/100 - Validation: 100%|██████████| 26/26 [00:00<00:00, 5230.31it/s]\n"
     ]
    },
    {
     "name": "stdout",
     "output_type": "stream",
     "text": [
      "Epoch 63/100 - Train Loss: 0.0120, Train Acc: 0.8490, Val Loss: 0.0122, Val Acc: 0.8646\n"
     ]
    },
    {
     "name": "stderr",
     "output_type": "stream",
     "text": [
      "Epoch 64/100 - Training: 100%|██████████| 101/101 [00:00<00:00, 2446.59it/s]\n",
      "Epoch 64/100 - Validation: 100%|██████████| 26/26 [00:00<00:00, 5276.11it/s]\n"
     ]
    },
    {
     "name": "stdout",
     "output_type": "stream",
     "text": [
      "Epoch 64/100 - Train Loss: 0.0120, Train Acc: 0.8506, Val Loss: 0.0122, Val Acc: 0.8658\n"
     ]
    },
    {
     "name": "stderr",
     "output_type": "stream",
     "text": [
      "Epoch 65/100 - Training: 100%|██████████| 101/101 [00:00<00:00, 2790.97it/s]\n",
      "Epoch 65/100 - Validation: 100%|██████████| 26/26 [00:00<00:00, 5148.33it/s]\n"
     ]
    },
    {
     "name": "stdout",
     "output_type": "stream",
     "text": [
      "Epoch 65/100 - Train Loss: 0.0120, Train Acc: 0.8503, Val Loss: 0.0122, Val Acc: 0.8646\n"
     ]
    },
    {
     "name": "stderr",
     "output_type": "stream",
     "text": [
      "Epoch 66/100 - Training: 100%|██████████| 101/101 [00:00<00:00, 2404.77it/s]\n",
      "Epoch 66/100 - Validation: 100%|██████████| 26/26 [00:00<00:00, 3846.09it/s]\n"
     ]
    },
    {
     "name": "stdout",
     "output_type": "stream",
     "text": [
      "Epoch 66/100 - Train Loss: 0.0120, Train Acc: 0.8493, Val Loss: 0.0122, Val Acc: 0.8646\n"
     ]
    },
    {
     "name": "stderr",
     "output_type": "stream",
     "text": [
      "Epoch 67/100 - Training: 100%|██████████| 101/101 [00:00<00:00, 2676.63it/s]\n",
      "Epoch 67/100 - Validation: 100%|██████████| 26/26 [00:00<00:00, 5416.84it/s]\n"
     ]
    },
    {
     "name": "stdout",
     "output_type": "stream",
     "text": [
      "Epoch 67/100 - Train Loss: 0.0120, Train Acc: 0.8503, Val Loss: 0.0122, Val Acc: 0.8646\n"
     ]
    },
    {
     "name": "stderr",
     "output_type": "stream",
     "text": [
      "Epoch 68/100 - Training: 100%|██████████| 101/101 [00:00<00:00, 2827.07it/s]\n",
      "Epoch 68/100 - Validation: 100%|██████████| 26/26 [00:00<00:00, 5173.98it/s]\n"
     ]
    },
    {
     "name": "stdout",
     "output_type": "stream",
     "text": [
      "Epoch 68/100 - Train Loss: 0.0120, Train Acc: 0.8500, Val Loss: 0.0122, Val Acc: 0.8646\n"
     ]
    },
    {
     "name": "stderr",
     "output_type": "stream",
     "text": [
      "Epoch 69/100 - Training: 100%|██████████| 101/101 [00:00<00:00, 2793.92it/s]\n",
      "Epoch 69/100 - Validation: 100%|██████████| 26/26 [00:00<00:00, 5126.06it/s]\n"
     ]
    },
    {
     "name": "stdout",
     "output_type": "stream",
     "text": [
      "Epoch 69/100 - Train Loss: 0.0120, Train Acc: 0.8506, Val Loss: 0.0122, Val Acc: 0.8646\n"
     ]
    },
    {
     "name": "stderr",
     "output_type": "stream",
     "text": [
      "Epoch 70/100 - Training: 100%|██████████| 101/101 [00:00<00:00, 2835.64it/s]\n",
      "Epoch 70/100 - Validation: 100%|██████████| 26/26 [00:00<00:00, 4977.72it/s]\n"
     ]
    },
    {
     "name": "stdout",
     "output_type": "stream",
     "text": [
      "Epoch 70/100 - Train Loss: 0.0120, Train Acc: 0.8493, Val Loss: 0.0122, Val Acc: 0.8658\n"
     ]
    },
    {
     "name": "stderr",
     "output_type": "stream",
     "text": [
      "Epoch 71/100 - Training: 100%|██████████| 101/101 [00:00<00:00, 2827.97it/s]\n",
      "Epoch 71/100 - Validation: 100%|██████████| 26/26 [00:00<00:00, 5165.64it/s]\n"
     ]
    },
    {
     "name": "stdout",
     "output_type": "stream",
     "text": [
      "Epoch 71/100 - Train Loss: 0.0120, Train Acc: 0.8503, Val Loss: 0.0122, Val Acc: 0.8646\n"
     ]
    },
    {
     "name": "stderr",
     "output_type": "stream",
     "text": [
      "Epoch 72/100 - Training: 100%|██████████| 101/101 [00:00<00:00, 2824.47it/s]\n",
      "Epoch 72/100 - Validation: 100%|██████████| 26/26 [00:00<00:00, 5217.79it/s]\n"
     ]
    },
    {
     "name": "stdout",
     "output_type": "stream",
     "text": [
      "Epoch 72/100 - Train Loss: 0.0120, Train Acc: 0.8496, Val Loss: 0.0122, Val Acc: 0.8658\n"
     ]
    },
    {
     "name": "stderr",
     "output_type": "stream",
     "text": [
      "Epoch 73/100 - Training: 100%|██████████| 101/101 [00:00<00:00, 2809.28it/s]\n",
      "Epoch 73/100 - Validation: 100%|██████████| 26/26 [00:00<00:00, 5109.01it/s]\n"
     ]
    },
    {
     "name": "stdout",
     "output_type": "stream",
     "text": [
      "Epoch 73/100 - Train Loss: 0.0120, Train Acc: 0.8496, Val Loss: 0.0122, Val Acc: 0.8646\n"
     ]
    },
    {
     "name": "stderr",
     "output_type": "stream",
     "text": [
      "Epoch 74/100 - Training: 100%|██████████| 101/101 [00:00<00:00, 2815.64it/s]\n",
      "Epoch 74/100 - Validation: 100%|██████████| 26/26 [00:00<00:00, 5276.11it/s]\n"
     ]
    },
    {
     "name": "stdout",
     "output_type": "stream",
     "text": [
      "Epoch 74/100 - Train Loss: 0.0120, Train Acc: 0.8503, Val Loss: 0.0122, Val Acc: 0.8658\n"
     ]
    },
    {
     "name": "stderr",
     "output_type": "stream",
     "text": [
      "Epoch 75/100 - Training: 100%|██████████| 101/101 [00:00<00:00, 2850.54it/s]\n",
      "Epoch 75/100 - Validation: 100%|██████████| 26/26 [00:00<00:00, 5223.29it/s]\n"
     ]
    },
    {
     "name": "stdout",
     "output_type": "stream",
     "text": [
      "Epoch 75/100 - Train Loss: 0.0120, Train Acc: 0.8506, Val Loss: 0.0122, Val Acc: 0.8646\n"
     ]
    },
    {
     "name": "stderr",
     "output_type": "stream",
     "text": [
      "Epoch 76/100 - Training: 100%|██████████| 101/101 [00:00<00:00, 2880.35it/s]\n",
      "Epoch 76/100 - Validation: 100%|██████████| 26/26 [00:00<00:00, 5304.85it/s]\n"
     ]
    },
    {
     "name": "stdout",
     "output_type": "stream",
     "text": [
      "Epoch 76/100 - Train Loss: 0.0120, Train Acc: 0.8506, Val Loss: 0.0122, Val Acc: 0.8646\n"
     ]
    },
    {
     "name": "stderr",
     "output_type": "stream",
     "text": [
      "Epoch 77/100 - Training: 100%|██████████| 101/101 [00:00<00:00, 2909.57it/s]\n",
      "Epoch 77/100 - Validation: 100%|██████████| 26/26 [00:00<00:00, 5421.15it/s]\n"
     ]
    },
    {
     "name": "stdout",
     "output_type": "stream",
     "text": [
      "Epoch 77/100 - Train Loss: 0.0120, Train Acc: 0.8503, Val Loss: 0.0122, Val Acc: 0.8658\n"
     ]
    },
    {
     "name": "stderr",
     "output_type": "stream",
     "text": [
      "Epoch 78/100 - Training: 100%|██████████| 101/101 [00:00<00:00, 2305.05it/s]\n",
      "Epoch 78/100 - Validation: 100%|██████████| 26/26 [00:00<00:00, 5416.57it/s]\n"
     ]
    },
    {
     "name": "stdout",
     "output_type": "stream",
     "text": [
      "Epoch 78/100 - Train Loss: 0.0120, Train Acc: 0.8503, Val Loss: 0.0122, Val Acc: 0.8658\n"
     ]
    },
    {
     "name": "stderr",
     "output_type": "stream",
     "text": [
      "Epoch 79/100 - Training: 100%|██████████| 101/101 [00:00<00:00, 2812.60it/s]\n",
      "Epoch 79/100 - Validation: 100%|██████████| 26/26 [00:00<00:00, 5447.15it/s]\n"
     ]
    },
    {
     "name": "stdout",
     "output_type": "stream",
     "text": [
      "Epoch 79/100 - Train Loss: 0.0120, Train Acc: 0.8500, Val Loss: 0.0122, Val Acc: 0.8646\n"
     ]
    },
    {
     "name": "stderr",
     "output_type": "stream",
     "text": [
      "Epoch 80/100 - Training: 100%|██████████| 101/101 [00:00<00:00, 2782.06it/s]\n",
      "Epoch 80/100 - Validation: 100%|██████████| 26/26 [00:00<00:00, 5310.54it/s]\n"
     ]
    },
    {
     "name": "stdout",
     "output_type": "stream",
     "text": [
      "Epoch 80/100 - Train Loss: 0.0120, Train Acc: 0.8506, Val Loss: 0.0122, Val Acc: 0.8646\n"
     ]
    },
    {
     "name": "stderr",
     "output_type": "stream",
     "text": [
      "Epoch 81/100 - Training: 100%|██████████| 101/101 [00:00<00:00, 2862.89it/s]\n",
      "Epoch 81/100 - Validation: 100%|██████████| 26/26 [00:00<00:00, 5148.57it/s]\n"
     ]
    },
    {
     "name": "stdout",
     "output_type": "stream",
     "text": [
      "Epoch 81/100 - Train Loss: 0.0120, Train Acc: 0.8500, Val Loss: 0.0122, Val Acc: 0.8658\n"
     ]
    },
    {
     "name": "stderr",
     "output_type": "stream",
     "text": [
      "Epoch 82/100 - Training: 100%|██████████| 101/101 [00:00<00:00, 2844.99it/s]\n",
      "Epoch 82/100 - Validation: 100%|██████████| 26/26 [00:00<00:00, 5147.36it/s]\n"
     ]
    },
    {
     "name": "stdout",
     "output_type": "stream",
     "text": [
      "Epoch 82/100 - Train Loss: 0.0120, Train Acc: 0.8500, Val Loss: 0.0122, Val Acc: 0.8658\n"
     ]
    },
    {
     "name": "stderr",
     "output_type": "stream",
     "text": [
      "Epoch 83/100 - Training: 100%|██████████| 101/101 [00:00<00:00, 2786.20it/s]\n",
      "Epoch 83/100 - Validation: 100%|██████████| 26/26 [00:00<00:00, 5296.35it/s]\n"
     ]
    },
    {
     "name": "stdout",
     "output_type": "stream",
     "text": [
      "Epoch 83/100 - Train Loss: 0.0120, Train Acc: 0.8506, Val Loss: 0.0122, Val Acc: 0.8658\n"
     ]
    },
    {
     "name": "stderr",
     "output_type": "stream",
     "text": [
      "Epoch 84/100 - Training: 100%|██████████| 101/101 [00:00<00:00, 2795.39it/s]\n",
      "Epoch 84/100 - Validation: 100%|██████████| 26/26 [00:00<00:00, 5207.33it/s]\n"
     ]
    },
    {
     "name": "stdout",
     "output_type": "stream",
     "text": [
      "Epoch 84/100 - Train Loss: 0.0120, Train Acc: 0.8503, Val Loss: 0.0122, Val Acc: 0.8658\n"
     ]
    },
    {
     "name": "stderr",
     "output_type": "stream",
     "text": [
      "Epoch 85/100 - Training: 100%|██████████| 101/101 [00:00<00:00, 2834.07it/s]\n",
      "Epoch 85/100 - Validation: 100%|██████████| 26/26 [00:00<00:00, 4964.58it/s]\n"
     ]
    },
    {
     "name": "stdout",
     "output_type": "stream",
     "text": [
      "Epoch 85/100 - Train Loss: 0.0120, Train Acc: 0.8500, Val Loss: 0.0122, Val Acc: 0.8658\n"
     ]
    },
    {
     "name": "stderr",
     "output_type": "stream",
     "text": [
      "Epoch 86/100 - Training: 100%|██████████| 101/101 [00:00<00:00, 2811.25it/s]\n",
      "Epoch 86/100 - Validation: 100%|██████████| 26/26 [00:00<00:00, 5335.48it/s]\n"
     ]
    },
    {
     "name": "stdout",
     "output_type": "stream",
     "text": [
      "Epoch 86/100 - Train Loss: 0.0120, Train Acc: 0.8493, Val Loss: 0.0122, Val Acc: 0.8646\n"
     ]
    },
    {
     "name": "stderr",
     "output_type": "stream",
     "text": [
      "Epoch 87/100 - Training: 100%|██████████| 101/101 [00:00<00:00, 2886.87it/s]\n",
      "Epoch 87/100 - Validation: 100%|██████████| 26/26 [00:00<00:00, 5412.27it/s]\n"
     ]
    },
    {
     "name": "stdout",
     "output_type": "stream",
     "text": [
      "Epoch 87/100 - Train Loss: 0.0120, Train Acc: 0.8503, Val Loss: 0.0122, Val Acc: 0.8646\n"
     ]
    },
    {
     "name": "stderr",
     "output_type": "stream",
     "text": [
      "Epoch 88/100 - Training: 100%|██████████| 101/101 [00:00<00:00, 2865.48it/s]\n",
      "Epoch 88/100 - Validation: 100%|██████████| 26/26 [00:00<00:00, 5354.08it/s]\n"
     ]
    },
    {
     "name": "stdout",
     "output_type": "stream",
     "text": [
      "Epoch 88/100 - Train Loss: 0.0120, Train Acc: 0.8493, Val Loss: 0.0122, Val Acc: 0.8658\n"
     ]
    },
    {
     "name": "stderr",
     "output_type": "stream",
     "text": [
      "Epoch 89/100 - Training: 100%|██████████| 101/101 [00:00<00:00, 2281.61it/s]\n",
      "Epoch 89/100 - Validation: 100%|██████████| 26/26 [00:00<00:00, 5255.77it/s]\n"
     ]
    },
    {
     "name": "stdout",
     "output_type": "stream",
     "text": [
      "Epoch 89/100 - Train Loss: 0.0120, Train Acc: 0.8500, Val Loss: 0.0122, Val Acc: 0.8646\n"
     ]
    },
    {
     "name": "stderr",
     "output_type": "stream",
     "text": [
      "Epoch 90/100 - Training: 100%|██████████| 101/101 [00:00<00:00, 2820.52it/s]\n",
      "Epoch 90/100 - Validation: 100%|██████████| 26/26 [00:00<00:00, 5332.35it/s]\n"
     ]
    },
    {
     "name": "stdout",
     "output_type": "stream",
     "text": [
      "Epoch 90/100 - Train Loss: 0.0120, Train Acc: 0.8496, Val Loss: 0.0122, Val Acc: 0.8646\n"
     ]
    },
    {
     "name": "stderr",
     "output_type": "stream",
     "text": [
      "Epoch 91/100 - Training: 100%|██████████| 101/101 [00:00<00:00, 2858.18it/s]\n",
      "Epoch 91/100 - Validation: 100%|██████████| 26/26 [00:00<00:00, 5375.46it/s]\n"
     ]
    },
    {
     "name": "stdout",
     "output_type": "stream",
     "text": [
      "Epoch 91/100 - Train Loss: 0.0120, Train Acc: 0.8500, Val Loss: 0.0122, Val Acc: 0.8658\n"
     ]
    },
    {
     "name": "stderr",
     "output_type": "stream",
     "text": [
      "Epoch 92/100 - Training: 100%|██████████| 101/101 [00:00<00:00, 2865.08it/s]\n",
      "Epoch 92/100 - Validation: 100%|██████████| 26/26 [00:00<00:00, 5369.90it/s]\n"
     ]
    },
    {
     "name": "stdout",
     "output_type": "stream",
     "text": [
      "Epoch 92/100 - Train Loss: 0.0120, Train Acc: 0.8496, Val Loss: 0.0122, Val Acc: 0.8646\n"
     ]
    },
    {
     "name": "stderr",
     "output_type": "stream",
     "text": [
      "Epoch 93/100 - Training: 100%|██████████| 101/101 [00:00<00:00, 2869.15it/s]\n",
      "Epoch 93/100 - Validation: 100%|██████████| 26/26 [00:00<00:00, 5387.41it/s]\n"
     ]
    },
    {
     "name": "stdout",
     "output_type": "stream",
     "text": [
      "Epoch 93/100 - Train Loss: 0.0120, Train Acc: 0.8496, Val Loss: 0.0122, Val Acc: 0.8646\n"
     ]
    },
    {
     "name": "stderr",
     "output_type": "stream",
     "text": [
      "Epoch 94/100 - Training: 100%|██████████| 101/101 [00:00<00:00, 2879.70it/s]\n",
      "Epoch 94/100 - Validation: 100%|██████████| 26/26 [00:00<00:00, 5311.06it/s]\n"
     ]
    },
    {
     "name": "stdout",
     "output_type": "stream",
     "text": [
      "Epoch 94/100 - Train Loss: 0.0120, Train Acc: 0.8500, Val Loss: 0.0122, Val Acc: 0.8671\n"
     ]
    },
    {
     "name": "stderr",
     "output_type": "stream",
     "text": [
      "Epoch 95/100 - Training: 100%|██████████| 101/101 [00:00<00:00, 2881.59it/s]\n",
      "Epoch 95/100 - Validation: 100%|██████████| 26/26 [00:00<00:00, 5331.05it/s]\n"
     ]
    },
    {
     "name": "stdout",
     "output_type": "stream",
     "text": [
      "Epoch 95/100 - Train Loss: 0.0120, Train Acc: 0.8500, Val Loss: 0.0122, Val Acc: 0.8658\n"
     ]
    },
    {
     "name": "stderr",
     "output_type": "stream",
     "text": [
      "Epoch 96/100 - Training: 100%|██████████| 101/101 [00:00<00:00, 2890.59it/s]\n",
      "Epoch 96/100 - Validation: 100%|██████████| 26/26 [00:00<00:00, 5288.90it/s]\n"
     ]
    },
    {
     "name": "stdout",
     "output_type": "stream",
     "text": [
      "Epoch 96/100 - Train Loss: 0.0120, Train Acc: 0.8506, Val Loss: 0.0122, Val Acc: 0.8646\n"
     ]
    },
    {
     "name": "stderr",
     "output_type": "stream",
     "text": [
      "Epoch 97/100 - Training: 100%|██████████| 101/101 [00:00<00:00, 2847.23it/s]\n",
      "Epoch 97/100 - Validation: 100%|██████████| 26/26 [00:00<00:00, 5240.86it/s]\n"
     ]
    },
    {
     "name": "stdout",
     "output_type": "stream",
     "text": [
      "Epoch 97/100 - Train Loss: 0.0120, Train Acc: 0.8503, Val Loss: 0.0122, Val Acc: 0.8646\n"
     ]
    },
    {
     "name": "stderr",
     "output_type": "stream",
     "text": [
      "Epoch 98/100 - Training: 100%|██████████| 101/101 [00:00<00:00, 2826.82it/s]\n",
      "Epoch 98/100 - Validation: 100%|██████████| 26/26 [00:00<00:00, 5195.92it/s]\n"
     ]
    },
    {
     "name": "stdout",
     "output_type": "stream",
     "text": [
      "Epoch 98/100 - Train Loss: 0.0120, Train Acc: 0.8500, Val Loss: 0.0122, Val Acc: 0.8658\n"
     ]
    },
    {
     "name": "stderr",
     "output_type": "stream",
     "text": [
      "Epoch 99/100 - Training: 100%|██████████| 101/101 [00:00<00:00, 2472.15it/s]\n",
      "Epoch 99/100 - Validation: 100%|██████████| 26/26 [00:00<00:00, 4285.45it/s]\n"
     ]
    },
    {
     "name": "stdout",
     "output_type": "stream",
     "text": [
      "Epoch 99/100 - Train Loss: 0.0120, Train Acc: 0.8509, Val Loss: 0.0122, Val Acc: 0.8658\n"
     ]
    },
    {
     "name": "stderr",
     "output_type": "stream",
     "text": [
      "Epoch 100/100 - Training: 100%|██████████| 101/101 [00:00<00:00, 2450.10it/s]\n",
      "Epoch 100/100 - Validation: 100%|██████████| 26/26 [00:00<00:00, 5257.79it/s]"
     ]
    },
    {
     "name": "stdout",
     "output_type": "stream",
     "text": [
      "Epoch 100/100 - Train Loss: 0.0120, Train Acc: 0.8500, Val Loss: 0.0122, Val Acc: 0.8646\n"
     ]
    },
    {
     "name": "stderr",
     "output_type": "stream",
     "text": [
      "\n"
     ]
    }
   ],
   "source": [
    "model = SLP(input_dim=X_train_tensor.shape[1], output_dim=2)\n",
    "\n",
    "criterion = nn.CrossEntropyLoss()\n",
    "# optimizer = torch.optim.SGD(model.parameters(), lr=0.001)\n",
    "optimizer = torch.optim.Adam(model.parameters(), lr=0.001)\n",
    "epochs = 100\n",
    "\n",
    "train_losses, train_accuracies, val_losses, val_accuracies = train(\n",
    "    model, train_loader, criterion, optimizer, epochs=epochs\n",
    ")"
   ]
  },
  {
   "cell_type": "code",
   "execution_count": 49,
   "id": "c75bcc4a",
   "metadata": {},
   "outputs": [
    {
     "data": {
      "image/png": "[encoded data removed]",
      "text/plain": [
       "<Figure size 1200x500 with 2 Axes>"
      ]
     },
     "metadata": {},
     "output_type": "display_data"
    }
   ],
   "source": [
    "epochs_range = list(range(1, epochs + 1))\n",
    "\n",
    "fig, axs = plt.subplots(1, 2, figsize=(12, 5))\n",
    "\n",
    "# Plot Loss\n",
    "axs[0].plot(epochs_range, train_losses, label=\"Train Loss\")\n",
    "axs[0].plot(epochs_range, val_losses, label=\"Validation Loss\")\n",
    "axs[0].set_xlabel(\"Epochs\")\n",
    "axs[0].set_ylabel(\"Loss\")\n",
    "axs[0].set_title(\"Loss Curve\")\n",
    "axs[0].legend()\n",
    "axs[0].grid(True)\n",
    "\n",
    "# Plot Accuracy\n",
    "axs[1].plot(epochs_range, train_accuracies, label=\"Train Accuracy\")\n",
    "axs[1].plot(epochs_range, val_accuracies, label=\"Validation Accuracy\")\n",
    "axs[1].set_xlabel(\"Epochs\")\n",
    "axs[1].set_ylabel(\"Accuracy\")\n",
    "axs[1].set_title(\"Accuracy Curve\")\n",
    "axs[1].legend()\n",
    "axs[1].grid(True)\n",
    "\n",
    "plt.tight_layout()\n",
    "plt.show()\n"
   ]
  }
 ],
 "metadata": {
  "kernelspec": {
   "display_name": ".venv",
   "language": "python",
   "name": "python3"
  },
  "language_info": {
   "codemirror_mode": {
    "name": "ipython",
    "version": 3
   },
   "file_extension": ".py",
   "mimetype": "text/x-python",
   "name": "python",
   "nbconvert_exporter": "python",
   "pygments_lexer": "ipython3",
   "version": "3.13.5"
  }
 },
 "nbformat": 4,
 "nbformat_minor": 5
}
