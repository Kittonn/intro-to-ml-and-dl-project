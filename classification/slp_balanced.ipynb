{
 "cells": [
  {
   "cell_type": "code",
   "execution_count": 60,
   "id": "c3e7b01d",
   "metadata": {},
   "outputs": [
    {
     "name": "stdout",
     "output_type": "stream",
     "text": [
      "Requirement already satisfied: pandas in /Users/7n100489/Library/CloudStorage/OneDrive-BankofAyudhyaPublicCompanyLimited/Desktop/Workspace/github/intro-to-ml-and-dl-project/.venv/lib/python3.13/site-packages (2.3.3)\n",
      "Requirement already satisfied: torch in /Users/7n100489/Library/CloudStorage/OneDrive-BankofAyudhyaPublicCompanyLimited/Desktop/Workspace/github/intro-to-ml-and-dl-project/.venv/lib/python3.13/site-packages (2.8.0)\n",
      "Requirement already satisfied: tqdm in /Users/7n100489/Library/CloudStorage/OneDrive-BankofAyudhyaPublicCompanyLimited/Desktop/Workspace/github/intro-to-ml-and-dl-project/.venv/lib/python3.13/site-packages (4.67.1)\n",
      "Requirement already satisfied: matplotlib in /Users/7n100489/Library/CloudStorage/OneDrive-BankofAyudhyaPublicCompanyLimited/Desktop/Workspace/github/intro-to-ml-and-dl-project/.venv/lib/python3.13/site-packages (3.10.6)\n",
      "Requirement already satisfied: imblearn in /Users/7n100489/Library/CloudStorage/OneDrive-BankofAyudhyaPublicCompanyLimited/Desktop/Workspace/github/intro-to-ml-and-dl-project/.venv/lib/python3.13/site-packages (0.0)\n",
      "Requirement already satisfied: numpy>=1.26.0 in /Users/7n100489/Library/CloudStorage/OneDrive-BankofAyudhyaPublicCompanyLimited/Desktop/Workspace/github/intro-to-ml-and-dl-project/.venv/lib/python3.13/site-packages (from pandas) (2.3.3)\n",
      "Requirement already satisfied: python-dateutil>=2.8.2 in /Users/7n100489/Library/CloudStorage/OneDrive-BankofAyudhyaPublicCompanyLimited/Desktop/Workspace/github/intro-to-ml-and-dl-project/.venv/lib/python3.13/site-packages (from pandas) (2.9.0.post0)\n",
      "Requirement already satisfied: pytz>=2020.1 in /Users/7n100489/Library/CloudStorage/OneDrive-BankofAyudhyaPublicCompanyLimited/Desktop/Workspace/github/intro-to-ml-and-dl-project/.venv/lib/python3.13/site-packages (from pandas) (2025.2)\n",
      "Requirement already satisfied: tzdata>=2022.7 in /Users/7n100489/Library/CloudStorage/OneDrive-BankofAyudhyaPublicCompanyLimited/Desktop/Workspace/github/intro-to-ml-and-dl-project/.venv/lib/python3.13/site-packages (from pandas) (2025.2)\n",
      "Requirement already satisfied: filelock in /Users/7n100489/Library/CloudStorage/OneDrive-BankofAyudhyaPublicCompanyLimited/Desktop/Workspace/github/intro-to-ml-and-dl-project/.venv/lib/python3.13/site-packages (from torch) (3.19.1)\n",
      "Requirement already satisfied: typing-extensions>=4.10.0 in /Users/7n100489/Library/CloudStorage/OneDrive-BankofAyudhyaPublicCompanyLimited/Desktop/Workspace/github/intro-to-ml-and-dl-project/.venv/lib/python3.13/site-packages (from torch) (4.15.0)\n",
      "Requirement already satisfied: setuptools in /Users/7n100489/Library/CloudStorage/OneDrive-BankofAyudhyaPublicCompanyLimited/Desktop/Workspace/github/intro-to-ml-and-dl-project/.venv/lib/python3.13/site-packages (from torch) (80.9.0)\n",
      "Requirement already satisfied: sympy>=1.13.3 in /Users/7n100489/Library/CloudStorage/OneDrive-BankofAyudhyaPublicCompanyLimited/Desktop/Workspace/github/intro-to-ml-and-dl-project/.venv/lib/python3.13/site-packages (from torch) (1.14.0)\n",
      "Requirement already satisfied: networkx in /Users/7n100489/Library/CloudStorage/OneDrive-BankofAyudhyaPublicCompanyLimited/Desktop/Workspace/github/intro-to-ml-and-dl-project/.venv/lib/python3.13/site-packages (from torch) (3.5)\n",
      "Requirement already satisfied: jinja2 in /Users/7n100489/Library/CloudStorage/OneDrive-BankofAyudhyaPublicCompanyLimited/Desktop/Workspace/github/intro-to-ml-and-dl-project/.venv/lib/python3.13/site-packages (from torch) (3.1.6)\n",
      "Requirement already satisfied: fsspec in /Users/7n100489/Library/CloudStorage/OneDrive-BankofAyudhyaPublicCompanyLimited/Desktop/Workspace/github/intro-to-ml-and-dl-project/.venv/lib/python3.13/site-packages (from torch) (2025.9.0)\n",
      "Requirement already satisfied: contourpy>=1.0.1 in /Users/7n100489/Library/CloudStorage/OneDrive-BankofAyudhyaPublicCompanyLimited/Desktop/Workspace/github/intro-to-ml-and-dl-project/.venv/lib/python3.13/site-packages (from matplotlib) (1.3.3)\n",
      "Requirement already satisfied: cycler>=0.10 in /Users/7n100489/Library/CloudStorage/OneDrive-BankofAyudhyaPublicCompanyLimited/Desktop/Workspace/github/intro-to-ml-and-dl-project/.venv/lib/python3.13/site-packages (from matplotlib) (0.12.1)\n",
      "Requirement already satisfied: fonttools>=4.22.0 in /Users/7n100489/Library/CloudStorage/OneDrive-BankofAyudhyaPublicCompanyLimited/Desktop/Workspace/github/intro-to-ml-and-dl-project/.venv/lib/python3.13/site-packages (from matplotlib) (4.60.1)\n",
      "Requirement already satisfied: kiwisolver>=1.3.1 in /Users/7n100489/Library/CloudStorage/OneDrive-BankofAyudhyaPublicCompanyLimited/Desktop/Workspace/github/intro-to-ml-and-dl-project/.venv/lib/python3.13/site-packages (from matplotlib) (1.4.9)\n",
      "Requirement already satisfied: packaging>=20.0 in /Users/7n100489/Library/CloudStorage/OneDrive-BankofAyudhyaPublicCompanyLimited/Desktop/Workspace/github/intro-to-ml-and-dl-project/.venv/lib/python3.13/site-packages (from matplotlib) (25.0)\n",
      "Requirement already satisfied: pillow>=8 in /Users/7n100489/Library/CloudStorage/OneDrive-BankofAyudhyaPublicCompanyLimited/Desktop/Workspace/github/intro-to-ml-and-dl-project/.venv/lib/python3.13/site-packages (from matplotlib) (11.3.0)\n",
      "Requirement already satisfied: pyparsing>=2.3.1 in /Users/7n100489/Library/CloudStorage/OneDrive-BankofAyudhyaPublicCompanyLimited/Desktop/Workspace/github/intro-to-ml-and-dl-project/.venv/lib/python3.13/site-packages (from matplotlib) (3.2.5)\n",
      "Requirement already satisfied: imbalanced-learn in /Users/7n100489/Library/CloudStorage/OneDrive-BankofAyudhyaPublicCompanyLimited/Desktop/Workspace/github/intro-to-ml-and-dl-project/.venv/lib/python3.13/site-packages (from imblearn) (0.14.0)\n",
      "Requirement already satisfied: six>=1.5 in /Users/7n100489/Library/CloudStorage/OneDrive-BankofAyudhyaPublicCompanyLimited/Desktop/Workspace/github/intro-to-ml-and-dl-project/.venv/lib/python3.13/site-packages (from python-dateutil>=2.8.2->pandas) (1.17.0)\n",
      "Requirement already satisfied: mpmath<1.4,>=1.1.0 in /Users/7n100489/Library/CloudStorage/OneDrive-BankofAyudhyaPublicCompanyLimited/Desktop/Workspace/github/intro-to-ml-and-dl-project/.venv/lib/python3.13/site-packages (from sympy>=1.13.3->torch) (1.3.0)\n",
      "Requirement already satisfied: scipy<2,>=1.11.4 in /Users/7n100489/Library/CloudStorage/OneDrive-BankofAyudhyaPublicCompanyLimited/Desktop/Workspace/github/intro-to-ml-and-dl-project/.venv/lib/python3.13/site-packages (from imbalanced-learn->imblearn) (1.16.2)\n",
      "Requirement already satisfied: scikit-learn<2,>=1.4.2 in /Users/7n100489/Library/CloudStorage/OneDrive-BankofAyudhyaPublicCompanyLimited/Desktop/Workspace/github/intro-to-ml-and-dl-project/.venv/lib/python3.13/site-packages (from imbalanced-learn->imblearn) (1.7.2)\n",
      "Requirement already satisfied: joblib<2,>=1.2.0 in /Users/7n100489/Library/CloudStorage/OneDrive-BankofAyudhyaPublicCompanyLimited/Desktop/Workspace/github/intro-to-ml-and-dl-project/.venv/lib/python3.13/site-packages (from imbalanced-learn->imblearn) (1.5.2)\n",
      "Requirement already satisfied: threadpoolctl<4,>=2.0.0 in /Users/7n100489/Library/CloudStorage/OneDrive-BankofAyudhyaPublicCompanyLimited/Desktop/Workspace/github/intro-to-ml-and-dl-project/.venv/lib/python3.13/site-packages (from imbalanced-learn->imblearn) (3.6.0)\n",
      "Requirement already satisfied: MarkupSafe>=2.0 in /Users/7n100489/Library/CloudStorage/OneDrive-BankofAyudhyaPublicCompanyLimited/Desktop/Workspace/github/intro-to-ml-and-dl-project/.venv/lib/python3.13/site-packages (from jinja2->torch) (3.0.3)\n",
      "Note: you may need to restart the kernel to use updated packages.\n"
     ]
    }
   ],
   "source": [
    "%pip install pandas torch tqdm matplotlib imblearn"
   ]
  },
  {
   "cell_type": "code",
   "execution_count": 61,
   "id": "41b6430b",
   "metadata": {},
   "outputs": [],
   "source": [
    "import torch.nn as nn\n",
    "import torch\n",
    "import pandas as pd\n",
    "from sklearn.model_selection import train_test_split\n",
    "from sklearn.preprocessing import StandardScaler\n",
    "from torch.utils.data import DataLoader, TensorDataset\n",
    "from tqdm import tqdm\n",
    "import matplotlib.pyplot as plt\n"
   ]
  },
  {
   "cell_type": "code",
   "execution_count": 62,
   "id": "c30a672c",
   "metadata": {},
   "outputs": [],
   "source": [
    "df = pd.read_csv(\"../test_df_unbalanced_classification.csv\")\n",
    "\n",
    "selected_feature = [\n",
    "    \"differentiate\",\n",
    "    \"N Stage Encoded\",\n",
    "    \"Estrogen Status Encoded\",\n",
    "    \"Progesterone Status Encoded\",\n",
    "    \"Marital_Widowed\",\n",
    "]\n",
    "\n",
    "# X = df.drop(columns=[\"Survival More Than 6 Years\"]).values\n",
    "X = df[selected_feature].values\n",
    "y = df[\"Status_encoded\"].values\n",
    "\n",
    "X_train, X_test, y_train, y_test = train_test_split(\n",
    "    X, y, test_size=0.2, random_state=42\n",
    ")\n",
    "\n",
    "scaler = StandardScaler()\n",
    "X_train_scaled = scaler.fit_transform(X_train)\n",
    "X_test_scaled = scaler.transform(X_test)\n",
    "\n",
    "X_train_tensor = torch.tensor(X_train_scaled, dtype=torch.float32)\n",
    "X_test_tensor = torch.tensor(X_test_scaled, dtype=torch.float32)\n",
    "y_train_tensor = torch.tensor(y_train, dtype=torch.long)\n",
    "y_test_tensor = torch.tensor(y_test, dtype=torch.long)\n",
    "\n",
    "train_dataset = TensorDataset(X_train_tensor, y_train_tensor)\n",
    "train_loader = DataLoader(train_dataset, batch_size=32, shuffle=True)\n",
    "\n",
    "test_dataset = TensorDataset(X_test_tensor, y_test_tensor)\n",
    "test_loader = DataLoader(test_dataset, batch_size=32, shuffle=False)"
   ]
  },
  {
   "cell_type": "code",
   "execution_count": 63,
   "id": "e75fc86c",
   "metadata": {},
   "outputs": [],
   "source": [
    "class SLP(nn.Module):\n",
    "    def __init__(self, input_dim, output_dim):\n",
    "        super(SLP, self).__init__()\n",
    "        self.linear = nn.Linear(input_dim, output_dim)\n",
    "\n",
    "    def forward(self, x):\n",
    "        return self.linear(x)\n",
    "\n",
    "    def predict(self, x):\n",
    "        self.eval()\n",
    "        with torch.no_grad():\n",
    "            logits = self.forward(x)\n",
    "            probs = torch.softmax(logits, dim=1)\n",
    "            return torch.argmax(probs, dim=1)"
   ]
  },
  {
   "cell_type": "code",
   "execution_count": 64,
   "id": "ae18a3f4",
   "metadata": {},
   "outputs": [],
   "source": [
    "def train(model, train_loader, criterion, optimizer, epochs=50):\n",
    "    train_losses = []\n",
    "    train_accuracies = []\n",
    "    val_losses = []\n",
    "    val_accuracies = []\n",
    "\n",
    "    for epoch in range(epochs):\n",
    "        model.train()\n",
    "        train_acc = 0\n",
    "        train_loss = 0\n",
    "\n",
    "        for X_batch, y_batch in tqdm(\n",
    "            train_loader, desc=f\"Epoch {epoch + 1}/{epochs} - Training\"\n",
    "        ):\n",
    "            optimizer.zero_grad()\n",
    "            outputs = model(X_batch)\n",
    "            loss = criterion(outputs, y_batch)\n",
    "            loss.backward()\n",
    "            optimizer.step()\n",
    "            train_loss += loss.item()\n",
    "            _, predicted = torch.max(outputs, 1)\n",
    "            train_acc += (predicted == y_batch).sum().item()\n",
    "\n",
    "        avg_train_loss = train_loss / len(train_dataset)\n",
    "        avg_train_acc = train_acc / len(train_dataset)\n",
    "\n",
    "        train_losses.append(avg_train_loss)\n",
    "        train_accuracies.append(avg_train_acc)\n",
    "\n",
    "        model.eval()\n",
    "        val_acc = 0\n",
    "        val_loss = 0\n",
    "        with torch.no_grad():\n",
    "            for X_batch, y_batch in tqdm(\n",
    "                test_loader, desc=f\"Epoch {epoch + 1}/{epochs} - Validation\"\n",
    "            ):\n",
    "                outputs = model(X_batch)\n",
    "                loss = criterion(outputs, y_batch)\n",
    "                val_loss += loss.item()\n",
    "                _, predicted = torch.max(outputs, 1)\n",
    "                val_acc += (predicted == y_batch).sum().item()\n",
    "\n",
    "        avg_val_loss = val_loss / len(test_dataset)\n",
    "        avg_val_acc = val_acc / len(test_dataset)\n",
    "        val_losses.append(avg_val_loss)\n",
    "        val_accuracies.append(avg_val_acc)\n",
    "\n",
    "        print(\n",
    "            f\"Epoch {epoch + 1}/{epochs} - \"\n",
    "            f\"Train Loss: {avg_train_loss:.4f}, Train Acc: {avg_train_acc:.4f}, \"\n",
    "            f\"Val Loss: {avg_val_loss:.4f}, Val Acc: {avg_val_acc:.4f}\"\n",
    "        )\n",
    "\n",
    "    return train_losses, train_accuracies, val_losses, val_accuracies"
   ]
  },
  {
   "cell_type": "code",
   "execution_count": 65,
   "id": "2a40db54",
   "metadata": {},
   "outputs": [
    {
     "name": "stderr",
     "output_type": "stream",
     "text": [
      "Epoch 1/100 - Training: 100%|██████████| 31/31 [00:00<00:00, 2235.19it/s]\n",
      "Epoch 1/100 - Validation: 100%|██████████| 8/8 [00:00<00:00, 3537.63it/s]\n"
     ]
    },
    {
     "name": "stdout",
     "output_type": "stream",
     "text": [
      "Epoch 1/100 - Train Loss: 0.0212, Train Acc: 0.5878, Val Loss: 0.0214, Val Acc: 0.6518\n"
     ]
    },
    {
     "name": "stderr",
     "output_type": "stream",
     "text": [
      "Epoch 2/100 - Training: 100%|██████████| 31/31 [00:00<00:00, 1748.75it/s]\n",
      "Epoch 2/100 - Validation: 100%|██████████| 8/8 [00:00<00:00, 3015.59it/s]\n"
     ]
    },
    {
     "name": "stdout",
     "output_type": "stream",
     "text": [
      "Epoch 2/100 - Train Loss: 0.0211, Train Acc: 0.6162, Val Loss: 0.0214, Val Acc: 0.6518\n"
     ]
    },
    {
     "name": "stderr",
     "output_type": "stream",
     "text": [
      "Epoch 3/100 - Training: 100%|██████████| 31/31 [00:00<00:00, 2198.27it/s]\n",
      "Epoch 3/100 - Validation: 100%|██████████| 8/8 [00:00<00:00, 2973.10it/s]\n"
     ]
    },
    {
     "name": "stdout",
     "output_type": "stream",
     "text": [
      "Epoch 3/100 - Train Loss: 0.0211, Train Acc: 0.6162, Val Loss: 0.0214, Val Acc: 0.6518\n"
     ]
    },
    {
     "name": "stderr",
     "output_type": "stream",
     "text": [
      "Epoch 4/100 - Training: 100%|██████████| 31/31 [00:00<00:00, 2609.03it/s]\n",
      "Epoch 4/100 - Validation: 100%|██████████| 8/8 [00:00<00:00, 4046.12it/s]\n"
     ]
    },
    {
     "name": "stdout",
     "output_type": "stream",
     "text": [
      "Epoch 4/100 - Train Loss: 0.0210, Train Acc: 0.6162, Val Loss: 0.0213, Val Acc: 0.6518\n"
     ]
    },
    {
     "name": "stderr",
     "output_type": "stream",
     "text": [
      "Epoch 5/100 - Training: 100%|██████████| 31/31 [00:00<00:00, 2777.80it/s]\n",
      "Epoch 5/100 - Validation: 100%|██████████| 8/8 [00:00<00:00, 3980.36it/s]\n"
     ]
    },
    {
     "name": "stdout",
     "output_type": "stream",
     "text": [
      "Epoch 5/100 - Train Loss: 0.0210, Train Acc: 0.6183, Val Loss: 0.0213, Val Acc: 0.6518\n"
     ]
    },
    {
     "name": "stderr",
     "output_type": "stream",
     "text": [
      "Epoch 6/100 - Training: 100%|██████████| 31/31 [00:00<00:00, 2815.88it/s]\n",
      "Epoch 6/100 - Validation: 100%|██████████| 8/8 [00:00<00:00, 4407.52it/s]\n"
     ]
    },
    {
     "name": "stdout",
     "output_type": "stream",
     "text": [
      "Epoch 6/100 - Train Loss: 0.0209, Train Acc: 0.6193, Val Loss: 0.0212, Val Acc: 0.6518\n"
     ]
    },
    {
     "name": "stderr",
     "output_type": "stream",
     "text": [
      "Epoch 7/100 - Training: 100%|██████████| 31/31 [00:00<00:00, 2834.42it/s]\n",
      "Epoch 7/100 - Validation: 100%|██████████| 8/8 [00:00<00:00, 3996.00it/s]\n"
     ]
    },
    {
     "name": "stdout",
     "output_type": "stream",
     "text": [
      "Epoch 7/100 - Train Loss: 0.0208, Train Acc: 0.6193, Val Loss: 0.0212, Val Acc: 0.6518\n"
     ]
    },
    {
     "name": "stderr",
     "output_type": "stream",
     "text": [
      "Epoch 8/100 - Training: 100%|██████████| 31/31 [00:00<00:00, 2860.55it/s]\n",
      "Epoch 8/100 - Validation: 100%|██████████| 8/8 [00:00<00:00, 4340.81it/s]\n"
     ]
    },
    {
     "name": "stdout",
     "output_type": "stream",
     "text": [
      "Epoch 8/100 - Train Loss: 0.0208, Train Acc: 0.6193, Val Loss: 0.0212, Val Acc: 0.6518\n"
     ]
    },
    {
     "name": "stderr",
     "output_type": "stream",
     "text": [
      "Epoch 9/100 - Training: 100%|██████████| 31/31 [00:00<00:00, 2787.45it/s]\n",
      "Epoch 9/100 - Validation: 100%|██████████| 8/8 [00:00<00:00, 4357.72it/s]\n"
     ]
    },
    {
     "name": "stdout",
     "output_type": "stream",
     "text": [
      "Epoch 9/100 - Train Loss: 0.0207, Train Acc: 0.6193, Val Loss: 0.0211, Val Acc: 0.6518\n"
     ]
    },
    {
     "name": "stderr",
     "output_type": "stream",
     "text": [
      "Epoch 10/100 - Training: 100%|██████████| 31/31 [00:00<00:00, 2779.29it/s]\n",
      "Epoch 10/100 - Validation: 100%|██████████| 8/8 [00:00<00:00, 4130.28it/s]\n"
     ]
    },
    {
     "name": "stdout",
     "output_type": "stream",
     "text": [
      "Epoch 10/100 - Train Loss: 0.0207, Train Acc: 0.6193, Val Loss: 0.0211, Val Acc: 0.6518\n"
     ]
    },
    {
     "name": "stderr",
     "output_type": "stream",
     "text": [
      "Epoch 11/100 - Training: 100%|██████████| 31/31 [00:00<00:00, 2805.92it/s]\n",
      "Epoch 11/100 - Validation: 100%|██████████| 8/8 [00:00<00:00, 4104.02it/s]\n"
     ]
    },
    {
     "name": "stdout",
     "output_type": "stream",
     "text": [
      "Epoch 11/100 - Train Loss: 0.0206, Train Acc: 0.6193, Val Loss: 0.0211, Val Acc: 0.6518\n"
     ]
    },
    {
     "name": "stderr",
     "output_type": "stream",
     "text": [
      "Epoch 12/100 - Training: 100%|██████████| 31/31 [00:00<00:00, 2803.20it/s]\n",
      "Epoch 12/100 - Validation: 100%|██████████| 8/8 [00:00<00:00, 4226.53it/s]\n"
     ]
    },
    {
     "name": "stdout",
     "output_type": "stream",
     "text": [
      "Epoch 12/100 - Train Loss: 0.0206, Train Acc: 0.6193, Val Loss: 0.0210, Val Acc: 0.6559\n"
     ]
    },
    {
     "name": "stderr",
     "output_type": "stream",
     "text": [
      "Epoch 13/100 - Training: 100%|██████████| 31/31 [00:00<00:00, 2862.44it/s]\n",
      "Epoch 13/100 - Validation: 100%|██████████| 8/8 [00:00<00:00, 4232.40it/s]\n"
     ]
    },
    {
     "name": "stdout",
     "output_type": "stream",
     "text": [
      "Epoch 13/100 - Train Loss: 0.0205, Train Acc: 0.6223, Val Loss: 0.0210, Val Acc: 0.6559\n"
     ]
    },
    {
     "name": "stderr",
     "output_type": "stream",
     "text": [
      "Epoch 14/100 - Training: 100%|██████████| 31/31 [00:00<00:00, 2859.17it/s]\n",
      "Epoch 14/100 - Validation: 100%|██████████| 8/8 [00:00<00:00, 4579.56it/s]\n"
     ]
    },
    {
     "name": "stdout",
     "output_type": "stream",
     "text": [
      "Epoch 14/100 - Train Loss: 0.0205, Train Acc: 0.6223, Val Loss: 0.0210, Val Acc: 0.6559\n"
     ]
    },
    {
     "name": "stderr",
     "output_type": "stream",
     "text": [
      "Epoch 15/100 - Training: 100%|██████████| 31/31 [00:00<00:00, 2816.31it/s]\n",
      "Epoch 15/100 - Validation: 100%|██████████| 8/8 [00:00<00:00, 4083.54it/s]\n"
     ]
    },
    {
     "name": "stdout",
     "output_type": "stream",
     "text": [
      "Epoch 15/100 - Train Loss: 0.0204, Train Acc: 0.6223, Val Loss: 0.0209, Val Acc: 0.6559\n"
     ]
    },
    {
     "name": "stderr",
     "output_type": "stream",
     "text": [
      "Epoch 16/100 - Training: 100%|██████████| 31/31 [00:00<00:00, 2873.83it/s]\n",
      "Epoch 16/100 - Validation: 100%|██████████| 8/8 [00:00<00:00, 4291.40it/s]\n"
     ]
    },
    {
     "name": "stdout",
     "output_type": "stream",
     "text": [
      "Epoch 16/100 - Train Loss: 0.0204, Train Acc: 0.6223, Val Loss: 0.0209, Val Acc: 0.6559\n"
     ]
    },
    {
     "name": "stderr",
     "output_type": "stream",
     "text": [
      "Epoch 17/100 - Training: 100%|██████████| 31/31 [00:00<00:00, 2854.77it/s]\n",
      "Epoch 17/100 - Validation: 100%|██████████| 8/8 [00:00<00:00, 4135.88it/s]\n"
     ]
    },
    {
     "name": "stdout",
     "output_type": "stream",
     "text": [
      "Epoch 17/100 - Train Loss: 0.0203, Train Acc: 0.6345, Val Loss: 0.0209, Val Acc: 0.6599\n"
     ]
    },
    {
     "name": "stderr",
     "output_type": "stream",
     "text": [
      "Epoch 18/100 - Training: 100%|██████████| 31/31 [00:00<00:00, 2879.49it/s]\n",
      "Epoch 18/100 - Validation: 100%|██████████| 8/8 [00:00<00:00, 4463.81it/s]\n"
     ]
    },
    {
     "name": "stdout",
     "output_type": "stream",
     "text": [
      "Epoch 18/100 - Train Loss: 0.0203, Train Acc: 0.6426, Val Loss: 0.0208, Val Acc: 0.6599\n"
     ]
    },
    {
     "name": "stderr",
     "output_type": "stream",
     "text": [
      "Epoch 19/100 - Training: 100%|██████████| 31/31 [00:00<00:00, 2803.98it/s]\n",
      "Epoch 19/100 - Validation: 100%|██████████| 8/8 [00:00<00:00, 4221.75it/s]\n"
     ]
    },
    {
     "name": "stdout",
     "output_type": "stream",
     "text": [
      "Epoch 19/100 - Train Loss: 0.0202, Train Acc: 0.6477, Val Loss: 0.0208, Val Acc: 0.6599\n"
     ]
    },
    {
     "name": "stderr",
     "output_type": "stream",
     "text": [
      "Epoch 20/100 - Training: 100%|██████████| 31/31 [00:00<00:00, 2835.97it/s]\n",
      "Epoch 20/100 - Validation: 100%|██████████| 8/8 [00:00<00:00, 4340.81it/s]\n"
     ]
    },
    {
     "name": "stdout",
     "output_type": "stream",
     "text": [
      "Epoch 20/100 - Train Loss: 0.0202, Train Acc: 0.6487, Val Loss: 0.0208, Val Acc: 0.6599\n"
     ]
    },
    {
     "name": "stderr",
     "output_type": "stream",
     "text": [
      "Epoch 21/100 - Training: 100%|██████████| 31/31 [00:00<00:00, 2587.43it/s]\n",
      "Epoch 21/100 - Validation: 100%|██████████| 8/8 [00:00<00:00, 4191.16it/s]\n"
     ]
    },
    {
     "name": "stdout",
     "output_type": "stream",
     "text": [
      "Epoch 21/100 - Train Loss: 0.0202, Train Acc: 0.6487, Val Loss: 0.0208, Val Acc: 0.6599\n"
     ]
    },
    {
     "name": "stderr",
     "output_type": "stream",
     "text": [
      "Epoch 22/100 - Training: 100%|██████████| 31/31 [00:00<00:00, 2789.01it/s]\n",
      "Epoch 22/100 - Validation: 100%|██████████| 8/8 [00:00<00:00, 4113.07it/s]\n"
     ]
    },
    {
     "name": "stdout",
     "output_type": "stream",
     "text": [
      "Epoch 22/100 - Train Loss: 0.0201, Train Acc: 0.6487, Val Loss: 0.0207, Val Acc: 0.6599\n"
     ]
    },
    {
     "name": "stderr",
     "output_type": "stream",
     "text": [
      "Epoch 23/100 - Training: 100%|██████████| 31/31 [00:00<00:00, 2861.05it/s]\n",
      "Epoch 23/100 - Validation: 100%|██████████| 8/8 [00:00<00:00, 4487.09it/s]\n"
     ]
    },
    {
     "name": "stdout",
     "output_type": "stream",
     "text": [
      "Epoch 23/100 - Train Loss: 0.0201, Train Acc: 0.6487, Val Loss: 0.0207, Val Acc: 0.6599\n"
     ]
    },
    {
     "name": "stderr",
     "output_type": "stream",
     "text": [
      "Epoch 24/100 - Training: 100%|██████████| 31/31 [00:00<00:00, 2826.10it/s]\n",
      "Epoch 24/100 - Validation: 100%|██████████| 8/8 [00:00<00:00, 4444.30it/s]\n"
     ]
    },
    {
     "name": "stdout",
     "output_type": "stream",
     "text": [
      "Epoch 24/100 - Train Loss: 0.0201, Train Acc: 0.6487, Val Loss: 0.0207, Val Acc: 0.6599\n"
     ]
    },
    {
     "name": "stderr",
     "output_type": "stream",
     "text": [
      "Epoch 25/100 - Training: 100%|██████████| 31/31 [00:00<00:00, 2867.49it/s]\n",
      "Epoch 25/100 - Validation: 100%|██████████| 8/8 [00:00<00:00, 4434.31it/s]\n"
     ]
    },
    {
     "name": "stdout",
     "output_type": "stream",
     "text": [
      "Epoch 25/100 - Train Loss: 0.0200, Train Acc: 0.6487, Val Loss: 0.0207, Val Acc: 0.6599\n"
     ]
    },
    {
     "name": "stderr",
     "output_type": "stream",
     "text": [
      "Epoch 26/100 - Training: 100%|██████████| 31/31 [00:00<00:00, 2883.19it/s]\n",
      "Epoch 26/100 - Validation: 100%|██████████| 8/8 [00:00<00:00, 4302.95it/s]\n"
     ]
    },
    {
     "name": "stdout",
     "output_type": "stream",
     "text": [
      "Epoch 26/100 - Train Loss: 0.0200, Train Acc: 0.6477, Val Loss: 0.0207, Val Acc: 0.6599\n"
     ]
    },
    {
     "name": "stderr",
     "output_type": "stream",
     "text": [
      "Epoch 27/100 - Training: 100%|██████████| 31/31 [00:00<00:00, 2818.20it/s]\n",
      "Epoch 27/100 - Validation: 100%|██████████| 8/8 [00:00<00:00, 4196.40it/s]\n"
     ]
    },
    {
     "name": "stdout",
     "output_type": "stream",
     "text": [
      "Epoch 27/100 - Train Loss: 0.0200, Train Acc: 0.6497, Val Loss: 0.0206, Val Acc: 0.6599\n"
     ]
    },
    {
     "name": "stderr",
     "output_type": "stream",
     "text": [
      "Epoch 28/100 - Training: 100%|██████████| 31/31 [00:00<00:00, 2871.42it/s]\n",
      "Epoch 28/100 - Validation: 100%|██████████| 8/8 [00:00<00:00, 4195.35it/s]\n"
     ]
    },
    {
     "name": "stdout",
     "output_type": "stream",
     "text": [
      "Epoch 28/100 - Train Loss: 0.0199, Train Acc: 0.6508, Val Loss: 0.0206, Val Acc: 0.6599\n"
     ]
    },
    {
     "name": "stderr",
     "output_type": "stream",
     "text": [
      "Epoch 29/100 - Training: 100%|██████████| 31/31 [00:00<00:00, 2844.22it/s]\n",
      "Epoch 29/100 - Validation: 100%|██████████| 8/8 [00:00<00:00, 4253.32it/s]\n"
     ]
    },
    {
     "name": "stdout",
     "output_type": "stream",
     "text": [
      "Epoch 29/100 - Train Loss: 0.0199, Train Acc: 0.6508, Val Loss: 0.0206, Val Acc: 0.6599\n"
     ]
    },
    {
     "name": "stderr",
     "output_type": "stream",
     "text": [
      "Epoch 30/100 - Training: 100%|██████████| 31/31 [00:00<00:00, 2856.15it/s]\n",
      "Epoch 30/100 - Validation: 100%|██████████| 8/8 [00:00<00:00, 4354.89it/s]\n"
     ]
    },
    {
     "name": "stdout",
     "output_type": "stream",
     "text": [
      "Epoch 30/100 - Train Loss: 0.0199, Train Acc: 0.6508, Val Loss: 0.0206, Val Acc: 0.6599\n"
     ]
    },
    {
     "name": "stderr",
     "output_type": "stream",
     "text": [
      "Epoch 31/100 - Training: 100%|██████████| 31/31 [00:00<00:00, 2865.85it/s]\n",
      "Epoch 31/100 - Validation: 100%|██████████| 8/8 [00:00<00:00, 4362.25it/s]\n"
     ]
    },
    {
     "name": "stdout",
     "output_type": "stream",
     "text": [
      "Epoch 31/100 - Train Loss: 0.0199, Train Acc: 0.6508, Val Loss: 0.0206, Val Acc: 0.6640\n"
     ]
    },
    {
     "name": "stderr",
     "output_type": "stream",
     "text": [
      "Epoch 32/100 - Training: 100%|██████████| 31/31 [00:00<00:00, 2870.59it/s]\n",
      "Epoch 32/100 - Validation: 100%|██████████| 8/8 [00:00<00:00, 4186.98it/s]\n"
     ]
    },
    {
     "name": "stdout",
     "output_type": "stream",
     "text": [
      "Epoch 32/100 - Train Loss: 0.0198, Train Acc: 0.6538, Val Loss: 0.0205, Val Acc: 0.6640\n"
     ]
    },
    {
     "name": "stderr",
     "output_type": "stream",
     "text": [
      "Epoch 33/100 - Training: 100%|██████████| 31/31 [00:00<00:00, 2867.74it/s]\n",
      "Epoch 33/100 - Validation: 100%|██████████| 8/8 [00:00<00:00, 4632.67it/s]\n"
     ]
    },
    {
     "name": "stdout",
     "output_type": "stream",
     "text": [
      "Epoch 33/100 - Train Loss: 0.0198, Train Acc: 0.6538, Val Loss: 0.0205, Val Acc: 0.6640\n"
     ]
    },
    {
     "name": "stderr",
     "output_type": "stream",
     "text": [
      "Epoch 34/100 - Training: 100%|██████████| 31/31 [00:00<00:00, 2861.62it/s]\n",
      "Epoch 34/100 - Validation: 100%|██████████| 8/8 [00:00<00:00, 4205.87it/s]\n"
     ]
    },
    {
     "name": "stdout",
     "output_type": "stream",
     "text": [
      "Epoch 34/100 - Train Loss: 0.0198, Train Acc: 0.6538, Val Loss: 0.0205, Val Acc: 0.6640\n"
     ]
    },
    {
     "name": "stderr",
     "output_type": "stream",
     "text": [
      "Epoch 35/100 - Training: 100%|██████████| 31/31 [00:00<00:00, 2809.74it/s]\n",
      "Epoch 35/100 - Validation: 100%|██████████| 8/8 [00:00<00:00, 4271.73it/s]\n"
     ]
    },
    {
     "name": "stdout",
     "output_type": "stream",
     "text": [
      "Epoch 35/100 - Train Loss: 0.0197, Train Acc: 0.6538, Val Loss: 0.0205, Val Acc: 0.6640\n"
     ]
    },
    {
     "name": "stderr",
     "output_type": "stream",
     "text": [
      "Epoch 36/100 - Training: 100%|██████████| 31/31 [00:00<00:00, 2890.95it/s]\n",
      "Epoch 36/100 - Validation: 100%|██████████| 8/8 [00:00<00:00, 4317.35it/s]\n"
     ]
    },
    {
     "name": "stdout",
     "output_type": "stream",
     "text": [
      "Epoch 36/100 - Train Loss: 0.0198, Train Acc: 0.6538, Val Loss: 0.0205, Val Acc: 0.6640\n"
     ]
    },
    {
     "name": "stderr",
     "output_type": "stream",
     "text": [
      "Epoch 37/100 - Training: 100%|██████████| 31/31 [00:00<00:00, 2857.41it/s]\n",
      "Epoch 37/100 - Validation: 100%|██████████| 8/8 [00:00<00:00, 4271.19it/s]\n"
     ]
    },
    {
     "name": "stdout",
     "output_type": "stream",
     "text": [
      "Epoch 37/100 - Train Loss: 0.0197, Train Acc: 0.6538, Val Loss: 0.0205, Val Acc: 0.6680\n"
     ]
    },
    {
     "name": "stderr",
     "output_type": "stream",
     "text": [
      "Epoch 38/100 - Training: 100%|██████████| 31/31 [00:00<00:00, 2815.58it/s]\n",
      "Epoch 38/100 - Validation: 100%|██████████| 8/8 [00:00<00:00, 4056.88it/s]\n"
     ]
    },
    {
     "name": "stdout",
     "output_type": "stream",
     "text": [
      "Epoch 38/100 - Train Loss: 0.0197, Train Acc: 0.6538, Val Loss: 0.0204, Val Acc: 0.6680\n"
     ]
    },
    {
     "name": "stderr",
     "output_type": "stream",
     "text": [
      "Epoch 39/100 - Training: 100%|██████████| 31/31 [00:00<00:00, 2726.09it/s]\n",
      "Epoch 39/100 - Validation: 100%|██████████| 8/8 [00:00<00:00, 3958.76it/s]\n"
     ]
    },
    {
     "name": "stdout",
     "output_type": "stream",
     "text": [
      "Epoch 39/100 - Train Loss: 0.0197, Train Acc: 0.6538, Val Loss: 0.0204, Val Acc: 0.6680\n"
     ]
    },
    {
     "name": "stderr",
     "output_type": "stream",
     "text": [
      "Epoch 40/100 - Training: 100%|██████████| 31/31 [00:00<00:00, 2716.18it/s]\n",
      "Epoch 40/100 - Validation: 100%|██████████| 8/8 [00:00<00:00, 4171.36it/s]\n"
     ]
    },
    {
     "name": "stdout",
     "output_type": "stream",
     "text": [
      "Epoch 40/100 - Train Loss: 0.0197, Train Acc: 0.6538, Val Loss: 0.0204, Val Acc: 0.6680\n"
     ]
    },
    {
     "name": "stderr",
     "output_type": "stream",
     "text": [
      "Epoch 41/100 - Training: 100%|██████████| 31/31 [00:00<00:00, 2737.51it/s]\n",
      "Epoch 41/100 - Validation: 100%|██████████| 8/8 [00:00<00:00, 4571.45it/s]\n"
     ]
    },
    {
     "name": "stdout",
     "output_type": "stream",
     "text": [
      "Epoch 41/100 - Train Loss: 0.0196, Train Acc: 0.6538, Val Loss: 0.0204, Val Acc: 0.6680\n"
     ]
    },
    {
     "name": "stderr",
     "output_type": "stream",
     "text": [
      "Epoch 42/100 - Training: 100%|██████████| 31/31 [00:00<00:00, 2703.41it/s]\n",
      "Epoch 42/100 - Validation: 100%|██████████| 8/8 [00:00<00:00, 4130.28it/s]\n"
     ]
    },
    {
     "name": "stdout",
     "output_type": "stream",
     "text": [
      "Epoch 42/100 - Train Loss: 0.0196, Train Acc: 0.6538, Val Loss: 0.0204, Val Acc: 0.6721\n"
     ]
    },
    {
     "name": "stderr",
     "output_type": "stream",
     "text": [
      "Epoch 43/100 - Training: 100%|██████████| 31/31 [00:00<00:00, 2820.53it/s]\n",
      "Epoch 43/100 - Validation: 100%|██████████| 8/8 [00:00<00:00, 4338.00it/s]\n"
     ]
    },
    {
     "name": "stdout",
     "output_type": "stream",
     "text": [
      "Epoch 43/100 - Train Loss: 0.0196, Train Acc: 0.6538, Val Loss: 0.0204, Val Acc: 0.6721\n"
     ]
    },
    {
     "name": "stderr",
     "output_type": "stream",
     "text": [
      "Epoch 44/100 - Training: 100%|██████████| 31/31 [00:00<00:00, 2793.32it/s]\n",
      "Epoch 44/100 - Validation: 100%|██████████| 8/8 [00:00<00:00, 4102.51it/s]\n"
     ]
    },
    {
     "name": "stdout",
     "output_type": "stream",
     "text": [
      "Epoch 44/100 - Train Loss: 0.0196, Train Acc: 0.6569, Val Loss: 0.0204, Val Acc: 0.6842\n"
     ]
    },
    {
     "name": "stderr",
     "output_type": "stream",
     "text": [
      "Epoch 45/100 - Training: 100%|██████████| 31/31 [00:00<00:00, 2789.01it/s]\n",
      "Epoch 45/100 - Validation: 100%|██████████| 8/8 [00:00<00:00, 3950.37it/s]\n"
     ]
    },
    {
     "name": "stdout",
     "output_type": "stream",
     "text": [
      "Epoch 45/100 - Train Loss: 0.0196, Train Acc: 0.6589, Val Loss: 0.0204, Val Acc: 0.6842\n"
     ]
    },
    {
     "name": "stderr",
     "output_type": "stream",
     "text": [
      "Epoch 46/100 - Training: 100%|██████████| 31/31 [00:00<00:00, 2767.57it/s]\n",
      "Epoch 46/100 - Validation: 100%|██████████| 8/8 [00:00<00:00, 4376.47it/s]\n"
     ]
    },
    {
     "name": "stdout",
     "output_type": "stream",
     "text": [
      "Epoch 46/100 - Train Loss: 0.0196, Train Acc: 0.6589, Val Loss: 0.0204, Val Acc: 0.6842\n"
     ]
    },
    {
     "name": "stderr",
     "output_type": "stream",
     "text": [
      "Epoch 47/100 - Training: 100%|██████████| 31/31 [00:00<00:00, 2676.59it/s]\n",
      "Epoch 47/100 - Validation: 100%|██████████| 8/8 [00:00<00:00, 4347.56it/s]\n"
     ]
    },
    {
     "name": "stdout",
     "output_type": "stream",
     "text": [
      "Epoch 47/100 - Train Loss: 0.0195, Train Acc: 0.6589, Val Loss: 0.0203, Val Acc: 0.6842\n"
     ]
    },
    {
     "name": "stderr",
     "output_type": "stream",
     "text": [
      "Epoch 48/100 - Training: 100%|██████████| 31/31 [00:00<00:00, 2834.17it/s]\n",
      "Epoch 48/100 - Validation: 100%|██████████| 8/8 [00:00<00:00, 4210.62it/s]\n"
     ]
    },
    {
     "name": "stdout",
     "output_type": "stream",
     "text": [
      "Epoch 48/100 - Train Loss: 0.0195, Train Acc: 0.6589, Val Loss: 0.0203, Val Acc: 0.6842\n"
     ]
    },
    {
     "name": "stderr",
     "output_type": "stream",
     "text": [
      "Epoch 49/100 - Training: 100%|██████████| 31/31 [00:00<00:00, 2763.63it/s]\n",
      "Epoch 49/100 - Validation: 100%|██████████| 8/8 [00:00<00:00, 4342.49it/s]\n"
     ]
    },
    {
     "name": "stdout",
     "output_type": "stream",
     "text": [
      "Epoch 49/100 - Train Loss: 0.0195, Train Acc: 0.6589, Val Loss: 0.0203, Val Acc: 0.6842\n"
     ]
    },
    {
     "name": "stderr",
     "output_type": "stream",
     "text": [
      "Epoch 50/100 - Training: 100%|██████████| 31/31 [00:00<00:00, 2772.83it/s]\n",
      "Epoch 50/100 - Validation: 100%|██████████| 8/8 [00:00<00:00, 3613.44it/s]\n"
     ]
    },
    {
     "name": "stdout",
     "output_type": "stream",
     "text": [
      "Epoch 50/100 - Train Loss: 0.0195, Train Acc: 0.6589, Val Loss: 0.0203, Val Acc: 0.6842\n"
     ]
    },
    {
     "name": "stderr",
     "output_type": "stream",
     "text": [
      "Epoch 51/100 - Training: 100%|██████████| 31/31 [00:00<00:00, 2783.51it/s]\n",
      "Epoch 51/100 - Validation: 100%|██████████| 8/8 [00:00<00:00, 4271.19it/s]\n"
     ]
    },
    {
     "name": "stdout",
     "output_type": "stream",
     "text": [
      "Epoch 51/100 - Train Loss: 0.0195, Train Acc: 0.6589, Val Loss: 0.0203, Val Acc: 0.6842\n"
     ]
    },
    {
     "name": "stderr",
     "output_type": "stream",
     "text": [
      "Epoch 52/100 - Training: 100%|██████████| 31/31 [00:00<00:00, 2748.44it/s]\n",
      "Epoch 52/100 - Validation: 100%|██████████| 8/8 [00:00<00:00, 4098.50it/s]\n"
     ]
    },
    {
     "name": "stdout",
     "output_type": "stream",
     "text": [
      "Epoch 52/100 - Train Loss: 0.0195, Train Acc: 0.6589, Val Loss: 0.0203, Val Acc: 0.6842\n"
     ]
    },
    {
     "name": "stderr",
     "output_type": "stream",
     "text": [
      "Epoch 53/100 - Training: 100%|██████████| 31/31 [00:00<00:00, 2803.44it/s]\n",
      "Epoch 53/100 - Validation: 100%|██████████| 8/8 [00:00<00:00, 4253.32it/s]\n"
     ]
    },
    {
     "name": "stdout",
     "output_type": "stream",
     "text": [
      "Epoch 53/100 - Train Loss: 0.0195, Train Acc: 0.6589, Val Loss: 0.0203, Val Acc: 0.6842\n"
     ]
    },
    {
     "name": "stderr",
     "output_type": "stream",
     "text": [
      "Epoch 54/100 - Training: 100%|██████████| 31/31 [00:00<00:00, 2750.36it/s]\n",
      "Epoch 54/100 - Validation: 100%|██████████| 8/8 [00:00<00:00, 4123.69it/s]\n"
     ]
    },
    {
     "name": "stdout",
     "output_type": "stream",
     "text": [
      "Epoch 54/100 - Train Loss: 0.0194, Train Acc: 0.6589, Val Loss: 0.0203, Val Acc: 0.6842\n"
     ]
    },
    {
     "name": "stderr",
     "output_type": "stream",
     "text": [
      "Epoch 55/100 - Training: 100%|██████████| 31/31 [00:00<00:00, 2928.65it/s]\n",
      "Epoch 55/100 - Validation: 100%|██████████| 8/8 [00:00<00:00, 3946.65it/s]\n"
     ]
    },
    {
     "name": "stdout",
     "output_type": "stream",
     "text": [
      "Epoch 55/100 - Train Loss: 0.0194, Train Acc: 0.6589, Val Loss: 0.0203, Val Acc: 0.6842\n"
     ]
    },
    {
     "name": "stderr",
     "output_type": "stream",
     "text": [
      "Epoch 56/100 - Training: 100%|██████████| 31/31 [00:00<00:00, 2765.81it/s]\n",
      "Epoch 56/100 - Validation: 100%|██████████| 8/8 [00:00<00:00, 4415.06it/s]\n"
     ]
    },
    {
     "name": "stdout",
     "output_type": "stream",
     "text": [
      "Epoch 56/100 - Train Loss: 0.0194, Train Acc: 0.6589, Val Loss: 0.0203, Val Acc: 0.6842\n"
     ]
    },
    {
     "name": "stderr",
     "output_type": "stream",
     "text": [
      "Epoch 57/100 - Training: 100%|██████████| 31/31 [00:00<00:00, 2707.47it/s]\n",
      "Epoch 57/100 - Validation: 100%|██████████| 8/8 [00:00<00:00, 4524.60it/s]\n"
     ]
    },
    {
     "name": "stdout",
     "output_type": "stream",
     "text": [
      "Epoch 57/100 - Train Loss: 0.0194, Train Acc: 0.6589, Val Loss: 0.0203, Val Acc: 0.6842\n"
     ]
    },
    {
     "name": "stderr",
     "output_type": "stream",
     "text": [
      "Epoch 58/100 - Training: 100%|██████████| 31/31 [00:00<00:00, 2677.69it/s]\n",
      "Epoch 58/100 - Validation: 100%|██████████| 8/8 [00:00<00:00, 4062.28it/s]\n"
     ]
    },
    {
     "name": "stdout",
     "output_type": "stream",
     "text": [
      "Epoch 58/100 - Train Loss: 0.0194, Train Acc: 0.6589, Val Loss: 0.0203, Val Acc: 0.6842\n"
     ]
    },
    {
     "name": "stderr",
     "output_type": "stream",
     "text": [
      "Epoch 59/100 - Training: 100%|██████████| 31/31 [00:00<00:00, 2811.50it/s]\n",
      "Epoch 59/100 - Validation: 100%|██████████| 8/8 [00:00<00:00, 4241.49it/s]\n"
     ]
    },
    {
     "name": "stdout",
     "output_type": "stream",
     "text": [
      "Epoch 59/100 - Train Loss: 0.0194, Train Acc: 0.6589, Val Loss: 0.0202, Val Acc: 0.6842\n"
     ]
    },
    {
     "name": "stderr",
     "output_type": "stream",
     "text": [
      "Epoch 60/100 - Training: 100%|██████████| 31/31 [00:00<00:00, 2840.61it/s]\n",
      "Epoch 60/100 - Validation: 100%|██████████| 8/8 [00:00<00:00, 4024.76it/s]\n"
     ]
    },
    {
     "name": "stdout",
     "output_type": "stream",
     "text": [
      "Epoch 60/100 - Train Loss: 0.0194, Train Acc: 0.6589, Val Loss: 0.0202, Val Acc: 0.6842\n"
     ]
    },
    {
     "name": "stderr",
     "output_type": "stream",
     "text": [
      "Epoch 61/100 - Training: 100%|██████████| 31/31 [00:00<00:00, 2732.68it/s]\n",
      "Epoch 61/100 - Validation: 100%|██████████| 8/8 [00:00<00:00, 3807.81it/s]\n"
     ]
    },
    {
     "name": "stdout",
     "output_type": "stream",
     "text": [
      "Epoch 61/100 - Train Loss: 0.0194, Train Acc: 0.6589, Val Loss: 0.0202, Val Acc: 0.6842\n"
     ]
    },
    {
     "name": "stderr",
     "output_type": "stream",
     "text": [
      "Epoch 62/100 - Training: 100%|██████████| 31/31 [00:00<00:00, 2771.05it/s]\n",
      "Epoch 62/100 - Validation: 100%|██████████| 8/8 [00:00<00:00, 4496.71it/s]\n"
     ]
    },
    {
     "name": "stdout",
     "output_type": "stream",
     "text": [
      "Epoch 62/100 - Train Loss: 0.0193, Train Acc: 0.6589, Val Loss: 0.0202, Val Acc: 0.6883\n"
     ]
    },
    {
     "name": "stderr",
     "output_type": "stream",
     "text": [
      "Epoch 63/100 - Training: 100%|██████████| 31/31 [00:00<00:00, 2718.39it/s]\n",
      "Epoch 63/100 - Validation: 100%|██████████| 8/8 [00:00<00:00, 4221.75it/s]\n"
     ]
    },
    {
     "name": "stdout",
     "output_type": "stream",
     "text": [
      "Epoch 63/100 - Train Loss: 0.0193, Train Acc: 0.6589, Val Loss: 0.0202, Val Acc: 0.6883\n"
     ]
    },
    {
     "name": "stderr",
     "output_type": "stream",
     "text": [
      "Epoch 64/100 - Training: 100%|██████████| 31/31 [00:00<00:00, 2755.03it/s]\n",
      "Epoch 64/100 - Validation: 100%|██████████| 8/8 [00:00<00:00, 4036.38it/s]\n"
     ]
    },
    {
     "name": "stdout",
     "output_type": "stream",
     "text": [
      "Epoch 64/100 - Train Loss: 0.0193, Train Acc: 0.6569, Val Loss: 0.0202, Val Acc: 0.6802\n"
     ]
    },
    {
     "name": "stderr",
     "output_type": "stream",
     "text": [
      "Epoch 65/100 - Training: 100%|██████████| 31/31 [00:00<00:00, 2818.20it/s]\n",
      "Epoch 65/100 - Validation: 100%|██████████| 8/8 [00:00<00:00, 4197.45it/s]\n"
     ]
    },
    {
     "name": "stdout",
     "output_type": "stream",
     "text": [
      "Epoch 65/100 - Train Loss: 0.0193, Train Acc: 0.6599, Val Loss: 0.0202, Val Acc: 0.6802\n"
     ]
    },
    {
     "name": "stderr",
     "output_type": "stream",
     "text": [
      "Epoch 66/100 - Training: 100%|██████████| 31/31 [00:00<00:00, 2802.89it/s]\n",
      "Epoch 66/100 - Validation: 100%|██████████| 8/8 [00:00<00:00, 3994.10it/s]\n"
     ]
    },
    {
     "name": "stdout",
     "output_type": "stream",
     "text": [
      "Epoch 66/100 - Train Loss: 0.0193, Train Acc: 0.6599, Val Loss: 0.0202, Val Acc: 0.6802\n"
     ]
    },
    {
     "name": "stderr",
     "output_type": "stream",
     "text": [
      "Epoch 67/100 - Training: 100%|██████████| 31/31 [00:00<00:00, 2768.87it/s]\n",
      "Epoch 67/100 - Validation: 100%|██████████| 8/8 [00:00<00:00, 4454.33it/s]\n"
     ]
    },
    {
     "name": "stdout",
     "output_type": "stream",
     "text": [
      "Epoch 67/100 - Train Loss: 0.0193, Train Acc: 0.6599, Val Loss: 0.0202, Val Acc: 0.6802\n"
     ]
    },
    {
     "name": "stderr",
     "output_type": "stream",
     "text": [
      "Epoch 68/100 - Training: 100%|██████████| 31/31 [00:00<00:00, 2802.89it/s]\n",
      "Epoch 68/100 - Validation: 100%|██████████| 8/8 [00:00<00:00, 4241.49it/s]\n"
     ]
    },
    {
     "name": "stdout",
     "output_type": "stream",
     "text": [
      "Epoch 68/100 - Train Loss: 0.0193, Train Acc: 0.6599, Val Loss: 0.0202, Val Acc: 0.6802\n"
     ]
    },
    {
     "name": "stderr",
     "output_type": "stream",
     "text": [
      "Epoch 69/100 - Training: 100%|██████████| 31/31 [00:00<00:00, 2767.63it/s]\n",
      "Epoch 69/100 - Validation: 100%|██████████| 8/8 [00:00<00:00, 4098.50it/s]\n"
     ]
    },
    {
     "name": "stdout",
     "output_type": "stream",
     "text": [
      "Epoch 69/100 - Train Loss: 0.0193, Train Acc: 0.6599, Val Loss: 0.0202, Val Acc: 0.6802\n"
     ]
    },
    {
     "name": "stderr",
     "output_type": "stream",
     "text": [
      "Epoch 70/100 - Training: 100%|██████████| 31/31 [00:00<00:00, 2818.69it/s]\n",
      "Epoch 70/100 - Validation: 100%|██████████| 8/8 [00:00<00:00, 3703.58it/s]\n"
     ]
    },
    {
     "name": "stdout",
     "output_type": "stream",
     "text": [
      "Epoch 70/100 - Train Loss: 0.0193, Train Acc: 0.6599, Val Loss: 0.0202, Val Acc: 0.6802\n"
     ]
    },
    {
     "name": "stderr",
     "output_type": "stream",
     "text": [
      "Epoch 71/100 - Training: 100%|██████████| 31/31 [00:00<00:00, 2610.75it/s]\n",
      "Epoch 71/100 - Validation: 100%|██████████| 8/8 [00:00<00:00, 3780.78it/s]\n"
     ]
    },
    {
     "name": "stdout",
     "output_type": "stream",
     "text": [
      "Epoch 71/100 - Train Loss: 0.0193, Train Acc: 0.6599, Val Loss: 0.0202, Val Acc: 0.6802\n"
     ]
    },
    {
     "name": "stderr",
     "output_type": "stream",
     "text": [
      "Epoch 72/100 - Training: 100%|██████████| 31/31 [00:00<00:00, 2780.54it/s]\n",
      "Epoch 72/100 - Validation: 100%|██████████| 8/8 [00:00<00:00, 3800.48it/s]\n"
     ]
    },
    {
     "name": "stdout",
     "output_type": "stream",
     "text": [
      "Epoch 72/100 - Train Loss: 0.0193, Train Acc: 0.6599, Val Loss: 0.0202, Val Acc: 0.6802\n"
     ]
    },
    {
     "name": "stderr",
     "output_type": "stream",
     "text": [
      "Epoch 73/100 - Training: 100%|██████████| 31/31 [00:00<00:00, 2779.70it/s]\n",
      "Epoch 73/100 - Validation: 100%|██████████| 8/8 [00:00<00:00, 4014.17it/s]\n"
     ]
    },
    {
     "name": "stdout",
     "output_type": "stream",
     "text": [
      "Epoch 73/100 - Train Loss: 0.0193, Train Acc: 0.6599, Val Loss: 0.0202, Val Acc: 0.6802\n"
     ]
    },
    {
     "name": "stderr",
     "output_type": "stream",
     "text": [
      "Epoch 74/100 - Training: 100%|██████████| 31/31 [00:00<00:00, 2749.20it/s]\n",
      "Epoch 74/100 - Validation: 100%|██████████| 8/8 [00:00<00:00, 4192.73it/s]\n"
     ]
    },
    {
     "name": "stdout",
     "output_type": "stream",
     "text": [
      "Epoch 74/100 - Train Loss: 0.0193, Train Acc: 0.6599, Val Loss: 0.0202, Val Acc: 0.6802\n"
     ]
    },
    {
     "name": "stderr",
     "output_type": "stream",
     "text": [
      "Epoch 75/100 - Training: 100%|██████████| 31/31 [00:00<00:00, 2852.70it/s]\n",
      "Epoch 75/100 - Validation: 100%|██████████| 8/8 [00:00<00:00, 4207.98it/s]\n"
     ]
    },
    {
     "name": "stdout",
     "output_type": "stream",
     "text": [
      "Epoch 75/100 - Train Loss: 0.0193, Train Acc: 0.6599, Val Loss: 0.0202, Val Acc: 0.6802\n"
     ]
    },
    {
     "name": "stderr",
     "output_type": "stream",
     "text": [
      "Epoch 76/100 - Training: 100%|██████████| 31/31 [00:00<00:00, 2774.31it/s]\n",
      "Epoch 76/100 - Validation: 100%|██████████| 8/8 [00:00<00:00, 4402.31it/s]\n"
     ]
    },
    {
     "name": "stdout",
     "output_type": "stream",
     "text": [
      "Epoch 76/100 - Train Loss: 0.0193, Train Acc: 0.6599, Val Loss: 0.0202, Val Acc: 0.6802\n"
     ]
    },
    {
     "name": "stderr",
     "output_type": "stream",
     "text": [
      "Epoch 77/100 - Training: 100%|██████████| 31/31 [00:00<00:00, 2752.58it/s]\n",
      "Epoch 77/100 - Validation: 100%|██████████| 8/8 [00:00<00:00, 3676.39it/s]\n"
     ]
    },
    {
     "name": "stdout",
     "output_type": "stream",
     "text": [
      "Epoch 77/100 - Train Loss: 0.0192, Train Acc: 0.6599, Val Loss: 0.0202, Val Acc: 0.6802\n"
     ]
    },
    {
     "name": "stderr",
     "output_type": "stream",
     "text": [
      "Epoch 78/100 - Training: 100%|██████████| 31/31 [00:00<00:00, 2699.21it/s]\n",
      "Epoch 78/100 - Validation: 100%|██████████| 8/8 [00:00<00:00, 3925.41it/s]\n"
     ]
    },
    {
     "name": "stdout",
     "output_type": "stream",
     "text": [
      "Epoch 78/100 - Train Loss: 0.0192, Train Acc: 0.6589, Val Loss: 0.0202, Val Acc: 0.6802\n"
     ]
    },
    {
     "name": "stderr",
     "output_type": "stream",
     "text": [
      "Epoch 79/100 - Training: 100%|██████████| 31/31 [00:00<00:00, 2298.01it/s]\n",
      "Epoch 79/100 - Validation: 100%|██████████| 8/8 [00:00<00:00, 3875.54it/s]\n"
     ]
    },
    {
     "name": "stdout",
     "output_type": "stream",
     "text": [
      "Epoch 79/100 - Train Loss: 0.0192, Train Acc: 0.6589, Val Loss: 0.0201, Val Acc: 0.6802\n"
     ]
    },
    {
     "name": "stderr",
     "output_type": "stream",
     "text": [
      "Epoch 80/100 - Training: 100%|██████████| 31/31 [00:00<00:00, 2763.16it/s]\n",
      "Epoch 80/100 - Validation: 100%|██████████| 8/8 [00:00<00:00, 4071.15it/s]\n"
     ]
    },
    {
     "name": "stdout",
     "output_type": "stream",
     "text": [
      "Epoch 80/100 - Train Loss: 0.0192, Train Acc: 0.6589, Val Loss: 0.0201, Val Acc: 0.6802\n"
     ]
    },
    {
     "name": "stderr",
     "output_type": "stream",
     "text": [
      "Epoch 81/100 - Training: 100%|██████████| 31/31 [00:00<00:00, 2701.22it/s]\n",
      "Epoch 81/100 - Validation: 100%|██████████| 8/8 [00:00<00:00, 4412.73it/s]\n"
     ]
    },
    {
     "name": "stdout",
     "output_type": "stream",
     "text": [
      "Epoch 81/100 - Train Loss: 0.0192, Train Acc: 0.6589, Val Loss: 0.0201, Val Acc: 0.6802\n"
     ]
    },
    {
     "name": "stderr",
     "output_type": "stream",
     "text": [
      "Epoch 82/100 - Training: 100%|██████████| 31/31 [00:00<00:00, 2703.41it/s]\n",
      "Epoch 82/100 - Validation: 100%|██████████| 8/8 [00:00<00:00, 4324.02it/s]\n"
     ]
    },
    {
     "name": "stdout",
     "output_type": "stream",
     "text": [
      "Epoch 82/100 - Train Loss: 0.0192, Train Acc: 0.6589, Val Loss: 0.0201, Val Acc: 0.6802\n"
     ]
    },
    {
     "name": "stderr",
     "output_type": "stream",
     "text": [
      "Epoch 83/100 - Training: 100%|██████████| 31/31 [00:00<00:00, 2718.56it/s]\n",
      "Epoch 83/100 - Validation: 100%|██████████| 8/8 [00:00<00:00, 4145.59it/s]\n"
     ]
    },
    {
     "name": "stdout",
     "output_type": "stream",
     "text": [
      "Epoch 83/100 - Train Loss: 0.0192, Train Acc: 0.6589, Val Loss: 0.0201, Val Acc: 0.6802\n"
     ]
    },
    {
     "name": "stderr",
     "output_type": "stream",
     "text": [
      "Epoch 84/100 - Training: 100%|██████████| 31/31 [00:00<00:00, 2825.61it/s]\n",
      "Epoch 84/100 - Validation: 100%|██████████| 8/8 [00:00<00:00, 4335.76it/s]\n"
     ]
    },
    {
     "name": "stdout",
     "output_type": "stream",
     "text": [
      "Epoch 84/100 - Train Loss: 0.0192, Train Acc: 0.6579, Val Loss: 0.0201, Val Acc: 0.6802\n"
     ]
    },
    {
     "name": "stderr",
     "output_type": "stream",
     "text": [
      "Epoch 85/100 - Training: 100%|██████████| 31/31 [00:00<00:00, 2786.73it/s]\n",
      "Epoch 85/100 - Validation: 100%|██████████| 8/8 [00:00<00:00, 3946.65it/s]\n"
     ]
    },
    {
     "name": "stdout",
     "output_type": "stream",
     "text": [
      "Epoch 85/100 - Train Loss: 0.0192, Train Acc: 0.6589, Val Loss: 0.0201, Val Acc: 0.6802\n"
     ]
    },
    {
     "name": "stderr",
     "output_type": "stream",
     "text": [
      "Epoch 86/100 - Training: 100%|██████████| 31/31 [00:00<00:00, 2647.33it/s]\n",
      "Epoch 86/100 - Validation: 100%|██████████| 8/8 [00:00<00:00, 3946.65it/s]\n"
     ]
    },
    {
     "name": "stdout",
     "output_type": "stream",
     "text": [
      "Epoch 86/100 - Train Loss: 0.0192, Train Acc: 0.6589, Val Loss: 0.0201, Val Acc: 0.6802\n"
     ]
    },
    {
     "name": "stderr",
     "output_type": "stream",
     "text": [
      "Epoch 87/100 - Training: 100%|██████████| 31/31 [00:00<00:00, 2757.01it/s]\n",
      "Epoch 87/100 - Validation: 100%|██████████| 8/8 [00:00<00:00, 4422.04it/s]\n"
     ]
    },
    {
     "name": "stdout",
     "output_type": "stream",
     "text": [
      "Epoch 87/100 - Train Loss: 0.0192, Train Acc: 0.6589, Val Loss: 0.0201, Val Acc: 0.6802\n"
     ]
    },
    {
     "name": "stderr",
     "output_type": "stream",
     "text": [
      "Epoch 88/100 - Training: 100%|██████████| 31/31 [00:00<00:00, 2750.19it/s]\n",
      "Epoch 88/100 - Validation: 100%|██████████| 8/8 [00:00<00:00, 4219.62it/s]\n"
     ]
    },
    {
     "name": "stdout",
     "output_type": "stream",
     "text": [
      "Epoch 88/100 - Train Loss: 0.0192, Train Acc: 0.6589, Val Loss: 0.0201, Val Acc: 0.6802\n"
     ]
    },
    {
     "name": "stderr",
     "output_type": "stream",
     "text": [
      "Epoch 89/100 - Training: 100%|██████████| 31/31 [00:00<00:00, 2820.28it/s]\n",
      "Epoch 89/100 - Validation: 100%|██████████| 8/8 [00:00<00:00, 4522.16it/s]\n"
     ]
    },
    {
     "name": "stdout",
     "output_type": "stream",
     "text": [
      "Epoch 89/100 - Train Loss: 0.0192, Train Acc: 0.6589, Val Loss: 0.0201, Val Acc: 0.6802\n"
     ]
    },
    {
     "name": "stderr",
     "output_type": "stream",
     "text": [
      "Epoch 90/100 - Training: 100%|██████████| 31/31 [00:00<00:00, 2814.12it/s]\n",
      "Epoch 90/100 - Validation: 100%|██████████| 8/8 [00:00<00:00, 4102.51it/s]\n"
     ]
    },
    {
     "name": "stdout",
     "output_type": "stream",
     "text": [
      "Epoch 90/100 - Train Loss: 0.0192, Train Acc: 0.6589, Val Loss: 0.0201, Val Acc: 0.6802\n"
     ]
    },
    {
     "name": "stderr",
     "output_type": "stream",
     "text": [
      "Epoch 91/100 - Training: 100%|██████████| 31/31 [00:00<00:00, 2784.53it/s]\n",
      "Epoch 91/100 - Validation: 100%|██████████| 8/8 [00:00<00:00, 4012.25it/s]\n"
     ]
    },
    {
     "name": "stdout",
     "output_type": "stream",
     "text": [
      "Epoch 91/100 - Train Loss: 0.0191, Train Acc: 0.6589, Val Loss: 0.0201, Val Acc: 0.6802\n"
     ]
    },
    {
     "name": "stderr",
     "output_type": "stream",
     "text": [
      "Epoch 92/100 - Training: 100%|██████████| 31/31 [00:00<00:00, 2805.43it/s]\n",
      "Epoch 92/100 - Validation: 100%|██████████| 8/8 [00:00<00:00, 4510.00it/s]\n"
     ]
    },
    {
     "name": "stdout",
     "output_type": "stream",
     "text": [
      "Epoch 92/100 - Train Loss: 0.0192, Train Acc: 0.6589, Val Loss: 0.0201, Val Acc: 0.6802\n"
     ]
    },
    {
     "name": "stderr",
     "output_type": "stream",
     "text": [
      "Epoch 93/100 - Training: 100%|██████████| 31/31 [00:00<00:00, 2754.33it/s]\n",
      "Epoch 93/100 - Validation: 100%|██████████| 8/8 [00:00<00:00, 4125.21it/s]\n"
     ]
    },
    {
     "name": "stdout",
     "output_type": "stream",
     "text": [
      "Epoch 93/100 - Train Loss: 0.0192, Train Acc: 0.6589, Val Loss: 0.0201, Val Acc: 0.6802\n"
     ]
    },
    {
     "name": "stderr",
     "output_type": "stream",
     "text": [
      "Epoch 94/100 - Training: 100%|██████████| 31/31 [00:00<00:00, 2769.34it/s]\n",
      "Epoch 94/100 - Validation: 100%|██████████| 8/8 [00:00<00:00, 3825.61it/s]\n"
     ]
    },
    {
     "name": "stdout",
     "output_type": "stream",
     "text": [
      "Epoch 94/100 - Train Loss: 0.0191, Train Acc: 0.6589, Val Loss: 0.0201, Val Acc: 0.6802\n"
     ]
    },
    {
     "name": "stderr",
     "output_type": "stream",
     "text": [
      "Epoch 95/100 - Training: 100%|██████████| 31/31 [00:00<00:00, 2883.13it/s]\n",
      "Epoch 95/100 - Validation: 100%|██████████| 8/8 [00:00<00:00, 3929.09it/s]\n"
     ]
    },
    {
     "name": "stdout",
     "output_type": "stream",
     "text": [
      "Epoch 95/100 - Train Loss: 0.0192, Train Acc: 0.6589, Val Loss: 0.0201, Val Acc: 0.6802\n"
     ]
    },
    {
     "name": "stderr",
     "output_type": "stream",
     "text": [
      "Epoch 96/100 - Training: 100%|██████████| 31/31 [00:00<00:00, 2692.11it/s]\n",
      "Epoch 96/100 - Validation: 100%|██████████| 8/8 [00:00<00:00, 3676.39it/s]\n"
     ]
    },
    {
     "name": "stdout",
     "output_type": "stream",
     "text": [
      "Epoch 96/100 - Train Loss: 0.0191, Train Acc: 0.6589, Val Loss: 0.0201, Val Acc: 0.6802\n"
     ]
    },
    {
     "name": "stderr",
     "output_type": "stream",
     "text": [
      "Epoch 97/100 - Training: 100%|██████████| 31/31 [00:00<00:00, 2508.31it/s]\n",
      "Epoch 97/100 - Validation: 100%|██████████| 8/8 [00:00<00:00, 3916.25it/s]\n"
     ]
    },
    {
     "name": "stdout",
     "output_type": "stream",
     "text": [
      "Epoch 97/100 - Train Loss: 0.0192, Train Acc: 0.6589, Val Loss: 0.0201, Val Acc: 0.6802\n"
     ]
    },
    {
     "name": "stderr",
     "output_type": "stream",
     "text": [
      "Epoch 98/100 - Training: 100%|██████████| 31/31 [00:00<00:00, 2693.84it/s]\n",
      "Epoch 98/100 - Validation: 100%|██████████| 8/8 [00:00<00:00, 4042.70it/s]\n"
     ]
    },
    {
     "name": "stdout",
     "output_type": "stream",
     "text": [
      "Epoch 98/100 - Train Loss: 0.0192, Train Acc: 0.6660, Val Loss: 0.0201, Val Acc: 0.6883\n"
     ]
    },
    {
     "name": "stderr",
     "output_type": "stream",
     "text": [
      "Epoch 99/100 - Training: 100%|██████████| 31/31 [00:00<00:00, 2672.63it/s]\n",
      "Epoch 99/100 - Validation: 100%|██████████| 8/8 [00:00<00:00, 4164.63it/s]\n"
     ]
    },
    {
     "name": "stdout",
     "output_type": "stream",
     "text": [
      "Epoch 99/100 - Train Loss: 0.0191, Train Acc: 0.6660, Val Loss: 0.0201, Val Acc: 0.6883\n"
     ]
    },
    {
     "name": "stderr",
     "output_type": "stream",
     "text": [
      "Epoch 100/100 - Training: 100%|██████████| 31/31 [00:00<00:00, 2812.05it/s]\n",
      "Epoch 100/100 - Validation: 100%|██████████| 8/8 [00:00<00:00, 4183.84it/s]"
     ]
    },
    {
     "name": "stdout",
     "output_type": "stream",
     "text": [
      "Epoch 100/100 - Train Loss: 0.0192, Train Acc: 0.6660, Val Loss: 0.0201, Val Acc: 0.6883\n"
     ]
    },
    {
     "name": "stderr",
     "output_type": "stream",
     "text": [
      "\n"
     ]
    }
   ],
   "source": [
    "model = SLP(input_dim=X_train_tensor.shape[1], output_dim=2)\n",
    "\n",
    "criterion = nn.CrossEntropyLoss()\n",
    "\n",
    "# optimizer = torch.optim.SGD(model.parameters(), lr=0.001)\n",
    "optimizer = torch.optim.Adam(model.parameters(), lr=0.0001)\n",
    "epochs = 100\n",
    "\n",
    "train_losses, train_accuracies, val_losses, val_accuracies = train(\n",
    "    model, train_loader, criterion, optimizer, epochs=epochs\n",
    ")"
   ]
  },
  {
   "cell_type": "code",
   "execution_count": 66,
   "id": "c75bcc4a",
   "metadata": {},
   "outputs": [
    {
     "data": {
      "image/png": "[encoded data removed]",
      "text/plain": [
       "<Figure size 1200x500 with 2 Axes>"
      ]
     },
     "metadata": {},
     "output_type": "display_data"
    }
   ],
   "source": [
    "epochs_range = list(range(1, epochs + 1))\n",
    "\n",
    "fig, axs = plt.subplots(1, 2, figsize=(12, 5))\n",
    "\n",
    "# Plot Loss\n",
    "axs[0].plot(epochs_range, train_losses, label=\"Train Loss\")\n",
    "axs[0].plot(epochs_range, val_losses, label=\"Validation Loss\")\n",
    "axs[0].set_xlabel(\"Epochs\")\n",
    "axs[0].set_ylabel(\"Loss\")\n",
    "axs[0].set_title(\"Loss Curve\")\n",
    "axs[0].legend()\n",
    "axs[0].grid(True)\n",
    "\n",
    "# Plot Accuracy\n",
    "axs[1].plot(epochs_range, train_accuracies, label=\"Train Accuracy\")\n",
    "axs[1].plot(epochs_range, val_accuracies, label=\"Validation Accuracy\")\n",
    "axs[1].set_xlabel(\"Epochs\")\n",
    "axs[1].set_ylabel(\"Accuracy\")\n",
    "axs[1].set_title(\"Accuracy Curve\")\n",
    "axs[1].legend()\n",
    "axs[1].grid(True)\n",
    "\n",
    "plt.tight_layout()\n",
    "plt.show()\n"
   ]
  },
  {
   "cell_type": "code",
   "execution_count": 67,
   "id": "247a91ea",
   "metadata": {},
   "outputs": [
    {
     "data": {
      "image/png": "[encoded data removed]",
      "text/plain": [
       "<Figure size 640x480 with 2 Axes>"
      ]
     },
     "metadata": {},
     "output_type": "display_data"
    }
   ],
   "source": [
    "import matplotlib.pyplot as plt\n",
    "from sklearn.metrics import confusion_matrix, ConfusionMatrixDisplay\n",
    "\n",
    "y_pred = model.predict(X_test_tensor)\n",
    "\n",
    "y_true = y_test_tensor.cpu().numpy()\n",
    "y_pred = y_pred.cpu().numpy()\n",
    "\n",
    "cm = confusion_matrix(y_true, y_pred)\n",
    "\n",
    "disp = ConfusionMatrixDisplay(confusion_matrix=cm)\n",
    "disp.plot(cmap=plt.cm.Blues)\n",
    "plt.title(\"Confusion Matrix\")\n",
    "plt.show()\n"
   ]
  }
 ],
 "metadata": {
  "kernelspec": {
   "display_name": ".venv",
   "language": "python",
   "name": "python3"
  },
  "language_info": {
   "codemirror_mode": {
    "name": "ipython",
    "version": 3
   },
   "file_extension": ".py",
   "mimetype": "text/x-python",
   "name": "python",
   "nbconvert_exporter": "python",
   "pygments_lexer": "ipython3",
   "version": "3.13.5"
  }
 },
 "nbformat": 4,
 "nbformat_minor": 5
}
