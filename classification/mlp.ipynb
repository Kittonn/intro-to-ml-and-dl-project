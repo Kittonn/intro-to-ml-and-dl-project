{
 "cells": [
  {
   "cell_type": "code",
   "execution_count": 2,
   "id": "8e3dc8c9",
   "metadata": {},
   "outputs": [
    {
     "name": "stdout",
     "output_type": "stream",
     "text": [
      "Requirement already satisfied: pandas in /Users/7n100489/Library/CloudStorage/OneDrive-BankofAyudhyaPublicCompanyLimited/Desktop/Workspace/github/intro-to-ml-and-dl-project/.venv/lib/python3.13/site-packages (2.3.3)\n",
      "Requirement already satisfied: torch in /Users/7n100489/Library/CloudStorage/OneDrive-BankofAyudhyaPublicCompanyLimited/Desktop/Workspace/github/intro-to-ml-and-dl-project/.venv/lib/python3.13/site-packages (2.8.0)\n",
      "Requirement already satisfied: tqdm in /Users/7n100489/Library/CloudStorage/OneDrive-BankofAyudhyaPublicCompanyLimited/Desktop/Workspace/github/intro-to-ml-and-dl-project/.venv/lib/python3.13/site-packages (4.67.1)\n",
      "Requirement already satisfied: matplotlib in /Users/7n100489/Library/CloudStorage/OneDrive-BankofAyudhyaPublicCompanyLimited/Desktop/Workspace/github/intro-to-ml-and-dl-project/.venv/lib/python3.13/site-packages (3.10.6)\n",
      "Requirement already satisfied: numpy>=1.26.0 in /Users/7n100489/Library/CloudStorage/OneDrive-BankofAyudhyaPublicCompanyLimited/Desktop/Workspace/github/intro-to-ml-and-dl-project/.venv/lib/python3.13/site-packages (from pandas) (2.3.3)\n",
      "Requirement already satisfied: python-dateutil>=2.8.2 in /Users/7n100489/Library/CloudStorage/OneDrive-BankofAyudhyaPublicCompanyLimited/Desktop/Workspace/github/intro-to-ml-and-dl-project/.venv/lib/python3.13/site-packages (from pandas) (2.9.0.post0)\n",
      "Requirement already satisfied: pytz>=2020.1 in /Users/7n100489/Library/CloudStorage/OneDrive-BankofAyudhyaPublicCompanyLimited/Desktop/Workspace/github/intro-to-ml-and-dl-project/.venv/lib/python3.13/site-packages (from pandas) (2025.2)\n",
      "Requirement already satisfied: tzdata>=2022.7 in /Users/7n100489/Library/CloudStorage/OneDrive-BankofAyudhyaPublicCompanyLimited/Desktop/Workspace/github/intro-to-ml-and-dl-project/.venv/lib/python3.13/site-packages (from pandas) (2025.2)\n",
      "Requirement already satisfied: filelock in /Users/7n100489/Library/CloudStorage/OneDrive-BankofAyudhyaPublicCompanyLimited/Desktop/Workspace/github/intro-to-ml-and-dl-project/.venv/lib/python3.13/site-packages (from torch) (3.19.1)\n",
      "Requirement already satisfied: typing-extensions>=4.10.0 in /Users/7n100489/Library/CloudStorage/OneDrive-BankofAyudhyaPublicCompanyLimited/Desktop/Workspace/github/intro-to-ml-and-dl-project/.venv/lib/python3.13/site-packages (from torch) (4.15.0)\n",
      "Requirement already satisfied: setuptools in /Users/7n100489/Library/CloudStorage/OneDrive-BankofAyudhyaPublicCompanyLimited/Desktop/Workspace/github/intro-to-ml-and-dl-project/.venv/lib/python3.13/site-packages (from torch) (80.9.0)\n",
      "Requirement already satisfied: sympy>=1.13.3 in /Users/7n100489/Library/CloudStorage/OneDrive-BankofAyudhyaPublicCompanyLimited/Desktop/Workspace/github/intro-to-ml-and-dl-project/.venv/lib/python3.13/site-packages (from torch) (1.14.0)\n",
      "Requirement already satisfied: networkx in /Users/7n100489/Library/CloudStorage/OneDrive-BankofAyudhyaPublicCompanyLimited/Desktop/Workspace/github/intro-to-ml-and-dl-project/.venv/lib/python3.13/site-packages (from torch) (3.5)\n",
      "Requirement already satisfied: jinja2 in /Users/7n100489/Library/CloudStorage/OneDrive-BankofAyudhyaPublicCompanyLimited/Desktop/Workspace/github/intro-to-ml-and-dl-project/.venv/lib/python3.13/site-packages (from torch) (3.1.6)\n",
      "Requirement already satisfied: fsspec in /Users/7n100489/Library/CloudStorage/OneDrive-BankofAyudhyaPublicCompanyLimited/Desktop/Workspace/github/intro-to-ml-and-dl-project/.venv/lib/python3.13/site-packages (from torch) (2025.9.0)\n",
      "Requirement already satisfied: contourpy>=1.0.1 in /Users/7n100489/Library/CloudStorage/OneDrive-BankofAyudhyaPublicCompanyLimited/Desktop/Workspace/github/intro-to-ml-and-dl-project/.venv/lib/python3.13/site-packages (from matplotlib) (1.3.3)\n",
      "Requirement already satisfied: cycler>=0.10 in /Users/7n100489/Library/CloudStorage/OneDrive-BankofAyudhyaPublicCompanyLimited/Desktop/Workspace/github/intro-to-ml-and-dl-project/.venv/lib/python3.13/site-packages (from matplotlib) (0.12.1)\n",
      "Requirement already satisfied: fonttools>=4.22.0 in /Users/7n100489/Library/CloudStorage/OneDrive-BankofAyudhyaPublicCompanyLimited/Desktop/Workspace/github/intro-to-ml-and-dl-project/.venv/lib/python3.13/site-packages (from matplotlib) (4.60.1)\n",
      "Requirement already satisfied: kiwisolver>=1.3.1 in /Users/7n100489/Library/CloudStorage/OneDrive-BankofAyudhyaPublicCompanyLimited/Desktop/Workspace/github/intro-to-ml-and-dl-project/.venv/lib/python3.13/site-packages (from matplotlib) (1.4.9)\n",
      "Requirement already satisfied: packaging>=20.0 in /Users/7n100489/Library/CloudStorage/OneDrive-BankofAyudhyaPublicCompanyLimited/Desktop/Workspace/github/intro-to-ml-and-dl-project/.venv/lib/python3.13/site-packages (from matplotlib) (25.0)\n",
      "Requirement already satisfied: pillow>=8 in /Users/7n100489/Library/CloudStorage/OneDrive-BankofAyudhyaPublicCompanyLimited/Desktop/Workspace/github/intro-to-ml-and-dl-project/.venv/lib/python3.13/site-packages (from matplotlib) (11.3.0)\n",
      "Requirement already satisfied: pyparsing>=2.3.1 in /Users/7n100489/Library/CloudStorage/OneDrive-BankofAyudhyaPublicCompanyLimited/Desktop/Workspace/github/intro-to-ml-and-dl-project/.venv/lib/python3.13/site-packages (from matplotlib) (3.2.5)\n",
      "Requirement already satisfied: six>=1.5 in /Users/7n100489/Library/CloudStorage/OneDrive-BankofAyudhyaPublicCompanyLimited/Desktop/Workspace/github/intro-to-ml-and-dl-project/.venv/lib/python3.13/site-packages (from python-dateutil>=2.8.2->pandas) (1.17.0)\n",
      "Requirement already satisfied: mpmath<1.4,>=1.1.0 in /Users/7n100489/Library/CloudStorage/OneDrive-BankofAyudhyaPublicCompanyLimited/Desktop/Workspace/github/intro-to-ml-and-dl-project/.venv/lib/python3.13/site-packages (from sympy>=1.13.3->torch) (1.3.0)\n",
      "Requirement already satisfied: MarkupSafe>=2.0 in /Users/7n100489/Library/CloudStorage/OneDrive-BankofAyudhyaPublicCompanyLimited/Desktop/Workspace/github/intro-to-ml-and-dl-project/.venv/lib/python3.13/site-packages (from jinja2->torch) (3.0.3)\n",
      "Note: you may need to restart the kernel to use updated packages.\n"
     ]
    }
   ],
   "source": [
    "%pip install pandas torch tqdm matplotlib"
   ]
  },
  {
   "cell_type": "code",
   "execution_count": 3,
   "id": "4f3cf8ec",
   "metadata": {},
   "outputs": [],
   "source": [
    "import torch.nn as nn\n",
    "import pandas as pd\n",
    "from sklearn.model_selection import train_test_split\n",
    "from sklearn.preprocessing import StandardScaler\n",
    "import torch\n",
    "from torch.utils.data import DataLoader, TensorDataset\n",
    "from tqdm import tqdm\n",
    "from matplotlib import pyplot as plt"
   ]
  },
  {
   "cell_type": "code",
   "execution_count": 4,
   "id": "15a89cfd",
   "metadata": {},
   "outputs": [],
   "source": [
    "df = pd.read_csv(\"../classification_breast_cancer_data.csv\")\n",
    "\n",
    "selected_feature = [\n",
    "    \"Age\",\n",
    "    \"Tumor Size\",\n",
    "    \"Node Positive Ratio\",\n",
    "    \"N Stage Encoded\",\n",
    "    \"Estrogen Status Encoded\",\n",
    "    \"Progesterone Status Encoded\",\n",
    "]\n",
    "# X = df.drop(columns=[\"Survival More Than 6 Years\"]).values\n",
    "X = df[selected_feature].values\n",
    "y = df[\"Survival More Than 6 Years\"].values\n",
    "\n",
    "X_train, X_test, y_train, y_test = train_test_split(\n",
    "    X, y, test_size=0.2, random_state=42\n",
    ")\n",
    "\n",
    "scaler = StandardScaler()\n",
    "X_train_scaled = scaler.fit_transform(X_train)\n",
    "X_test_scaled = scaler.transform(X_test)\n",
    "\n",
    "X_train_tensor = torch.tensor(X_train_scaled, dtype=torch.float32)\n",
    "X_test_tensor = torch.tensor(X_test_scaled, dtype=torch.float32)\n",
    "y_train_tensor = torch.tensor(y_train, dtype=torch.long)\n",
    "y_test_tensor = torch.tensor(y_test, dtype=torch.long)\n",
    "\n",
    "train_dataset = TensorDataset(X_train_tensor, y_train_tensor)\n",
    "train_loader = DataLoader(train_dataset, batch_size=32, shuffle=True)\n",
    "\n",
    "test_dataset = TensorDataset(X_test_tensor, y_test_tensor)\n",
    "test_loader = DataLoader(test_dataset, batch_size=32, shuffle=False)"
   ]
  },
  {
   "cell_type": "code",
   "execution_count": 5,
   "id": "ed0ded66",
   "metadata": {},
   "outputs": [],
   "source": [
    "class MLP(nn.Module):\n",
    "    def __init__(self, input_dim, output_dim):\n",
    "        super(MLP, self).__init__()\n",
    "        self.layer = nn.Sequential(\n",
    "            nn.Linear(input_dim, 128),\n",
    "            nn.ReLU(),\n",
    "            nn.Dropout(0.3),\n",
    "            nn.Linear(128, 64),\n",
    "            nn.ReLU(),\n",
    "            nn.Dropout(0.3),\n",
    "            nn.Linear(64, output_dim),\n",
    "        )\n",
    "\n",
    "    def forward(self, x):\n",
    "        return self.layer(x)"
   ]
  },
  {
   "cell_type": "code",
   "execution_count": 6,
   "id": "7370f1b5",
   "metadata": {},
   "outputs": [],
   "source": [
    "def train(model, train_loader, criterion, optimizer, epochs=50):\n",
    "    train_losses = []\n",
    "    train_accuracies = []\n",
    "    val_losses = []\n",
    "    val_accuracies = []\n",
    "\n",
    "    for epoch in range(epochs):\n",
    "        model.train()\n",
    "        train_acc = 0\n",
    "        train_loss = 0\n",
    "\n",
    "        for X_batch, y_batch in tqdm(\n",
    "            train_loader, desc=f\"Epoch {epoch + 1}/{epochs} - Training\"\n",
    "        ):\n",
    "            optimizer.zero_grad()\n",
    "            outputs = model(X_batch)\n",
    "            loss = criterion(outputs, y_batch)\n",
    "            loss.backward()\n",
    "            optimizer.step()\n",
    "            train_loss += loss.item()\n",
    "            _, predicted = torch.max(outputs, 1)\n",
    "            train_acc += (predicted == y_batch).sum().item()\n",
    "\n",
    "        avg_train_loss = train_loss / len(train_dataset)\n",
    "        avg_train_acc = train_acc / len(train_dataset)\n",
    "\n",
    "        train_losses.append(avg_train_loss)\n",
    "        train_accuracies.append(avg_train_acc)\n",
    "\n",
    "        model.eval()\n",
    "        val_acc = 0\n",
    "        val_loss = 0\n",
    "        with torch.no_grad():\n",
    "            for X_batch, y_batch in tqdm(\n",
    "                test_loader, desc=f\"Epoch {epoch + 1}/{epochs} - Validation\"\n",
    "            ):\n",
    "                outputs = model(X_batch)\n",
    "                loss = criterion(outputs, y_batch)\n",
    "                val_loss += loss.item()\n",
    "                _, predicted = torch.max(outputs, 1)\n",
    "                val_acc += (predicted == y_batch).sum().item()\n",
    "\n",
    "        avg_val_loss = val_loss / len(test_dataset)\n",
    "        avg_val_acc = val_acc / len(test_dataset)\n",
    "        val_losses.append(avg_val_loss)\n",
    "        val_accuracies.append(avg_val_acc)\n",
    "\n",
    "        print(\n",
    "            f\"Epoch {epoch + 1}/{epochs} - \"\n",
    "            f\"Train Loss: {avg_train_loss:.4f}, Train Acc: {avg_train_acc:.4f}, \"\n",
    "            f\"Val Loss: {avg_val_loss:.4f}, Val Acc: {avg_val_acc:.4f}\"\n",
    "        )\n",
    "\n",
    "    return train_losses, train_accuracies, val_losses, val_accuracies"
   ]
  },
  {
   "cell_type": "code",
   "execution_count": 7,
   "id": "b8828fc2",
   "metadata": {},
   "outputs": [
    {
     "name": "stderr",
     "output_type": "stream",
     "text": [
      "Epoch 1/200 - Training: 100%|██████████| 101/101 [00:00<00:00, 1102.46it/s]\n",
      "Epoch 1/200 - Validation: 100%|██████████| 26/26 [00:00<00:00, 4281.92it/s]\n"
     ]
    },
    {
     "name": "stdout",
     "output_type": "stream",
     "text": [
      "Epoch 1/200 - Train Loss: 0.0218, Train Acc: 0.5138, Val Loss: 0.0222, Val Acc: 0.5404\n"
     ]
    },
    {
     "name": "stderr",
     "output_type": "stream",
     "text": [
      "Epoch 2/200 - Training: 100%|██████████| 101/101 [00:00<00:00, 1808.35it/s]\n",
      "Epoch 2/200 - Validation: 100%|██████████| 26/26 [00:00<00:00, 4446.02it/s]\n"
     ]
    },
    {
     "name": "stdout",
     "output_type": "stream",
     "text": [
      "Epoch 2/200 - Train Loss: 0.0216, Train Acc: 0.5349, Val Loss: 0.0222, Val Acc: 0.5379\n"
     ]
    },
    {
     "name": "stderr",
     "output_type": "stream",
     "text": [
      "Epoch 3/200 - Training: 100%|██████████| 101/101 [00:00<00:00, 1801.26it/s]\n",
      "Epoch 3/200 - Validation: 100%|██████████| 26/26 [00:00<00:00, 4465.86it/s]\n"
     ]
    },
    {
     "name": "stdout",
     "output_type": "stream",
     "text": [
      "Epoch 3/200 - Train Loss: 0.0217, Train Acc: 0.5247, Val Loss: 0.0223, Val Acc: 0.5329\n"
     ]
    },
    {
     "name": "stderr",
     "output_type": "stream",
     "text": [
      "Epoch 4/200 - Training: 100%|██████████| 101/101 [00:00<00:00, 1837.47it/s]\n",
      "Epoch 4/200 - Validation: 100%|██████████| 26/26 [00:00<00:00, 4544.59it/s]\n"
     ]
    },
    {
     "name": "stdout",
     "output_type": "stream",
     "text": [
      "Epoch 4/200 - Train Loss: 0.0216, Train Acc: 0.5200, Val Loss: 0.0222, Val Acc: 0.5491\n"
     ]
    },
    {
     "name": "stderr",
     "output_type": "stream",
     "text": [
      "Epoch 5/200 - Training: 100%|██████████| 101/101 [00:00<00:00, 1795.08it/s]\n",
      "Epoch 5/200 - Validation: 100%|██████████| 26/26 [00:00<00:00, 4299.65it/s]\n"
     ]
    },
    {
     "name": "stdout",
     "output_type": "stream",
     "text": [
      "Epoch 5/200 - Train Loss: 0.0216, Train Acc: 0.5446, Val Loss: 0.0221, Val Acc: 0.5553\n"
     ]
    },
    {
     "name": "stderr",
     "output_type": "stream",
     "text": [
      "Epoch 6/200 - Training: 100%|██████████| 101/101 [00:00<00:00, 1716.23it/s]\n",
      "Epoch 6/200 - Validation: 100%|██████████| 26/26 [00:00<00:00, 4584.90it/s]\n"
     ]
    },
    {
     "name": "stdout",
     "output_type": "stream",
     "text": [
      "Epoch 6/200 - Train Loss: 0.0216, Train Acc: 0.5362, Val Loss: 0.0223, Val Acc: 0.5366\n"
     ]
    },
    {
     "name": "stderr",
     "output_type": "stream",
     "text": [
      "Epoch 7/200 - Training: 100%|██████████| 101/101 [00:00<00:00, 1746.45it/s]\n",
      "Epoch 7/200 - Validation: 100%|██████████| 26/26 [00:00<00:00, 4646.04it/s]\n"
     ]
    },
    {
     "name": "stdout",
     "output_type": "stream",
     "text": [
      "Epoch 7/200 - Train Loss: 0.0215, Train Acc: 0.5362, Val Loss: 0.0221, Val Acc: 0.5441\n"
     ]
    },
    {
     "name": "stderr",
     "output_type": "stream",
     "text": [
      "Epoch 8/200 - Training: 100%|██████████| 101/101 [00:00<00:00, 1848.57it/s]\n",
      "Epoch 8/200 - Validation: 100%|██████████| 26/26 [00:00<00:00, 4576.63it/s]\n"
     ]
    },
    {
     "name": "stdout",
     "output_type": "stream",
     "text": [
      "Epoch 8/200 - Train Loss: 0.0216, Train Acc: 0.5368, Val Loss: 0.0222, Val Acc: 0.5317\n"
     ]
    },
    {
     "name": "stderr",
     "output_type": "stream",
     "text": [
      "Epoch 9/200 - Training: 100%|██████████| 101/101 [00:00<00:00, 1844.89it/s]\n",
      "Epoch 9/200 - Validation: 100%|██████████| 26/26 [00:00<00:00, 4496.06it/s]\n"
     ]
    },
    {
     "name": "stdout",
     "output_type": "stream",
     "text": [
      "Epoch 9/200 - Train Loss: 0.0216, Train Acc: 0.5405, Val Loss: 0.0222, Val Acc: 0.5317\n"
     ]
    },
    {
     "name": "stderr",
     "output_type": "stream",
     "text": [
      "Epoch 10/200 - Training: 100%|██████████| 101/101 [00:00<00:00, 1758.69it/s]\n",
      "Epoch 10/200 - Validation: 100%|██████████| 26/26 [00:00<00:00, 4345.74it/s]\n"
     ]
    },
    {
     "name": "stdout",
     "output_type": "stream",
     "text": [
      "Epoch 10/200 - Train Loss: 0.0216, Train Acc: 0.5272, Val Loss: 0.0221, Val Acc: 0.5267\n"
     ]
    },
    {
     "name": "stderr",
     "output_type": "stream",
     "text": [
      "Epoch 11/200 - Training: 100%|██████████| 101/101 [00:00<00:00, 1795.72it/s]\n",
      "Epoch 11/200 - Validation: 100%|██████████| 26/26 [00:00<00:00, 4510.19it/s]\n"
     ]
    },
    {
     "name": "stdout",
     "output_type": "stream",
     "text": [
      "Epoch 11/200 - Train Loss: 0.0216, Train Acc: 0.5325, Val Loss: 0.0221, Val Acc: 0.5516\n"
     ]
    },
    {
     "name": "stderr",
     "output_type": "stream",
     "text": [
      "Epoch 12/200 - Training: 100%|██████████| 101/101 [00:00<00:00, 1812.31it/s]\n",
      "Epoch 12/200 - Validation: 100%|██████████| 26/26 [00:00<00:00, 4418.81it/s]\n"
     ]
    },
    {
     "name": "stdout",
     "output_type": "stream",
     "text": [
      "Epoch 12/200 - Train Loss: 0.0215, Train Acc: 0.5455, Val Loss: 0.0222, Val Acc: 0.5329\n"
     ]
    },
    {
     "name": "stderr",
     "output_type": "stream",
     "text": [
      "Epoch 13/200 - Training: 100%|██████████| 101/101 [00:00<00:00, 1829.45it/s]\n",
      "Epoch 13/200 - Validation: 100%|██████████| 26/26 [00:00<00:00, 4433.00it/s]\n"
     ]
    },
    {
     "name": "stdout",
     "output_type": "stream",
     "text": [
      "Epoch 13/200 - Train Loss: 0.0215, Train Acc: 0.5455, Val Loss: 0.0222, Val Acc: 0.5329\n"
     ]
    },
    {
     "name": "stderr",
     "output_type": "stream",
     "text": [
      "Epoch 14/200 - Training: 100%|██████████| 101/101 [00:00<00:00, 1724.85it/s]\n",
      "Epoch 14/200 - Validation: 100%|██████████| 26/26 [00:00<00:00, 4108.04it/s]\n"
     ]
    },
    {
     "name": "stdout",
     "output_type": "stream",
     "text": [
      "Epoch 14/200 - Train Loss: 0.0215, Train Acc: 0.5359, Val Loss: 0.0223, Val Acc: 0.5466\n"
     ]
    },
    {
     "name": "stderr",
     "output_type": "stream",
     "text": [
      "Epoch 15/200 - Training: 100%|██████████| 101/101 [00:00<00:00, 1833.13it/s]\n",
      "Epoch 15/200 - Validation: 100%|██████████| 26/26 [00:00<00:00, 4515.42it/s]\n"
     ]
    },
    {
     "name": "stdout",
     "output_type": "stream",
     "text": [
      "Epoch 15/200 - Train Loss: 0.0215, Train Acc: 0.5368, Val Loss: 0.0222, Val Acc: 0.5466\n"
     ]
    },
    {
     "name": "stderr",
     "output_type": "stream",
     "text": [
      "Epoch 16/200 - Training: 100%|██████████| 101/101 [00:00<00:00, 1830.84it/s]\n",
      "Epoch 16/200 - Validation: 100%|██████████| 26/26 [00:00<00:00, 4495.32it/s]\n"
     ]
    },
    {
     "name": "stdout",
     "output_type": "stream",
     "text": [
      "Epoch 16/200 - Train Loss: 0.0215, Train Acc: 0.5461, Val Loss: 0.0222, Val Acc: 0.5441\n"
     ]
    },
    {
     "name": "stderr",
     "output_type": "stream",
     "text": [
      "Epoch 17/200 - Training: 100%|██████████| 101/101 [00:00<00:00, 1812.14it/s]\n",
      "Epoch 17/200 - Validation: 100%|██████████| 26/26 [00:00<00:00, 4598.63it/s]\n"
     ]
    },
    {
     "name": "stdout",
     "output_type": "stream",
     "text": [
      "Epoch 17/200 - Train Loss: 0.0215, Train Acc: 0.5461, Val Loss: 0.0222, Val Acc: 0.5242\n"
     ]
    },
    {
     "name": "stderr",
     "output_type": "stream",
     "text": [
      "Epoch 18/200 - Training: 100%|██████████| 101/101 [00:00<00:00, 1611.44it/s]\n",
      "Epoch 18/200 - Validation: 100%|██████████| 26/26 [00:00<00:00, 3132.15it/s]\n"
     ]
    },
    {
     "name": "stdout",
     "output_type": "stream",
     "text": [
      "Epoch 18/200 - Train Loss: 0.0215, Train Acc: 0.5390, Val Loss: 0.0221, Val Acc: 0.5429\n"
     ]
    },
    {
     "name": "stderr",
     "output_type": "stream",
     "text": [
      "Epoch 19/200 - Training: 100%|██████████| 101/101 [00:00<00:00, 1673.62it/s]\n",
      "Epoch 19/200 - Validation: 100%|██████████| 26/26 [00:00<00:00, 4075.18it/s]\n"
     ]
    },
    {
     "name": "stdout",
     "output_type": "stream",
     "text": [
      "Epoch 19/200 - Train Loss: 0.0215, Train Acc: 0.5405, Val Loss: 0.0222, Val Acc: 0.5366\n"
     ]
    },
    {
     "name": "stderr",
     "output_type": "stream",
     "text": [
      "Epoch 20/200 - Training: 100%|██████████| 101/101 [00:00<00:00, 1730.08it/s]\n",
      "Epoch 20/200 - Validation: 100%|██████████| 26/26 [00:00<00:00, 4472.64it/s]\n"
     ]
    },
    {
     "name": "stdout",
     "output_type": "stream",
     "text": [
      "Epoch 20/200 - Train Loss: 0.0215, Train Acc: 0.5492, Val Loss: 0.0222, Val Acc: 0.5416\n"
     ]
    },
    {
     "name": "stderr",
     "output_type": "stream",
     "text": [
      "Epoch 21/200 - Training: 100%|██████████| 101/101 [00:00<00:00, 1804.02it/s]\n",
      "Epoch 21/200 - Validation: 100%|██████████| 26/26 [00:00<00:00, 4568.58it/s]\n"
     ]
    },
    {
     "name": "stdout",
     "output_type": "stream",
     "text": [
      "Epoch 21/200 - Train Loss: 0.0215, Train Acc: 0.5464, Val Loss: 0.0222, Val Acc: 0.5466\n"
     ]
    },
    {
     "name": "stderr",
     "output_type": "stream",
     "text": [
      "Epoch 22/200 - Training: 100%|██████████| 101/101 [00:00<00:00, 1793.61it/s]\n",
      "Epoch 22/200 - Validation: 100%|██████████| 26/26 [00:00<00:00, 4637.94it/s]\n"
     ]
    },
    {
     "name": "stdout",
     "output_type": "stream",
     "text": [
      "Epoch 22/200 - Train Loss: 0.0215, Train Acc: 0.5461, Val Loss: 0.0222, Val Acc: 0.5255\n"
     ]
    },
    {
     "name": "stderr",
     "output_type": "stream",
     "text": [
      "Epoch 23/200 - Training: 100%|██████████| 101/101 [00:00<00:00, 1811.46it/s]\n",
      "Epoch 23/200 - Validation: 100%|██████████| 26/26 [00:00<00:00, 4399.38it/s]\n"
     ]
    },
    {
     "name": "stdout",
     "output_type": "stream",
     "text": [
      "Epoch 23/200 - Train Loss: 0.0215, Train Acc: 0.5502, Val Loss: 0.0222, Val Acc: 0.5503\n"
     ]
    },
    {
     "name": "stderr",
     "output_type": "stream",
     "text": [
      "Epoch 24/200 - Training: 100%|██████████| 101/101 [00:00<00:00, 1769.88it/s]\n",
      "Epoch 24/200 - Validation: 100%|██████████| 26/26 [00:00<00:00, 4304.57it/s]\n"
     ]
    },
    {
     "name": "stdout",
     "output_type": "stream",
     "text": [
      "Epoch 24/200 - Train Loss: 0.0215, Train Acc: 0.5415, Val Loss: 0.0222, Val Acc: 0.5366\n"
     ]
    },
    {
     "name": "stderr",
     "output_type": "stream",
     "text": [
      "Epoch 25/200 - Training: 100%|██████████| 101/101 [00:00<00:00, 1675.55it/s]\n",
      "Epoch 25/200 - Validation: 100%|██████████| 26/26 [00:00<00:00, 4251.04it/s]\n"
     ]
    },
    {
     "name": "stdout",
     "output_type": "stream",
     "text": [
      "Epoch 25/200 - Train Loss: 0.0215, Train Acc: 0.5536, Val Loss: 0.0222, Val Acc: 0.5391\n"
     ]
    },
    {
     "name": "stderr",
     "output_type": "stream",
     "text": [
      "Epoch 26/200 - Training: 100%|██████████| 101/101 [00:00<00:00, 1737.64it/s]\n",
      "Epoch 26/200 - Validation: 100%|██████████| 26/26 [00:00<00:00, 4067.58it/s]\n"
     ]
    },
    {
     "name": "stdout",
     "output_type": "stream",
     "text": [
      "Epoch 26/200 - Train Loss: 0.0214, Train Acc: 0.5349, Val Loss: 0.0222, Val Acc: 0.5466\n"
     ]
    },
    {
     "name": "stderr",
     "output_type": "stream",
     "text": [
      "Epoch 27/200 - Training: 100%|██████████| 101/101 [00:00<00:00, 1519.57it/s]\n",
      "Epoch 27/200 - Validation: 100%|██████████| 26/26 [00:00<00:00, 4535.14it/s]\n"
     ]
    },
    {
     "name": "stdout",
     "output_type": "stream",
     "text": [
      "Epoch 27/200 - Train Loss: 0.0214, Train Acc: 0.5461, Val Loss: 0.0223, Val Acc: 0.5391\n"
     ]
    },
    {
     "name": "stderr",
     "output_type": "stream",
     "text": [
      "Epoch 28/200 - Training: 100%|██████████| 101/101 [00:00<00:00, 1772.52it/s]\n",
      "Epoch 28/200 - Validation: 100%|██████████| 26/26 [00:00<00:00, 4358.76it/s]\n"
     ]
    },
    {
     "name": "stdout",
     "output_type": "stream",
     "text": [
      "Epoch 28/200 - Train Loss: 0.0214, Train Acc: 0.5555, Val Loss: 0.0222, Val Acc: 0.5230\n"
     ]
    },
    {
     "name": "stderr",
     "output_type": "stream",
     "text": [
      "Epoch 29/200 - Training: 100%|██████████| 101/101 [00:00<00:00, 1746.41it/s]\n",
      "Epoch 29/200 - Validation: 100%|██████████| 26/26 [00:00<00:00, 4291.19it/s]\n"
     ]
    },
    {
     "name": "stdout",
     "output_type": "stream",
     "text": [
      "Epoch 29/200 - Train Loss: 0.0215, Train Acc: 0.5433, Val Loss: 0.0222, Val Acc: 0.5453\n"
     ]
    },
    {
     "name": "stderr",
     "output_type": "stream",
     "text": [
      "Epoch 30/200 - Training: 100%|██████████| 101/101 [00:00<00:00, 1766.69it/s]\n",
      "Epoch 30/200 - Validation: 100%|██████████| 26/26 [00:00<00:00, 4326.25it/s]\n"
     ]
    },
    {
     "name": "stdout",
     "output_type": "stream",
     "text": [
      "Epoch 30/200 - Train Loss: 0.0214, Train Acc: 0.5362, Val Loss: 0.0222, Val Acc: 0.5602\n"
     ]
    },
    {
     "name": "stderr",
     "output_type": "stream",
     "text": [
      "Epoch 31/200 - Training: 100%|██████████| 101/101 [00:00<00:00, 1695.77it/s]\n",
      "Epoch 31/200 - Validation: 100%|██████████| 26/26 [00:00<00:00, 4056.24it/s]\n"
     ]
    },
    {
     "name": "stdout",
     "output_type": "stream",
     "text": [
      "Epoch 31/200 - Train Loss: 0.0214, Train Acc: 0.5545, Val Loss: 0.0223, Val Acc: 0.5441\n"
     ]
    },
    {
     "name": "stderr",
     "output_type": "stream",
     "text": [
      "Epoch 32/200 - Training: 100%|██████████| 101/101 [00:00<00:00, 1720.90it/s]\n",
      "Epoch 32/200 - Validation: 100%|██████████| 26/26 [00:00<00:00, 4475.03it/s]\n"
     ]
    },
    {
     "name": "stdout",
     "output_type": "stream",
     "text": [
      "Epoch 32/200 - Train Loss: 0.0214, Train Acc: 0.5533, Val Loss: 0.0222, Val Acc: 0.5491\n"
     ]
    },
    {
     "name": "stderr",
     "output_type": "stream",
     "text": [
      "Epoch 33/200 - Training: 100%|██████████| 101/101 [00:00<00:00, 1792.31it/s]\n",
      "Epoch 33/200 - Validation: 100%|██████████| 26/26 [00:00<00:00, 4535.14it/s]\n"
     ]
    },
    {
     "name": "stdout",
     "output_type": "stream",
     "text": [
      "Epoch 33/200 - Train Loss: 0.0215, Train Acc: 0.5418, Val Loss: 0.0222, Val Acc: 0.5379\n"
     ]
    },
    {
     "name": "stderr",
     "output_type": "stream",
     "text": [
      "Epoch 34/200 - Training: 100%|██████████| 101/101 [00:00<00:00, 1745.44it/s]\n",
      "Epoch 34/200 - Validation: 100%|██████████| 26/26 [00:00<00:00, 4472.64it/s]\n"
     ]
    },
    {
     "name": "stdout",
     "output_type": "stream",
     "text": [
      "Epoch 34/200 - Train Loss: 0.0215, Train Acc: 0.5561, Val Loss: 0.0222, Val Acc: 0.5640\n"
     ]
    },
    {
     "name": "stderr",
     "output_type": "stream",
     "text": [
      "Epoch 35/200 - Training: 100%|██████████| 101/101 [00:00<00:00, 1783.85it/s]\n",
      "Epoch 35/200 - Validation: 100%|██████████| 26/26 [00:00<00:00, 4564.75it/s]\n"
     ]
    },
    {
     "name": "stdout",
     "output_type": "stream",
     "text": [
      "Epoch 35/200 - Train Loss: 0.0214, Train Acc: 0.5523, Val Loss: 0.0223, Val Acc: 0.5553\n"
     ]
    },
    {
     "name": "stderr",
     "output_type": "stream",
     "text": [
      "Epoch 36/200 - Training: 100%|██████████| 101/101 [00:00<00:00, 1749.37it/s]\n",
      "Epoch 36/200 - Validation: 100%|██████████| 26/26 [00:00<00:00, 4584.71it/s]\n"
     ]
    },
    {
     "name": "stdout",
     "output_type": "stream",
     "text": [
      "Epoch 36/200 - Train Loss: 0.0215, Train Acc: 0.5492, Val Loss: 0.0223, Val Acc: 0.5503\n"
     ]
    },
    {
     "name": "stderr",
     "output_type": "stream",
     "text": [
      "Epoch 37/200 - Training: 100%|██████████| 101/101 [00:00<00:00, 1810.10it/s]\n",
      "Epoch 37/200 - Validation: 100%|██████████| 26/26 [00:00<00:00, 4741.18it/s]\n"
     ]
    },
    {
     "name": "stdout",
     "output_type": "stream",
     "text": [
      "Epoch 37/200 - Train Loss: 0.0214, Train Acc: 0.5610, Val Loss: 0.0222, Val Acc: 0.5453\n"
     ]
    },
    {
     "name": "stderr",
     "output_type": "stream",
     "text": [
      "Epoch 38/200 - Training: 100%|██████████| 101/101 [00:00<00:00, 1780.61it/s]\n",
      "Epoch 38/200 - Validation: 100%|██████████| 26/26 [00:00<00:00, 4443.48it/s]\n"
     ]
    },
    {
     "name": "stdout",
     "output_type": "stream",
     "text": [
      "Epoch 38/200 - Train Loss: 0.0214, Train Acc: 0.5567, Val Loss: 0.0222, Val Acc: 0.5540\n"
     ]
    },
    {
     "name": "stderr",
     "output_type": "stream",
     "text": [
      "Epoch 39/200 - Training: 100%|██████████| 101/101 [00:00<00:00, 1789.51it/s]\n",
      "Epoch 39/200 - Validation: 100%|██████████| 26/26 [00:00<00:00, 4501.25it/s]\n"
     ]
    },
    {
     "name": "stdout",
     "output_type": "stream",
     "text": [
      "Epoch 39/200 - Train Loss: 0.0214, Train Acc: 0.5471, Val Loss: 0.0222, Val Acc: 0.5516\n"
     ]
    },
    {
     "name": "stderr",
     "output_type": "stream",
     "text": [
      "Epoch 40/200 - Training: 100%|██████████| 101/101 [00:00<00:00, 1720.44it/s]\n",
      "Epoch 40/200 - Validation: 100%|██████████| 26/26 [00:00<00:00, 4840.51it/s]\n"
     ]
    },
    {
     "name": "stdout",
     "output_type": "stream",
     "text": [
      "Epoch 40/200 - Train Loss: 0.0213, Train Acc: 0.5645, Val Loss: 0.0223, Val Acc: 0.5528\n"
     ]
    },
    {
     "name": "stderr",
     "output_type": "stream",
     "text": [
      "Epoch 41/200 - Training: 100%|██████████| 101/101 [00:00<00:00, 1763.35it/s]\n",
      "Epoch 41/200 - Validation: 100%|██████████| 26/26 [00:00<00:00, 4329.00it/s]\n"
     ]
    },
    {
     "name": "stdout",
     "output_type": "stream",
     "text": [
      "Epoch 41/200 - Train Loss: 0.0214, Train Acc: 0.5508, Val Loss: 0.0224, Val Acc: 0.5329\n"
     ]
    },
    {
     "name": "stderr",
     "output_type": "stream",
     "text": [
      "Epoch 42/200 - Training: 100%|██████████| 101/101 [00:00<00:00, 1498.78it/s]\n",
      "Epoch 42/200 - Validation: 100%|██████████| 26/26 [00:00<00:00, 4677.13it/s]\n"
     ]
    },
    {
     "name": "stdout",
     "output_type": "stream",
     "text": [
      "Epoch 42/200 - Train Loss: 0.0214, Train Acc: 0.5592, Val Loss: 0.0224, Val Acc: 0.5503\n"
     ]
    },
    {
     "name": "stderr",
     "output_type": "stream",
     "text": [
      "Epoch 43/200 - Training: 100%|██████████| 101/101 [00:00<00:00, 1786.95it/s]\n",
      "Epoch 43/200 - Validation: 100%|██████████| 26/26 [00:00<00:00, 4426.35it/s]\n"
     ]
    },
    {
     "name": "stdout",
     "output_type": "stream",
     "text": [
      "Epoch 43/200 - Train Loss: 0.0214, Train Acc: 0.5499, Val Loss: 0.0223, Val Acc: 0.5453\n"
     ]
    },
    {
     "name": "stderr",
     "output_type": "stream",
     "text": [
      "Epoch 44/200 - Training: 100%|██████████| 101/101 [00:00<00:00, 1783.76it/s]\n",
      "Epoch 44/200 - Validation: 100%|██████████| 26/26 [00:00<00:00, 4532.50it/s]\n"
     ]
    },
    {
     "name": "stdout",
     "output_type": "stream",
     "text": [
      "Epoch 44/200 - Train Loss: 0.0214, Train Acc: 0.5620, Val Loss: 0.0224, Val Acc: 0.5491\n"
     ]
    },
    {
     "name": "stderr",
     "output_type": "stream",
     "text": [
      "Epoch 45/200 - Training: 100%|██████████| 101/101 [00:00<00:00, 1791.86it/s]\n",
      "Epoch 45/200 - Validation: 100%|██████████| 26/26 [00:00<00:00, 4791.81it/s]\n"
     ]
    },
    {
     "name": "stdout",
     "output_type": "stream",
     "text": [
      "Epoch 45/200 - Train Loss: 0.0214, Train Acc: 0.5412, Val Loss: 0.0223, Val Acc: 0.5478\n"
     ]
    },
    {
     "name": "stderr",
     "output_type": "stream",
     "text": [
      "Epoch 46/200 - Training: 100%|██████████| 101/101 [00:00<00:00, 1775.92it/s]\n",
      "Epoch 46/200 - Validation: 100%|██████████| 26/26 [00:00<00:00, 4537.40it/s]\n"
     ]
    },
    {
     "name": "stdout",
     "output_type": "stream",
     "text": [
      "Epoch 46/200 - Train Loss: 0.0213, Train Acc: 0.5545, Val Loss: 0.0223, Val Acc: 0.5578\n"
     ]
    },
    {
     "name": "stderr",
     "output_type": "stream",
     "text": [
      "Epoch 47/200 - Training: 100%|██████████| 101/101 [00:00<00:00, 1767.27it/s]\n",
      "Epoch 47/200 - Validation: 100%|██████████| 26/26 [00:00<00:00, 4315.13it/s]\n"
     ]
    },
    {
     "name": "stdout",
     "output_type": "stream",
     "text": [
      "Epoch 47/200 - Train Loss: 0.0214, Train Acc: 0.5545, Val Loss: 0.0223, Val Acc: 0.5640\n"
     ]
    },
    {
     "name": "stderr",
     "output_type": "stream",
     "text": [
      "Epoch 48/200 - Training: 100%|██████████| 101/101 [00:00<00:00, 1730.75it/s]\n",
      "Epoch 48/200 - Validation: 100%|██████████| 26/26 [00:00<00:00, 4577.40it/s]\n"
     ]
    },
    {
     "name": "stdout",
     "output_type": "stream",
     "text": [
      "Epoch 48/200 - Train Loss: 0.0214, Train Acc: 0.5558, Val Loss: 0.0223, Val Acc: 0.5553\n"
     ]
    },
    {
     "name": "stderr",
     "output_type": "stream",
     "text": [
      "Epoch 49/200 - Training: 100%|██████████| 101/101 [00:00<00:00, 1834.16it/s]\n",
      "Epoch 49/200 - Validation: 100%|██████████| 26/26 [00:00<00:00, 4646.24it/s]\n"
     ]
    },
    {
     "name": "stdout",
     "output_type": "stream",
     "text": [
      "Epoch 49/200 - Train Loss: 0.0213, Train Acc: 0.5461, Val Loss: 0.0224, Val Acc: 0.5478\n"
     ]
    },
    {
     "name": "stderr",
     "output_type": "stream",
     "text": [
      "Epoch 50/200 - Training: 100%|██████████| 101/101 [00:00<00:00, 1858.14it/s]\n",
      "Epoch 50/200 - Validation: 100%|██████████| 26/26 [00:00<00:00, 4513.92it/s]\n"
     ]
    },
    {
     "name": "stdout",
     "output_type": "stream",
     "text": [
      "Epoch 50/200 - Train Loss: 0.0213, Train Acc: 0.5579, Val Loss: 0.0224, Val Acc: 0.5342\n"
     ]
    },
    {
     "name": "stderr",
     "output_type": "stream",
     "text": [
      "Epoch 51/200 - Training: 100%|██████████| 101/101 [00:00<00:00, 1879.21it/s]\n",
      "Epoch 51/200 - Validation: 100%|██████████| 26/26 [00:00<00:00, 5045.43it/s]\n"
     ]
    },
    {
     "name": "stdout",
     "output_type": "stream",
     "text": [
      "Epoch 51/200 - Train Loss: 0.0213, Train Acc: 0.5629, Val Loss: 0.0224, Val Acc: 0.5478\n"
     ]
    },
    {
     "name": "stderr",
     "output_type": "stream",
     "text": [
      "Epoch 52/200 - Training: 100%|██████████| 101/101 [00:00<00:00, 1838.67it/s]\n",
      "Epoch 52/200 - Validation: 100%|██████████| 26/26 [00:00<00:00, 4666.32it/s]\n"
     ]
    },
    {
     "name": "stdout",
     "output_type": "stream",
     "text": [
      "Epoch 52/200 - Train Loss: 0.0213, Train Acc: 0.5598, Val Loss: 0.0224, Val Acc: 0.5528\n"
     ]
    },
    {
     "name": "stderr",
     "output_type": "stream",
     "text": [
      "Epoch 53/200 - Training: 100%|██████████| 101/101 [00:00<00:00, 1848.10it/s]\n",
      "Epoch 53/200 - Validation: 100%|██████████| 26/26 [00:00<00:00, 4690.81it/s]\n"
     ]
    },
    {
     "name": "stdout",
     "output_type": "stream",
     "text": [
      "Epoch 53/200 - Train Loss: 0.0213, Train Acc: 0.5660, Val Loss: 0.0224, Val Acc: 0.5230\n"
     ]
    },
    {
     "name": "stderr",
     "output_type": "stream",
     "text": [
      "Epoch 54/200 - Training: 100%|██████████| 101/101 [00:00<00:00, 1886.29it/s]\n",
      "Epoch 54/200 - Validation: 100%|██████████| 26/26 [00:00<00:00, 5348.57it/s]\n"
     ]
    },
    {
     "name": "stdout",
     "output_type": "stream",
     "text": [
      "Epoch 54/200 - Train Loss: 0.0214, Train Acc: 0.5495, Val Loss: 0.0224, Val Acc: 0.5516\n"
     ]
    },
    {
     "name": "stderr",
     "output_type": "stream",
     "text": [
      "Epoch 55/200 - Training: 100%|██████████| 101/101 [00:00<00:00, 1896.35it/s]\n",
      "Epoch 55/200 - Validation: 100%|██████████| 26/26 [00:00<00:00, 4646.24it/s]\n"
     ]
    },
    {
     "name": "stdout",
     "output_type": "stream",
     "text": [
      "Epoch 55/200 - Train Loss: 0.0213, Train Acc: 0.5617, Val Loss: 0.0224, Val Acc: 0.5528\n"
     ]
    },
    {
     "name": "stderr",
     "output_type": "stream",
     "text": [
      "Epoch 56/200 - Training: 100%|██████████| 101/101 [00:00<00:00, 1882.54it/s]\n",
      "Epoch 56/200 - Validation: 100%|██████████| 26/26 [00:00<00:00, 4448.19it/s]\n"
     ]
    },
    {
     "name": "stdout",
     "output_type": "stream",
     "text": [
      "Epoch 56/200 - Train Loss: 0.0213, Train Acc: 0.5623, Val Loss: 0.0224, Val Acc: 0.5528\n"
     ]
    },
    {
     "name": "stderr",
     "output_type": "stream",
     "text": [
      "Epoch 57/200 - Training: 100%|██████████| 101/101 [00:00<00:00, 1839.73it/s]\n",
      "Epoch 57/200 - Validation: 100%|██████████| 26/26 [00:00<00:00, 4404.54it/s]\n"
     ]
    },
    {
     "name": "stdout",
     "output_type": "stream",
     "text": [
      "Epoch 57/200 - Train Loss: 0.0212, Train Acc: 0.5610, Val Loss: 0.0224, Val Acc: 0.5602\n"
     ]
    },
    {
     "name": "stderr",
     "output_type": "stream",
     "text": [
      "Epoch 58/200 - Training: 100%|██████████| 101/101 [00:00<00:00, 1841.25it/s]\n",
      "Epoch 58/200 - Validation: 100%|██████████| 26/26 [00:00<00:00, 4070.62it/s]\n"
     ]
    },
    {
     "name": "stdout",
     "output_type": "stream",
     "text": [
      "Epoch 58/200 - Train Loss: 0.0213, Train Acc: 0.5629, Val Loss: 0.0223, Val Acc: 0.5466\n"
     ]
    },
    {
     "name": "stderr",
     "output_type": "stream",
     "text": [
      "Epoch 59/200 - Training: 100%|██████████| 101/101 [00:00<00:00, 1848.06it/s]\n",
      "Epoch 59/200 - Validation: 100%|██████████| 26/26 [00:00<00:00, 4755.86it/s]\n"
     ]
    },
    {
     "name": "stdout",
     "output_type": "stream",
     "text": [
      "Epoch 59/200 - Train Loss: 0.0213, Train Acc: 0.5685, Val Loss: 0.0223, Val Acc: 0.5727\n"
     ]
    },
    {
     "name": "stderr",
     "output_type": "stream",
     "text": [
      "Epoch 60/200 - Training: 100%|██████████| 101/101 [00:00<00:00, 1884.96it/s]\n",
      "Epoch 60/200 - Validation: 100%|██████████| 26/26 [00:00<00:00, 4414.16it/s]\n"
     ]
    },
    {
     "name": "stdout",
     "output_type": "stream",
     "text": [
      "Epoch 60/200 - Train Loss: 0.0214, Train Acc: 0.5645, Val Loss: 0.0224, Val Acc: 0.5615\n"
     ]
    },
    {
     "name": "stderr",
     "output_type": "stream",
     "text": [
      "Epoch 61/200 - Training: 100%|██████████| 101/101 [00:00<00:00, 1801.19it/s]\n",
      "Epoch 61/200 - Validation: 100%|██████████| 26/26 [00:00<00:00, 4394.60it/s]\n"
     ]
    },
    {
     "name": "stdout",
     "output_type": "stream",
     "text": [
      "Epoch 61/200 - Train Loss: 0.0213, Train Acc: 0.5673, Val Loss: 0.0224, Val Acc: 0.5391\n"
     ]
    },
    {
     "name": "stderr",
     "output_type": "stream",
     "text": [
      "Epoch 62/200 - Training: 100%|██████████| 101/101 [00:00<00:00, 1790.85it/s]\n",
      "Epoch 62/200 - Validation: 100%|██████████| 26/26 [00:00<00:00, 4506.09it/s]\n"
     ]
    },
    {
     "name": "stdout",
     "output_type": "stream",
     "text": [
      "Epoch 62/200 - Train Loss: 0.0213, Train Acc: 0.5623, Val Loss: 0.0224, Val Acc: 0.5602\n"
     ]
    },
    {
     "name": "stderr",
     "output_type": "stream",
     "text": [
      "Epoch 63/200 - Training: 100%|██████████| 101/101 [00:00<00:00, 1854.37it/s]\n",
      "Epoch 63/200 - Validation: 100%|██████████| 26/26 [00:00<00:00, 4622.02it/s]\n"
     ]
    },
    {
     "name": "stdout",
     "output_type": "stream",
     "text": [
      "Epoch 63/200 - Train Loss: 0.0213, Train Acc: 0.5573, Val Loss: 0.0225, Val Acc: 0.5379\n"
     ]
    },
    {
     "name": "stderr",
     "output_type": "stream",
     "text": [
      "Epoch 64/200 - Training: 100%|██████████| 101/101 [00:00<00:00, 1813.35it/s]\n",
      "Epoch 64/200 - Validation: 100%|██████████| 26/26 [00:00<00:00, 4882.56it/s]\n"
     ]
    },
    {
     "name": "stdout",
     "output_type": "stream",
     "text": [
      "Epoch 64/200 - Train Loss: 0.0212, Train Acc: 0.5645, Val Loss: 0.0224, Val Acc: 0.5391\n"
     ]
    },
    {
     "name": "stderr",
     "output_type": "stream",
     "text": [
      "Epoch 65/200 - Training: 100%|██████████| 101/101 [00:00<00:00, 1836.43it/s]\n",
      "Epoch 65/200 - Validation: 100%|██████████| 26/26 [00:00<00:00, 4505.16it/s]\n"
     ]
    },
    {
     "name": "stdout",
     "output_type": "stream",
     "text": [
      "Epoch 65/200 - Train Loss: 0.0212, Train Acc: 0.5629, Val Loss: 0.0224, Val Acc: 0.5404\n"
     ]
    },
    {
     "name": "stderr",
     "output_type": "stream",
     "text": [
      "Epoch 66/200 - Training: 100%|██████████| 101/101 [00:00<00:00, 1860.68it/s]\n",
      "Epoch 66/200 - Validation: 100%|██████████| 26/26 [00:00<00:00, 4372.57it/s]\n"
     ]
    },
    {
     "name": "stdout",
     "output_type": "stream",
     "text": [
      "Epoch 66/200 - Train Loss: 0.0213, Train Acc: 0.5505, Val Loss: 0.0224, Val Acc: 0.5503\n"
     ]
    },
    {
     "name": "stderr",
     "output_type": "stream",
     "text": [
      "Epoch 67/200 - Training: 100%|██████████| 101/101 [00:00<00:00, 1843.21it/s]\n",
      "Epoch 67/200 - Validation: 100%|██████████| 26/26 [00:00<00:00, 4636.36it/s]\n"
     ]
    },
    {
     "name": "stdout",
     "output_type": "stream",
     "text": [
      "Epoch 67/200 - Train Loss: 0.0213, Train Acc: 0.5607, Val Loss: 0.0224, Val Acc: 0.5416\n"
     ]
    },
    {
     "name": "stderr",
     "output_type": "stream",
     "text": [
      "Epoch 68/200 - Training: 100%|██████████| 101/101 [00:00<00:00, 1840.95it/s]\n",
      "Epoch 68/200 - Validation: 100%|██████████| 26/26 [00:00<00:00, 4420.43it/s]\n"
     ]
    },
    {
     "name": "stdout",
     "output_type": "stream",
     "text": [
      "Epoch 68/200 - Train Loss: 0.0212, Train Acc: 0.5704, Val Loss: 0.0225, Val Acc: 0.5441\n"
     ]
    },
    {
     "name": "stderr",
     "output_type": "stream",
     "text": [
      "Epoch 69/200 - Training: 100%|██████████| 101/101 [00:00<00:00, 1809.70it/s]\n",
      "Epoch 69/200 - Validation: 100%|██████████| 26/26 [00:00<00:00, 4799.82it/s]\n"
     ]
    },
    {
     "name": "stdout",
     "output_type": "stream",
     "text": [
      "Epoch 69/200 - Train Loss: 0.0213, Train Acc: 0.5642, Val Loss: 0.0224, Val Acc: 0.5590\n"
     ]
    },
    {
     "name": "stderr",
     "output_type": "stream",
     "text": [
      "Epoch 70/200 - Training: 100%|██████████| 101/101 [00:00<00:00, 1819.36it/s]\n",
      "Epoch 70/200 - Validation: 100%|██████████| 26/26 [00:00<00:00, 4530.43it/s]\n"
     ]
    },
    {
     "name": "stdout",
     "output_type": "stream",
     "text": [
      "Epoch 70/200 - Train Loss: 0.0212, Train Acc: 0.5701, Val Loss: 0.0224, Val Acc: 0.5528\n"
     ]
    },
    {
     "name": "stderr",
     "output_type": "stream",
     "text": [
      "Epoch 71/200 - Training: 100%|██████████| 101/101 [00:00<00:00, 1859.45it/s]\n",
      "Epoch 71/200 - Validation: 100%|██████████| 26/26 [00:00<00:00, 4272.19it/s]\n"
     ]
    },
    {
     "name": "stdout",
     "output_type": "stream",
     "text": [
      "Epoch 71/200 - Train Loss: 0.0212, Train Acc: 0.5691, Val Loss: 0.0224, Val Acc: 0.5528\n"
     ]
    },
    {
     "name": "stderr",
     "output_type": "stream",
     "text": [
      "Epoch 72/200 - Training: 100%|██████████| 101/101 [00:00<00:00, 1880.15it/s]\n",
      "Epoch 72/200 - Validation: 100%|██████████| 26/26 [00:00<00:00, 4396.19it/s]\n"
     ]
    },
    {
     "name": "stdout",
     "output_type": "stream",
     "text": [
      "Epoch 72/200 - Train Loss: 0.0213, Train Acc: 0.5645, Val Loss: 0.0224, Val Acc: 0.5565\n"
     ]
    },
    {
     "name": "stderr",
     "output_type": "stream",
     "text": [
      "Epoch 73/200 - Training: 100%|██████████| 101/101 [00:00<00:00, 1869.92it/s]\n",
      "Epoch 73/200 - Validation: 100%|██████████| 26/26 [00:00<00:00, 4881.90it/s]\n"
     ]
    },
    {
     "name": "stdout",
     "output_type": "stream",
     "text": [
      "Epoch 73/200 - Train Loss: 0.0213, Train Acc: 0.5617, Val Loss: 0.0225, Val Acc: 0.5366\n"
     ]
    },
    {
     "name": "stderr",
     "output_type": "stream",
     "text": [
      "Epoch 74/200 - Training: 100%|██████████| 101/101 [00:00<00:00, 1827.23it/s]\n",
      "Epoch 74/200 - Validation: 100%|██████████| 26/26 [00:00<00:00, 4309.67it/s]\n"
     ]
    },
    {
     "name": "stdout",
     "output_type": "stream",
     "text": [
      "Epoch 74/200 - Train Loss: 0.0212, Train Acc: 0.5704, Val Loss: 0.0224, Val Acc: 0.5491\n"
     ]
    },
    {
     "name": "stderr",
     "output_type": "stream",
     "text": [
      "Epoch 75/200 - Training: 100%|██████████| 101/101 [00:00<00:00, 1857.68it/s]\n",
      "Epoch 75/200 - Validation: 100%|██████████| 26/26 [00:00<00:00, 4716.17it/s]\n"
     ]
    },
    {
     "name": "stdout",
     "output_type": "stream",
     "text": [
      "Epoch 75/200 - Train Loss: 0.0211, Train Acc: 0.5666, Val Loss: 0.0225, Val Acc: 0.5516\n"
     ]
    },
    {
     "name": "stderr",
     "output_type": "stream",
     "text": [
      "Epoch 76/200 - Training: 100%|██████████| 101/101 [00:00<00:00, 1914.91it/s]\n",
      "Epoch 76/200 - Validation: 100%|██████████| 26/26 [00:00<00:00, 4459.65it/s]\n"
     ]
    },
    {
     "name": "stdout",
     "output_type": "stream",
     "text": [
      "Epoch 76/200 - Train Loss: 0.0213, Train Acc: 0.5713, Val Loss: 0.0224, Val Acc: 0.5329\n"
     ]
    },
    {
     "name": "stderr",
     "output_type": "stream",
     "text": [
      "Epoch 77/200 - Training: 100%|██████████| 101/101 [00:00<00:00, 1870.72it/s]\n",
      "Epoch 77/200 - Validation: 100%|██████████| 26/26 [00:00<00:00, 4803.20it/s]\n"
     ]
    },
    {
     "name": "stdout",
     "output_type": "stream",
     "text": [
      "Epoch 77/200 - Train Loss: 0.0213, Train Acc: 0.5657, Val Loss: 0.0225, Val Acc: 0.5379\n"
     ]
    },
    {
     "name": "stderr",
     "output_type": "stream",
     "text": [
      "Epoch 78/200 - Training: 100%|██████████| 101/101 [00:00<00:00, 1813.13it/s]\n",
      "Epoch 78/200 - Validation: 100%|██████████| 26/26 [00:00<00:00, 4636.17it/s]\n"
     ]
    },
    {
     "name": "stdout",
     "output_type": "stream",
     "text": [
      "Epoch 78/200 - Train Loss: 0.0212, Train Acc: 0.5831, Val Loss: 0.0224, Val Acc: 0.5627\n"
     ]
    },
    {
     "name": "stderr",
     "output_type": "stream",
     "text": [
      "Epoch 79/200 - Training: 100%|██████████| 101/101 [00:00<00:00, 1906.53it/s]\n",
      "Epoch 79/200 - Validation: 100%|██████████| 26/26 [00:00<00:00, 4649.41it/s]\n"
     ]
    },
    {
     "name": "stdout",
     "output_type": "stream",
     "text": [
      "Epoch 79/200 - Train Loss: 0.0211, Train Acc: 0.5691, Val Loss: 0.0225, Val Acc: 0.5466\n"
     ]
    },
    {
     "name": "stderr",
     "output_type": "stream",
     "text": [
      "Epoch 80/200 - Training: 100%|██████████| 101/101 [00:00<00:00, 1683.84it/s]\n",
      "Epoch 80/200 - Validation: 100%|██████████| 26/26 [00:00<00:00, 4586.25it/s]\n"
     ]
    },
    {
     "name": "stdout",
     "output_type": "stream",
     "text": [
      "Epoch 80/200 - Train Loss: 0.0212, Train Acc: 0.5632, Val Loss: 0.0224, Val Acc: 0.5590\n"
     ]
    },
    {
     "name": "stderr",
     "output_type": "stream",
     "text": [
      "Epoch 81/200 - Training: 100%|██████████| 101/101 [00:00<00:00, 1053.73it/s]\n",
      "Epoch 81/200 - Validation: 100%|██████████| 26/26 [00:00<00:00, 4061.37it/s]\n"
     ]
    },
    {
     "name": "stdout",
     "output_type": "stream",
     "text": [
      "Epoch 81/200 - Train Loss: 0.0212, Train Acc: 0.5676, Val Loss: 0.0224, Val Acc: 0.5578\n"
     ]
    },
    {
     "name": "stderr",
     "output_type": "stream",
     "text": [
      "Epoch 82/200 - Training: 100%|██████████| 101/101 [00:00<00:00, 1731.00it/s]\n",
      "Epoch 82/200 - Validation: 100%|██████████| 26/26 [00:00<00:00, 4514.67it/s]\n"
     ]
    },
    {
     "name": "stdout",
     "output_type": "stream",
     "text": [
      "Epoch 82/200 - Train Loss: 0.0211, Train Acc: 0.5701, Val Loss: 0.0224, Val Acc: 0.5491\n"
     ]
    },
    {
     "name": "stderr",
     "output_type": "stream",
     "text": [
      "Epoch 83/200 - Training: 100%|██████████| 101/101 [00:00<00:00, 1813.12it/s]\n",
      "Epoch 83/200 - Validation: 100%|██████████| 26/26 [00:00<00:00, 4556.55it/s]\n"
     ]
    },
    {
     "name": "stdout",
     "output_type": "stream",
     "text": [
      "Epoch 83/200 - Train Loss: 0.0212, Train Acc: 0.5753, Val Loss: 0.0225, Val Acc: 0.5578\n"
     ]
    },
    {
     "name": "stderr",
     "output_type": "stream",
     "text": [
      "Epoch 84/200 - Training: 100%|██████████| 101/101 [00:00<00:00, 1825.83it/s]\n",
      "Epoch 84/200 - Validation: 100%|██████████| 26/26 [00:00<00:00, 4506.09it/s]\n"
     ]
    },
    {
     "name": "stdout",
     "output_type": "stream",
     "text": [
      "Epoch 84/200 - Train Loss: 0.0211, Train Acc: 0.5744, Val Loss: 0.0225, Val Acc: 0.5441\n"
     ]
    },
    {
     "name": "stderr",
     "output_type": "stream",
     "text": [
      "Epoch 85/200 - Training: 100%|██████████| 101/101 [00:00<00:00, 1817.98it/s]\n",
      "Epoch 85/200 - Validation: 100%|██████████| 26/26 [00:00<00:00, 4519.54it/s]\n"
     ]
    },
    {
     "name": "stdout",
     "output_type": "stream",
     "text": [
      "Epoch 85/200 - Train Loss: 0.0211, Train Acc: 0.5657, Val Loss: 0.0225, Val Acc: 0.5391\n"
     ]
    },
    {
     "name": "stderr",
     "output_type": "stream",
     "text": [
      "Epoch 86/200 - Training: 100%|██████████| 101/101 [00:00<00:00, 1838.61it/s]\n",
      "Epoch 86/200 - Validation: 100%|██████████| 26/26 [00:00<00:00, 4495.13it/s]\n"
     ]
    },
    {
     "name": "stdout",
     "output_type": "stream",
     "text": [
      "Epoch 86/200 - Train Loss: 0.0211, Train Acc: 0.5632, Val Loss: 0.0225, Val Acc: 0.5578\n"
     ]
    },
    {
     "name": "stderr",
     "output_type": "stream",
     "text": [
      "Epoch 87/200 - Training: 100%|██████████| 101/101 [00:00<00:00, 1834.90it/s]\n",
      "Epoch 87/200 - Validation: 100%|██████████| 26/26 [00:00<00:00, 4557.31it/s]\n"
     ]
    },
    {
     "name": "stdout",
     "output_type": "stream",
     "text": [
      "Epoch 87/200 - Train Loss: 0.0212, Train Acc: 0.5719, Val Loss: 0.0224, Val Acc: 0.5590\n"
     ]
    },
    {
     "name": "stderr",
     "output_type": "stream",
     "text": [
      "Epoch 88/200 - Training: 100%|██████████| 101/101 [00:00<00:00, 1775.89it/s]\n",
      "Epoch 88/200 - Validation: 100%|██████████| 26/26 [00:00<00:00, 4339.17it/s]\n"
     ]
    },
    {
     "name": "stdout",
     "output_type": "stream",
     "text": [
      "Epoch 88/200 - Train Loss: 0.0212, Train Acc: 0.5561, Val Loss: 0.0224, Val Acc: 0.5677\n"
     ]
    },
    {
     "name": "stderr",
     "output_type": "stream",
     "text": [
      "Epoch 89/200 - Training: 100%|██████████| 101/101 [00:00<00:00, 1726.05it/s]\n",
      "Epoch 89/200 - Validation: 100%|██████████| 26/26 [00:00<00:00, 4161.49it/s]\n"
     ]
    },
    {
     "name": "stdout",
     "output_type": "stream",
     "text": [
      "Epoch 89/200 - Train Loss: 0.0211, Train Acc: 0.5617, Val Loss: 0.0224, Val Acc: 0.5553\n"
     ]
    },
    {
     "name": "stderr",
     "output_type": "stream",
     "text": [
      "Epoch 90/200 - Training: 100%|██████████| 101/101 [00:00<00:00, 1647.82it/s]\n",
      "Epoch 90/200 - Validation: 100%|██████████| 26/26 [00:00<00:00, 4566.28it/s]\n"
     ]
    },
    {
     "name": "stdout",
     "output_type": "stream",
     "text": [
      "Epoch 90/200 - Train Loss: 0.0211, Train Acc: 0.5657, Val Loss: 0.0225, Val Acc: 0.5627\n"
     ]
    },
    {
     "name": "stderr",
     "output_type": "stream",
     "text": [
      "Epoch 91/200 - Training: 100%|██████████| 101/101 [00:00<00:00, 1835.70it/s]\n",
      "Epoch 91/200 - Validation: 100%|██████████| 26/26 [00:00<00:00, 4885.40it/s]\n"
     ]
    },
    {
     "name": "stdout",
     "output_type": "stream",
     "text": [
      "Epoch 91/200 - Train Loss: 0.0212, Train Acc: 0.5682, Val Loss: 0.0225, Val Acc: 0.5491\n"
     ]
    },
    {
     "name": "stderr",
     "output_type": "stream",
     "text": [
      "Epoch 92/200 - Training: 100%|██████████| 101/101 [00:00<00:00, 1836.40it/s]\n",
      "Epoch 92/200 - Validation: 100%|██████████| 26/26 [00:00<00:00, 4351.46it/s]\n"
     ]
    },
    {
     "name": "stdout",
     "output_type": "stream",
     "text": [
      "Epoch 92/200 - Train Loss: 0.0212, Train Acc: 0.5781, Val Loss: 0.0225, Val Acc: 0.5540\n"
     ]
    },
    {
     "name": "stderr",
     "output_type": "stream",
     "text": [
      "Epoch 93/200 - Training: 100%|██████████| 101/101 [00:00<00:00, 1797.72it/s]\n",
      "Epoch 93/200 - Validation: 100%|██████████| 26/26 [00:00<00:00, 4366.79it/s]\n"
     ]
    },
    {
     "name": "stdout",
     "output_type": "stream",
     "text": [
      "Epoch 93/200 - Train Loss: 0.0211, Train Acc: 0.5626, Val Loss: 0.0225, Val Acc: 0.5553\n"
     ]
    },
    {
     "name": "stderr",
     "output_type": "stream",
     "text": [
      "Epoch 94/200 - Training: 100%|██████████| 101/101 [00:00<00:00, 1669.31it/s]\n",
      "Epoch 94/200 - Validation: 100%|██████████| 26/26 [00:00<00:00, 4405.96it/s]\n"
     ]
    },
    {
     "name": "stdout",
     "output_type": "stream",
     "text": [
      "Epoch 94/200 - Train Loss: 0.0212, Train Acc: 0.5710, Val Loss: 0.0225, Val Acc: 0.5429\n"
     ]
    },
    {
     "name": "stderr",
     "output_type": "stream",
     "text": [
      "Epoch 95/200 - Training: 100%|██████████| 101/101 [00:00<00:00, 1755.76it/s]\n",
      "Epoch 95/200 - Validation: 100%|██████████| 26/26 [00:00<00:00, 4510.00it/s]\n"
     ]
    },
    {
     "name": "stdout",
     "output_type": "stream",
     "text": [
      "Epoch 95/200 - Train Loss: 0.0211, Train Acc: 0.5691, Val Loss: 0.0225, Val Acc: 0.5416\n"
     ]
    },
    {
     "name": "stderr",
     "output_type": "stream",
     "text": [
      "Epoch 96/200 - Training: 100%|██████████| 101/101 [00:00<00:00, 1866.29it/s]\n",
      "Epoch 96/200 - Validation: 100%|██████████| 26/26 [00:00<00:00, 5201.12it/s]\n"
     ]
    },
    {
     "name": "stdout",
     "output_type": "stream",
     "text": [
      "Epoch 96/200 - Train Loss: 0.0211, Train Acc: 0.5701, Val Loss: 0.0226, Val Acc: 0.5379\n"
     ]
    },
    {
     "name": "stderr",
     "output_type": "stream",
     "text": [
      "Epoch 97/200 - Training: 100%|██████████| 101/101 [00:00<00:00, 1652.12it/s]\n",
      "Epoch 97/200 - Validation: 100%|██████████| 26/26 [00:00<00:00, 3896.24it/s]\n"
     ]
    },
    {
     "name": "stdout",
     "output_type": "stream",
     "text": [
      "Epoch 97/200 - Train Loss: 0.0211, Train Acc: 0.5738, Val Loss: 0.0224, Val Acc: 0.5416\n"
     ]
    },
    {
     "name": "stderr",
     "output_type": "stream",
     "text": [
      "Epoch 98/200 - Training: 100%|██████████| 101/101 [00:00<00:00, 1497.81it/s]\n",
      "Epoch 98/200 - Validation: 100%|██████████| 26/26 [00:00<00:00, 4436.79it/s]\n"
     ]
    },
    {
     "name": "stdout",
     "output_type": "stream",
     "text": [
      "Epoch 98/200 - Train Loss: 0.0211, Train Acc: 0.5760, Val Loss: 0.0225, Val Acc: 0.5590\n"
     ]
    },
    {
     "name": "stderr",
     "output_type": "stream",
     "text": [
      "Epoch 99/200 - Training: 100%|██████████| 101/101 [00:00<00:00, 1848.39it/s]\n",
      "Epoch 99/200 - Validation: 100%|██████████| 26/26 [00:00<00:00, 4544.78it/s]\n"
     ]
    },
    {
     "name": "stdout",
     "output_type": "stream",
     "text": [
      "Epoch 99/200 - Train Loss: 0.0211, Train Acc: 0.5725, Val Loss: 0.0224, Val Acc: 0.5739\n"
     ]
    },
    {
     "name": "stderr",
     "output_type": "stream",
     "text": [
      "Epoch 100/200 - Training: 100%|██████████| 101/101 [00:00<00:00, 1874.79it/s]\n",
      "Epoch 100/200 - Validation: 100%|██████████| 26/26 [00:00<00:00, 4674.52it/s]\n"
     ]
    },
    {
     "name": "stdout",
     "output_type": "stream",
     "text": [
      "Epoch 100/200 - Train Loss: 0.0211, Train Acc: 0.5809, Val Loss: 0.0226, Val Acc: 0.5429\n"
     ]
    },
    {
     "name": "stderr",
     "output_type": "stream",
     "text": [
      "Epoch 101/200 - Training: 100%|██████████| 101/101 [00:00<00:00, 1893.26it/s]\n",
      "Epoch 101/200 - Validation: 100%|██████████| 26/26 [00:00<00:00, 4475.03it/s]\n"
     ]
    },
    {
     "name": "stdout",
     "output_type": "stream",
     "text": [
      "Epoch 101/200 - Train Loss: 0.0211, Train Acc: 0.5682, Val Loss: 0.0226, Val Acc: 0.5503\n"
     ]
    },
    {
     "name": "stderr",
     "output_type": "stream",
     "text": [
      "Epoch 102/200 - Training: 100%|██████████| 101/101 [00:00<00:00, 1694.32it/s]\n",
      "Epoch 102/200 - Validation: 100%|██████████| 26/26 [00:00<00:00, 4267.34it/s]\n"
     ]
    },
    {
     "name": "stdout",
     "output_type": "stream",
     "text": [
      "Epoch 102/200 - Train Loss: 0.0210, Train Acc: 0.5663, Val Loss: 0.0226, Val Acc: 0.5540\n"
     ]
    },
    {
     "name": "stderr",
     "output_type": "stream",
     "text": [
      "Epoch 103/200 - Training: 100%|██████████| 101/101 [00:00<00:00, 1846.26it/s]\n",
      "Epoch 103/200 - Validation: 100%|██████████| 26/26 [00:00<00:00, 4633.80it/s]\n"
     ]
    },
    {
     "name": "stdout",
     "output_type": "stream",
     "text": [
      "Epoch 103/200 - Train Loss: 0.0211, Train Acc: 0.5642, Val Loss: 0.0225, Val Acc: 0.5466\n"
     ]
    },
    {
     "name": "stderr",
     "output_type": "stream",
     "text": [
      "Epoch 104/200 - Training: 100%|██████████| 101/101 [00:00<00:00, 1890.78it/s]\n",
      "Epoch 104/200 - Validation: 100%|██████████| 26/26 [00:00<00:00, 4299.65it/s]\n"
     ]
    },
    {
     "name": "stdout",
     "output_type": "stream",
     "text": [
      "Epoch 104/200 - Train Loss: 0.0210, Train Acc: 0.5701, Val Loss: 0.0225, Val Acc: 0.5329\n"
     ]
    },
    {
     "name": "stderr",
     "output_type": "stream",
     "text": [
      "Epoch 105/200 - Training: 100%|██████████| 101/101 [00:00<00:00, 1882.18it/s]\n",
      "Epoch 105/200 - Validation: 100%|██████████| 26/26 [00:00<00:00, 4610.88it/s]\n"
     ]
    },
    {
     "name": "stdout",
     "output_type": "stream",
     "text": [
      "Epoch 105/200 - Train Loss: 0.0211, Train Acc: 0.5769, Val Loss: 0.0226, Val Acc: 0.5441\n"
     ]
    },
    {
     "name": "stderr",
     "output_type": "stream",
     "text": [
      "Epoch 106/200 - Training: 100%|██████████| 101/101 [00:00<00:00, 1806.70it/s]\n",
      "Epoch 106/200 - Validation: 100%|██████████| 26/26 [00:00<00:00, 4634.59it/s]\n"
     ]
    },
    {
     "name": "stdout",
     "output_type": "stream",
     "text": [
      "Epoch 106/200 - Train Loss: 0.0211, Train Acc: 0.5607, Val Loss: 0.0227, Val Acc: 0.5416\n"
     ]
    },
    {
     "name": "stderr",
     "output_type": "stream",
     "text": [
      "Epoch 107/200 - Training: 100%|██████████| 101/101 [00:00<00:00, 1834.83it/s]\n",
      "Epoch 107/200 - Validation: 100%|██████████| 26/26 [00:00<00:00, 4263.67it/s]\n"
     ]
    },
    {
     "name": "stdout",
     "output_type": "stream",
     "text": [
      "Epoch 107/200 - Train Loss: 0.0211, Train Acc: 0.5614, Val Loss: 0.0227, Val Acc: 0.5429\n"
     ]
    },
    {
     "name": "stderr",
     "output_type": "stream",
     "text": [
      "Epoch 108/200 - Training: 100%|██████████| 101/101 [00:00<00:00, 1838.83it/s]\n",
      "Epoch 108/200 - Validation: 100%|██████████| 26/26 [00:00<00:00, 4458.74it/s]\n"
     ]
    },
    {
     "name": "stdout",
     "output_type": "stream",
     "text": [
      "Epoch 108/200 - Train Loss: 0.0210, Train Acc: 0.5679, Val Loss: 0.0227, Val Acc: 0.5453\n"
     ]
    },
    {
     "name": "stderr",
     "output_type": "stream",
     "text": [
      "Epoch 109/200 - Training: 100%|██████████| 101/101 [00:00<00:00, 1765.42it/s]\n",
      "Epoch 109/200 - Validation: 100%|██████████| 26/26 [00:00<00:00, 4531.37it/s]\n"
     ]
    },
    {
     "name": "stdout",
     "output_type": "stream",
     "text": [
      "Epoch 109/200 - Train Loss: 0.0210, Train Acc: 0.5738, Val Loss: 0.0226, Val Acc: 0.5528\n"
     ]
    },
    {
     "name": "stderr",
     "output_type": "stream",
     "text": [
      "Epoch 110/200 - Training: 100%|██████████| 101/101 [00:00<00:00, 1776.14it/s]\n",
      "Epoch 110/200 - Validation: 100%|██████████| 26/26 [00:00<00:00, 4470.44it/s]\n"
     ]
    },
    {
     "name": "stdout",
     "output_type": "stream",
     "text": [
      "Epoch 110/200 - Train Loss: 0.0211, Train Acc: 0.5756, Val Loss: 0.0226, Val Acc: 0.5528\n"
     ]
    },
    {
     "name": "stderr",
     "output_type": "stream",
     "text": [
      "Epoch 111/200 - Training: 100%|██████████| 101/101 [00:00<00:00, 1924.85it/s]\n",
      "Epoch 111/200 - Validation: 100%|██████████| 26/26 [00:00<00:00, 4482.01it/s]\n"
     ]
    },
    {
     "name": "stdout",
     "output_type": "stream",
     "text": [
      "Epoch 111/200 - Train Loss: 0.0211, Train Acc: 0.5753, Val Loss: 0.0227, Val Acc: 0.5516\n"
     ]
    },
    {
     "name": "stderr",
     "output_type": "stream",
     "text": [
      "Epoch 112/200 - Training: 100%|██████████| 101/101 [00:00<00:00, 1828.32it/s]\n",
      "Epoch 112/200 - Validation: 100%|██████████| 26/26 [00:00<00:00, 4498.28it/s]\n"
     ]
    },
    {
     "name": "stdout",
     "output_type": "stream",
     "text": [
      "Epoch 112/200 - Train Loss: 0.0211, Train Acc: 0.5716, Val Loss: 0.0227, Val Acc: 0.5516\n"
     ]
    },
    {
     "name": "stderr",
     "output_type": "stream",
     "text": [
      "Epoch 113/200 - Training: 100%|██████████| 101/101 [00:00<00:00, 1839.57it/s]\n",
      "Epoch 113/200 - Validation: 100%|██████████| 26/26 [00:00<00:00, 4755.65it/s]\n"
     ]
    },
    {
     "name": "stdout",
     "output_type": "stream",
     "text": [
      "Epoch 113/200 - Train Loss: 0.0210, Train Acc: 0.5691, Val Loss: 0.0227, Val Acc: 0.5466\n"
     ]
    },
    {
     "name": "stderr",
     "output_type": "stream",
     "text": [
      "Epoch 114/200 - Training: 100%|██████████| 101/101 [00:00<00:00, 1835.87it/s]\n",
      "Epoch 114/200 - Validation: 100%|██████████| 26/26 [00:00<00:00, 4722.09it/s]\n"
     ]
    },
    {
     "name": "stdout",
     "output_type": "stream",
     "text": [
      "Epoch 114/200 - Train Loss: 0.0210, Train Acc: 0.5763, Val Loss: 0.0228, Val Acc: 0.5267\n"
     ]
    },
    {
     "name": "stderr",
     "output_type": "stream",
     "text": [
      "Epoch 115/200 - Training: 100%|██████████| 101/101 [00:00<00:00, 1839.94it/s]\n",
      "Epoch 115/200 - Validation: 100%|██████████| 26/26 [00:00<00:00, 4529.49it/s]\n"
     ]
    },
    {
     "name": "stdout",
     "output_type": "stream",
     "text": [
      "Epoch 115/200 - Train Loss: 0.0212, Train Acc: 0.5660, Val Loss: 0.0226, Val Acc: 0.5441\n"
     ]
    },
    {
     "name": "stderr",
     "output_type": "stream",
     "text": [
      "Epoch 116/200 - Training: 100%|██████████| 101/101 [00:00<00:00, 1803.86it/s]\n",
      "Epoch 116/200 - Validation: 100%|██████████| 26/26 [00:00<00:00, 4596.11it/s]\n"
     ]
    },
    {
     "name": "stdout",
     "output_type": "stream",
     "text": [
      "Epoch 116/200 - Train Loss: 0.0210, Train Acc: 0.5840, Val Loss: 0.0226, Val Acc: 0.5478\n"
     ]
    },
    {
     "name": "stderr",
     "output_type": "stream",
     "text": [
      "Epoch 117/200 - Training: 100%|██████████| 101/101 [00:00<00:00, 1796.22it/s]\n",
      "Epoch 117/200 - Validation: 100%|██████████| 26/26 [00:00<00:00, 4688.19it/s]\n"
     ]
    },
    {
     "name": "stdout",
     "output_type": "stream",
     "text": [
      "Epoch 117/200 - Train Loss: 0.0210, Train Acc: 0.5896, Val Loss: 0.0228, Val Acc: 0.5491\n"
     ]
    },
    {
     "name": "stderr",
     "output_type": "stream",
     "text": [
      "Epoch 118/200 - Training: 100%|██████████| 101/101 [00:00<00:00, 1859.54it/s]\n",
      "Epoch 118/200 - Validation: 100%|██████████| 26/26 [00:00<00:00, 4385.05it/s]\n"
     ]
    },
    {
     "name": "stdout",
     "output_type": "stream",
     "text": [
      "Epoch 118/200 - Train Loss: 0.0210, Train Acc: 0.5760, Val Loss: 0.0226, Val Acc: 0.5478\n"
     ]
    },
    {
     "name": "stderr",
     "output_type": "stream",
     "text": [
      "Epoch 119/200 - Training: 100%|██████████| 101/101 [00:00<00:00, 1820.38it/s]\n",
      "Epoch 119/200 - Validation: 100%|██████████| 26/26 [00:00<00:00, 4579.13it/s]\n"
     ]
    },
    {
     "name": "stdout",
     "output_type": "stream",
     "text": [
      "Epoch 119/200 - Train Loss: 0.0211, Train Acc: 0.5666, Val Loss: 0.0226, Val Acc: 0.5503\n"
     ]
    },
    {
     "name": "stderr",
     "output_type": "stream",
     "text": [
      "Epoch 120/200 - Training: 100%|██████████| 101/101 [00:00<00:00, 1600.96it/s]\n",
      "Epoch 120/200 - Validation: 100%|██████████| 26/26 [00:00<00:00, 3463.50it/s]\n"
     ]
    },
    {
     "name": "stdout",
     "output_type": "stream",
     "text": [
      "Epoch 120/200 - Train Loss: 0.0209, Train Acc: 0.5766, Val Loss: 0.0227, Val Acc: 0.5391\n"
     ]
    },
    {
     "name": "stderr",
     "output_type": "stream",
     "text": [
      "Epoch 121/200 - Training: 100%|██████████| 101/101 [00:00<00:00, 1779.01it/s]\n",
      "Epoch 121/200 - Validation: 100%|██████████| 26/26 [00:00<00:00, 4444.39it/s]\n"
     ]
    },
    {
     "name": "stdout",
     "output_type": "stream",
     "text": [
      "Epoch 121/200 - Train Loss: 0.0210, Train Acc: 0.5874, Val Loss: 0.0227, Val Acc: 0.5416\n"
     ]
    },
    {
     "name": "stderr",
     "output_type": "stream",
     "text": [
      "Epoch 122/200 - Training: 100%|██████████| 101/101 [00:00<00:00, 1860.52it/s]\n",
      "Epoch 122/200 - Validation: 100%|██████████| 26/26 [00:00<00:00, 4485.15it/s]\n"
     ]
    },
    {
     "name": "stdout",
     "output_type": "stream",
     "text": [
      "Epoch 122/200 - Train Loss: 0.0210, Train Acc: 0.5791, Val Loss: 0.0227, Val Acc: 0.5453\n"
     ]
    },
    {
     "name": "stderr",
     "output_type": "stream",
     "text": [
      "Epoch 123/200 - Training: 100%|██████████| 101/101 [00:00<00:00, 1835.45it/s]\n",
      "Epoch 123/200 - Validation: 100%|██████████| 26/26 [00:00<00:00, 4544.78it/s]\n"
     ]
    },
    {
     "name": "stdout",
     "output_type": "stream",
     "text": [
      "Epoch 123/200 - Train Loss: 0.0210, Train Acc: 0.5735, Val Loss: 0.0226, Val Acc: 0.5329\n"
     ]
    },
    {
     "name": "stderr",
     "output_type": "stream",
     "text": [
      "Epoch 124/200 - Training: 100%|██████████| 101/101 [00:00<00:00, 1850.50it/s]\n",
      "Epoch 124/200 - Validation: 100%|██████████| 26/26 [00:00<00:00, 4645.45it/s]\n"
     ]
    },
    {
     "name": "stdout",
     "output_type": "stream",
     "text": [
      "Epoch 124/200 - Train Loss: 0.0209, Train Acc: 0.5769, Val Loss: 0.0228, Val Acc: 0.5342\n"
     ]
    },
    {
     "name": "stderr",
     "output_type": "stream",
     "text": [
      "Epoch 125/200 - Training: 100%|██████████| 101/101 [00:00<00:00, 1870.93it/s]\n",
      "Epoch 125/200 - Validation: 100%|██████████| 26/26 [00:00<00:00, 4523.29it/s]\n"
     ]
    },
    {
     "name": "stdout",
     "output_type": "stream",
     "text": [
      "Epoch 125/200 - Train Loss: 0.0211, Train Acc: 0.5753, Val Loss: 0.0226, Val Acc: 0.5416\n"
     ]
    },
    {
     "name": "stderr",
     "output_type": "stream",
     "text": [
      "Epoch 126/200 - Training: 100%|██████████| 101/101 [00:00<00:00, 1838.17it/s]\n",
      "Epoch 126/200 - Validation: 100%|██████████| 26/26 [00:00<00:00, 4718.61it/s]\n"
     ]
    },
    {
     "name": "stdout",
     "output_type": "stream",
     "text": [
      "Epoch 126/200 - Train Loss: 0.0209, Train Acc: 0.5778, Val Loss: 0.0228, Val Acc: 0.5391\n"
     ]
    },
    {
     "name": "stderr",
     "output_type": "stream",
     "text": [
      "Epoch 127/200 - Training: 100%|██████████| 101/101 [00:00<00:00, 1730.08it/s]\n",
      "Epoch 127/200 - Validation: 100%|██████████| 26/26 [00:00<00:00, 4242.27it/s]\n"
     ]
    },
    {
     "name": "stdout",
     "output_type": "stream",
     "text": [
      "Epoch 127/200 - Train Loss: 0.0210, Train Acc: 0.5831, Val Loss: 0.0228, Val Acc: 0.5342\n"
     ]
    },
    {
     "name": "stderr",
     "output_type": "stream",
     "text": [
      "Epoch 128/200 - Training: 100%|██████████| 101/101 [00:00<00:00, 1792.76it/s]\n",
      "Epoch 128/200 - Validation: 100%|██████████| 26/26 [00:00<00:00, 4124.97it/s]\n"
     ]
    },
    {
     "name": "stdout",
     "output_type": "stream",
     "text": [
      "Epoch 128/200 - Train Loss: 0.0210, Train Acc: 0.5728, Val Loss: 0.0226, Val Acc: 0.5615\n"
     ]
    },
    {
     "name": "stderr",
     "output_type": "stream",
     "text": [
      "Epoch 129/200 - Training: 100%|██████████| 101/101 [00:00<00:00, 1774.39it/s]\n",
      "Epoch 129/200 - Validation: 100%|██████████| 26/26 [00:00<00:00, 4606.01it/s]\n"
     ]
    },
    {
     "name": "stdout",
     "output_type": "stream",
     "text": [
      "Epoch 129/200 - Train Loss: 0.0210, Train Acc: 0.5781, Val Loss: 0.0227, Val Acc: 0.5491\n"
     ]
    },
    {
     "name": "stderr",
     "output_type": "stream",
     "text": [
      "Epoch 130/200 - Training: 100%|██████████| 101/101 [00:00<00:00, 1875.97it/s]\n",
      "Epoch 130/200 - Validation: 100%|██████████| 26/26 [00:00<00:00, 4840.73it/s]\n"
     ]
    },
    {
     "name": "stdout",
     "output_type": "stream",
     "text": [
      "Epoch 130/200 - Train Loss: 0.0210, Train Acc: 0.5871, Val Loss: 0.0226, Val Acc: 0.5478\n"
     ]
    },
    {
     "name": "stderr",
     "output_type": "stream",
     "text": [
      "Epoch 131/200 - Training: 100%|██████████| 101/101 [00:00<00:00, 1873.95it/s]\n",
      "Epoch 131/200 - Validation: 100%|██████████| 26/26 [00:00<00:00, 4682.35it/s]\n"
     ]
    },
    {
     "name": "stdout",
     "output_type": "stream",
     "text": [
      "Epoch 131/200 - Train Loss: 0.0208, Train Acc: 0.5843, Val Loss: 0.0227, Val Acc: 0.5441\n"
     ]
    },
    {
     "name": "stderr",
     "output_type": "stream",
     "text": [
      "Epoch 132/200 - Training: 100%|██████████| 101/101 [00:00<00:00, 1891.74it/s]\n",
      "Epoch 132/200 - Validation: 100%|██████████| 26/26 [00:00<00:00, 4644.66it/s]\n"
     ]
    },
    {
     "name": "stdout",
     "output_type": "stream",
     "text": [
      "Epoch 132/200 - Train Loss: 0.0209, Train Acc: 0.5791, Val Loss: 0.0227, Val Acc: 0.5478\n"
     ]
    },
    {
     "name": "stderr",
     "output_type": "stream",
     "text": [
      "Epoch 133/200 - Training: 100%|██████████| 101/101 [00:00<00:00, 1893.41it/s]\n",
      "Epoch 133/200 - Validation: 100%|██████████| 26/26 [00:00<00:00, 4508.51it/s]\n"
     ]
    },
    {
     "name": "stdout",
     "output_type": "stream",
     "text": [
      "Epoch 133/200 - Train Loss: 0.0209, Train Acc: 0.5831, Val Loss: 0.0227, Val Acc: 0.5516\n"
     ]
    },
    {
     "name": "stderr",
     "output_type": "stream",
     "text": [
      "Epoch 134/200 - Training: 100%|██████████| 101/101 [00:00<00:00, 1928.44it/s]\n",
      "Epoch 134/200 - Validation: 100%|██████████| 26/26 [00:00<00:00, 4940.06it/s]\n"
     ]
    },
    {
     "name": "stdout",
     "output_type": "stream",
     "text": [
      "Epoch 134/200 - Train Loss: 0.0210, Train Acc: 0.5688, Val Loss: 0.0227, Val Acc: 0.5466\n"
     ]
    },
    {
     "name": "stderr",
     "output_type": "stream",
     "text": [
      "Epoch 135/200 - Training: 100%|██████████| 101/101 [00:00<00:00, 1746.14it/s]\n",
      "Epoch 135/200 - Validation: 100%|██████████| 26/26 [00:00<00:00, 4358.07it/s]\n"
     ]
    },
    {
     "name": "stdout",
     "output_type": "stream",
     "text": [
      "Epoch 135/200 - Train Loss: 0.0210, Train Acc: 0.5697, Val Loss: 0.0227, Val Acc: 0.5528\n"
     ]
    },
    {
     "name": "stderr",
     "output_type": "stream",
     "text": [
      "Epoch 136/200 - Training: 100%|██████████| 101/101 [00:00<00:00, 1747.61it/s]\n",
      "Epoch 136/200 - Validation: 100%|██████████| 26/26 [00:00<00:00, 4061.98it/s]\n"
     ]
    },
    {
     "name": "stdout",
     "output_type": "stream",
     "text": [
      "Epoch 136/200 - Train Loss: 0.0208, Train Acc: 0.5878, Val Loss: 0.0227, Val Acc: 0.5416\n"
     ]
    },
    {
     "name": "stderr",
     "output_type": "stream",
     "text": [
      "Epoch 137/200 - Training: 100%|██████████| 101/101 [00:00<00:00, 1813.90it/s]\n",
      "Epoch 137/200 - Validation: 100%|██████████| 26/26 [00:00<00:00, 4621.43it/s]\n"
     ]
    },
    {
     "name": "stdout",
     "output_type": "stream",
     "text": [
      "Epoch 137/200 - Train Loss: 0.0209, Train Acc: 0.5797, Val Loss: 0.0227, Val Acc: 0.5280\n"
     ]
    },
    {
     "name": "stderr",
     "output_type": "stream",
     "text": [
      "Epoch 138/200 - Training: 100%|██████████| 101/101 [00:00<00:00, 1876.28it/s]\n",
      "Epoch 138/200 - Validation: 100%|██████████| 26/26 [00:00<00:00, 4866.22it/s]\n"
     ]
    },
    {
     "name": "stdout",
     "output_type": "stream",
     "text": [
      "Epoch 138/200 - Train Loss: 0.0209, Train Acc: 0.5753, Val Loss: 0.0228, Val Acc: 0.5379\n"
     ]
    },
    {
     "name": "stderr",
     "output_type": "stream",
     "text": [
      "Epoch 139/200 - Training: 100%|██████████| 101/101 [00:00<00:00, 1899.36it/s]\n",
      "Epoch 139/200 - Validation: 100%|██████████| 26/26 [00:00<00:00, 5119.09it/s]\n"
     ]
    },
    {
     "name": "stdout",
     "output_type": "stream",
     "text": [
      "Epoch 139/200 - Train Loss: 0.0210, Train Acc: 0.5732, Val Loss: 0.0227, Val Acc: 0.5366\n"
     ]
    },
    {
     "name": "stderr",
     "output_type": "stream",
     "text": [
      "Epoch 140/200 - Training: 100%|██████████| 101/101 [00:00<00:00, 1827.89it/s]\n",
      "Epoch 140/200 - Validation: 100%|██████████| 26/26 [00:00<00:00, 4845.46it/s]\n"
     ]
    },
    {
     "name": "stdout",
     "output_type": "stream",
     "text": [
      "Epoch 140/200 - Train Loss: 0.0209, Train Acc: 0.5809, Val Loss: 0.0227, Val Acc: 0.5366\n"
     ]
    },
    {
     "name": "stderr",
     "output_type": "stream",
     "text": [
      "Epoch 141/200 - Training: 100%|██████████| 101/101 [00:00<00:00, 1835.92it/s]\n",
      "Epoch 141/200 - Validation: 100%|██████████| 26/26 [00:00<00:00, 4472.64it/s]\n"
     ]
    },
    {
     "name": "stdout",
     "output_type": "stream",
     "text": [
      "Epoch 141/200 - Train Loss: 0.0209, Train Acc: 0.5856, Val Loss: 0.0227, Val Acc: 0.5429\n"
     ]
    },
    {
     "name": "stderr",
     "output_type": "stream",
     "text": [
      "Epoch 142/200 - Training: 100%|██████████| 101/101 [00:00<00:00, 1890.96it/s]\n",
      "Epoch 142/200 - Validation: 100%|██████████| 26/26 [00:00<00:00, 4529.67it/s]\n"
     ]
    },
    {
     "name": "stdout",
     "output_type": "stream",
     "text": [
      "Epoch 142/200 - Train Loss: 0.0209, Train Acc: 0.5837, Val Loss: 0.0226, Val Acc: 0.5503\n"
     ]
    },
    {
     "name": "stderr",
     "output_type": "stream",
     "text": [
      "Epoch 143/200 - Training: 100%|██████████| 101/101 [00:00<00:00, 1804.63it/s]\n",
      "Epoch 143/200 - Validation: 100%|██████████| 26/26 [00:00<00:00, 4318.20it/s]\n"
     ]
    },
    {
     "name": "stdout",
     "output_type": "stream",
     "text": [
      "Epoch 143/200 - Train Loss: 0.0209, Train Acc: 0.5701, Val Loss: 0.0227, Val Acc: 0.5528\n"
     ]
    },
    {
     "name": "stderr",
     "output_type": "stream",
     "text": [
      "Epoch 144/200 - Training: 100%|██████████| 101/101 [00:00<00:00, 1863.30it/s]\n",
      "Epoch 144/200 - Validation: 100%|██████████| 26/26 [00:00<00:00, 4830.86it/s]\n"
     ]
    },
    {
     "name": "stdout",
     "output_type": "stream",
     "text": [
      "Epoch 144/200 - Train Loss: 0.0209, Train Acc: 0.5825, Val Loss: 0.0226, Val Acc: 0.5429\n"
     ]
    },
    {
     "name": "stderr",
     "output_type": "stream",
     "text": [
      "Epoch 145/200 - Training: 100%|██████████| 101/101 [00:00<00:00, 1926.57it/s]\n",
      "Epoch 145/200 - Validation: 100%|██████████| 26/26 [00:00<00:00, 4589.53it/s]\n"
     ]
    },
    {
     "name": "stdout",
     "output_type": "stream",
     "text": [
      "Epoch 145/200 - Train Loss: 0.0209, Train Acc: 0.5697, Val Loss: 0.0226, Val Acc: 0.5453\n"
     ]
    },
    {
     "name": "stderr",
     "output_type": "stream",
     "text": [
      "Epoch 146/200 - Training: 100%|██████████| 101/101 [00:00<00:00, 1918.14it/s]\n",
      "Epoch 146/200 - Validation: 100%|██████████| 26/26 [00:00<00:00, 4606.59it/s]\n"
     ]
    },
    {
     "name": "stdout",
     "output_type": "stream",
     "text": [
      "Epoch 146/200 - Train Loss: 0.0209, Train Acc: 0.5828, Val Loss: 0.0228, Val Acc: 0.5578\n"
     ]
    },
    {
     "name": "stderr",
     "output_type": "stream",
     "text": [
      "Epoch 147/200 - Training: 100%|██████████| 101/101 [00:00<00:00, 1883.76it/s]\n",
      "Epoch 147/200 - Validation: 100%|██████████| 26/26 [00:00<00:00, 4659.54it/s]\n"
     ]
    },
    {
     "name": "stdout",
     "output_type": "stream",
     "text": [
      "Epoch 147/200 - Train Loss: 0.0208, Train Acc: 0.5725, Val Loss: 0.0229, Val Acc: 0.5516\n"
     ]
    },
    {
     "name": "stderr",
     "output_type": "stream",
     "text": [
      "Epoch 148/200 - Training: 100%|██████████| 101/101 [00:00<00:00, 1820.97it/s]\n",
      "Epoch 148/200 - Validation: 100%|██████████| 26/26 [00:00<00:00, 3518.71it/s]\n"
     ]
    },
    {
     "name": "stdout",
     "output_type": "stream",
     "text": [
      "Epoch 148/200 - Train Loss: 0.0208, Train Acc: 0.5840, Val Loss: 0.0229, Val Acc: 0.5503\n"
     ]
    },
    {
     "name": "stderr",
     "output_type": "stream",
     "text": [
      "Epoch 149/200 - Training: 100%|██████████| 101/101 [00:00<00:00, 1763.77it/s]\n",
      "Epoch 149/200 - Validation: 100%|██████████| 26/26 [00:00<00:00, 4489.77it/s]\n"
     ]
    },
    {
     "name": "stdout",
     "output_type": "stream",
     "text": [
      "Epoch 149/200 - Train Loss: 0.0209, Train Acc: 0.5878, Val Loss: 0.0228, Val Acc: 0.5478\n"
     ]
    },
    {
     "name": "stderr",
     "output_type": "stream",
     "text": [
      "Epoch 150/200 - Training: 100%|██████████| 101/101 [00:00<00:00, 1817.56it/s]\n",
      "Epoch 150/200 - Validation: 100%|██████████| 26/26 [00:00<00:00, 4597.66it/s]\n"
     ]
    },
    {
     "name": "stdout",
     "output_type": "stream",
     "text": [
      "Epoch 150/200 - Train Loss: 0.0209, Train Acc: 0.5673, Val Loss: 0.0227, Val Acc: 0.5491\n"
     ]
    },
    {
     "name": "stderr",
     "output_type": "stream",
     "text": [
      "Epoch 151/200 - Training: 100%|██████████| 101/101 [00:00<00:00, 1869.72it/s]\n",
      "Epoch 151/200 - Validation: 100%|██████████| 26/26 [00:00<00:00, 4385.05it/s]\n"
     ]
    },
    {
     "name": "stdout",
     "output_type": "stream",
     "text": [
      "Epoch 151/200 - Train Loss: 0.0209, Train Acc: 0.5893, Val Loss: 0.0228, Val Acc: 0.5491\n"
     ]
    },
    {
     "name": "stderr",
     "output_type": "stream",
     "text": [
      "Epoch 152/200 - Training: 100%|██████████| 101/101 [00:00<00:00, 1867.68it/s]\n",
      "Epoch 152/200 - Validation: 100%|██████████| 26/26 [00:00<00:00, 3882.37it/s]\n"
     ]
    },
    {
     "name": "stdout",
     "output_type": "stream",
     "text": [
      "Epoch 152/200 - Train Loss: 0.0209, Train Acc: 0.5840, Val Loss: 0.0228, Val Acc: 0.5466\n"
     ]
    },
    {
     "name": "stderr",
     "output_type": "stream",
     "text": [
      "Epoch 153/200 - Training: 100%|██████████| 101/101 [00:00<00:00, 1694.80it/s]\n",
      "Epoch 153/200 - Validation: 100%|██████████| 26/26 [00:00<00:00, 4651.00it/s]\n"
     ]
    },
    {
     "name": "stdout",
     "output_type": "stream",
     "text": [
      "Epoch 153/200 - Train Loss: 0.0209, Train Acc: 0.5803, Val Loss: 0.0229, Val Acc: 0.5516\n"
     ]
    },
    {
     "name": "stderr",
     "output_type": "stream",
     "text": [
      "Epoch 154/200 - Training: 100%|██████████| 101/101 [00:00<00:00, 1838.60it/s]\n",
      "Epoch 154/200 - Validation: 100%|██████████| 26/26 [00:00<00:00, 4640.31it/s]\n"
     ]
    },
    {
     "name": "stdout",
     "output_type": "stream",
     "text": [
      "Epoch 154/200 - Train Loss: 0.0209, Train Acc: 0.5868, Val Loss: 0.0228, Val Acc: 0.5391\n"
     ]
    },
    {
     "name": "stderr",
     "output_type": "stream",
     "text": [
      "Epoch 155/200 - Training: 100%|██████████| 101/101 [00:00<00:00, 1867.08it/s]\n",
      "Epoch 155/200 - Validation: 100%|██████████| 26/26 [00:00<00:00, 4735.83it/s]\n"
     ]
    },
    {
     "name": "stdout",
     "output_type": "stream",
     "text": [
      "Epoch 155/200 - Train Loss: 0.0210, Train Acc: 0.5784, Val Loss: 0.0228, Val Acc: 0.5491\n"
     ]
    },
    {
     "name": "stderr",
     "output_type": "stream",
     "text": [
      "Epoch 156/200 - Training: 100%|██████████| 101/101 [00:00<00:00, 1866.77it/s]\n",
      "Epoch 156/200 - Validation: 100%|██████████| 26/26 [00:00<00:00, 4871.43it/s]\n"
     ]
    },
    {
     "name": "stdout",
     "output_type": "stream",
     "text": [
      "Epoch 156/200 - Train Loss: 0.0209, Train Acc: 0.5831, Val Loss: 0.0229, Val Acc: 0.5342\n"
     ]
    },
    {
     "name": "stderr",
     "output_type": "stream",
     "text": [
      "Epoch 157/200 - Training: 100%|██████████| 101/101 [00:00<00:00, 1863.43it/s]\n",
      "Epoch 157/200 - Validation: 100%|██████████| 26/26 [00:00<00:00, 4755.03it/s]\n"
     ]
    },
    {
     "name": "stdout",
     "output_type": "stream",
     "text": [
      "Epoch 157/200 - Train Loss: 0.0208, Train Acc: 0.5865, Val Loss: 0.0229, Val Acc: 0.5478\n"
     ]
    },
    {
     "name": "stderr",
     "output_type": "stream",
     "text": [
      "Epoch 158/200 - Training: 100%|██████████| 101/101 [00:00<00:00, 1850.79it/s]\n",
      "Epoch 158/200 - Validation: 100%|██████████| 26/26 [00:00<00:00, 4635.58it/s]\n"
     ]
    },
    {
     "name": "stdout",
     "output_type": "stream",
     "text": [
      "Epoch 158/200 - Train Loss: 0.0208, Train Acc: 0.5865, Val Loss: 0.0228, Val Acc: 0.5441\n"
     ]
    },
    {
     "name": "stderr",
     "output_type": "stream",
     "text": [
      "Epoch 159/200 - Training: 100%|██████████| 101/101 [00:00<00:00, 1672.41it/s]\n",
      "Epoch 159/200 - Validation: 100%|██████████| 26/26 [00:00<00:00, 4375.03it/s]\n"
     ]
    },
    {
     "name": "stdout",
     "output_type": "stream",
     "text": [
      "Epoch 159/200 - Train Loss: 0.0208, Train Acc: 0.5741, Val Loss: 0.0229, Val Acc: 0.5491\n"
     ]
    },
    {
     "name": "stderr",
     "output_type": "stream",
     "text": [
      "Epoch 160/200 - Training: 100%|██████████| 101/101 [00:00<00:00, 1835.64it/s]\n",
      "Epoch 160/200 - Validation: 100%|██████████| 26/26 [00:00<00:00, 4618.89it/s]\n"
     ]
    },
    {
     "name": "stdout",
     "output_type": "stream",
     "text": [
      "Epoch 160/200 - Train Loss: 0.0209, Train Acc: 0.5791, Val Loss: 0.0228, Val Acc: 0.5416\n"
     ]
    },
    {
     "name": "stderr",
     "output_type": "stream",
     "text": [
      "Epoch 161/200 - Training: 100%|██████████| 101/101 [00:00<00:00, 1749.89it/s]\n",
      "Epoch 161/200 - Validation: 100%|██████████| 26/26 [00:00<00:00, 4252.70it/s]\n"
     ]
    },
    {
     "name": "stdout",
     "output_type": "stream",
     "text": [
      "Epoch 161/200 - Train Loss: 0.0209, Train Acc: 0.5753, Val Loss: 0.0228, Val Acc: 0.5565\n"
     ]
    },
    {
     "name": "stderr",
     "output_type": "stream",
     "text": [
      "Epoch 162/200 - Training: 100%|██████████| 101/101 [00:00<00:00, 1810.29it/s]\n",
      "Epoch 162/200 - Validation: 100%|██████████| 26/26 [00:00<00:00, 4509.26it/s]\n"
     ]
    },
    {
     "name": "stdout",
     "output_type": "stream",
     "text": [
      "Epoch 162/200 - Train Loss: 0.0208, Train Acc: 0.5881, Val Loss: 0.0229, Val Acc: 0.5578\n"
     ]
    },
    {
     "name": "stderr",
     "output_type": "stream",
     "text": [
      "Epoch 163/200 - Training: 100%|██████████| 101/101 [00:00<00:00, 1863.67it/s]\n",
      "Epoch 163/200 - Validation: 100%|██████████| 26/26 [00:00<00:00, 4370.29it/s]\n"
     ]
    },
    {
     "name": "stdout",
     "output_type": "stream",
     "text": [
      "Epoch 163/200 - Train Loss: 0.0208, Train Acc: 0.5943, Val Loss: 0.0230, Val Acc: 0.5528\n"
     ]
    },
    {
     "name": "stderr",
     "output_type": "stream",
     "text": [
      "Epoch 164/200 - Training: 100%|██████████| 101/101 [00:00<00:00, 1817.82it/s]\n",
      "Epoch 164/200 - Validation: 100%|██████████| 26/26 [00:00<00:00, 4704.16it/s]\n"
     ]
    },
    {
     "name": "stdout",
     "output_type": "stream",
     "text": [
      "Epoch 164/200 - Train Loss: 0.0208, Train Acc: 0.5843, Val Loss: 0.0228, Val Acc: 0.5453\n"
     ]
    },
    {
     "name": "stderr",
     "output_type": "stream",
     "text": [
      "Epoch 165/200 - Training: 100%|██████████| 101/101 [00:00<00:00, 1807.96it/s]\n",
      "Epoch 165/200 - Validation: 100%|██████████| 26/26 [00:00<00:00, 4450.55it/s]\n"
     ]
    },
    {
     "name": "stdout",
     "output_type": "stream",
     "text": [
      "Epoch 165/200 - Train Loss: 0.0209, Train Acc: 0.5763, Val Loss: 0.0229, Val Acc: 0.5491\n"
     ]
    },
    {
     "name": "stderr",
     "output_type": "stream",
     "text": [
      "Epoch 166/200 - Training: 100%|██████████| 101/101 [00:00<00:00, 1849.73it/s]\n",
      "Epoch 166/200 - Validation: 100%|██████████| 26/26 [00:00<00:00, 4562.27it/s]\n"
     ]
    },
    {
     "name": "stdout",
     "output_type": "stream",
     "text": [
      "Epoch 166/200 - Train Loss: 0.0207, Train Acc: 0.5884, Val Loss: 0.0229, Val Acc: 0.5528\n"
     ]
    },
    {
     "name": "stderr",
     "output_type": "stream",
     "text": [
      "Epoch 167/200 - Training: 100%|██████████| 101/101 [00:00<00:00, 1861.91it/s]\n",
      "Epoch 167/200 - Validation: 100%|██████████| 26/26 [00:00<00:00, 4331.07it/s]\n"
     ]
    },
    {
     "name": "stdout",
     "output_type": "stream",
     "text": [
      "Epoch 167/200 - Train Loss: 0.0208, Train Acc: 0.5847, Val Loss: 0.0229, Val Acc: 0.5553\n"
     ]
    },
    {
     "name": "stderr",
     "output_type": "stream",
     "text": [
      "Epoch 168/200 - Training: 100%|██████████| 101/101 [00:00<00:00, 1855.49it/s]\n",
      "Epoch 168/200 - Validation: 100%|██████████| 26/26 [00:00<00:00, 4627.31it/s]\n"
     ]
    },
    {
     "name": "stdout",
     "output_type": "stream",
     "text": [
      "Epoch 168/200 - Train Loss: 0.0208, Train Acc: 0.5803, Val Loss: 0.0227, Val Acc: 0.5565\n"
     ]
    },
    {
     "name": "stderr",
     "output_type": "stream",
     "text": [
      "Epoch 169/200 - Training: 100%|██████████| 101/101 [00:00<00:00, 1847.55it/s]\n",
      "Epoch 169/200 - Validation: 100%|██████████| 26/26 [00:00<00:00, 4454.37it/s]\n"
     ]
    },
    {
     "name": "stdout",
     "output_type": "stream",
     "text": [
      "Epoch 169/200 - Train Loss: 0.0207, Train Acc: 0.5809, Val Loss: 0.0228, Val Acc: 0.5590\n"
     ]
    },
    {
     "name": "stderr",
     "output_type": "stream",
     "text": [
      "Epoch 170/200 - Training: 100%|██████████| 101/101 [00:00<00:00, 1831.50it/s]\n",
      "Epoch 170/200 - Validation: 100%|██████████| 26/26 [00:00<00:00, 4394.95it/s]\n"
     ]
    },
    {
     "name": "stdout",
     "output_type": "stream",
     "text": [
      "Epoch 170/200 - Train Loss: 0.0207, Train Acc: 0.5859, Val Loss: 0.0229, Val Acc: 0.5466\n"
     ]
    },
    {
     "name": "stderr",
     "output_type": "stream",
     "text": [
      "Epoch 171/200 - Training: 100%|██████████| 101/101 [00:00<00:00, 1583.64it/s]\n",
      "Epoch 171/200 - Validation: 100%|██████████| 26/26 [00:00<00:00, 3791.79it/s]\n"
     ]
    },
    {
     "name": "stdout",
     "output_type": "stream",
     "text": [
      "Epoch 171/200 - Train Loss: 0.0208, Train Acc: 0.5874, Val Loss: 0.0229, Val Acc: 0.5565\n"
     ]
    },
    {
     "name": "stderr",
     "output_type": "stream",
     "text": [
      "Epoch 172/200 - Training: 100%|██████████| 101/101 [00:00<00:00, 1752.68it/s]\n",
      "Epoch 172/200 - Validation: 100%|██████████| 26/26 [00:00<00:00, 4585.48it/s]\n"
     ]
    },
    {
     "name": "stdout",
     "output_type": "stream",
     "text": [
      "Epoch 172/200 - Train Loss: 0.0208, Train Acc: 0.5884, Val Loss: 0.0229, Val Acc: 0.5590\n"
     ]
    },
    {
     "name": "stderr",
     "output_type": "stream",
     "text": [
      "Epoch 173/200 - Training: 100%|██████████| 101/101 [00:00<00:00, 1742.35it/s]\n",
      "Epoch 173/200 - Validation: 100%|██████████| 26/26 [00:00<00:00, 4391.06it/s]\n"
     ]
    },
    {
     "name": "stdout",
     "output_type": "stream",
     "text": [
      "Epoch 173/200 - Train Loss: 0.0206, Train Acc: 0.5965, Val Loss: 0.0228, Val Acc: 0.5466\n"
     ]
    },
    {
     "name": "stderr",
     "output_type": "stream",
     "text": [
      "Epoch 174/200 - Training: 100%|██████████| 101/101 [00:00<00:00, 1704.78it/s]\n",
      "Epoch 174/200 - Validation: 100%|██████████| 26/26 [00:00<00:00, 4311.20it/s]\n"
     ]
    },
    {
     "name": "stdout",
     "output_type": "stream",
     "text": [
      "Epoch 174/200 - Train Loss: 0.0207, Train Acc: 0.5862, Val Loss: 0.0229, Val Acc: 0.5491\n"
     ]
    },
    {
     "name": "stderr",
     "output_type": "stream",
     "text": [
      "Epoch 175/200 - Training: 100%|██████████| 101/101 [00:00<00:00, 1421.84it/s]\n",
      "Epoch 175/200 - Validation: 100%|██████████| 26/26 [00:00<00:00, 4481.09it/s]\n"
     ]
    },
    {
     "name": "stdout",
     "output_type": "stream",
     "text": [
      "Epoch 175/200 - Train Loss: 0.0207, Train Acc: 0.5825, Val Loss: 0.0229, Val Acc: 0.5466\n"
     ]
    },
    {
     "name": "stderr",
     "output_type": "stream",
     "text": [
      "Epoch 176/200 - Training: 100%|██████████| 101/101 [00:00<00:00, 1789.70it/s]\n",
      "Epoch 176/200 - Validation: 100%|██████████| 26/26 [00:00<00:00, 4623.19it/s]\n"
     ]
    },
    {
     "name": "stdout",
     "output_type": "stream",
     "text": [
      "Epoch 176/200 - Train Loss: 0.0208, Train Acc: 0.5893, Val Loss: 0.0230, Val Acc: 0.5540\n"
     ]
    },
    {
     "name": "stderr",
     "output_type": "stream",
     "text": [
      "Epoch 177/200 - Training: 100%|██████████| 101/101 [00:00<00:00, 1627.83it/s]\n",
      "Epoch 177/200 - Validation: 100%|██████████| 26/26 [00:00<00:00, 3874.37it/s]\n"
     ]
    },
    {
     "name": "stdout",
     "output_type": "stream",
     "text": [
      "Epoch 177/200 - Train Loss: 0.0208, Train Acc: 0.5878, Val Loss: 0.0230, Val Acc: 0.5466\n"
     ]
    },
    {
     "name": "stderr",
     "output_type": "stream",
     "text": [
      "Epoch 178/200 - Training: 100%|██████████| 101/101 [00:00<00:00, 1731.77it/s]\n",
      "Epoch 178/200 - Validation: 100%|██████████| 26/26 [00:00<00:00, 3863.39it/s]\n"
     ]
    },
    {
     "name": "stdout",
     "output_type": "stream",
     "text": [
      "Epoch 178/200 - Train Loss: 0.0207, Train Acc: 0.5815, Val Loss: 0.0229, Val Acc: 0.5466\n"
     ]
    },
    {
     "name": "stderr",
     "output_type": "stream",
     "text": [
      "Epoch 179/200 - Training: 100%|██████████| 101/101 [00:00<00:00, 1715.33it/s]\n",
      "Epoch 179/200 - Validation: 100%|██████████| 26/26 [00:00<00:00, 4484.41it/s]\n"
     ]
    },
    {
     "name": "stdout",
     "output_type": "stream",
     "text": [
      "Epoch 179/200 - Train Loss: 0.0207, Train Acc: 0.5859, Val Loss: 0.0229, Val Acc: 0.5516\n"
     ]
    },
    {
     "name": "stderr",
     "output_type": "stream",
     "text": [
      "Epoch 180/200 - Training: 100%|██████████| 101/101 [00:00<00:00, 1839.97it/s]\n",
      "Epoch 180/200 - Validation: 100%|██████████| 26/26 [00:00<00:00, 4553.51it/s]\n"
     ]
    },
    {
     "name": "stdout",
     "output_type": "stream",
     "text": [
      "Epoch 180/200 - Train Loss: 0.0207, Train Acc: 0.5924, Val Loss: 0.0228, Val Acc: 0.5590\n"
     ]
    },
    {
     "name": "stderr",
     "output_type": "stream",
     "text": [
      "Epoch 181/200 - Training: 100%|██████████| 101/101 [00:00<00:00, 1871.17it/s]\n",
      "Epoch 181/200 - Validation: 100%|██████████| 26/26 [00:00<00:00, 4529.86it/s]\n"
     ]
    },
    {
     "name": "stdout",
     "output_type": "stream",
     "text": [
      "Epoch 181/200 - Train Loss: 0.0205, Train Acc: 0.5893, Val Loss: 0.0230, Val Acc: 0.5553\n"
     ]
    },
    {
     "name": "stderr",
     "output_type": "stream",
     "text": [
      "Epoch 182/200 - Training: 100%|██████████| 101/101 [00:00<00:00, 1875.44it/s]\n",
      "Epoch 182/200 - Validation: 100%|██████████| 26/26 [00:00<00:00, 4809.56it/s]\n"
     ]
    },
    {
     "name": "stdout",
     "output_type": "stream",
     "text": [
      "Epoch 182/200 - Train Loss: 0.0207, Train Acc: 0.5902, Val Loss: 0.0229, Val Acc: 0.5466\n"
     ]
    },
    {
     "name": "stderr",
     "output_type": "stream",
     "text": [
      "Epoch 183/200 - Training: 100%|██████████| 101/101 [00:00<00:00, 1758.05it/s]\n",
      "Epoch 183/200 - Validation: 100%|██████████| 26/26 [00:00<00:00, 4110.67it/s]\n"
     ]
    },
    {
     "name": "stdout",
     "output_type": "stream",
     "text": [
      "Epoch 183/200 - Train Loss: 0.0207, Train Acc: 0.5828, Val Loss: 0.0231, Val Acc: 0.5540\n"
     ]
    },
    {
     "name": "stderr",
     "output_type": "stream",
     "text": [
      "Epoch 184/200 - Training: 100%|██████████| 101/101 [00:00<00:00, 1763.21it/s]\n",
      "Epoch 184/200 - Validation: 100%|██████████| 26/26 [00:00<00:00, 4641.10it/s]\n"
     ]
    },
    {
     "name": "stdout",
     "output_type": "stream",
     "text": [
      "Epoch 184/200 - Train Loss: 0.0208, Train Acc: 0.5815, Val Loss: 0.0230, Val Acc: 0.5453\n"
     ]
    },
    {
     "name": "stderr",
     "output_type": "stream",
     "text": [
      "Epoch 185/200 - Training: 100%|██████████| 101/101 [00:00<00:00, 1839.81it/s]\n",
      "Epoch 185/200 - Validation: 100%|██████████| 26/26 [00:00<00:00, 4600.18it/s]\n"
     ]
    },
    {
     "name": "stdout",
     "output_type": "stream",
     "text": [
      "Epoch 185/200 - Train Loss: 0.0208, Train Acc: 0.5772, Val Loss: 0.0230, Val Acc: 0.5453\n"
     ]
    },
    {
     "name": "stderr",
     "output_type": "stream",
     "text": [
      "Epoch 186/200 - Training: 100%|██████████| 101/101 [00:00<00:00, 1787.04it/s]\n",
      "Epoch 186/200 - Validation: 100%|██████████| 26/26 [00:00<00:00, 4163.24it/s]\n"
     ]
    },
    {
     "name": "stdout",
     "output_type": "stream",
     "text": [
      "Epoch 186/200 - Train Loss: 0.0206, Train Acc: 0.5884, Val Loss: 0.0231, Val Acc: 0.5478\n"
     ]
    },
    {
     "name": "stderr",
     "output_type": "stream",
     "text": [
      "Epoch 187/200 - Training: 100%|██████████| 101/101 [00:00<00:00, 1764.92it/s]\n",
      "Epoch 187/200 - Validation: 100%|██████████| 26/26 [00:00<00:00, 4573.94it/s]\n"
     ]
    },
    {
     "name": "stdout",
     "output_type": "stream",
     "text": [
      "Epoch 187/200 - Train Loss: 0.0207, Train Acc: 0.5856, Val Loss: 0.0232, Val Acc: 0.5416\n"
     ]
    },
    {
     "name": "stderr",
     "output_type": "stream",
     "text": [
      "Epoch 188/200 - Training: 100%|██████████| 101/101 [00:00<00:00, 1838.20it/s]\n",
      "Epoch 188/200 - Validation: 100%|██████████| 26/26 [00:00<00:00, 4423.29it/s]\n"
     ]
    },
    {
     "name": "stdout",
     "output_type": "stream",
     "text": [
      "Epoch 188/200 - Train Loss: 0.0207, Train Acc: 0.5865, Val Loss: 0.0233, Val Acc: 0.5441\n"
     ]
    },
    {
     "name": "stderr",
     "output_type": "stream",
     "text": [
      "Epoch 189/200 - Training: 100%|██████████| 101/101 [00:00<00:00, 1263.54it/s]\n",
      "Epoch 189/200 - Validation: 100%|██████████| 26/26 [00:00<00:00, 4523.29it/s]\n"
     ]
    },
    {
     "name": "stdout",
     "output_type": "stream",
     "text": [
      "Epoch 189/200 - Train Loss: 0.0208, Train Acc: 0.5856, Val Loss: 0.0231, Val Acc: 0.5416\n"
     ]
    },
    {
     "name": "stderr",
     "output_type": "stream",
     "text": [
      "Epoch 190/200 - Training: 100%|██████████| 101/101 [00:00<00:00, 1831.21it/s]\n",
      "Epoch 190/200 - Validation: 100%|██████████| 26/26 [00:00<00:00, 4541.56it/s]\n"
     ]
    },
    {
     "name": "stdout",
     "output_type": "stream",
     "text": [
      "Epoch 190/200 - Train Loss: 0.0207, Train Acc: 0.5887, Val Loss: 0.0230, Val Acc: 0.5466\n"
     ]
    },
    {
     "name": "stderr",
     "output_type": "stream",
     "text": [
      "Epoch 191/200 - Training: 100%|██████████| 101/101 [00:00<00:00, 1862.62it/s]\n",
      "Epoch 191/200 - Validation: 100%|██████████| 26/26 [00:00<00:00, 4562.08it/s]\n"
     ]
    },
    {
     "name": "stdout",
     "output_type": "stream",
     "text": [
      "Epoch 191/200 - Train Loss: 0.0207, Train Acc: 0.5812, Val Loss: 0.0230, Val Acc: 0.5416\n"
     ]
    },
    {
     "name": "stderr",
     "output_type": "stream",
     "text": [
      "Epoch 192/200 - Training: 100%|██████████| 101/101 [00:00<00:00, 1865.43it/s]\n",
      "Epoch 192/200 - Validation: 100%|██████████| 26/26 [00:00<00:00, 4508.33it/s]\n"
     ]
    },
    {
     "name": "stdout",
     "output_type": "stream",
     "text": [
      "Epoch 192/200 - Train Loss: 0.0207, Train Acc: 0.5791, Val Loss: 0.0231, Val Acc: 0.5441\n"
     ]
    },
    {
     "name": "stderr",
     "output_type": "stream",
     "text": [
      "Epoch 193/200 - Training: 100%|██████████| 101/101 [00:00<00:00, 1783.10it/s]\n",
      "Epoch 193/200 - Validation: 100%|██████████| 26/26 [00:00<00:00, 4236.51it/s]\n"
     ]
    },
    {
     "name": "stdout",
     "output_type": "stream",
     "text": [
      "Epoch 193/200 - Train Loss: 0.0206, Train Acc: 0.5940, Val Loss: 0.0230, Val Acc: 0.5466\n"
     ]
    },
    {
     "name": "stderr",
     "output_type": "stream",
     "text": [
      "Epoch 194/200 - Training: 100%|██████████| 101/101 [00:00<00:00, 1853.82it/s]\n",
      "Epoch 194/200 - Validation: 100%|██████████| 26/26 [00:00<00:00, 4785.50it/s]\n"
     ]
    },
    {
     "name": "stdout",
     "output_type": "stream",
     "text": [
      "Epoch 194/200 - Train Loss: 0.0207, Train Acc: 0.5955, Val Loss: 0.0230, Val Acc: 0.5441\n"
     ]
    },
    {
     "name": "stderr",
     "output_type": "stream",
     "text": [
      "Epoch 195/200 - Training: 100%|██████████| 101/101 [00:00<00:00, 1843.97it/s]\n",
      "Epoch 195/200 - Validation: 100%|██████████| 26/26 [00:00<00:00, 4445.84it/s]\n"
     ]
    },
    {
     "name": "stdout",
     "output_type": "stream",
     "text": [
      "Epoch 195/200 - Train Loss: 0.0206, Train Acc: 0.5822, Val Loss: 0.0232, Val Acc: 0.5404\n"
     ]
    },
    {
     "name": "stderr",
     "output_type": "stream",
     "text": [
      "Epoch 196/200 - Training: 100%|██████████| 101/101 [00:00<00:00, 1901.21it/s]\n",
      "Epoch 196/200 - Validation: 100%|██████████| 26/26 [00:00<00:00, 4379.95it/s]\n"
     ]
    },
    {
     "name": "stdout",
     "output_type": "stream",
     "text": [
      "Epoch 196/200 - Train Loss: 0.0206, Train Acc: 0.5878, Val Loss: 0.0230, Val Acc: 0.5528\n"
     ]
    },
    {
     "name": "stderr",
     "output_type": "stream",
     "text": [
      "Epoch 197/200 - Training: 100%|██████████| 101/101 [00:00<00:00, 1873.87it/s]\n",
      "Epoch 197/200 - Validation: 100%|██████████| 26/26 [00:00<00:00, 4767.92it/s]\n"
     ]
    },
    {
     "name": "stdout",
     "output_type": "stream",
     "text": [
      "Epoch 197/200 - Train Loss: 0.0206, Train Acc: 0.5874, Val Loss: 0.0231, Val Acc: 0.5466\n"
     ]
    },
    {
     "name": "stderr",
     "output_type": "stream",
     "text": [
      "Epoch 198/200 - Training: 100%|██████████| 101/101 [00:00<00:00, 1925.69it/s]\n",
      "Epoch 198/200 - Validation: 100%|██████████| 26/26 [00:00<00:00, 4366.09it/s]\n"
     ]
    },
    {
     "name": "stdout",
     "output_type": "stream",
     "text": [
      "Epoch 198/200 - Train Loss: 0.0207, Train Acc: 0.5822, Val Loss: 0.0231, Val Acc: 0.5441\n"
     ]
    },
    {
     "name": "stderr",
     "output_type": "stream",
     "text": [
      "Epoch 199/200 - Training: 100%|██████████| 101/101 [00:00<00:00, 1808.45it/s]\n",
      "Epoch 199/200 - Validation: 100%|██████████| 26/26 [00:00<00:00, 4588.57it/s]\n"
     ]
    },
    {
     "name": "stdout",
     "output_type": "stream",
     "text": [
      "Epoch 199/200 - Train Loss: 0.0206, Train Acc: 0.5949, Val Loss: 0.0232, Val Acc: 0.5429\n"
     ]
    },
    {
     "name": "stderr",
     "output_type": "stream",
     "text": [
      "Epoch 200/200 - Training: 100%|██████████| 101/101 [00:00<00:00, 1885.53it/s]\n",
      "Epoch 200/200 - Validation: 100%|██████████| 26/26 [00:00<00:00, 4564.56it/s]"
     ]
    },
    {
     "name": "stdout",
     "output_type": "stream",
     "text": [
      "Epoch 200/200 - Train Loss: 0.0208, Train Acc: 0.5896, Val Loss: 0.0231, Val Acc: 0.5379\n"
     ]
    },
    {
     "name": "stderr",
     "output_type": "stream",
     "text": [
      "\n"
     ]
    }
   ],
   "source": [
    "model = MLP(input_dim=X_train_tensor.shape[1], output_dim=2)\n",
    "\n",
    "criterion = nn.CrossEntropyLoss()\n",
    "optimizer = torch.optim.Adam(model.parameters(), lr=0.001)\n",
    "\n",
    "epochs = 200\n",
    "\n",
    "train_losses, train_accuracies, val_losses, val_accuracies = train(\n",
    "    model, train_loader, criterion, optimizer, epochs=epochs\n",
    ")"
   ]
  },
  {
   "cell_type": "code",
   "execution_count": 8,
   "id": "f3bb0749",
   "metadata": {},
   "outputs": [
    {
     "data": {
      "image/png": "[encoded data removed]",
      "text/plain": [
       "<Figure size 1200x500 with 2 Axes>"
      ]
     },
     "metadata": {},
     "output_type": "display_data"
    }
   ],
   "source": [
    "epochs_range = list(range(1, epochs + 1))\n",
    "\n",
    "fig, axs = plt.subplots(1, 2, figsize=(12, 5))\n",
    "\n",
    "# Plot Loss\n",
    "axs[0].plot(epochs_range, train_losses, label=\"Train Loss\")\n",
    "axs[0].plot(epochs_range, val_losses, label=\"Validation Loss\")\n",
    "axs[0].set_xlabel(\"Epochs\")\n",
    "axs[0].set_ylabel(\"Loss\")\n",
    "axs[0].set_title(\"Loss Curve\")\n",
    "axs[0].legend()\n",
    "axs[0].grid(True)\n",
    "\n",
    "# Plot Accuracy\n",
    "axs[1].plot(epochs_range, train_accuracies, label=\"Train Accuracy\")\n",
    "axs[1].plot(epochs_range, val_accuracies, label=\"Validation Accuracy\")\n",
    "axs[1].set_xlabel(\"Epochs\")\n",
    "axs[1].set_ylabel(\"Accuracy\")\n",
    "axs[1].set_title(\"Accuracy Curve\")\n",
    "axs[1].legend()\n",
    "axs[1].grid(True)\n",
    "\n",
    "plt.tight_layout()\n",
    "plt.show()\n"
   ]
  }
 ],
 "metadata": {
  "kernelspec": {
   "display_name": ".venv",
   "language": "python",
   "name": "python3"
  },
  "language_info": {
   "codemirror_mode": {
    "name": "ipython",
    "version": 3
   },
   "file_extension": ".py",
   "mimetype": "text/x-python",
   "name": "python",
   "nbconvert_exporter": "python",
   "pygments_lexer": "ipython3",
   "version": "3.13.5"
  }
 },
 "nbformat": 4,
 "nbformat_minor": 5
}
