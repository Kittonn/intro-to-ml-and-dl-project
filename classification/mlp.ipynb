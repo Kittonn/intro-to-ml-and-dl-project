{
 "cells": [
  {
   "cell_type": "code",
   "execution_count": 19,
   "id": "8e3dc8c9",
   "metadata": {},
   "outputs": [
    {
     "name": "stdout",
     "output_type": "stream",
     "text": [
      "Requirement already satisfied: pandas in /Users/7n100489/Library/CloudStorage/OneDrive-BankofAyudhyaPublicCompanyLimited/Desktop/Workspace/github/intro-to-ml-and-dl-project/.venv/lib/python3.13/site-packages (2.3.3)\n",
      "Requirement already satisfied: torch in /Users/7n100489/Library/CloudStorage/OneDrive-BankofAyudhyaPublicCompanyLimited/Desktop/Workspace/github/intro-to-ml-and-dl-project/.venv/lib/python3.13/site-packages (2.8.0)\n",
      "Requirement already satisfied: tqdm in /Users/7n100489/Library/CloudStorage/OneDrive-BankofAyudhyaPublicCompanyLimited/Desktop/Workspace/github/intro-to-ml-and-dl-project/.venv/lib/python3.13/site-packages (4.67.1)\n",
      "Requirement already satisfied: matplotlib in /Users/7n100489/Library/CloudStorage/OneDrive-BankofAyudhyaPublicCompanyLimited/Desktop/Workspace/github/intro-to-ml-and-dl-project/.venv/lib/python3.13/site-packages (3.10.6)\n",
      "Requirement already satisfied: numpy>=1.26.0 in /Users/7n100489/Library/CloudStorage/OneDrive-BankofAyudhyaPublicCompanyLimited/Desktop/Workspace/github/intro-to-ml-and-dl-project/.venv/lib/python3.13/site-packages (from pandas) (2.3.3)\n",
      "Requirement already satisfied: python-dateutil>=2.8.2 in /Users/7n100489/Library/CloudStorage/OneDrive-BankofAyudhyaPublicCompanyLimited/Desktop/Workspace/github/intro-to-ml-and-dl-project/.venv/lib/python3.13/site-packages (from pandas) (2.9.0.post0)\n",
      "Requirement already satisfied: pytz>=2020.1 in /Users/7n100489/Library/CloudStorage/OneDrive-BankofAyudhyaPublicCompanyLimited/Desktop/Workspace/github/intro-to-ml-and-dl-project/.venv/lib/python3.13/site-packages (from pandas) (2025.2)\n",
      "Requirement already satisfied: tzdata>=2022.7 in /Users/7n100489/Library/CloudStorage/OneDrive-BankofAyudhyaPublicCompanyLimited/Desktop/Workspace/github/intro-to-ml-and-dl-project/.venv/lib/python3.13/site-packages (from pandas) (2025.2)\n",
      "Requirement already satisfied: filelock in /Users/7n100489/Library/CloudStorage/OneDrive-BankofAyudhyaPublicCompanyLimited/Desktop/Workspace/github/intro-to-ml-and-dl-project/.venv/lib/python3.13/site-packages (from torch) (3.19.1)\n",
      "Requirement already satisfied: typing-extensions>=4.10.0 in /Users/7n100489/Library/CloudStorage/OneDrive-BankofAyudhyaPublicCompanyLimited/Desktop/Workspace/github/intro-to-ml-and-dl-project/.venv/lib/python3.13/site-packages (from torch) (4.15.0)\n",
      "Requirement already satisfied: setuptools in /Users/7n100489/Library/CloudStorage/OneDrive-BankofAyudhyaPublicCompanyLimited/Desktop/Workspace/github/intro-to-ml-and-dl-project/.venv/lib/python3.13/site-packages (from torch) (80.9.0)\n",
      "Requirement already satisfied: sympy>=1.13.3 in /Users/7n100489/Library/CloudStorage/OneDrive-BankofAyudhyaPublicCompanyLimited/Desktop/Workspace/github/intro-to-ml-and-dl-project/.venv/lib/python3.13/site-packages (from torch) (1.14.0)\n",
      "Requirement already satisfied: networkx in /Users/7n100489/Library/CloudStorage/OneDrive-BankofAyudhyaPublicCompanyLimited/Desktop/Workspace/github/intro-to-ml-and-dl-project/.venv/lib/python3.13/site-packages (from torch) (3.5)\n",
      "Requirement already satisfied: jinja2 in /Users/7n100489/Library/CloudStorage/OneDrive-BankofAyudhyaPublicCompanyLimited/Desktop/Workspace/github/intro-to-ml-and-dl-project/.venv/lib/python3.13/site-packages (from torch) (3.1.6)\n",
      "Requirement already satisfied: fsspec in /Users/7n100489/Library/CloudStorage/OneDrive-BankofAyudhyaPublicCompanyLimited/Desktop/Workspace/github/intro-to-ml-and-dl-project/.venv/lib/python3.13/site-packages (from torch) (2025.9.0)\n",
      "Requirement already satisfied: contourpy>=1.0.1 in /Users/7n100489/Library/CloudStorage/OneDrive-BankofAyudhyaPublicCompanyLimited/Desktop/Workspace/github/intro-to-ml-and-dl-project/.venv/lib/python3.13/site-packages (from matplotlib) (1.3.3)\n",
      "Requirement already satisfied: cycler>=0.10 in /Users/7n100489/Library/CloudStorage/OneDrive-BankofAyudhyaPublicCompanyLimited/Desktop/Workspace/github/intro-to-ml-and-dl-project/.venv/lib/python3.13/site-packages (from matplotlib) (0.12.1)\n",
      "Requirement already satisfied: fonttools>=4.22.0 in /Users/7n100489/Library/CloudStorage/OneDrive-BankofAyudhyaPublicCompanyLimited/Desktop/Workspace/github/intro-to-ml-and-dl-project/.venv/lib/python3.13/site-packages (from matplotlib) (4.60.1)\n",
      "Requirement already satisfied: kiwisolver>=1.3.1 in /Users/7n100489/Library/CloudStorage/OneDrive-BankofAyudhyaPublicCompanyLimited/Desktop/Workspace/github/intro-to-ml-and-dl-project/.venv/lib/python3.13/site-packages (from matplotlib) (1.4.9)\n",
      "Requirement already satisfied: packaging>=20.0 in /Users/7n100489/Library/CloudStorage/OneDrive-BankofAyudhyaPublicCompanyLimited/Desktop/Workspace/github/intro-to-ml-and-dl-project/.venv/lib/python3.13/site-packages (from matplotlib) (25.0)\n",
      "Requirement already satisfied: pillow>=8 in /Users/7n100489/Library/CloudStorage/OneDrive-BankofAyudhyaPublicCompanyLimited/Desktop/Workspace/github/intro-to-ml-and-dl-project/.venv/lib/python3.13/site-packages (from matplotlib) (11.3.0)\n",
      "Requirement already satisfied: pyparsing>=2.3.1 in /Users/7n100489/Library/CloudStorage/OneDrive-BankofAyudhyaPublicCompanyLimited/Desktop/Workspace/github/intro-to-ml-and-dl-project/.venv/lib/python3.13/site-packages (from matplotlib) (3.2.5)\n",
      "Requirement already satisfied: six>=1.5 in /Users/7n100489/Library/CloudStorage/OneDrive-BankofAyudhyaPublicCompanyLimited/Desktop/Workspace/github/intro-to-ml-and-dl-project/.venv/lib/python3.13/site-packages (from python-dateutil>=2.8.2->pandas) (1.17.0)\n",
      "Requirement already satisfied: mpmath<1.4,>=1.1.0 in /Users/7n100489/Library/CloudStorage/OneDrive-BankofAyudhyaPublicCompanyLimited/Desktop/Workspace/github/intro-to-ml-and-dl-project/.venv/lib/python3.13/site-packages (from sympy>=1.13.3->torch) (1.3.0)\n",
      "Requirement already satisfied: MarkupSafe>=2.0 in /Users/7n100489/Library/CloudStorage/OneDrive-BankofAyudhyaPublicCompanyLimited/Desktop/Workspace/github/intro-to-ml-and-dl-project/.venv/lib/python3.13/site-packages (from jinja2->torch) (3.0.3)\n",
      "Note: you may need to restart the kernel to use updated packages.\n"
     ]
    }
   ],
   "source": [
    "%pip install pandas torch tqdm matplotlib"
   ]
  },
  {
   "cell_type": "code",
   "execution_count": 20,
   "id": "4f3cf8ec",
   "metadata": {},
   "outputs": [],
   "source": [
    "import torch.nn as nn\n",
    "import pandas as pd\n",
    "from sklearn.model_selection import train_test_split\n",
    "from sklearn.preprocessing import StandardScaler\n",
    "import torch\n",
    "from torch.utils.data import DataLoader, TensorDataset\n",
    "from tqdm import tqdm\n",
    "from matplotlib import pyplot as plt"
   ]
  },
  {
   "cell_type": "code",
   "execution_count": 21,
   "id": "15a89cfd",
   "metadata": {},
   "outputs": [],
   "source": [
    "df = pd.read_csv(\"../classification_breast_cancer_data.csv\")\n",
    "\n",
    "X = df.drop(columns=[\"Survival More Than 6 Years\"]).values\n",
    "y = df[\"Survival More Than 6 Years\"].values\n",
    "\n",
    "X_train, X_test, y_train, y_test = train_test_split(\n",
    "    X, y, test_size=0.2, random_state=42\n",
    ")\n",
    "\n",
    "scaler = StandardScaler()\n",
    "X_train_scaled = scaler.fit_transform(X_train)\n",
    "X_test_scaled = scaler.transform(X_test)\n",
    "\n",
    "X_train_tensor = torch.tensor(X_train_scaled, dtype=torch.float32)\n",
    "X_test_tensor = torch.tensor(X_test_scaled, dtype=torch.float32)\n",
    "y_train_tensor = torch.tensor(y_train, dtype=torch.long)\n",
    "y_test_tensor = torch.tensor(y_test, dtype=torch.long)\n",
    "\n",
    "train_dataset = TensorDataset(X_train_tensor, y_train_tensor)\n",
    "train_loader = DataLoader(train_dataset, batch_size=32, shuffle=True)\n",
    "\n",
    "test_dataset = TensorDataset(X_test_tensor, y_test_tensor)\n",
    "test_loader = DataLoader(test_dataset, batch_size=32, shuffle=False)"
   ]
  },
  {
   "cell_type": "code",
   "execution_count": 22,
   "id": "ed0ded66",
   "metadata": {},
   "outputs": [],
   "source": [
    "class MLP(nn.Module):\n",
    "    def __init__(self, input_dim, output_dim):\n",
    "        super(MLP, self).__init__()\n",
    "        self.layer = nn.Sequential(\n",
    "            nn.Linear(input_dim, 128),\n",
    "            nn.ReLU(),\n",
    "            nn.Dropout(0.3),\n",
    "            nn.Linear(128, 64),\n",
    "            nn.ReLU(),\n",
    "            nn.Dropout(0.3),\n",
    "            nn.Linear(64, output_dim),\n",
    "        )\n",
    "\n",
    "    def forward(self, x):\n",
    "        return self.layer(x)"
   ]
  },
  {
   "cell_type": "code",
   "execution_count": 23,
   "id": "7370f1b5",
   "metadata": {},
   "outputs": [],
   "source": [
    "def train(model, train_loader, criterion, optimizer, epochs=50):\n",
    "    train_losses = []\n",
    "    train_accuracies = []\n",
    "    val_losses = []\n",
    "    val_accuracies = []\n",
    "\n",
    "    for epoch in range(epochs):\n",
    "        model.train()\n",
    "        train_acc = 0\n",
    "        train_loss = 0\n",
    "\n",
    "        for X_batch, y_batch in tqdm(\n",
    "            train_loader, desc=f\"Epoch {epoch + 1}/{epochs} - Training\"\n",
    "        ):\n",
    "            optimizer.zero_grad()\n",
    "            outputs = model(X_batch)\n",
    "            loss = criterion(outputs, y_batch)\n",
    "            loss.backward()\n",
    "            optimizer.step()\n",
    "            train_loss += loss.item()\n",
    "            _, predicted = torch.max(outputs, 1)\n",
    "            train_acc += (predicted == y_batch).sum().item()\n",
    "\n",
    "        avg_train_loss = train_loss / len(train_dataset)\n",
    "        avg_train_acc = train_acc / len(train_dataset)\n",
    "\n",
    "        train_losses.append(avg_train_loss)\n",
    "        train_accuracies.append(avg_train_acc)\n",
    "\n",
    "        model.eval()\n",
    "        val_acc = 0\n",
    "        val_loss = 0\n",
    "        with torch.no_grad():\n",
    "            for X_batch, y_batch in tqdm(\n",
    "                test_loader, desc=f\"Epoch {epoch + 1}/{epochs} - Validation\"\n",
    "            ):\n",
    "                outputs = model(X_batch)\n",
    "                loss = criterion(outputs, y_batch)\n",
    "                val_loss += loss.item()\n",
    "                _, predicted = torch.max(outputs, 1)\n",
    "                val_acc += (predicted == y_batch).sum().item()\n",
    "\n",
    "        avg_val_loss = val_loss / len(test_dataset)\n",
    "        avg_val_acc = val_acc / len(test_dataset)\n",
    "        val_losses.append(avg_val_loss)\n",
    "        val_accuracies.append(avg_val_acc)\n",
    "\n",
    "        print(\n",
    "            f\"Epoch {epoch + 1}/{epochs} - \"\n",
    "            f\"Train Loss: {avg_train_loss:.4f}, Train Acc: {avg_train_acc:.4f}, \"\n",
    "            f\"Val Loss: {avg_val_loss:.4f}, Val Acc: {avg_val_acc:.4f}\"\n",
    "        )\n",
    "\n",
    "    return train_losses, train_accuracies, val_losses, val_accuracies"
   ]
  },
  {
   "cell_type": "code",
   "execution_count": 26,
   "id": "b8828fc2",
   "metadata": {},
   "outputs": [
    {
     "name": "stderr",
     "output_type": "stream",
     "text": [
      "Epoch 1/200 - Training: 100%|██████████| 101/101 [00:00<00:00, 1452.65it/s]\n",
      "Epoch 1/200 - Validation: 100%|██████████| 26/26 [00:00<00:00, 4481.09it/s]\n"
     ]
    },
    {
     "name": "stdout",
     "output_type": "stream",
     "text": [
      "Epoch 1/200 - Train Loss: 0.0218, Train Acc: 0.5070, Val Loss: 0.0222, Val Acc: 0.5217\n"
     ]
    },
    {
     "name": "stderr",
     "output_type": "stream",
     "text": [
      "Epoch 2/200 - Training: 100%|██████████| 101/101 [00:00<00:00, 1737.46it/s]\n",
      "Epoch 2/200 - Validation: 100%|██████████| 26/26 [00:00<00:00, 4493.47it/s]\n"
     ]
    },
    {
     "name": "stdout",
     "output_type": "stream",
     "text": [
      "Epoch 2/200 - Train Loss: 0.0217, Train Acc: 0.5247, Val Loss: 0.0222, Val Acc: 0.5590\n"
     ]
    },
    {
     "name": "stderr",
     "output_type": "stream",
     "text": [
      "Epoch 3/200 - Training: 100%|██████████| 101/101 [00:00<00:00, 1761.08it/s]\n",
      "Epoch 3/200 - Validation: 100%|██████████| 26/26 [00:00<00:00, 4771.68it/s]\n"
     ]
    },
    {
     "name": "stdout",
     "output_type": "stream",
     "text": [
      "Epoch 3/200 - Train Loss: 0.0216, Train Acc: 0.5266, Val Loss: 0.0222, Val Acc: 0.5453\n"
     ]
    },
    {
     "name": "stderr",
     "output_type": "stream",
     "text": [
      "Epoch 4/200 - Training: 100%|██████████| 101/101 [00:00<00:00, 1743.81it/s]\n",
      "Epoch 4/200 - Validation: 100%|██████████| 26/26 [00:00<00:00, 4361.38it/s]\n"
     ]
    },
    {
     "name": "stdout",
     "output_type": "stream",
     "text": [
      "Epoch 4/200 - Train Loss: 0.0216, Train Acc: 0.5393, Val Loss: 0.0222, Val Acc: 0.5553\n"
     ]
    },
    {
     "name": "stderr",
     "output_type": "stream",
     "text": [
      "Epoch 5/200 - Training: 100%|██████████| 101/101 [00:00<00:00, 1760.04it/s]\n",
      "Epoch 5/200 - Validation: 100%|██████████| 26/26 [00:00<00:00, 4470.44it/s]\n"
     ]
    },
    {
     "name": "stdout",
     "output_type": "stream",
     "text": [
      "Epoch 5/200 - Train Loss: 0.0216, Train Acc: 0.5393, Val Loss: 0.0222, Val Acc: 0.5429\n"
     ]
    },
    {
     "name": "stderr",
     "output_type": "stream",
     "text": [
      "Epoch 6/200 - Training: 100%|██████████| 101/101 [00:00<00:00, 1780.14it/s]\n",
      "Epoch 6/200 - Validation: 100%|██████████| 26/26 [00:00<00:00, 4298.97it/s]\n"
     ]
    },
    {
     "name": "stdout",
     "output_type": "stream",
     "text": [
      "Epoch 6/200 - Train Loss: 0.0216, Train Acc: 0.5346, Val Loss: 0.0223, Val Acc: 0.5391\n"
     ]
    },
    {
     "name": "stderr",
     "output_type": "stream",
     "text": [
      "Epoch 7/200 - Training: 100%|██████████| 101/101 [00:00<00:00, 1724.52it/s]\n",
      "Epoch 7/200 - Validation: 100%|██████████| 26/26 [00:00<00:00, 4207.25it/s]\n"
     ]
    },
    {
     "name": "stdout",
     "output_type": "stream",
     "text": [
      "Epoch 7/200 - Train Loss: 0.0215, Train Acc: 0.5412, Val Loss: 0.0222, Val Acc: 0.5441\n"
     ]
    },
    {
     "name": "stderr",
     "output_type": "stream",
     "text": [
      "Epoch 8/200 - Training: 100%|██████████| 101/101 [00:00<00:00, 1783.70it/s]\n",
      "Epoch 8/200 - Validation: 100%|██████████| 26/26 [00:00<00:00, 4416.49it/s]\n"
     ]
    },
    {
     "name": "stdout",
     "output_type": "stream",
     "text": [
      "Epoch 8/200 - Train Loss: 0.0215, Train Acc: 0.5390, Val Loss: 0.0223, Val Acc: 0.5478\n"
     ]
    },
    {
     "name": "stderr",
     "output_type": "stream",
     "text": [
      "Epoch 9/200 - Training: 100%|██████████| 101/101 [00:00<00:00, 1804.15it/s]\n",
      "Epoch 9/200 - Validation: 100%|██████████| 26/26 [00:00<00:00, 4674.72it/s]\n"
     ]
    },
    {
     "name": "stdout",
     "output_type": "stream",
     "text": [
      "Epoch 9/200 - Train Loss: 0.0215, Train Acc: 0.5424, Val Loss: 0.0223, Val Acc: 0.5491\n"
     ]
    },
    {
     "name": "stderr",
     "output_type": "stream",
     "text": [
      "Epoch 10/200 - Training: 100%|██████████| 101/101 [00:00<00:00, 1809.16it/s]\n",
      "Epoch 10/200 - Validation: 100%|██████████| 26/26 [00:00<00:00, 4559.03it/s]\n"
     ]
    },
    {
     "name": "stdout",
     "output_type": "stream",
     "text": [
      "Epoch 10/200 - Train Loss: 0.0215, Train Acc: 0.5374, Val Loss: 0.0223, Val Acc: 0.5391\n"
     ]
    },
    {
     "name": "stderr",
     "output_type": "stream",
     "text": [
      "Epoch 11/200 - Training: 100%|██████████| 101/101 [00:00<00:00, 1827.88it/s]\n",
      "Epoch 11/200 - Validation: 100%|██████████| 26/26 [00:00<00:00, 4577.40it/s]\n"
     ]
    },
    {
     "name": "stdout",
     "output_type": "stream",
     "text": [
      "Epoch 11/200 - Train Loss: 0.0216, Train Acc: 0.5477, Val Loss: 0.0223, Val Acc: 0.5416\n"
     ]
    },
    {
     "name": "stderr",
     "output_type": "stream",
     "text": [
      "Epoch 12/200 - Training: 100%|██████████| 101/101 [00:00<00:00, 1830.65it/s]\n",
      "Epoch 12/200 - Validation: 100%|██████████| 26/26 [00:00<00:00, 4672.92it/s]\n"
     ]
    },
    {
     "name": "stdout",
     "output_type": "stream",
     "text": [
      "Epoch 12/200 - Train Loss: 0.0214, Train Acc: 0.5502, Val Loss: 0.0223, Val Acc: 0.5379\n"
     ]
    },
    {
     "name": "stderr",
     "output_type": "stream",
     "text": [
      "Epoch 13/200 - Training: 100%|██████████| 101/101 [00:00<00:00, 1816.06it/s]\n",
      "Epoch 13/200 - Validation: 100%|██████████| 26/26 [00:00<00:00, 4665.12it/s]\n"
     ]
    },
    {
     "name": "stdout",
     "output_type": "stream",
     "text": [
      "Epoch 13/200 - Train Loss: 0.0215, Train Acc: 0.5424, Val Loss: 0.0223, Val Acc: 0.5404\n"
     ]
    },
    {
     "name": "stderr",
     "output_type": "stream",
     "text": [
      "Epoch 14/200 - Training: 100%|██████████| 101/101 [00:00<00:00, 1832.93it/s]\n",
      "Epoch 14/200 - Validation: 100%|██████████| 26/26 [00:00<00:00, 4528.73it/s]\n"
     ]
    },
    {
     "name": "stdout",
     "output_type": "stream",
     "text": [
      "Epoch 14/200 - Train Loss: 0.0214, Train Acc: 0.5511, Val Loss: 0.0223, Val Acc: 0.5441\n"
     ]
    },
    {
     "name": "stderr",
     "output_type": "stream",
     "text": [
      "Epoch 15/200 - Training: 100%|██████████| 101/101 [00:00<00:00, 1739.01it/s]\n",
      "Epoch 15/200 - Validation: 100%|██████████| 26/26 [00:00<00:00, 4476.50it/s]\n"
     ]
    },
    {
     "name": "stdout",
     "output_type": "stream",
     "text": [
      "Epoch 15/200 - Train Loss: 0.0214, Train Acc: 0.5536, Val Loss: 0.0224, Val Acc: 0.5478\n"
     ]
    },
    {
     "name": "stderr",
     "output_type": "stream",
     "text": [
      "Epoch 16/200 - Training: 100%|██████████| 101/101 [00:00<00:00, 1833.67it/s]\n",
      "Epoch 16/200 - Validation: 100%|██████████| 26/26 [00:00<00:00, 4637.94it/s]\n"
     ]
    },
    {
     "name": "stdout",
     "output_type": "stream",
     "text": [
      "Epoch 16/200 - Train Loss: 0.0213, Train Acc: 0.5530, Val Loss: 0.0225, Val Acc: 0.5391\n"
     ]
    },
    {
     "name": "stderr",
     "output_type": "stream",
     "text": [
      "Epoch 17/200 - Training: 100%|██████████| 101/101 [00:00<00:00, 1797.50it/s]\n",
      "Epoch 17/200 - Validation: 100%|██████████| 26/26 [00:00<00:00, 4486.62it/s]\n"
     ]
    },
    {
     "name": "stdout",
     "output_type": "stream",
     "text": [
      "Epoch 17/200 - Train Loss: 0.0214, Train Acc: 0.5511, Val Loss: 0.0224, Val Acc: 0.5466\n"
     ]
    },
    {
     "name": "stderr",
     "output_type": "stream",
     "text": [
      "Epoch 18/200 - Training: 100%|██████████| 101/101 [00:00<00:00, 1809.23it/s]\n",
      "Epoch 18/200 - Validation: 100%|██████████| 26/26 [00:00<00:00, 4642.09it/s]\n"
     ]
    },
    {
     "name": "stdout",
     "output_type": "stream",
     "text": [
      "Epoch 18/200 - Train Loss: 0.0213, Train Acc: 0.5499, Val Loss: 0.0224, Val Acc: 0.5491\n"
     ]
    },
    {
     "name": "stderr",
     "output_type": "stream",
     "text": [
      "Epoch 19/200 - Training: 100%|██████████| 101/101 [00:00<00:00, 1838.86it/s]\n",
      "Epoch 19/200 - Validation: 100%|██████████| 26/26 [00:00<00:00, 4672.92it/s]\n"
     ]
    },
    {
     "name": "stdout",
     "output_type": "stream",
     "text": [
      "Epoch 19/200 - Train Loss: 0.0213, Train Acc: 0.5561, Val Loss: 0.0225, Val Acc: 0.5391\n"
     ]
    },
    {
     "name": "stderr",
     "output_type": "stream",
     "text": [
      "Epoch 20/200 - Training: 100%|██████████| 101/101 [00:00<00:00, 1508.48it/s]\n",
      "Epoch 20/200 - Validation: 100%|██████████| 26/26 [00:00<00:00, 4747.99it/s]\n"
     ]
    },
    {
     "name": "stdout",
     "output_type": "stream",
     "text": [
      "Epoch 20/200 - Train Loss: 0.0214, Train Acc: 0.5480, Val Loss: 0.0224, Val Acc: 0.5466\n"
     ]
    },
    {
     "name": "stderr",
     "output_type": "stream",
     "text": [
      "Epoch 21/200 - Training: 100%|██████████| 101/101 [00:00<00:00, 1838.80it/s]\n",
      "Epoch 21/200 - Validation: 100%|██████████| 26/26 [00:00<00:00, 4605.82it/s]\n"
     ]
    },
    {
     "name": "stdout",
     "output_type": "stream",
     "text": [
      "Epoch 21/200 - Train Loss: 0.0213, Train Acc: 0.5558, Val Loss: 0.0224, Val Acc: 0.5429\n"
     ]
    },
    {
     "name": "stderr",
     "output_type": "stream",
     "text": [
      "Epoch 22/200 - Training: 100%|██████████| 101/101 [00:00<00:00, 1818.84it/s]\n",
      "Epoch 22/200 - Validation: 100%|██████████| 26/26 [00:00<00:00, 4610.88it/s]\n"
     ]
    },
    {
     "name": "stdout",
     "output_type": "stream",
     "text": [
      "Epoch 22/200 - Train Loss: 0.0213, Train Acc: 0.5536, Val Loss: 0.0224, Val Acc: 0.5317\n"
     ]
    },
    {
     "name": "stderr",
     "output_type": "stream",
     "text": [
      "Epoch 23/200 - Training: 100%|██████████| 101/101 [00:00<00:00, 1837.10it/s]\n",
      "Epoch 23/200 - Validation: 100%|██████████| 26/26 [00:00<00:00, 4546.86it/s]\n"
     ]
    },
    {
     "name": "stdout",
     "output_type": "stream",
     "text": [
      "Epoch 23/200 - Train Loss: 0.0213, Train Acc: 0.5567, Val Loss: 0.0223, Val Acc: 0.5391\n"
     ]
    },
    {
     "name": "stderr",
     "output_type": "stream",
     "text": [
      "Epoch 24/200 - Training: 100%|██████████| 101/101 [00:00<00:00, 1840.05it/s]\n",
      "Epoch 24/200 - Validation: 100%|██████████| 26/26 [00:00<00:00, 4585.48it/s]\n"
     ]
    },
    {
     "name": "stdout",
     "output_type": "stream",
     "text": [
      "Epoch 24/200 - Train Loss: 0.0213, Train Acc: 0.5511, Val Loss: 0.0223, Val Acc: 0.5441\n"
     ]
    },
    {
     "name": "stderr",
     "output_type": "stream",
     "text": [
      "Epoch 25/200 - Training: 100%|██████████| 101/101 [00:00<00:00, 1829.36it/s]\n",
      "Epoch 25/200 - Validation: 100%|██████████| 26/26 [00:00<00:00, 4628.10it/s]\n"
     ]
    },
    {
     "name": "stdout",
     "output_type": "stream",
     "text": [
      "Epoch 25/200 - Train Loss: 0.0213, Train Acc: 0.5595, Val Loss: 0.0224, Val Acc: 0.5280\n"
     ]
    },
    {
     "name": "stderr",
     "output_type": "stream",
     "text": [
      "Epoch 26/200 - Training: 100%|██████████| 101/101 [00:00<00:00, 1826.93it/s]\n",
      "Epoch 26/200 - Validation: 100%|██████████| 26/26 [00:00<00:00, 4514.67it/s]\n"
     ]
    },
    {
     "name": "stdout",
     "output_type": "stream",
     "text": [
      "Epoch 26/200 - Train Loss: 0.0212, Train Acc: 0.5617, Val Loss: 0.0224, Val Acc: 0.5329\n"
     ]
    },
    {
     "name": "stderr",
     "output_type": "stream",
     "text": [
      "Epoch 27/200 - Training: 100%|██████████| 101/101 [00:00<00:00, 1848.32it/s]\n",
      "Epoch 27/200 - Validation: 100%|██████████| 26/26 [00:00<00:00, 4730.69it/s]\n"
     ]
    },
    {
     "name": "stdout",
     "output_type": "stream",
     "text": [
      "Epoch 27/200 - Train Loss: 0.0213, Train Acc: 0.5555, Val Loss: 0.0225, Val Acc: 0.5242\n"
     ]
    },
    {
     "name": "stderr",
     "output_type": "stream",
     "text": [
      "Epoch 28/200 - Training: 100%|██████████| 101/101 [00:00<00:00, 1812.02it/s]\n",
      "Epoch 28/200 - Validation: 100%|██████████| 26/26 [00:00<00:00, 4551.79it/s]\n"
     ]
    },
    {
     "name": "stdout",
     "output_type": "stream",
     "text": [
      "Epoch 28/200 - Train Loss: 0.0213, Train Acc: 0.5592, Val Loss: 0.0224, Val Acc: 0.5193\n"
     ]
    },
    {
     "name": "stderr",
     "output_type": "stream",
     "text": [
      "Epoch 29/200 - Training: 100%|██████████| 101/101 [00:00<00:00, 1798.01it/s]\n",
      "Epoch 29/200 - Validation: 100%|██████████| 26/26 [00:00<00:00, 4400.09it/s]\n"
     ]
    },
    {
     "name": "stdout",
     "output_type": "stream",
     "text": [
      "Epoch 29/200 - Train Loss: 0.0212, Train Acc: 0.5635, Val Loss: 0.0224, Val Acc: 0.5280\n"
     ]
    },
    {
     "name": "stderr",
     "output_type": "stream",
     "text": [
      "Epoch 30/200 - Training: 100%|██████████| 101/101 [00:00<00:00, 1700.59it/s]\n",
      "Epoch 30/200 - Validation: 100%|██████████| 26/26 [00:00<00:00, 4110.67it/s]\n"
     ]
    },
    {
     "name": "stdout",
     "output_type": "stream",
     "text": [
      "Epoch 30/200 - Train Loss: 0.0212, Train Acc: 0.5728, Val Loss: 0.0225, Val Acc: 0.5230\n"
     ]
    },
    {
     "name": "stderr",
     "output_type": "stream",
     "text": [
      "Epoch 31/200 - Training: 100%|██████████| 101/101 [00:00<00:00, 1593.78it/s]\n",
      "Epoch 31/200 - Validation: 100%|██████████| 26/26 [00:00<00:00, 4027.92it/s]\n"
     ]
    },
    {
     "name": "stdout",
     "output_type": "stream",
     "text": [
      "Epoch 31/200 - Train Loss: 0.0212, Train Acc: 0.5623, Val Loss: 0.0225, Val Acc: 0.5180\n"
     ]
    },
    {
     "name": "stderr",
     "output_type": "stream",
     "text": [
      "Epoch 32/200 - Training: 100%|██████████| 101/101 [00:00<00:00, 1334.81it/s]\n",
      "Epoch 32/200 - Validation: 100%|██████████| 26/26 [00:00<00:00, 4622.41it/s]\n"
     ]
    },
    {
     "name": "stdout",
     "output_type": "stream",
     "text": [
      "Epoch 32/200 - Train Loss: 0.0213, Train Acc: 0.5530, Val Loss: 0.0225, Val Acc: 0.5242\n"
     ]
    },
    {
     "name": "stderr",
     "output_type": "stream",
     "text": [
      "Epoch 33/200 - Training: 100%|██████████| 101/101 [00:00<00:00, 1764.01it/s]\n",
      "Epoch 33/200 - Validation: 100%|██████████| 26/26 [00:00<00:00, 4590.50it/s]\n"
     ]
    },
    {
     "name": "stdout",
     "output_type": "stream",
     "text": [
      "Epoch 33/200 - Train Loss: 0.0212, Train Acc: 0.5691, Val Loss: 0.0225, Val Acc: 0.5205\n"
     ]
    },
    {
     "name": "stderr",
     "output_type": "stream",
     "text": [
      "Epoch 34/200 - Training: 100%|██████████| 101/101 [00:00<00:00, 1799.43it/s]\n",
      "Epoch 34/200 - Validation: 100%|██████████| 26/26 [00:00<00:00, 4649.41it/s]\n"
     ]
    },
    {
     "name": "stdout",
     "output_type": "stream",
     "text": [
      "Epoch 34/200 - Train Loss: 0.0211, Train Acc: 0.5688, Val Loss: 0.0225, Val Acc: 0.5267\n"
     ]
    },
    {
     "name": "stderr",
     "output_type": "stream",
     "text": [
      "Epoch 35/200 - Training: 100%|██████████| 101/101 [00:00<00:00, 1814.39it/s]\n",
      "Epoch 35/200 - Validation: 100%|██████████| 26/26 [00:00<00:00, 4668.72it/s]\n"
     ]
    },
    {
     "name": "stdout",
     "output_type": "stream",
     "text": [
      "Epoch 35/200 - Train Loss: 0.0212, Train Acc: 0.5673, Val Loss: 0.0224, Val Acc: 0.5416\n"
     ]
    },
    {
     "name": "stderr",
     "output_type": "stream",
     "text": [
      "Epoch 36/200 - Training: 100%|██████████| 101/101 [00:00<00:00, 1834.49it/s]\n",
      "Epoch 36/200 - Validation: 100%|██████████| 26/26 [00:00<00:00, 4608.35it/s]\n"
     ]
    },
    {
     "name": "stdout",
     "output_type": "stream",
     "text": [
      "Epoch 36/200 - Train Loss: 0.0212, Train Acc: 0.5688, Val Loss: 0.0225, Val Acc: 0.5342\n"
     ]
    },
    {
     "name": "stderr",
     "output_type": "stream",
     "text": [
      "Epoch 37/200 - Training: 100%|██████████| 101/101 [00:00<00:00, 1817.82it/s]\n",
      "Epoch 37/200 - Validation: 100%|██████████| 26/26 [00:00<00:00, 4642.88it/s]\n"
     ]
    },
    {
     "name": "stdout",
     "output_type": "stream",
     "text": [
      "Epoch 37/200 - Train Loss: 0.0212, Train Acc: 0.5657, Val Loss: 0.0225, Val Acc: 0.5304\n"
     ]
    },
    {
     "name": "stderr",
     "output_type": "stream",
     "text": [
      "Epoch 38/200 - Training: 100%|██████████| 101/101 [00:00<00:00, 1817.53it/s]\n",
      "Epoch 38/200 - Validation: 100%|██████████| 26/26 [00:00<00:00, 4647.63it/s]\n"
     ]
    },
    {
     "name": "stdout",
     "output_type": "stream",
     "text": [
      "Epoch 38/200 - Train Loss: 0.0211, Train Acc: 0.5592, Val Loss: 0.0225, Val Acc: 0.5317\n"
     ]
    },
    {
     "name": "stderr",
     "output_type": "stream",
     "text": [
      "Epoch 39/200 - Training: 100%|██████████| 101/101 [00:00<00:00, 1818.97it/s]\n",
      "Epoch 39/200 - Validation: 100%|██████████| 26/26 [00:00<00:00, 4688.99it/s]\n"
     ]
    },
    {
     "name": "stdout",
     "output_type": "stream",
     "text": [
      "Epoch 39/200 - Train Loss: 0.0211, Train Acc: 0.5645, Val Loss: 0.0226, Val Acc: 0.5255\n"
     ]
    },
    {
     "name": "stderr",
     "output_type": "stream",
     "text": [
      "Epoch 40/200 - Training: 100%|██████████| 101/101 [00:00<00:00, 1818.73it/s]\n",
      "Epoch 40/200 - Validation: 100%|██████████| 26/26 [00:00<00:00, 4593.40it/s]\n"
     ]
    },
    {
     "name": "stdout",
     "output_type": "stream",
     "text": [
      "Epoch 40/200 - Train Loss: 0.0211, Train Acc: 0.5760, Val Loss: 0.0225, Val Acc: 0.5366\n"
     ]
    },
    {
     "name": "stderr",
     "output_type": "stream",
     "text": [
      "Epoch 41/200 - Training: 100%|██████████| 101/101 [00:00<00:00, 1825.64it/s]\n",
      "Epoch 41/200 - Validation: 100%|██████████| 26/26 [00:00<00:00, 4755.03it/s]\n"
     ]
    },
    {
     "name": "stdout",
     "output_type": "stream",
     "text": [
      "Epoch 41/200 - Train Loss: 0.0211, Train Acc: 0.5750, Val Loss: 0.0225, Val Acc: 0.5441\n"
     ]
    },
    {
     "name": "stderr",
     "output_type": "stream",
     "text": [
      "Epoch 42/200 - Training: 100%|██████████| 101/101 [00:00<00:00, 1824.36it/s]\n",
      "Epoch 42/200 - Validation: 100%|██████████| 26/26 [00:00<00:00, 4597.66it/s]\n"
     ]
    },
    {
     "name": "stdout",
     "output_type": "stream",
     "text": [
      "Epoch 42/200 - Train Loss: 0.0211, Train Acc: 0.5725, Val Loss: 0.0226, Val Acc: 0.5429\n"
     ]
    },
    {
     "name": "stderr",
     "output_type": "stream",
     "text": [
      "Epoch 43/200 - Training: 100%|██████████| 101/101 [00:00<00:00, 1602.44it/s]\n",
      "Epoch 43/200 - Validation: 100%|██████████| 26/26 [00:00<00:00, 4597.66it/s]\n"
     ]
    },
    {
     "name": "stdout",
     "output_type": "stream",
     "text": [
      "Epoch 43/200 - Train Loss: 0.0210, Train Acc: 0.5791, Val Loss: 0.0226, Val Acc: 0.5329\n"
     ]
    },
    {
     "name": "stderr",
     "output_type": "stream",
     "text": [
      "Epoch 44/200 - Training: 100%|██████████| 101/101 [00:00<00:00, 1823.67it/s]\n",
      "Epoch 44/200 - Validation: 100%|██████████| 26/26 [00:00<00:00, 4631.44it/s]\n"
     ]
    },
    {
     "name": "stdout",
     "output_type": "stream",
     "text": [
      "Epoch 44/200 - Train Loss: 0.0210, Train Acc: 0.5576, Val Loss: 0.0225, Val Acc: 0.5453\n"
     ]
    },
    {
     "name": "stderr",
     "output_type": "stream",
     "text": [
      "Epoch 45/200 - Training: 100%|██████████| 101/101 [00:00<00:00, 1826.17it/s]\n",
      "Epoch 45/200 - Validation: 100%|██████████| 26/26 [00:00<00:00, 4638.14it/s]\n"
     ]
    },
    {
     "name": "stdout",
     "output_type": "stream",
     "text": [
      "Epoch 45/200 - Train Loss: 0.0211, Train Acc: 0.5691, Val Loss: 0.0226, Val Acc: 0.5329\n"
     ]
    },
    {
     "name": "stderr",
     "output_type": "stream",
     "text": [
      "Epoch 46/200 - Training: 100%|██████████| 101/101 [00:00<00:00, 1722.96it/s]\n",
      "Epoch 46/200 - Validation: 100%|██████████| 26/26 [00:00<00:00, 4468.06it/s]\n"
     ]
    },
    {
     "name": "stdout",
     "output_type": "stream",
     "text": [
      "Epoch 46/200 - Train Loss: 0.0210, Train Acc: 0.5784, Val Loss: 0.0225, Val Acc: 0.5255\n"
     ]
    },
    {
     "name": "stderr",
     "output_type": "stream",
     "text": [
      "Epoch 47/200 - Training: 100%|██████████| 101/101 [00:00<00:00, 1734.21it/s]\n",
      "Epoch 47/200 - Validation: 100%|██████████| 26/26 [00:00<00:00, 4365.57it/s]\n"
     ]
    },
    {
     "name": "stdout",
     "output_type": "stream",
     "text": [
      "Epoch 47/200 - Train Loss: 0.0209, Train Acc: 0.5815, Val Loss: 0.0227, Val Acc: 0.5217\n"
     ]
    },
    {
     "name": "stderr",
     "output_type": "stream",
     "text": [
      "Epoch 48/200 - Training: 100%|██████████| 101/101 [00:00<00:00, 1768.15it/s]\n",
      "Epoch 48/200 - Validation: 100%|██████████| 26/26 [00:00<00:00, 4511.50it/s]\n"
     ]
    },
    {
     "name": "stdout",
     "output_type": "stream",
     "text": [
      "Epoch 48/200 - Train Loss: 0.0210, Train Acc: 0.5666, Val Loss: 0.0226, Val Acc: 0.5280\n"
     ]
    },
    {
     "name": "stderr",
     "output_type": "stream",
     "text": [
      "Epoch 49/200 - Training: 100%|██████████| 101/101 [00:00<00:00, 1829.71it/s]\n",
      "Epoch 49/200 - Validation: 100%|██████████| 26/26 [00:00<00:00, 4683.76it/s]\n"
     ]
    },
    {
     "name": "stdout",
     "output_type": "stream",
     "text": [
      "Epoch 49/200 - Train Loss: 0.0210, Train Acc: 0.5760, Val Loss: 0.0227, Val Acc: 0.5255\n"
     ]
    },
    {
     "name": "stderr",
     "output_type": "stream",
     "text": [
      "Epoch 50/200 - Training: 100%|██████████| 101/101 [00:00<00:00, 1803.60it/s]\n",
      "Epoch 50/200 - Validation: 100%|██████████| 26/26 [00:00<00:00, 4448.19it/s]\n"
     ]
    },
    {
     "name": "stdout",
     "output_type": "stream",
     "text": [
      "Epoch 50/200 - Train Loss: 0.0210, Train Acc: 0.5874, Val Loss: 0.0227, Val Acc: 0.5354\n"
     ]
    },
    {
     "name": "stderr",
     "output_type": "stream",
     "text": [
      "Epoch 51/200 - Training: 100%|██████████| 101/101 [00:00<00:00, 1784.49it/s]\n",
      "Epoch 51/200 - Validation: 100%|██████████| 26/26 [00:00<00:00, 4544.59it/s]\n"
     ]
    },
    {
     "name": "stdout",
     "output_type": "stream",
     "text": [
      "Epoch 51/200 - Train Loss: 0.0209, Train Acc: 0.5887, Val Loss: 0.0228, Val Acc: 0.5267\n"
     ]
    },
    {
     "name": "stderr",
     "output_type": "stream",
     "text": [
      "Epoch 52/200 - Training: 100%|██████████| 101/101 [00:00<00:00, 1777.26it/s]\n",
      "Epoch 52/200 - Validation: 100%|██████████| 26/26 [00:00<00:00, 4541.37it/s]\n"
     ]
    },
    {
     "name": "stdout",
     "output_type": "stream",
     "text": [
      "Epoch 52/200 - Train Loss: 0.0209, Train Acc: 0.5791, Val Loss: 0.0227, Val Acc: 0.5230\n"
     ]
    },
    {
     "name": "stderr",
     "output_type": "stream",
     "text": [
      "Epoch 53/200 - Training: 100%|██████████| 101/101 [00:00<00:00, 1525.86it/s]\n",
      "Epoch 53/200 - Validation: 100%|██████████| 26/26 [00:00<00:00, 4729.87it/s]\n"
     ]
    },
    {
     "name": "stdout",
     "output_type": "stream",
     "text": [
      "Epoch 53/200 - Train Loss: 0.0209, Train Acc: 0.5800, Val Loss: 0.0227, Val Acc: 0.5230\n"
     ]
    },
    {
     "name": "stderr",
     "output_type": "stream",
     "text": [
      "Epoch 54/200 - Training: 100%|██████████| 101/101 [00:00<00:00, 1798.37it/s]\n",
      "Epoch 54/200 - Validation: 100%|██████████| 26/26 [00:00<00:00, 4586.64it/s]\n"
     ]
    },
    {
     "name": "stdout",
     "output_type": "stream",
     "text": [
      "Epoch 54/200 - Train Loss: 0.0208, Train Acc: 0.5862, Val Loss: 0.0228, Val Acc: 0.5292\n"
     ]
    },
    {
     "name": "stderr",
     "output_type": "stream",
     "text": [
      "Epoch 55/200 - Training: 100%|██████████| 101/101 [00:00<00:00, 1800.23it/s]\n",
      "Epoch 55/200 - Validation: 100%|██████████| 26/26 [00:00<00:00, 4545.34it/s]\n"
     ]
    },
    {
     "name": "stdout",
     "output_type": "stream",
     "text": [
      "Epoch 55/200 - Train Loss: 0.0210, Train Acc: 0.5694, Val Loss: 0.0227, Val Acc: 0.5180\n"
     ]
    },
    {
     "name": "stderr",
     "output_type": "stream",
     "text": [
      "Epoch 56/200 - Training: 100%|██████████| 101/101 [00:00<00:00, 1828.89it/s]\n",
      "Epoch 56/200 - Validation: 100%|██████████| 26/26 [00:00<00:00, 4610.88it/s]\n"
     ]
    },
    {
     "name": "stdout",
     "output_type": "stream",
     "text": [
      "Epoch 56/200 - Train Loss: 0.0209, Train Acc: 0.5924, Val Loss: 0.0228, Val Acc: 0.5193\n"
     ]
    },
    {
     "name": "stderr",
     "output_type": "stream",
     "text": [
      "Epoch 57/200 - Training: 100%|██████████| 101/101 [00:00<00:00, 1798.66it/s]\n",
      "Epoch 57/200 - Validation: 100%|██████████| 26/26 [00:00<00:00, 4483.67it/s]\n"
     ]
    },
    {
     "name": "stdout",
     "output_type": "stream",
     "text": [
      "Epoch 57/200 - Train Loss: 0.0210, Train Acc: 0.5716, Val Loss: 0.0228, Val Acc: 0.5267\n"
     ]
    },
    {
     "name": "stderr",
     "output_type": "stream",
     "text": [
      "Epoch 58/200 - Training: 100%|██████████| 101/101 [00:00<00:00, 1805.84it/s]\n",
      "Epoch 58/200 - Validation: 100%|██████████| 26/26 [00:00<00:00, 4687.18it/s]\n"
     ]
    },
    {
     "name": "stdout",
     "output_type": "stream",
     "text": [
      "Epoch 58/200 - Train Loss: 0.0208, Train Acc: 0.5847, Val Loss: 0.0228, Val Acc: 0.5280\n"
     ]
    },
    {
     "name": "stderr",
     "output_type": "stream",
     "text": [
      "Epoch 59/200 - Training: 100%|██████████| 101/101 [00:00<00:00, 1810.81it/s]\n",
      "Epoch 59/200 - Validation: 100%|██████████| 26/26 [00:00<00:00, 4598.44it/s]\n"
     ]
    },
    {
     "name": "stdout",
     "output_type": "stream",
     "text": [
      "Epoch 59/200 - Train Loss: 0.0207, Train Acc: 0.5850, Val Loss: 0.0229, Val Acc: 0.5354\n"
     ]
    },
    {
     "name": "stderr",
     "output_type": "stream",
     "text": [
      "Epoch 60/200 - Training: 100%|██████████| 101/101 [00:00<00:00, 1800.70it/s]\n",
      "Epoch 60/200 - Validation: 100%|██████████| 26/26 [00:00<00:00, 4723.11it/s]\n"
     ]
    },
    {
     "name": "stdout",
     "output_type": "stream",
     "text": [
      "Epoch 60/200 - Train Loss: 0.0208, Train Acc: 0.5896, Val Loss: 0.0229, Val Acc: 0.5317\n"
     ]
    },
    {
     "name": "stderr",
     "output_type": "stream",
     "text": [
      "Epoch 61/200 - Training: 100%|██████████| 101/101 [00:00<00:00, 1812.34it/s]\n",
      "Epoch 61/200 - Validation: 100%|██████████| 26/26 [00:00<00:00, 4598.63it/s]\n"
     ]
    },
    {
     "name": "stdout",
     "output_type": "stream",
     "text": [
      "Epoch 61/200 - Train Loss: 0.0208, Train Acc: 0.5704, Val Loss: 0.0228, Val Acc: 0.5292\n"
     ]
    },
    {
     "name": "stderr",
     "output_type": "stream",
     "text": [
      "Epoch 62/200 - Training: 100%|██████████| 101/101 [00:00<00:00, 1811.72it/s]\n",
      "Epoch 62/200 - Validation: 100%|██████████| 26/26 [00:00<00:00, 4517.10it/s]\n"
     ]
    },
    {
     "name": "stdout",
     "output_type": "stream",
     "text": [
      "Epoch 62/200 - Train Loss: 0.0208, Train Acc: 0.5788, Val Loss: 0.0229, Val Acc: 0.5242\n"
     ]
    },
    {
     "name": "stderr",
     "output_type": "stream",
     "text": [
      "Epoch 63/200 - Training: 100%|██████████| 101/101 [00:00<00:00, 1813.65it/s]\n",
      "Epoch 63/200 - Validation: 100%|██████████| 26/26 [00:00<00:00, 4587.02it/s]\n"
     ]
    },
    {
     "name": "stdout",
     "output_type": "stream",
     "text": [
      "Epoch 63/200 - Train Loss: 0.0208, Train Acc: 0.5847, Val Loss: 0.0228, Val Acc: 0.5193\n"
     ]
    },
    {
     "name": "stderr",
     "output_type": "stream",
     "text": [
      "Epoch 64/200 - Training: 100%|██████████| 101/101 [00:00<00:00, 1492.89it/s]\n",
      "Epoch 64/200 - Validation: 100%|██████████| 26/26 [00:00<00:00, 5188.50it/s]\n"
     ]
    },
    {
     "name": "stdout",
     "output_type": "stream",
     "text": [
      "Epoch 64/200 - Train Loss: 0.0209, Train Acc: 0.5725, Val Loss: 0.0229, Val Acc: 0.5068\n"
     ]
    },
    {
     "name": "stderr",
     "output_type": "stream",
     "text": [
      "Epoch 65/200 - Training: 100%|██████████| 101/101 [00:00<00:00, 1802.47it/s]\n",
      "Epoch 65/200 - Validation: 100%|██████████| 26/26 [00:00<00:00, 4583.94it/s]\n"
     ]
    },
    {
     "name": "stdout",
     "output_type": "stream",
     "text": [
      "Epoch 65/200 - Train Loss: 0.0208, Train Acc: 0.5834, Val Loss: 0.0228, Val Acc: 0.5317\n"
     ]
    },
    {
     "name": "stderr",
     "output_type": "stream",
     "text": [
      "Epoch 66/200 - Training: 100%|██████████| 101/101 [00:00<00:00, 1831.57it/s]\n",
      "Epoch 66/200 - Validation: 100%|██████████| 26/26 [00:00<00:00, 4620.45it/s]\n"
     ]
    },
    {
     "name": "stdout",
     "output_type": "stream",
     "text": [
      "Epoch 66/200 - Train Loss: 0.0207, Train Acc: 0.5921, Val Loss: 0.0229, Val Acc: 0.5292\n"
     ]
    },
    {
     "name": "stderr",
     "output_type": "stream",
     "text": [
      "Epoch 67/200 - Training: 100%|██████████| 101/101 [00:00<00:00, 1736.62it/s]\n",
      "Epoch 67/200 - Validation: 100%|██████████| 26/26 [00:00<00:00, 4470.26it/s]\n"
     ]
    },
    {
     "name": "stdout",
     "output_type": "stream",
     "text": [
      "Epoch 67/200 - Train Loss: 0.0208, Train Acc: 0.5890, Val Loss: 0.0228, Val Acc: 0.5068\n"
     ]
    },
    {
     "name": "stderr",
     "output_type": "stream",
     "text": [
      "Epoch 68/200 - Training: 100%|██████████| 101/101 [00:00<00:00, 1770.24it/s]\n",
      "Epoch 68/200 - Validation: 100%|██████████| 26/26 [00:00<00:00, 4340.72it/s]\n"
     ]
    },
    {
     "name": "stdout",
     "output_type": "stream",
     "text": [
      "Epoch 68/200 - Train Loss: 0.0208, Train Acc: 0.5896, Val Loss: 0.0228, Val Acc: 0.5168\n"
     ]
    },
    {
     "name": "stderr",
     "output_type": "stream",
     "text": [
      "Epoch 69/200 - Training: 100%|██████████| 101/101 [00:00<00:00, 1766.20it/s]\n",
      "Epoch 69/200 - Validation: 100%|██████████| 26/26 [00:00<00:00, 4524.22it/s]\n"
     ]
    },
    {
     "name": "stdout",
     "output_type": "stream",
     "text": [
      "Epoch 69/200 - Train Loss: 0.0206, Train Acc: 0.5940, Val Loss: 0.0229, Val Acc: 0.5068\n"
     ]
    },
    {
     "name": "stderr",
     "output_type": "stream",
     "text": [
      "Epoch 70/200 - Training: 100%|██████████| 101/101 [00:00<00:00, 1678.30it/s]\n",
      "Epoch 70/200 - Validation: 100%|██████████| 26/26 [00:00<00:00, 4623.78it/s]\n"
     ]
    },
    {
     "name": "stdout",
     "output_type": "stream",
     "text": [
      "Epoch 70/200 - Train Loss: 0.0207, Train Acc: 0.5862, Val Loss: 0.0229, Val Acc: 0.5255\n"
     ]
    },
    {
     "name": "stderr",
     "output_type": "stream",
     "text": [
      "Epoch 71/200 - Training: 100%|██████████| 101/101 [00:00<00:00, 1828.72it/s]\n",
      "Epoch 71/200 - Validation: 100%|██████████| 26/26 [00:00<00:00, 4638.93it/s]\n"
     ]
    },
    {
     "name": "stdout",
     "output_type": "stream",
     "text": [
      "Epoch 71/200 - Train Loss: 0.0207, Train Acc: 0.5775, Val Loss: 0.0229, Val Acc: 0.5230\n"
     ]
    },
    {
     "name": "stderr",
     "output_type": "stream",
     "text": [
      "Epoch 72/200 - Training: 100%|██████████| 101/101 [00:00<00:00, 1791.57it/s]\n",
      "Epoch 72/200 - Validation: 100%|██████████| 26/26 [00:00<00:00, 4553.32it/s]\n"
     ]
    },
    {
     "name": "stdout",
     "output_type": "stream",
     "text": [
      "Epoch 72/200 - Train Loss: 0.0208, Train Acc: 0.5912, Val Loss: 0.0227, Val Acc: 0.5193\n"
     ]
    },
    {
     "name": "stderr",
     "output_type": "stream",
     "text": [
      "Epoch 73/200 - Training: 100%|██████████| 101/101 [00:00<00:00, 1824.43it/s]\n",
      "Epoch 73/200 - Validation: 100%|██████████| 26/26 [00:00<00:00, 4639.32it/s]\n"
     ]
    },
    {
     "name": "stdout",
     "output_type": "stream",
     "text": [
      "Epoch 73/200 - Train Loss: 0.0207, Train Acc: 0.5887, Val Loss: 0.0228, Val Acc: 0.5242\n"
     ]
    },
    {
     "name": "stderr",
     "output_type": "stream",
     "text": [
      "Epoch 74/200 - Training: 100%|██████████| 101/101 [00:00<00:00, 1630.71it/s]\n",
      "Epoch 74/200 - Validation: 100%|██████████| 26/26 [00:00<00:00, 4462.03it/s]\n"
     ]
    },
    {
     "name": "stdout",
     "output_type": "stream",
     "text": [
      "Epoch 74/200 - Train Loss: 0.0206, Train Acc: 0.5915, Val Loss: 0.0229, Val Acc: 0.5217\n"
     ]
    },
    {
     "name": "stderr",
     "output_type": "stream",
     "text": [
      "Epoch 75/200 - Training: 100%|██████████| 101/101 [00:00<00:00, 1831.99it/s]\n",
      "Epoch 75/200 - Validation: 100%|██████████| 26/26 [00:00<00:00, 4605.82it/s]\n"
     ]
    },
    {
     "name": "stdout",
     "output_type": "stream",
     "text": [
      "Epoch 75/200 - Train Loss: 0.0206, Train Acc: 0.5890, Val Loss: 0.0231, Val Acc: 0.5168\n"
     ]
    },
    {
     "name": "stderr",
     "output_type": "stream",
     "text": [
      "Epoch 76/200 - Training: 100%|██████████| 101/101 [00:00<00:00, 1825.93it/s]\n",
      "Epoch 76/200 - Validation: 100%|██████████| 26/26 [00:00<00:00, 4604.07it/s]\n"
     ]
    },
    {
     "name": "stdout",
     "output_type": "stream",
     "text": [
      "Epoch 76/200 - Train Loss: 0.0206, Train Acc: 0.5887, Val Loss: 0.0230, Val Acc: 0.5304\n"
     ]
    },
    {
     "name": "stderr",
     "output_type": "stream",
     "text": [
      "Epoch 77/200 - Training: 100%|██████████| 101/101 [00:00<00:00, 1743.79it/s]\n",
      "Epoch 77/200 - Validation: 100%|██████████| 26/26 [00:00<00:00, 4339.17it/s]\n"
     ]
    },
    {
     "name": "stdout",
     "output_type": "stream",
     "text": [
      "Epoch 77/200 - Train Loss: 0.0206, Train Acc: 0.5859, Val Loss: 0.0231, Val Acc: 0.5255\n"
     ]
    },
    {
     "name": "stderr",
     "output_type": "stream",
     "text": [
      "Epoch 78/200 - Training: 100%|██████████| 101/101 [00:00<00:00, 1788.09it/s]\n",
      "Epoch 78/200 - Validation: 100%|██████████| 26/26 [00:00<00:00, 4573.94it/s]\n"
     ]
    },
    {
     "name": "stdout",
     "output_type": "stream",
     "text": [
      "Epoch 78/200 - Train Loss: 0.0205, Train Acc: 0.5934, Val Loss: 0.0232, Val Acc: 0.5304\n"
     ]
    },
    {
     "name": "stderr",
     "output_type": "stream",
     "text": [
      "Epoch 79/200 - Training: 100%|██████████| 101/101 [00:00<00:00, 1803.54it/s]\n",
      "Epoch 79/200 - Validation: 100%|██████████| 26/26 [00:00<00:00, 4837.29it/s]\n"
     ]
    },
    {
     "name": "stdout",
     "output_type": "stream",
     "text": [
      "Epoch 79/200 - Train Loss: 0.0206, Train Acc: 0.5980, Val Loss: 0.0232, Val Acc: 0.5043\n"
     ]
    },
    {
     "name": "stderr",
     "output_type": "stream",
     "text": [
      "Epoch 80/200 - Training: 100%|██████████| 101/101 [00:00<00:00, 1824.03it/s]\n",
      "Epoch 80/200 - Validation: 100%|██████████| 26/26 [00:00<00:00, 4581.63it/s]\n"
     ]
    },
    {
     "name": "stdout",
     "output_type": "stream",
     "text": [
      "Epoch 80/200 - Train Loss: 0.0206, Train Acc: 0.5896, Val Loss: 0.0232, Val Acc: 0.5143\n"
     ]
    },
    {
     "name": "stderr",
     "output_type": "stream",
     "text": [
      "Epoch 81/200 - Training: 100%|██████████| 101/101 [00:00<00:00, 1813.97it/s]\n",
      "Epoch 81/200 - Validation: 100%|██████████| 26/26 [00:00<00:00, 4548.57it/s]\n"
     ]
    },
    {
     "name": "stdout",
     "output_type": "stream",
     "text": [
      "Epoch 81/200 - Train Loss: 0.0206, Train Acc: 0.5874, Val Loss: 0.0231, Val Acc: 0.5342\n"
     ]
    },
    {
     "name": "stderr",
     "output_type": "stream",
     "text": [
      "Epoch 82/200 - Training: 100%|██████████| 101/101 [00:00<00:00, 1796.03it/s]\n",
      "Epoch 82/200 - Validation: 100%|██████████| 26/26 [00:00<00:00, 4609.13it/s]\n"
     ]
    },
    {
     "name": "stdout",
     "output_type": "stream",
     "text": [
      "Epoch 82/200 - Train Loss: 0.0207, Train Acc: 0.5859, Val Loss: 0.0230, Val Acc: 0.5118\n"
     ]
    },
    {
     "name": "stderr",
     "output_type": "stream",
     "text": [
      "Epoch 83/200 - Training: 100%|██████████| 101/101 [00:00<00:00, 1496.16it/s]\n",
      "Epoch 83/200 - Validation: 100%|██████████| 26/26 [00:00<00:00, 4550.85it/s]\n"
     ]
    },
    {
     "name": "stdout",
     "output_type": "stream",
     "text": [
      "Epoch 83/200 - Train Loss: 0.0204, Train Acc: 0.6107, Val Loss: 0.0231, Val Acc: 0.5230\n"
     ]
    },
    {
     "name": "stderr",
     "output_type": "stream",
     "text": [
      "Epoch 84/200 - Training: 100%|██████████| 101/101 [00:00<00:00, 1802.18it/s]\n",
      "Epoch 84/200 - Validation: 100%|██████████| 26/26 [00:00<00:00, 4662.93it/s]\n"
     ]
    },
    {
     "name": "stdout",
     "output_type": "stream",
     "text": [
      "Epoch 84/200 - Train Loss: 0.0207, Train Acc: 0.5909, Val Loss: 0.0231, Val Acc: 0.5093\n"
     ]
    },
    {
     "name": "stderr",
     "output_type": "stream",
     "text": [
      "Epoch 85/200 - Training: 100%|██████████| 101/101 [00:00<00:00, 1828.75it/s]\n",
      "Epoch 85/200 - Validation: 100%|██████████| 26/26 [00:00<00:00, 4827.23it/s]\n"
     ]
    },
    {
     "name": "stdout",
     "output_type": "stream",
     "text": [
      "Epoch 85/200 - Train Loss: 0.0207, Train Acc: 0.6002, Val Loss: 0.0230, Val Acc: 0.5118\n"
     ]
    },
    {
     "name": "stderr",
     "output_type": "stream",
     "text": [
      "Epoch 86/200 - Training: 100%|██████████| 101/101 [00:00<00:00, 1819.37it/s]\n",
      "Epoch 86/200 - Validation: 100%|██████████| 26/26 [00:00<00:00, 4442.21it/s]\n"
     ]
    },
    {
     "name": "stdout",
     "output_type": "stream",
     "text": [
      "Epoch 86/200 - Train Loss: 0.0206, Train Acc: 0.5884, Val Loss: 0.0231, Val Acc: 0.4981\n"
     ]
    },
    {
     "name": "stderr",
     "output_type": "stream",
     "text": [
      "Epoch 87/200 - Training: 100%|██████████| 101/101 [00:00<00:00, 1785.71it/s]\n",
      "Epoch 87/200 - Validation: 100%|██████████| 26/26 [00:00<00:00, 3984.50it/s]\n"
     ]
    },
    {
     "name": "stdout",
     "output_type": "stream",
     "text": [
      "Epoch 87/200 - Train Loss: 0.0205, Train Acc: 0.6005, Val Loss: 0.0233, Val Acc: 0.5106\n"
     ]
    },
    {
     "name": "stderr",
     "output_type": "stream",
     "text": [
      "Epoch 88/200 - Training: 100%|██████████| 101/101 [00:00<00:00, 1753.59it/s]\n",
      "Epoch 88/200 - Validation: 100%|██████████| 26/26 [00:00<00:00, 4572.60it/s]\n"
     ]
    },
    {
     "name": "stdout",
     "output_type": "stream",
     "text": [
      "Epoch 88/200 - Train Loss: 0.0204, Train Acc: 0.6017, Val Loss: 0.0233, Val Acc: 0.4969\n"
     ]
    },
    {
     "name": "stderr",
     "output_type": "stream",
     "text": [
      "Epoch 89/200 - Training: 100%|██████████| 101/101 [00:00<00:00, 1816.74it/s]\n",
      "Epoch 89/200 - Validation: 100%|██████████| 26/26 [00:00<00:00, 4589.53it/s]\n"
     ]
    },
    {
     "name": "stdout",
     "output_type": "stream",
     "text": [
      "Epoch 89/200 - Train Loss: 0.0207, Train Acc: 0.5924, Val Loss: 0.0231, Val Acc: 0.5168\n"
     ]
    },
    {
     "name": "stderr",
     "output_type": "stream",
     "text": [
      "Epoch 90/200 - Training: 100%|██████████| 101/101 [00:00<00:00, 1802.15it/s]\n",
      "Epoch 90/200 - Validation: 100%|██████████| 26/26 [00:00<00:00, 4488.29it/s]\n"
     ]
    },
    {
     "name": "stdout",
     "output_type": "stream",
     "text": [
      "Epoch 90/200 - Train Loss: 0.0204, Train Acc: 0.5989, Val Loss: 0.0232, Val Acc: 0.5242\n"
     ]
    },
    {
     "name": "stderr",
     "output_type": "stream",
     "text": [
      "Epoch 91/200 - Training: 100%|██████████| 101/101 [00:00<00:00, 1710.97it/s]\n",
      "Epoch 91/200 - Validation: 100%|██████████| 26/26 [00:00<00:00, 4636.95it/s]\n"
     ]
    },
    {
     "name": "stdout",
     "output_type": "stream",
     "text": [
      "Epoch 91/200 - Train Loss: 0.0206, Train Acc: 0.5887, Val Loss: 0.0232, Val Acc: 0.5118\n"
     ]
    },
    {
     "name": "stderr",
     "output_type": "stream",
     "text": [
      "Epoch 92/200 - Training: 100%|██████████| 101/101 [00:00<00:00, 1557.61it/s]\n",
      "Epoch 92/200 - Validation: 100%|██████████| 26/26 [00:00<00:00, 4679.74it/s]\n"
     ]
    },
    {
     "name": "stdout",
     "output_type": "stream",
     "text": [
      "Epoch 92/200 - Train Loss: 0.0205, Train Acc: 0.5949, Val Loss: 0.0234, Val Acc: 0.5205\n"
     ]
    },
    {
     "name": "stderr",
     "output_type": "stream",
     "text": [
      "Epoch 93/200 - Training: 100%|██████████| 101/101 [00:00<00:00, 1808.77it/s]\n",
      "Epoch 93/200 - Validation: 100%|██████████| 26/26 [00:00<00:00, 4772.51it/s]\n"
     ]
    },
    {
     "name": "stdout",
     "output_type": "stream",
     "text": [
      "Epoch 93/200 - Train Loss: 0.0205, Train Acc: 0.6042, Val Loss: 0.0233, Val Acc: 0.5093\n"
     ]
    },
    {
     "name": "stderr",
     "output_type": "stream",
     "text": [
      "Epoch 94/200 - Training: 100%|██████████| 101/101 [00:00<00:00, 1812.18it/s]\n",
      "Epoch 94/200 - Validation: 100%|██████████| 26/26 [00:00<00:00, 4568.58it/s]\n"
     ]
    },
    {
     "name": "stdout",
     "output_type": "stream",
     "text": [
      "Epoch 94/200 - Train Loss: 0.0205, Train Acc: 0.5949, Val Loss: 0.0234, Val Acc: 0.5019\n"
     ]
    },
    {
     "name": "stderr",
     "output_type": "stream",
     "text": [
      "Epoch 95/200 - Training: 100%|██████████| 101/101 [00:00<00:00, 1829.45it/s]\n",
      "Epoch 95/200 - Validation: 100%|██████████| 26/26 [00:00<00:00, 4648.62it/s]\n"
     ]
    },
    {
     "name": "stdout",
     "output_type": "stream",
     "text": [
      "Epoch 95/200 - Train Loss: 0.0204, Train Acc: 0.5971, Val Loss: 0.0233, Val Acc: 0.4994\n"
     ]
    },
    {
     "name": "stderr",
     "output_type": "stream",
     "text": [
      "Epoch 96/200 - Training: 100%|██████████| 101/101 [00:00<00:00, 1822.05it/s]\n",
      "Epoch 96/200 - Validation: 100%|██████████| 26/26 [00:00<00:00, 4571.64it/s]\n"
     ]
    },
    {
     "name": "stdout",
     "output_type": "stream",
     "text": [
      "Epoch 96/200 - Train Loss: 0.0203, Train Acc: 0.6014, Val Loss: 0.0234, Val Acc: 0.5031\n"
     ]
    },
    {
     "name": "stderr",
     "output_type": "stream",
     "text": [
      "Epoch 97/200 - Training: 100%|██████████| 101/101 [00:00<00:00, 1835.82it/s]\n",
      "Epoch 97/200 - Validation: 100%|██████████| 26/26 [00:00<00:00, 4614.20it/s]\n"
     ]
    },
    {
     "name": "stdout",
     "output_type": "stream",
     "text": [
      "Epoch 97/200 - Train Loss: 0.0204, Train Acc: 0.6092, Val Loss: 0.0234, Val Acc: 0.5068\n"
     ]
    },
    {
     "name": "stderr",
     "output_type": "stream",
     "text": [
      "Epoch 98/200 - Training: 100%|██████████| 101/101 [00:00<00:00, 1843.03it/s]\n",
      "Epoch 98/200 - Validation: 100%|██████████| 26/26 [00:00<00:00, 4621.43it/s]\n"
     ]
    },
    {
     "name": "stdout",
     "output_type": "stream",
     "text": [
      "Epoch 98/200 - Train Loss: 0.0205, Train Acc: 0.5974, Val Loss: 0.0233, Val Acc: 0.4820\n"
     ]
    },
    {
     "name": "stderr",
     "output_type": "stream",
     "text": [
      "Epoch 99/200 - Training: 100%|██████████| 101/101 [00:00<00:00, 1778.70it/s]\n",
      "Epoch 99/200 - Validation: 100%|██████████| 26/26 [00:00<00:00, 4197.05it/s]\n"
     ]
    },
    {
     "name": "stdout",
     "output_type": "stream",
     "text": [
      "Epoch 99/200 - Train Loss: 0.0204, Train Acc: 0.5940, Val Loss: 0.0234, Val Acc: 0.4932\n"
     ]
    },
    {
     "name": "stderr",
     "output_type": "stream",
     "text": [
      "Epoch 100/200 - Training: 100%|██████████| 101/101 [00:00<00:00, 1755.94it/s]\n",
      "Epoch 100/200 - Validation: 100%|██████████| 26/26 [00:00<00:00, 4515.23it/s]\n"
     ]
    },
    {
     "name": "stdout",
     "output_type": "stream",
     "text": [
      "Epoch 100/200 - Train Loss: 0.0205, Train Acc: 0.5949, Val Loss: 0.0232, Val Acc: 0.5093\n"
     ]
    },
    {
     "name": "stderr",
     "output_type": "stream",
     "text": [
      "Epoch 101/200 - Training: 100%|██████████| 101/101 [00:00<00:00, 1814.88it/s]\n",
      "Epoch 101/200 - Validation: 100%|██████████| 26/26 [00:00<00:00, 4641.10it/s]\n"
     ]
    },
    {
     "name": "stdout",
     "output_type": "stream",
     "text": [
      "Epoch 101/200 - Train Loss: 0.0203, Train Acc: 0.6073, Val Loss: 0.0234, Val Acc: 0.4932\n"
     ]
    },
    {
     "name": "stderr",
     "output_type": "stream",
     "text": [
      "Epoch 102/200 - Training: 100%|██████████| 101/101 [00:00<00:00, 1521.43it/s]\n",
      "Epoch 102/200 - Validation: 100%|██████████| 26/26 [00:00<00:00, 4627.12it/s]\n"
     ]
    },
    {
     "name": "stdout",
     "output_type": "stream",
     "text": [
      "Epoch 102/200 - Train Loss: 0.0203, Train Acc: 0.6021, Val Loss: 0.0233, Val Acc: 0.5168\n"
     ]
    },
    {
     "name": "stderr",
     "output_type": "stream",
     "text": [
      "Epoch 103/200 - Training: 100%|██████████| 101/101 [00:00<00:00, 1777.77it/s]\n",
      "Epoch 103/200 - Validation: 100%|██████████| 26/26 [00:00<00:00, 4611.66it/s]\n"
     ]
    },
    {
     "name": "stdout",
     "output_type": "stream",
     "text": [
      "Epoch 103/200 - Train Loss: 0.0204, Train Acc: 0.6117, Val Loss: 0.0235, Val Acc: 0.5143\n"
     ]
    },
    {
     "name": "stderr",
     "output_type": "stream",
     "text": [
      "Epoch 104/200 - Training: 100%|██████████| 101/101 [00:00<00:00, 1835.37it/s]\n",
      "Epoch 104/200 - Validation: 100%|██████████| 26/26 [00:00<00:00, 4613.81it/s]\n"
     ]
    },
    {
     "name": "stdout",
     "output_type": "stream",
     "text": [
      "Epoch 104/200 - Train Loss: 0.0204, Train Acc: 0.6005, Val Loss: 0.0234, Val Acc: 0.5180\n"
     ]
    },
    {
     "name": "stderr",
     "output_type": "stream",
     "text": [
      "Epoch 105/200 - Training: 100%|██████████| 101/101 [00:00<00:00, 1820.48it/s]\n",
      "Epoch 105/200 - Validation: 100%|██████████| 26/26 [00:00<00:00, 4554.46it/s]\n"
     ]
    },
    {
     "name": "stdout",
     "output_type": "stream",
     "text": [
      "Epoch 105/200 - Train Loss: 0.0204, Train Acc: 0.6095, Val Loss: 0.0233, Val Acc: 0.5155\n"
     ]
    },
    {
     "name": "stderr",
     "output_type": "stream",
     "text": [
      "Epoch 106/200 - Training: 100%|██████████| 101/101 [00:00<00:00, 1818.08it/s]\n",
      "Epoch 106/200 - Validation: 100%|██████████| 26/26 [00:00<00:00, 4724.75it/s]\n"
     ]
    },
    {
     "name": "stdout",
     "output_type": "stream",
     "text": [
      "Epoch 106/200 - Train Loss: 0.0201, Train Acc: 0.6073, Val Loss: 0.0235, Val Acc: 0.5354\n"
     ]
    },
    {
     "name": "stderr",
     "output_type": "stream",
     "text": [
      "Epoch 107/200 - Training: 100%|██████████| 101/101 [00:00<00:00, 1809.84it/s]\n",
      "Epoch 107/200 - Validation: 100%|██████████| 26/26 [00:00<00:00, 4706.80it/s]\n"
     ]
    },
    {
     "name": "stdout",
     "output_type": "stream",
     "text": [
      "Epoch 107/200 - Train Loss: 0.0204, Train Acc: 0.6048, Val Loss: 0.0233, Val Acc: 0.4994\n"
     ]
    },
    {
     "name": "stderr",
     "output_type": "stream",
     "text": [
      "Epoch 108/200 - Training: 100%|██████████| 101/101 [00:00<00:00, 1707.15it/s]\n",
      "Epoch 108/200 - Validation: 100%|██████████| 26/26 [00:00<00:00, 4540.61it/s]\n"
     ]
    },
    {
     "name": "stdout",
     "output_type": "stream",
     "text": [
      "Epoch 108/200 - Train Loss: 0.0202, Train Acc: 0.6107, Val Loss: 0.0236, Val Acc: 0.5130\n"
     ]
    },
    {
     "name": "stderr",
     "output_type": "stream",
     "text": [
      "Epoch 109/200 - Training: 100%|██████████| 101/101 [00:00<00:00, 1818.80it/s]\n",
      "Epoch 109/200 - Validation: 100%|██████████| 26/26 [00:00<00:00, 4589.53it/s]\n"
     ]
    },
    {
     "name": "stdout",
     "output_type": "stream",
     "text": [
      "Epoch 109/200 - Train Loss: 0.0203, Train Acc: 0.6070, Val Loss: 0.0234, Val Acc: 0.5056\n"
     ]
    },
    {
     "name": "stderr",
     "output_type": "stream",
     "text": [
      "Epoch 110/200 - Training: 100%|██████████| 101/101 [00:00<00:00, 1793.45it/s]\n",
      "Epoch 110/200 - Validation: 100%|██████████| 26/26 [00:00<00:00, 4345.74it/s]\n"
     ]
    },
    {
     "name": "stdout",
     "output_type": "stream",
     "text": [
      "Epoch 110/200 - Train Loss: 0.0202, Train Acc: 0.6095, Val Loss: 0.0234, Val Acc: 0.5193\n"
     ]
    },
    {
     "name": "stderr",
     "output_type": "stream",
     "text": [
      "Epoch 111/200 - Training: 100%|██████████| 101/101 [00:00<00:00, 1678.18it/s]\n",
      "Epoch 111/200 - Validation: 100%|██████████| 26/26 [00:00<00:00, 4510.56it/s]\n"
     ]
    },
    {
     "name": "stdout",
     "output_type": "stream",
     "text": [
      "Epoch 111/200 - Train Loss: 0.0202, Train Acc: 0.5993, Val Loss: 0.0235, Val Acc: 0.5106\n"
     ]
    },
    {
     "name": "stderr",
     "output_type": "stream",
     "text": [
      "Epoch 112/200 - Training: 100%|██████████| 101/101 [00:00<00:00, 1320.88it/s]\n",
      "Epoch 112/200 - Validation: 100%|██████████| 26/26 [00:00<00:00, 4411.13it/s]\n"
     ]
    },
    {
     "name": "stdout",
     "output_type": "stream",
     "text": [
      "Epoch 112/200 - Train Loss: 0.0203, Train Acc: 0.5999, Val Loss: 0.0235, Val Acc: 0.5043\n"
     ]
    },
    {
     "name": "stderr",
     "output_type": "stream",
     "text": [
      "Epoch 113/200 - Training: 100%|██████████| 101/101 [00:00<00:00, 1772.24it/s]\n",
      "Epoch 113/200 - Validation: 100%|██████████| 26/26 [00:00<00:00, 4435.35it/s]\n"
     ]
    },
    {
     "name": "stdout",
     "output_type": "stream",
     "text": [
      "Epoch 113/200 - Train Loss: 0.0204, Train Acc: 0.6033, Val Loss: 0.0235, Val Acc: 0.5118\n"
     ]
    },
    {
     "name": "stderr",
     "output_type": "stream",
     "text": [
      "Epoch 114/200 - Training: 100%|██████████| 101/101 [00:00<00:00, 1754.32it/s]\n",
      "Epoch 114/200 - Validation: 100%|██████████| 26/26 [00:00<00:00, 4547.81it/s]\n"
     ]
    },
    {
     "name": "stdout",
     "output_type": "stream",
     "text": [
      "Epoch 114/200 - Train Loss: 0.0201, Train Acc: 0.6173, Val Loss: 0.0238, Val Acc: 0.5019\n"
     ]
    },
    {
     "name": "stderr",
     "output_type": "stream",
     "text": [
      "Epoch 115/200 - Training: 100%|██████████| 101/101 [00:00<00:00, 1787.64it/s]\n",
      "Epoch 115/200 - Validation: 100%|██████████| 26/26 [00:00<00:00, 4451.46it/s]\n"
     ]
    },
    {
     "name": "stdout",
     "output_type": "stream",
     "text": [
      "Epoch 115/200 - Train Loss: 0.0202, Train Acc: 0.6036, Val Loss: 0.0237, Val Acc: 0.5031\n"
     ]
    },
    {
     "name": "stderr",
     "output_type": "stream",
     "text": [
      "Epoch 116/200 - Training: 100%|██████████| 101/101 [00:00<00:00, 1805.86it/s]\n",
      "Epoch 116/200 - Validation: 100%|██████████| 26/26 [00:00<00:00, 4622.02it/s]\n"
     ]
    },
    {
     "name": "stdout",
     "output_type": "stream",
     "text": [
      "Epoch 116/200 - Train Loss: 0.0203, Train Acc: 0.5986, Val Loss: 0.0235, Val Acc: 0.5068\n"
     ]
    },
    {
     "name": "stderr",
     "output_type": "stream",
     "text": [
      "Epoch 117/200 - Training: 100%|██████████| 101/101 [00:00<00:00, 1826.90it/s]\n",
      "Epoch 117/200 - Validation: 100%|██████████| 26/26 [00:00<00:00, 4593.40it/s]\n"
     ]
    },
    {
     "name": "stdout",
     "output_type": "stream",
     "text": [
      "Epoch 117/200 - Train Loss: 0.0202, Train Acc: 0.6095, Val Loss: 0.0235, Val Acc: 0.5130\n"
     ]
    },
    {
     "name": "stderr",
     "output_type": "stream",
     "text": [
      "Epoch 118/200 - Training: 100%|██████████| 101/101 [00:00<00:00, 1793.30it/s]\n",
      "Epoch 118/200 - Validation: 100%|██████████| 26/26 [00:00<00:00, 4468.79it/s]\n"
     ]
    },
    {
     "name": "stdout",
     "output_type": "stream",
     "text": [
      "Epoch 118/200 - Train Loss: 0.0203, Train Acc: 0.5983, Val Loss: 0.0235, Val Acc: 0.5143\n"
     ]
    },
    {
     "name": "stderr",
     "output_type": "stream",
     "text": [
      "Epoch 119/200 - Training: 100%|██████████| 101/101 [00:00<00:00, 1800.61it/s]\n",
      "Epoch 119/200 - Validation: 100%|██████████| 26/26 [00:00<00:00, 4583.94it/s]\n"
     ]
    },
    {
     "name": "stdout",
     "output_type": "stream",
     "text": [
      "Epoch 119/200 - Train Loss: 0.0199, Train Acc: 0.6207, Val Loss: 0.0235, Val Acc: 0.5180\n"
     ]
    },
    {
     "name": "stderr",
     "output_type": "stream",
     "text": [
      "Epoch 120/200 - Training: 100%|██████████| 101/101 [00:00<00:00, 1836.54it/s]\n",
      "Epoch 120/200 - Validation: 100%|██████████| 26/26 [00:00<00:00, 4719.64it/s]\n"
     ]
    },
    {
     "name": "stdout",
     "output_type": "stream",
     "text": [
      "Epoch 120/200 - Train Loss: 0.0201, Train Acc: 0.6021, Val Loss: 0.0236, Val Acc: 0.5168\n"
     ]
    },
    {
     "name": "stderr",
     "output_type": "stream",
     "text": [
      "Epoch 121/200 - Training: 100%|██████████| 101/101 [00:00<00:00, 1566.30it/s]\n",
      "Epoch 121/200 - Validation: 100%|██████████| 26/26 [00:00<00:00, 4641.10it/s]\n"
     ]
    },
    {
     "name": "stdout",
     "output_type": "stream",
     "text": [
      "Epoch 121/200 - Train Loss: 0.0203, Train Acc: 0.6101, Val Loss: 0.0235, Val Acc: 0.5130\n"
     ]
    },
    {
     "name": "stderr",
     "output_type": "stream",
     "text": [
      "Epoch 122/200 - Training: 100%|██████████| 101/101 [00:00<00:00, 1805.79it/s]\n",
      "Epoch 122/200 - Validation: 100%|██████████| 26/26 [00:00<00:00, 4480.54it/s]\n"
     ]
    },
    {
     "name": "stdout",
     "output_type": "stream",
     "text": [
      "Epoch 122/200 - Train Loss: 0.0200, Train Acc: 0.6120, Val Loss: 0.0239, Val Acc: 0.4919\n"
     ]
    },
    {
     "name": "stderr",
     "output_type": "stream",
     "text": [
      "Epoch 123/200 - Training: 100%|██████████| 101/101 [00:00<00:00, 1814.04it/s]\n",
      "Epoch 123/200 - Validation: 100%|██████████| 26/26 [00:00<00:00, 4472.64it/s]\n"
     ]
    },
    {
     "name": "stdout",
     "output_type": "stream",
     "text": [
      "Epoch 123/200 - Train Loss: 0.0202, Train Acc: 0.6024, Val Loss: 0.0235, Val Acc: 0.5106\n"
     ]
    },
    {
     "name": "stderr",
     "output_type": "stream",
     "text": [
      "Epoch 124/200 - Training: 100%|██████████| 101/101 [00:00<00:00, 1808.45it/s]\n",
      "Epoch 124/200 - Validation: 100%|██████████| 26/26 [00:00<00:00, 4595.14it/s]\n"
     ]
    },
    {
     "name": "stdout",
     "output_type": "stream",
     "text": [
      "Epoch 124/200 - Train Loss: 0.0200, Train Acc: 0.6142, Val Loss: 0.0234, Val Acc: 0.5242\n"
     ]
    },
    {
     "name": "stderr",
     "output_type": "stream",
     "text": [
      "Epoch 125/200 - Training: 100%|██████████| 101/101 [00:00<00:00, 1827.46it/s]\n",
      "Epoch 125/200 - Validation: 100%|██████████| 26/26 [00:00<00:00, 4662.13it/s]\n"
     ]
    },
    {
     "name": "stdout",
     "output_type": "stream",
     "text": [
      "Epoch 125/200 - Train Loss: 0.0202, Train Acc: 0.6132, Val Loss: 0.0235, Val Acc: 0.5143\n"
     ]
    },
    {
     "name": "stderr",
     "output_type": "stream",
     "text": [
      "Epoch 126/200 - Training: 100%|██████████| 101/101 [00:00<00:00, 1802.70it/s]\n",
      "Epoch 126/200 - Validation: 100%|██████████| 26/26 [00:00<00:00, 4642.09it/s]\n"
     ]
    },
    {
     "name": "stdout",
     "output_type": "stream",
     "text": [
      "Epoch 126/200 - Train Loss: 0.0201, Train Acc: 0.6008, Val Loss: 0.0236, Val Acc: 0.5205\n"
     ]
    },
    {
     "name": "stderr",
     "output_type": "stream",
     "text": [
      "Epoch 127/200 - Training: 100%|██████████| 101/101 [00:00<00:00, 1768.57it/s]\n",
      "Epoch 127/200 - Validation: 100%|██████████| 26/26 [00:00<00:00, 4617.13it/s]\n"
     ]
    },
    {
     "name": "stdout",
     "output_type": "stream",
     "text": [
      "Epoch 127/200 - Train Loss: 0.0201, Train Acc: 0.6135, Val Loss: 0.0235, Val Acc: 0.5230\n"
     ]
    },
    {
     "name": "stderr",
     "output_type": "stream",
     "text": [
      "Epoch 128/200 - Training: 100%|██████████| 101/101 [00:00<00:00, 1823.59it/s]\n",
      "Epoch 128/200 - Validation: 100%|██████████| 26/26 [00:00<00:00, 4672.12it/s]\n"
     ]
    },
    {
     "name": "stdout",
     "output_type": "stream",
     "text": [
      "Epoch 128/200 - Train Loss: 0.0203, Train Acc: 0.5943, Val Loss: 0.0233, Val Acc: 0.5242\n"
     ]
    },
    {
     "name": "stderr",
     "output_type": "stream",
     "text": [
      "Epoch 129/200 - Training: 100%|██████████| 101/101 [00:00<00:00, 1744.33it/s]\n",
      "Epoch 129/200 - Validation: 100%|██████████| 26/26 [00:00<00:00, 4611.66it/s]\n"
     ]
    },
    {
     "name": "stdout",
     "output_type": "stream",
     "text": [
      "Epoch 129/200 - Train Loss: 0.0201, Train Acc: 0.6011, Val Loss: 0.0236, Val Acc: 0.5168\n"
     ]
    },
    {
     "name": "stderr",
     "output_type": "stream",
     "text": [
      "Epoch 130/200 - Training: 100%|██████████| 101/101 [00:00<00:00, 1810.98it/s]\n",
      "Epoch 130/200 - Validation: 100%|██████████| 26/26 [00:00<00:00, 4526.29it/s]\n"
     ]
    },
    {
     "name": "stdout",
     "output_type": "stream",
     "text": [
      "Epoch 130/200 - Train Loss: 0.0202, Train Acc: 0.6089, Val Loss: 0.0235, Val Acc: 0.5056\n"
     ]
    },
    {
     "name": "stderr",
     "output_type": "stream",
     "text": [
      "Epoch 131/200 - Training: 100%|██████████| 101/101 [00:00<00:00, 1574.34it/s]\n",
      "Epoch 131/200 - Validation: 100%|██████████| 26/26 [00:00<00:00, 4539.10it/s]\n"
     ]
    },
    {
     "name": "stdout",
     "output_type": "stream",
     "text": [
      "Epoch 131/200 - Train Loss: 0.0200, Train Acc: 0.6129, Val Loss: 0.0236, Val Acc: 0.5118\n"
     ]
    },
    {
     "name": "stderr",
     "output_type": "stream",
     "text": [
      "Epoch 132/200 - Training: 100%|██████████| 101/101 [00:00<00:00, 1811.46it/s]\n",
      "Epoch 132/200 - Validation: 100%|██████████| 26/26 [00:00<00:00, 4433.73it/s]\n"
     ]
    },
    {
     "name": "stdout",
     "output_type": "stream",
     "text": [
      "Epoch 132/200 - Train Loss: 0.0201, Train Acc: 0.6036, Val Loss: 0.0236, Val Acc: 0.5280\n"
     ]
    },
    {
     "name": "stderr",
     "output_type": "stream",
     "text": [
      "Epoch 133/200 - Training: 100%|██████████| 101/101 [00:00<00:00, 1802.60it/s]\n",
      "Epoch 133/200 - Validation: 100%|██████████| 26/26 [00:00<00:00, 4622.21it/s]\n"
     ]
    },
    {
     "name": "stdout",
     "output_type": "stream",
     "text": [
      "Epoch 133/200 - Train Loss: 0.0201, Train Acc: 0.6027, Val Loss: 0.0235, Val Acc: 0.5354\n"
     ]
    },
    {
     "name": "stderr",
     "output_type": "stream",
     "text": [
      "Epoch 134/200 - Training: 100%|██████████| 101/101 [00:00<00:00, 1748.95it/s]\n",
      "Epoch 134/200 - Validation: 100%|██████████| 26/26 [00:00<00:00, 4566.28it/s]\n"
     ]
    },
    {
     "name": "stdout",
     "output_type": "stream",
     "text": [
      "Epoch 134/200 - Train Loss: 0.0201, Train Acc: 0.5989, Val Loss: 0.0236, Val Acc: 0.5168\n"
     ]
    },
    {
     "name": "stderr",
     "output_type": "stream",
     "text": [
      "Epoch 135/200 - Training: 100%|██████████| 101/101 [00:00<00:00, 1817.43it/s]\n",
      "Epoch 135/200 - Validation: 100%|██████████| 26/26 [00:00<00:00, 4675.32it/s]\n"
     ]
    },
    {
     "name": "stdout",
     "output_type": "stream",
     "text": [
      "Epoch 135/200 - Train Loss: 0.0199, Train Acc: 0.6222, Val Loss: 0.0237, Val Acc: 0.5292\n"
     ]
    },
    {
     "name": "stderr",
     "output_type": "stream",
     "text": [
      "Epoch 136/200 - Training: 100%|██████████| 101/101 [00:00<00:00, 1833.37it/s]\n",
      "Epoch 136/200 - Validation: 100%|██████████| 26/26 [00:00<00:00, 4797.92it/s]\n"
     ]
    },
    {
     "name": "stdout",
     "output_type": "stream",
     "text": [
      "Epoch 136/200 - Train Loss: 0.0200, Train Acc: 0.6157, Val Loss: 0.0237, Val Acc: 0.5155\n"
     ]
    },
    {
     "name": "stderr",
     "output_type": "stream",
     "text": [
      "Epoch 137/200 - Training: 100%|██████████| 101/101 [00:00<00:00, 1827.36it/s]\n",
      "Epoch 137/200 - Validation: 100%|██████████| 26/26 [00:00<00:00, 4570.11it/s]\n"
     ]
    },
    {
     "name": "stdout",
     "output_type": "stream",
     "text": [
      "Epoch 137/200 - Train Loss: 0.0200, Train Acc: 0.6089, Val Loss: 0.0237, Val Acc: 0.5205\n"
     ]
    },
    {
     "name": "stderr",
     "output_type": "stream",
     "text": [
      "Epoch 138/200 - Training: 100%|██████████| 101/101 [00:00<00:00, 1793.55it/s]\n",
      "Epoch 138/200 - Validation: 100%|██████████| 26/26 [00:00<00:00, 4477.97it/s]\n"
     ]
    },
    {
     "name": "stdout",
     "output_type": "stream",
     "text": [
      "Epoch 138/200 - Train Loss: 0.0199, Train Acc: 0.6194, Val Loss: 0.0239, Val Acc: 0.5118\n"
     ]
    },
    {
     "name": "stderr",
     "output_type": "stream",
     "text": [
      "Epoch 139/200 - Training: 100%|██████████| 101/101 [00:00<00:00, 1752.56it/s]\n",
      "Epoch 139/200 - Validation: 100%|██████████| 26/26 [00:00<00:00, 4503.67it/s]\n"
     ]
    },
    {
     "name": "stdout",
     "output_type": "stream",
     "text": [
      "Epoch 139/200 - Train Loss: 0.0199, Train Acc: 0.6213, Val Loss: 0.0237, Val Acc: 0.5019\n"
     ]
    },
    {
     "name": "stderr",
     "output_type": "stream",
     "text": [
      "Epoch 140/200 - Training: 100%|██████████| 101/101 [00:00<00:00, 1451.67it/s]\n",
      "Epoch 140/200 - Validation: 100%|██████████| 26/26 [00:00<00:00, 4554.27it/s]\n"
     ]
    },
    {
     "name": "stdout",
     "output_type": "stream",
     "text": [
      "Epoch 140/200 - Train Loss: 0.0201, Train Acc: 0.6033, Val Loss: 0.0235, Val Acc: 0.5180\n"
     ]
    },
    {
     "name": "stderr",
     "output_type": "stream",
     "text": [
      "Epoch 141/200 - Training: 100%|██████████| 101/101 [00:00<00:00, 1814.04it/s]\n",
      "Epoch 141/200 - Validation: 100%|██████████| 26/26 [00:00<00:00, 4594.37it/s]\n"
     ]
    },
    {
     "name": "stdout",
     "output_type": "stream",
     "text": [
      "Epoch 141/200 - Train Loss: 0.0198, Train Acc: 0.6080, Val Loss: 0.0237, Val Acc: 0.5106\n"
     ]
    },
    {
     "name": "stderr",
     "output_type": "stream",
     "text": [
      "Epoch 142/200 - Training: 100%|██████████| 101/101 [00:00<00:00, 1820.67it/s]\n",
      "Epoch 142/200 - Validation: 100%|██████████| 26/26 [00:00<00:00, 4479.62it/s]\n"
     ]
    },
    {
     "name": "stdout",
     "output_type": "stream",
     "text": [
      "Epoch 142/200 - Train Loss: 0.0199, Train Acc: 0.6151, Val Loss: 0.0238, Val Acc: 0.5292\n"
     ]
    },
    {
     "name": "stderr",
     "output_type": "stream",
     "text": [
      "Epoch 143/200 - Training: 100%|██████████| 101/101 [00:00<00:00, 1829.04it/s]\n",
      "Epoch 143/200 - Validation: 100%|██████████| 26/26 [00:00<00:00, 4611.66it/s]\n"
     ]
    },
    {
     "name": "stdout",
     "output_type": "stream",
     "text": [
      "Epoch 143/200 - Train Loss: 0.0200, Train Acc: 0.6182, Val Loss: 0.0238, Val Acc: 0.5292\n"
     ]
    },
    {
     "name": "stderr",
     "output_type": "stream",
     "text": [
      "Epoch 144/200 - Training: 100%|██████████| 101/101 [00:00<00:00, 1810.32it/s]\n",
      "Epoch 144/200 - Validation: 100%|██████████| 26/26 [00:00<00:00, 4641.30it/s]\n"
     ]
    },
    {
     "name": "stdout",
     "output_type": "stream",
     "text": [
      "Epoch 144/200 - Train Loss: 0.0198, Train Acc: 0.6111, Val Loss: 0.0238, Val Acc: 0.5304\n"
     ]
    },
    {
     "name": "stderr",
     "output_type": "stream",
     "text": [
      "Epoch 145/200 - Training: 100%|██████████| 101/101 [00:00<00:00, 1791.80it/s]\n",
      "Epoch 145/200 - Validation: 100%|██████████| 26/26 [00:00<00:00, 4582.40it/s]\n"
     ]
    },
    {
     "name": "stdout",
     "output_type": "stream",
     "text": [
      "Epoch 145/200 - Train Loss: 0.0199, Train Acc: 0.6135, Val Loss: 0.0239, Val Acc: 0.5143\n"
     ]
    },
    {
     "name": "stderr",
     "output_type": "stream",
     "text": [
      "Epoch 146/200 - Training: 100%|██████████| 101/101 [00:00<00:00, 1812.59it/s]\n",
      "Epoch 146/200 - Validation: 100%|██████████| 26/26 [00:00<00:00, 4616.54it/s]\n"
     ]
    },
    {
     "name": "stdout",
     "output_type": "stream",
     "text": [
      "Epoch 146/200 - Train Loss: 0.0200, Train Acc: 0.6107, Val Loss: 0.0239, Val Acc: 0.5342\n"
     ]
    },
    {
     "name": "stderr",
     "output_type": "stream",
     "text": [
      "Epoch 147/200 - Training: 100%|██████████| 101/101 [00:00<00:00, 1801.19it/s]\n",
      "Epoch 147/200 - Validation: 100%|██████████| 26/26 [00:00<00:00, 4626.33it/s]\n"
     ]
    },
    {
     "name": "stdout",
     "output_type": "stream",
     "text": [
      "Epoch 147/200 - Train Loss: 0.0198, Train Acc: 0.6263, Val Loss: 0.0240, Val Acc: 0.5255\n"
     ]
    },
    {
     "name": "stderr",
     "output_type": "stream",
     "text": [
      "Epoch 148/200 - Training: 100%|██████████| 101/101 [00:00<00:00, 1803.44it/s]\n",
      "Epoch 148/200 - Validation: 100%|██████████| 26/26 [00:00<00:00, 4477.41it/s]\n"
     ]
    },
    {
     "name": "stdout",
     "output_type": "stream",
     "text": [
      "Epoch 148/200 - Train Loss: 0.0199, Train Acc: 0.6120, Val Loss: 0.0238, Val Acc: 0.5180\n"
     ]
    },
    {
     "name": "stderr",
     "output_type": "stream",
     "text": [
      "Epoch 149/200 - Training: 100%|██████████| 101/101 [00:00<00:00, 1710.79it/s]\n",
      "Epoch 149/200 - Validation: 100%|██████████| 26/26 [00:00<00:00, 4662.93it/s]\n"
     ]
    },
    {
     "name": "stdout",
     "output_type": "stream",
     "text": [
      "Epoch 149/200 - Train Loss: 0.0200, Train Acc: 0.5986, Val Loss: 0.0237, Val Acc: 0.5193\n"
     ]
    },
    {
     "name": "stderr",
     "output_type": "stream",
     "text": [
      "Epoch 150/200 - Training: 100%|██████████| 101/101 [00:00<00:00, 1835.46it/s]\n",
      "Epoch 150/200 - Validation: 100%|██████████| 26/26 [00:00<00:00, 4623.78it/s]\n"
     ]
    },
    {
     "name": "stdout",
     "output_type": "stream",
     "text": [
      "Epoch 150/200 - Train Loss: 0.0198, Train Acc: 0.6160, Val Loss: 0.0238, Val Acc: 0.5205\n"
     ]
    },
    {
     "name": "stderr",
     "output_type": "stream",
     "text": [
      "Epoch 151/200 - Training: 100%|██████████| 101/101 [00:00<00:00, 1837.90it/s]\n",
      "Epoch 151/200 - Validation: 100%|██████████| 26/26 [00:00<00:00, 4622.41it/s]\n"
     ]
    },
    {
     "name": "stdout",
     "output_type": "stream",
     "text": [
      "Epoch 151/200 - Train Loss: 0.0200, Train Acc: 0.6076, Val Loss: 0.0238, Val Acc: 0.5217\n"
     ]
    },
    {
     "name": "stderr",
     "output_type": "stream",
     "text": [
      "Epoch 152/200 - Training: 100%|██████████| 101/101 [00:00<00:00, 1819.23it/s]\n",
      "Epoch 152/200 - Validation: 100%|██████████| 26/26 [00:00<00:00, 4562.08it/s]\n"
     ]
    },
    {
     "name": "stdout",
     "output_type": "stream",
     "text": [
      "Epoch 152/200 - Train Loss: 0.0198, Train Acc: 0.6114, Val Loss: 0.0238, Val Acc: 0.5093\n"
     ]
    },
    {
     "name": "stderr",
     "output_type": "stream",
     "text": [
      "Epoch 153/200 - Training: 100%|██████████| 101/101 [00:00<00:00, 1835.10it/s]\n",
      "Epoch 153/200 - Validation: 100%|██████████| 26/26 [00:00<00:00, 4708.22it/s]\n"
     ]
    },
    {
     "name": "stdout",
     "output_type": "stream",
     "text": [
      "Epoch 153/200 - Train Loss: 0.0199, Train Acc: 0.6182, Val Loss: 0.0236, Val Acc: 0.5081\n"
     ]
    },
    {
     "name": "stderr",
     "output_type": "stream",
     "text": [
      "Epoch 154/200 - Training: 100%|██████████| 101/101 [00:00<00:00, 1768.02it/s]\n",
      "Epoch 154/200 - Validation: 100%|██████████| 26/26 [00:00<00:00, 4329.00it/s]\n"
     ]
    },
    {
     "name": "stdout",
     "output_type": "stream",
     "text": [
      "Epoch 154/200 - Train Loss: 0.0199, Train Acc: 0.6123, Val Loss: 0.0239, Val Acc: 0.5056\n"
     ]
    },
    {
     "name": "stderr",
     "output_type": "stream",
     "text": [
      "Epoch 155/200 - Training: 100%|██████████| 101/101 [00:00<00:00, 1747.50it/s]\n",
      "Epoch 155/200 - Validation: 100%|██████████| 26/26 [00:00<00:00, 4362.60it/s]\n"
     ]
    },
    {
     "name": "stdout",
     "output_type": "stream",
     "text": [
      "Epoch 155/200 - Train Loss: 0.0200, Train Acc: 0.6142, Val Loss: 0.0239, Val Acc: 0.5130\n"
     ]
    },
    {
     "name": "stderr",
     "output_type": "stream",
     "text": [
      "Epoch 156/200 - Training: 100%|██████████| 101/101 [00:00<00:00, 1807.47it/s]\n",
      "Epoch 156/200 - Validation: 100%|██████████| 26/26 [00:00<00:00, 4617.32it/s]\n"
     ]
    },
    {
     "name": "stdout",
     "output_type": "stream",
     "text": [
      "Epoch 156/200 - Train Loss: 0.0197, Train Acc: 0.6253, Val Loss: 0.0240, Val Acc: 0.5130\n"
     ]
    },
    {
     "name": "stderr",
     "output_type": "stream",
     "text": [
      "Epoch 157/200 - Training: 100%|██████████| 101/101 [00:00<00:00, 1792.79it/s]\n",
      "Epoch 157/200 - Validation: 100%|██████████| 26/26 [00:00<00:00, 4673.52it/s]\n"
     ]
    },
    {
     "name": "stdout",
     "output_type": "stream",
     "text": [
      "Epoch 157/200 - Train Loss: 0.0199, Train Acc: 0.6120, Val Loss: 0.0239, Val Acc: 0.5143\n"
     ]
    },
    {
     "name": "stderr",
     "output_type": "stream",
     "text": [
      "Epoch 158/200 - Training: 100%|██████████| 101/101 [00:00<00:00, 1432.42it/s]\n",
      "Epoch 158/200 - Validation: 100%|██████████| 26/26 [00:00<00:00, 4442.21it/s]\n"
     ]
    },
    {
     "name": "stdout",
     "output_type": "stream",
     "text": [
      "Epoch 158/200 - Train Loss: 0.0197, Train Acc: 0.6241, Val Loss: 0.0241, Val Acc: 0.5130\n"
     ]
    },
    {
     "name": "stderr",
     "output_type": "stream",
     "text": [
      "Epoch 159/200 - Training: 100%|██████████| 101/101 [00:00<00:00, 1796.38it/s]\n",
      "Epoch 159/200 - Validation: 100%|██████████| 26/26 [00:00<00:00, 4512.99it/s]\n"
     ]
    },
    {
     "name": "stdout",
     "output_type": "stream",
     "text": [
      "Epoch 159/200 - Train Loss: 0.0197, Train Acc: 0.6210, Val Loss: 0.0241, Val Acc: 0.5205\n"
     ]
    },
    {
     "name": "stderr",
     "output_type": "stream",
     "text": [
      "Epoch 160/200 - Training: 100%|██████████| 101/101 [00:00<00:00, 1664.41it/s]\n",
      "Epoch 160/200 - Validation: 100%|██████████| 26/26 [00:00<00:00, 4171.20it/s]\n"
     ]
    },
    {
     "name": "stdout",
     "output_type": "stream",
     "text": [
      "Epoch 160/200 - Train Loss: 0.0198, Train Acc: 0.6185, Val Loss: 0.0241, Val Acc: 0.5280\n"
     ]
    },
    {
     "name": "stderr",
     "output_type": "stream",
     "text": [
      "Epoch 161/200 - Training: 100%|██████████| 101/101 [00:00<00:00, 1791.76it/s]\n",
      "Epoch 161/200 - Validation: 100%|██████████| 26/26 [00:00<00:00, 4623.78it/s]\n"
     ]
    },
    {
     "name": "stdout",
     "output_type": "stream",
     "text": [
      "Epoch 161/200 - Train Loss: 0.0199, Train Acc: 0.6139, Val Loss: 0.0240, Val Acc: 0.5180\n"
     ]
    },
    {
     "name": "stderr",
     "output_type": "stream",
     "text": [
      "Epoch 162/200 - Training: 100%|██████████| 101/101 [00:00<00:00, 1864.16it/s]\n",
      "Epoch 162/200 - Validation: 100%|██████████| 26/26 [00:00<00:00, 4746.96it/s]\n"
     ]
    },
    {
     "name": "stdout",
     "output_type": "stream",
     "text": [
      "Epoch 162/200 - Train Loss: 0.0198, Train Acc: 0.6170, Val Loss: 0.0237, Val Acc: 0.5292\n"
     ]
    },
    {
     "name": "stderr",
     "output_type": "stream",
     "text": [
      "Epoch 163/200 - Training: 100%|██████████| 101/101 [00:00<00:00, 1881.42it/s]\n",
      "Epoch 163/200 - Validation: 100%|██████████| 26/26 [00:00<00:00, 4581.44it/s]\n"
     ]
    },
    {
     "name": "stdout",
     "output_type": "stream",
     "text": [
      "Epoch 163/200 - Train Loss: 0.0196, Train Acc: 0.6194, Val Loss: 0.0240, Val Acc: 0.5255\n"
     ]
    },
    {
     "name": "stderr",
     "output_type": "stream",
     "text": [
      "Epoch 164/200 - Training: 100%|██████████| 101/101 [00:00<00:00, 1866.43it/s]\n",
      "Epoch 164/200 - Validation: 100%|██████████| 26/26 [00:00<00:00, 4585.48it/s]\n"
     ]
    },
    {
     "name": "stdout",
     "output_type": "stream",
     "text": [
      "Epoch 164/200 - Train Loss: 0.0198, Train Acc: 0.6194, Val Loss: 0.0240, Val Acc: 0.5230\n"
     ]
    },
    {
     "name": "stderr",
     "output_type": "stream",
     "text": [
      "Epoch 165/200 - Training: 100%|██████████| 101/101 [00:00<00:00, 1859.67it/s]\n",
      "Epoch 165/200 - Validation: 100%|██████████| 26/26 [00:00<00:00, 4539.86it/s]\n"
     ]
    },
    {
     "name": "stdout",
     "output_type": "stream",
     "text": [
      "Epoch 165/200 - Train Loss: 0.0197, Train Acc: 0.6176, Val Loss: 0.0241, Val Acc: 0.5143\n"
     ]
    },
    {
     "name": "stderr",
     "output_type": "stream",
     "text": [
      "Epoch 166/200 - Training: 100%|██████████| 101/101 [00:00<00:00, 1892.44it/s]\n",
      "Epoch 166/200 - Validation: 100%|██████████| 26/26 [00:00<00:00, 4724.75it/s]\n"
     ]
    },
    {
     "name": "stdout",
     "output_type": "stream",
     "text": [
      "Epoch 166/200 - Train Loss: 0.0197, Train Acc: 0.6179, Val Loss: 0.0240, Val Acc: 0.5068\n"
     ]
    },
    {
     "name": "stderr",
     "output_type": "stream",
     "text": [
      "Epoch 167/200 - Training: 100%|██████████| 101/101 [00:00<00:00, 1706.66it/s]\n",
      "Epoch 167/200 - Validation: 100%|██████████| 26/26 [00:00<00:00, 2318.92it/s]\n"
     ]
    },
    {
     "name": "stdout",
     "output_type": "stream",
     "text": [
      "Epoch 167/200 - Train Loss: 0.0195, Train Acc: 0.6263, Val Loss: 0.0241, Val Acc: 0.5130\n"
     ]
    },
    {
     "name": "stderr",
     "output_type": "stream",
     "text": [
      "Epoch 168/200 - Training: 100%|██████████| 101/101 [00:00<00:00, 1773.79it/s]\n",
      "Epoch 168/200 - Validation: 100%|██████████| 26/26 [00:00<00:00, 4512.24it/s]\n"
     ]
    },
    {
     "name": "stdout",
     "output_type": "stream",
     "text": [
      "Epoch 168/200 - Train Loss: 0.0197, Train Acc: 0.6278, Val Loss: 0.0242, Val Acc: 0.5168\n"
     ]
    },
    {
     "name": "stderr",
     "output_type": "stream",
     "text": [
      "Epoch 169/200 - Training: 100%|██████████| 101/101 [00:00<00:00, 1891.70it/s]\n",
      "Epoch 169/200 - Validation: 100%|██████████| 26/26 [00:00<00:00, 4586.25it/s]\n"
     ]
    },
    {
     "name": "stdout",
     "output_type": "stream",
     "text": [
      "Epoch 169/200 - Train Loss: 0.0198, Train Acc: 0.6201, Val Loss: 0.0242, Val Acc: 0.5118\n"
     ]
    },
    {
     "name": "stderr",
     "output_type": "stream",
     "text": [
      "Epoch 170/200 - Training: 100%|██████████| 101/101 [00:00<00:00, 1881.30it/s]\n",
      "Epoch 170/200 - Validation: 100%|██████████| 26/26 [00:00<00:00, 4740.15it/s]\n"
     ]
    },
    {
     "name": "stdout",
     "output_type": "stream",
     "text": [
      "Epoch 170/200 - Train Loss: 0.0197, Train Acc: 0.6232, Val Loss: 0.0243, Val Acc: 0.5230\n"
     ]
    },
    {
     "name": "stderr",
     "output_type": "stream",
     "text": [
      "Epoch 171/200 - Training: 100%|██████████| 101/101 [00:00<00:00, 1889.79it/s]\n",
      "Epoch 171/200 - Validation: 100%|██████████| 26/26 [00:00<00:00, 4563.80it/s]\n"
     ]
    },
    {
     "name": "stdout",
     "output_type": "stream",
     "text": [
      "Epoch 171/200 - Train Loss: 0.0198, Train Acc: 0.6092, Val Loss: 0.0242, Val Acc: 0.5081\n"
     ]
    },
    {
     "name": "stderr",
     "output_type": "stream",
     "text": [
      "Epoch 172/200 - Training: 100%|██████████| 101/101 [00:00<00:00, 1892.70it/s]\n",
      "Epoch 172/200 - Validation: 100%|██████████| 26/26 [00:00<00:00, 4736.86it/s]\n"
     ]
    },
    {
     "name": "stdout",
     "output_type": "stream",
     "text": [
      "Epoch 172/200 - Train Loss: 0.0196, Train Acc: 0.6278, Val Loss: 0.0244, Val Acc: 0.5106\n"
     ]
    },
    {
     "name": "stderr",
     "output_type": "stream",
     "text": [
      "Epoch 173/200 - Training: 100%|██████████| 101/101 [00:00<00:00, 1530.60it/s]\n",
      "Epoch 173/200 - Validation: 100%|██████████| 26/26 [00:00<00:00, 4037.31it/s]\n"
     ]
    },
    {
     "name": "stdout",
     "output_type": "stream",
     "text": [
      "Epoch 173/200 - Train Loss: 0.0196, Train Acc: 0.6222, Val Loss: 0.0244, Val Acc: 0.5106\n"
     ]
    },
    {
     "name": "stderr",
     "output_type": "stream",
     "text": [
      "Epoch 174/200 - Training: 100%|██████████| 101/101 [00:00<00:00, 1707.10it/s]\n",
      "Epoch 174/200 - Validation: 100%|██████████| 26/26 [00:00<00:00, 4467.33it/s]\n"
     ]
    },
    {
     "name": "stdout",
     "output_type": "stream",
     "text": [
      "Epoch 174/200 - Train Loss: 0.0197, Train Acc: 0.6176, Val Loss: 0.0243, Val Acc: 0.5180\n"
     ]
    },
    {
     "name": "stderr",
     "output_type": "stream",
     "text": [
      "Epoch 175/200 - Training: 100%|██████████| 101/101 [00:00<00:00, 1810.66it/s]\n",
      "Epoch 175/200 - Validation: 100%|██████████| 26/26 [00:00<00:00, 4699.30it/s]\n"
     ]
    },
    {
     "name": "stdout",
     "output_type": "stream",
     "text": [
      "Epoch 175/200 - Train Loss: 0.0198, Train Acc: 0.6191, Val Loss: 0.0241, Val Acc: 0.5242\n"
     ]
    },
    {
     "name": "stderr",
     "output_type": "stream",
     "text": [
      "Epoch 176/200 - Training: 100%|██████████| 101/101 [00:00<00:00, 1801.70it/s]\n",
      "Epoch 176/200 - Validation: 100%|██████████| 26/26 [00:00<00:00, 4722.91it/s]\n"
     ]
    },
    {
     "name": "stdout",
     "output_type": "stream",
     "text": [
      "Epoch 176/200 - Train Loss: 0.0196, Train Acc: 0.6176, Val Loss: 0.0242, Val Acc: 0.5292\n"
     ]
    },
    {
     "name": "stderr",
     "output_type": "stream",
     "text": [
      "Epoch 177/200 - Training: 100%|██████████| 101/101 [00:00<00:00, 1776.89it/s]\n",
      "Epoch 177/200 - Validation: 100%|██████████| 26/26 [00:00<00:00, 4734.18it/s]\n"
     ]
    },
    {
     "name": "stdout",
     "output_type": "stream",
     "text": [
      "Epoch 177/200 - Train Loss: 0.0196, Train Acc: 0.6362, Val Loss: 0.0241, Val Acc: 0.5267\n"
     ]
    },
    {
     "name": "stderr",
     "output_type": "stream",
     "text": [
      "Epoch 178/200 - Training: 100%|██████████| 101/101 [00:00<00:00, 1766.81it/s]\n",
      "Epoch 178/200 - Validation: 100%|██████████| 26/26 [00:00<00:00, 4432.28it/s]\n"
     ]
    },
    {
     "name": "stdout",
     "output_type": "stream",
     "text": [
      "Epoch 178/200 - Train Loss: 0.0196, Train Acc: 0.6204, Val Loss: 0.0241, Val Acc: 0.5317\n"
     ]
    },
    {
     "name": "stderr",
     "output_type": "stream",
     "text": [
      "Epoch 179/200 - Training: 100%|██████████| 101/101 [00:00<00:00, 1810.10it/s]\n",
      "Epoch 179/200 - Validation: 100%|██████████| 26/26 [00:00<00:00, 4554.08it/s]\n"
     ]
    },
    {
     "name": "stdout",
     "output_type": "stream",
     "text": [
      "Epoch 179/200 - Train Loss: 0.0197, Train Acc: 0.6191, Val Loss: 0.0240, Val Acc: 0.5106\n"
     ]
    },
    {
     "name": "stderr",
     "output_type": "stream",
     "text": [
      "Epoch 180/200 - Training: 100%|██████████| 101/101 [00:00<00:00, 1792.21it/s]\n",
      "Epoch 180/200 - Validation: 100%|██████████| 26/26 [00:00<00:00, 4497.54it/s]\n"
     ]
    },
    {
     "name": "stdout",
     "output_type": "stream",
     "text": [
      "Epoch 180/200 - Train Loss: 0.0199, Train Acc: 0.6073, Val Loss: 0.0239, Val Acc: 0.5106\n"
     ]
    },
    {
     "name": "stderr",
     "output_type": "stream",
     "text": [
      "Epoch 181/200 - Training: 100%|██████████| 101/101 [00:00<00:00, 1804.57it/s]\n",
      "Epoch 181/200 - Validation: 100%|██████████| 26/26 [00:00<00:00, 4426.35it/s]\n"
     ]
    },
    {
     "name": "stdout",
     "output_type": "stream",
     "text": [
      "Epoch 181/200 - Train Loss: 0.0195, Train Acc: 0.6356, Val Loss: 0.0241, Val Acc: 0.5255\n"
     ]
    },
    {
     "name": "stderr",
     "output_type": "stream",
     "text": [
      "Epoch 182/200 - Training: 100%|██████████| 101/101 [00:00<00:00, 1801.70it/s]\n",
      "Epoch 182/200 - Validation: 100%|██████████| 26/26 [00:00<00:00, 4524.04it/s]\n"
     ]
    },
    {
     "name": "stdout",
     "output_type": "stream",
     "text": [
      "Epoch 182/200 - Train Loss: 0.0195, Train Acc: 0.6201, Val Loss: 0.0242, Val Acc: 0.5230\n"
     ]
    },
    {
     "name": "stderr",
     "output_type": "stream",
     "text": [
      "Epoch 183/200 - Training: 100%|██████████| 101/101 [00:00<00:00, 1814.11it/s]\n",
      "Epoch 183/200 - Validation: 100%|██████████| 26/26 [00:00<00:00, 4657.95it/s]\n"
     ]
    },
    {
     "name": "stdout",
     "output_type": "stream",
     "text": [
      "Epoch 183/200 - Train Loss: 0.0196, Train Acc: 0.6253, Val Loss: 0.0241, Val Acc: 0.5143\n"
     ]
    },
    {
     "name": "stderr",
     "output_type": "stream",
     "text": [
      "Epoch 184/200 - Training: 100%|██████████| 101/101 [00:00<00:00, 1803.67it/s]\n",
      "Epoch 184/200 - Validation: 100%|██████████| 26/26 [00:00<00:00, 4678.73it/s]\n"
     ]
    },
    {
     "name": "stdout",
     "output_type": "stream",
     "text": [
      "Epoch 184/200 - Train Loss: 0.0195, Train Acc: 0.6229, Val Loss: 0.0242, Val Acc: 0.5217\n"
     ]
    },
    {
     "name": "stderr",
     "output_type": "stream",
     "text": [
      "Epoch 185/200 - Training: 100%|██████████| 101/101 [00:00<00:00, 1737.51it/s]\n",
      "Epoch 185/200 - Validation: 100%|██████████| 26/26 [00:00<00:00, 4583.94it/s]\n"
     ]
    },
    {
     "name": "stdout",
     "output_type": "stream",
     "text": [
      "Epoch 185/200 - Train Loss: 0.0197, Train Acc: 0.6272, Val Loss: 0.0241, Val Acc: 0.5180\n"
     ]
    },
    {
     "name": "stderr",
     "output_type": "stream",
     "text": [
      "Epoch 186/200 - Training: 100%|██████████| 101/101 [00:00<00:00, 1804.56it/s]\n",
      "Epoch 186/200 - Validation: 100%|██████████| 26/26 [00:00<00:00, 4606.59it/s]\n"
     ]
    },
    {
     "name": "stdout",
     "output_type": "stream",
     "text": [
      "Epoch 186/200 - Train Loss: 0.0194, Train Acc: 0.6294, Val Loss: 0.0244, Val Acc: 0.5255\n"
     ]
    },
    {
     "name": "stderr",
     "output_type": "stream",
     "text": [
      "Epoch 187/200 - Training: 100%|██████████| 101/101 [00:00<00:00, 1811.39it/s]\n",
      "Epoch 187/200 - Validation: 100%|██████████| 26/26 [00:00<00:00, 4620.45it/s]\n"
     ]
    },
    {
     "name": "stdout",
     "output_type": "stream",
     "text": [
      "Epoch 187/200 - Train Loss: 0.0198, Train Acc: 0.6285, Val Loss: 0.0241, Val Acc: 0.5242\n"
     ]
    },
    {
     "name": "stderr",
     "output_type": "stream",
     "text": [
      "Epoch 188/200 - Training: 100%|██████████| 101/101 [00:00<00:00, 1810.75it/s]\n",
      "Epoch 188/200 - Validation: 100%|██████████| 26/26 [00:00<00:00, 4632.03it/s]\n"
     ]
    },
    {
     "name": "stdout",
     "output_type": "stream",
     "text": [
      "Epoch 188/200 - Train Loss: 0.0193, Train Acc: 0.6313, Val Loss: 0.0242, Val Acc: 0.5342\n"
     ]
    },
    {
     "name": "stderr",
     "output_type": "stream",
     "text": [
      "Epoch 189/200 - Training: 100%|██████████| 101/101 [00:00<00:00, 1807.48it/s]\n",
      "Epoch 189/200 - Validation: 100%|██████████| 26/26 [00:00<00:00, 4562.46it/s]\n"
     ]
    },
    {
     "name": "stdout",
     "output_type": "stream",
     "text": [
      "Epoch 189/200 - Train Loss: 0.0194, Train Acc: 0.6443, Val Loss: 0.0244, Val Acc: 0.5255\n"
     ]
    },
    {
     "name": "stderr",
     "output_type": "stream",
     "text": [
      "Epoch 190/200 - Training: 100%|██████████| 101/101 [00:00<00:00, 1852.30it/s]\n",
      "Epoch 190/200 - Validation: 100%|██████████| 26/26 [00:00<00:00, 4543.07it/s]\n"
     ]
    },
    {
     "name": "stdout",
     "output_type": "stream",
     "text": [
      "Epoch 190/200 - Train Loss: 0.0198, Train Acc: 0.6219, Val Loss: 0.0241, Val Acc: 0.5056\n"
     ]
    },
    {
     "name": "stderr",
     "output_type": "stream",
     "text": [
      "Epoch 191/200 - Training: 100%|██████████| 101/101 [00:00<00:00, 1799.71it/s]\n",
      "Epoch 191/200 - Validation: 100%|██████████| 26/26 [00:00<00:00, 4533.63it/s]\n"
     ]
    },
    {
     "name": "stdout",
     "output_type": "stream",
     "text": [
      "Epoch 191/200 - Train Loss: 0.0196, Train Acc: 0.6232, Val Loss: 0.0243, Val Acc: 0.5267\n"
     ]
    },
    {
     "name": "stderr",
     "output_type": "stream",
     "text": [
      "Epoch 192/200 - Training: 100%|██████████| 101/101 [00:00<00:00, 1704.96it/s]\n",
      "Epoch 192/200 - Validation: 100%|██████████| 26/26 [00:00<00:00, 4155.15it/s]\n"
     ]
    },
    {
     "name": "stdout",
     "output_type": "stream",
     "text": [
      "Epoch 192/200 - Train Loss: 0.0195, Train Acc: 0.6257, Val Loss: 0.0243, Val Acc: 0.5056\n"
     ]
    },
    {
     "name": "stderr",
     "output_type": "stream",
     "text": [
      "Epoch 193/200 - Training: 100%|██████████| 101/101 [00:00<00:00, 1646.67it/s]\n",
      "Epoch 193/200 - Validation: 100%|██████████| 26/26 [00:00<00:00, 4526.48it/s]\n"
     ]
    },
    {
     "name": "stdout",
     "output_type": "stream",
     "text": [
      "Epoch 193/200 - Train Loss: 0.0195, Train Acc: 0.6309, Val Loss: 0.0243, Val Acc: 0.5267\n"
     ]
    },
    {
     "name": "stderr",
     "output_type": "stream",
     "text": [
      "Epoch 194/200 - Training: 100%|██████████| 101/101 [00:00<00:00, 1749.52it/s]\n",
      "Epoch 194/200 - Validation: 100%|██████████| 26/26 [00:00<00:00, 4416.67it/s]\n"
     ]
    },
    {
     "name": "stdout",
     "output_type": "stream",
     "text": [
      "Epoch 194/200 - Train Loss: 0.0198, Train Acc: 0.6210, Val Loss: 0.0240, Val Acc: 0.5255\n"
     ]
    },
    {
     "name": "stderr",
     "output_type": "stream",
     "text": [
      "Epoch 195/200 - Training: 100%|██████████| 101/101 [00:00<00:00, 1398.85it/s]\n",
      "Epoch 195/200 - Validation: 100%|██████████| 26/26 [00:00<00:00, 4596.69it/s]\n"
     ]
    },
    {
     "name": "stdout",
     "output_type": "stream",
     "text": [
      "Epoch 195/200 - Train Loss: 0.0195, Train Acc: 0.6263, Val Loss: 0.0243, Val Acc: 0.5255\n"
     ]
    },
    {
     "name": "stderr",
     "output_type": "stream",
     "text": [
      "Epoch 196/200 - Training: 100%|██████████| 101/101 [00:00<00:00, 1788.31it/s]\n",
      "Epoch 196/200 - Validation: 100%|██████████| 26/26 [00:00<00:00, 4593.79it/s]\n"
     ]
    },
    {
     "name": "stdout",
     "output_type": "stream",
     "text": [
      "Epoch 196/200 - Train Loss: 0.0197, Train Acc: 0.6244, Val Loss: 0.0244, Val Acc: 0.5230\n"
     ]
    },
    {
     "name": "stderr",
     "output_type": "stream",
     "text": [
      "Epoch 197/200 - Training: 100%|██████████| 101/101 [00:00<00:00, 1818.87it/s]\n",
      "Epoch 197/200 - Validation: 100%|██████████| 26/26 [00:00<00:00, 4709.44it/s]\n"
     ]
    },
    {
     "name": "stdout",
     "output_type": "stream",
     "text": [
      "Epoch 197/200 - Train Loss: 0.0193, Train Acc: 0.6406, Val Loss: 0.0245, Val Acc: 0.5168\n"
     ]
    },
    {
     "name": "stderr",
     "output_type": "stream",
     "text": [
      "Epoch 198/200 - Training: 100%|██████████| 101/101 [00:00<00:00, 1805.02it/s]\n",
      "Epoch 198/200 - Validation: 100%|██████████| 26/26 [00:00<00:00, 4648.62it/s]\n"
     ]
    },
    {
     "name": "stdout",
     "output_type": "stream",
     "text": [
      "Epoch 198/200 - Train Loss: 0.0194, Train Acc: 0.6222, Val Loss: 0.0246, Val Acc: 0.5205\n"
     ]
    },
    {
     "name": "stderr",
     "output_type": "stream",
     "text": [
      "Epoch 199/200 - Training: 100%|██████████| 101/101 [00:00<00:00, 1764.90it/s]\n",
      "Epoch 199/200 - Validation: 100%|██████████| 26/26 [00:00<00:00, 4575.86it/s]\n"
     ]
    },
    {
     "name": "stdout",
     "output_type": "stream",
     "text": [
      "Epoch 199/200 - Train Loss: 0.0196, Train Acc: 0.6288, Val Loss: 0.0244, Val Acc: 0.5193\n"
     ]
    },
    {
     "name": "stderr",
     "output_type": "stream",
     "text": [
      "Epoch 200/200 - Training: 100%|██████████| 101/101 [00:00<00:00, 1792.95it/s]\n",
      "Epoch 200/200 - Validation: 100%|██████████| 26/26 [00:00<00:00, 4423.29it/s]"
     ]
    },
    {
     "name": "stdout",
     "output_type": "stream",
     "text": [
      "Epoch 200/200 - Train Loss: 0.0193, Train Acc: 0.6313, Val Loss: 0.0244, Val Acc: 0.5280\n"
     ]
    },
    {
     "name": "stderr",
     "output_type": "stream",
     "text": [
      "\n"
     ]
    }
   ],
   "source": [
    "model = MLP(input_dim=X_train_tensor.shape[1], output_dim=2)\n",
    "\n",
    "criterion = nn.CrossEntropyLoss()\n",
    "optimizer = torch.optim.Adam(model.parameters(), lr=0.001)\n",
    "\n",
    "epochs = 200\n",
    "\n",
    "train_losses, train_accuracies, val_losses, val_accuracies = train(\n",
    "    model, train_loader, criterion, optimizer, epochs=epochs\n",
    ")"
   ]
  },
  {
   "cell_type": "code",
   "execution_count": 27,
   "id": "f3bb0749",
   "metadata": {},
   "outputs": [
    {
     "data": {
      "image/png": "[encoded data removed]",
      "text/plain": [
       "<Figure size 1200x500 with 2 Axes>"
      ]
     },
     "metadata": {},
     "output_type": "display_data"
    }
   ],
   "source": [
    "epochs_range = list(range(1, epochs + 1))\n",
    "\n",
    "fig, axs = plt.subplots(1, 2, figsize=(12, 5))\n",
    "\n",
    "# Plot Loss\n",
    "axs[0].plot(epochs_range, train_losses, label=\"Train Loss\")\n",
    "axs[0].plot(epochs_range, val_losses, label=\"Validation Loss\")\n",
    "axs[0].set_xlabel(\"Epochs\")\n",
    "axs[0].set_ylabel(\"Loss\")\n",
    "axs[0].set_title(\"Loss Curve\")\n",
    "axs[0].legend()\n",
    "axs[0].grid(True)\n",
    "\n",
    "# Plot Accuracy\n",
    "axs[1].plot(epochs_range, train_accuracies, label=\"Train Accuracy\")\n",
    "axs[1].plot(epochs_range, val_accuracies, label=\"Validation Accuracy\")\n",
    "axs[1].set_xlabel(\"Epochs\")\n",
    "axs[1].set_ylabel(\"Accuracy\")\n",
    "axs[1].set_title(\"Accuracy Curve\")\n",
    "axs[1].legend()\n",
    "axs[1].grid(True)\n",
    "\n",
    "plt.tight_layout()\n",
    "plt.show()\n"
   ]
  }
 ],
 "metadata": {
  "kernelspec": {
   "display_name": ".venv",
   "language": "python",
   "name": "python3"
  },
  "language_info": {
   "codemirror_mode": {
    "name": "ipython",
    "version": 3
   },
   "file_extension": ".py",
   "mimetype": "text/x-python",
   "name": "python",
   "nbconvert_exporter": "python",
   "pygments_lexer": "ipython3",
   "version": "3.13.5"
  }
 },
 "nbformat": 4,
 "nbformat_minor": 5
}
