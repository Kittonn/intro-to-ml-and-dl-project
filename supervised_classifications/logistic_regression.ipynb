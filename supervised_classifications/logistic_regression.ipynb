{
 "cells": [
  {
   "cell_type": "markdown",
   "id": "d7dbca27",
   "metadata": {},
   "source": [
    "# Logistic Regression"
   ]
  },
  {
   "cell_type": "code",
   "execution_count": 202,
   "id": "cf1ee1b7",
   "metadata": {},
   "outputs": [
    {
     "name": "stdout",
     "output_type": "stream",
     "text": [
      "Requirement already satisfied: kagglehub in /Users/gymmnotjim/Documents/[01]_PARA/[01]_Projects/university/intro_to_ai/intro-to-ml-and-dl-project/.venv/lib/python3.13/site-packages (0.3.13)\n",
      "Requirement already satisfied: numpy in /Users/gymmnotjim/Documents/[01]_PARA/[01]_Projects/university/intro_to_ai/intro-to-ml-and-dl-project/.venv/lib/python3.13/site-packages (2.3.3)\n",
      "Requirement already satisfied: pandas in /Users/gymmnotjim/Documents/[01]_PARA/[01]_Projects/university/intro_to_ai/intro-to-ml-and-dl-project/.venv/lib/python3.13/site-packages (2.3.3)\n",
      "Requirement already satisfied: seaborn in /Users/gymmnotjim/Documents/[01]_PARA/[01]_Projects/university/intro_to_ai/intro-to-ml-and-dl-project/.venv/lib/python3.13/site-packages (0.13.2)\n",
      "Requirement already satisfied: matplotlib in /Users/gymmnotjim/Documents/[01]_PARA/[01]_Projects/university/intro_to_ai/intro-to-ml-and-dl-project/.venv/lib/python3.13/site-packages (3.10.6)\n",
      "Requirement already satisfied: scikit-learn in /Users/gymmnotjim/Documents/[01]_PARA/[01]_Projects/university/intro_to_ai/intro-to-ml-and-dl-project/.venv/lib/python3.13/site-packages (1.7.2)\n",
      "Requirement already satisfied: imbalanced-learn in /Users/gymmnotjim/Documents/[01]_PARA/[01]_Projects/university/intro_to_ai/intro-to-ml-and-dl-project/.venv/lib/python3.13/site-packages (0.14.0)\n",
      "Requirement already satisfied: packaging in /Users/gymmnotjim/Documents/[01]_PARA/[01]_Projects/university/intro_to_ai/intro-to-ml-and-dl-project/.venv/lib/python3.13/site-packages (from kagglehub) (25.0)\n",
      "Requirement already satisfied: pyyaml in /Users/gymmnotjim/Documents/[01]_PARA/[01]_Projects/university/intro_to_ai/intro-to-ml-and-dl-project/.venv/lib/python3.13/site-packages (from kagglehub) (6.0.3)\n",
      "Requirement already satisfied: requests in /Users/gymmnotjim/Documents/[01]_PARA/[01]_Projects/university/intro_to_ai/intro-to-ml-and-dl-project/.venv/lib/python3.13/site-packages (from kagglehub) (2.32.5)\n",
      "Requirement already satisfied: tqdm in /Users/gymmnotjim/Documents/[01]_PARA/[01]_Projects/university/intro_to_ai/intro-to-ml-and-dl-project/.venv/lib/python3.13/site-packages (from kagglehub) (4.67.1)\n",
      "Requirement already satisfied: python-dateutil>=2.8.2 in /Users/gymmnotjim/Documents/[01]_PARA/[01]_Projects/university/intro_to_ai/intro-to-ml-and-dl-project/.venv/lib/python3.13/site-packages (from pandas) (2.9.0.post0)\n",
      "Requirement already satisfied: pytz>=2020.1 in /Users/gymmnotjim/Documents/[01]_PARA/[01]_Projects/university/intro_to_ai/intro-to-ml-and-dl-project/.venv/lib/python3.13/site-packages (from pandas) (2025.2)\n",
      "Requirement already satisfied: tzdata>=2022.7 in /Users/gymmnotjim/Documents/[01]_PARA/[01]_Projects/university/intro_to_ai/intro-to-ml-and-dl-project/.venv/lib/python3.13/site-packages (from pandas) (2025.2)\n",
      "Requirement already satisfied: contourpy>=1.0.1 in /Users/gymmnotjim/Documents/[01]_PARA/[01]_Projects/university/intro_to_ai/intro-to-ml-and-dl-project/.venv/lib/python3.13/site-packages (from matplotlib) (1.3.3)\n",
      "Requirement already satisfied: cycler>=0.10 in /Users/gymmnotjim/Documents/[01]_PARA/[01]_Projects/university/intro_to_ai/intro-to-ml-and-dl-project/.venv/lib/python3.13/site-packages (from matplotlib) (0.12.1)\n",
      "Requirement already satisfied: fonttools>=4.22.0 in /Users/gymmnotjim/Documents/[01]_PARA/[01]_Projects/university/intro_to_ai/intro-to-ml-and-dl-project/.venv/lib/python3.13/site-packages (from matplotlib) (4.60.1)\n",
      "Requirement already satisfied: kiwisolver>=1.3.1 in /Users/gymmnotjim/Documents/[01]_PARA/[01]_Projects/university/intro_to_ai/intro-to-ml-and-dl-project/.venv/lib/python3.13/site-packages (from matplotlib) (1.4.9)\n",
      "Requirement already satisfied: pillow>=8 in /Users/gymmnotjim/Documents/[01]_PARA/[01]_Projects/university/intro_to_ai/intro-to-ml-and-dl-project/.venv/lib/python3.13/site-packages (from matplotlib) (11.3.0)\n",
      "Requirement already satisfied: pyparsing>=2.3.1 in /Users/gymmnotjim/Documents/[01]_PARA/[01]_Projects/university/intro_to_ai/intro-to-ml-and-dl-project/.venv/lib/python3.13/site-packages (from matplotlib) (3.2.5)\n",
      "Requirement already satisfied: scipy>=1.8.0 in /Users/gymmnotjim/Documents/[01]_PARA/[01]_Projects/university/intro_to_ai/intro-to-ml-and-dl-project/.venv/lib/python3.13/site-packages (from scikit-learn) (1.16.2)\n",
      "Requirement already satisfied: joblib>=1.2.0 in /Users/gymmnotjim/Documents/[01]_PARA/[01]_Projects/university/intro_to_ai/intro-to-ml-and-dl-project/.venv/lib/python3.13/site-packages (from scikit-learn) (1.5.2)\n",
      "Requirement already satisfied: threadpoolctl>=3.1.0 in /Users/gymmnotjim/Documents/[01]_PARA/[01]_Projects/university/intro_to_ai/intro-to-ml-and-dl-project/.venv/lib/python3.13/site-packages (from scikit-learn) (3.6.0)\n",
      "Requirement already satisfied: six>=1.5 in /Users/gymmnotjim/Documents/[01]_PARA/[01]_Projects/university/intro_to_ai/intro-to-ml-and-dl-project/.venv/lib/python3.13/site-packages (from python-dateutil>=2.8.2->pandas) (1.17.0)\n",
      "Requirement already satisfied: charset_normalizer<4,>=2 in /Users/gymmnotjim/Documents/[01]_PARA/[01]_Projects/university/intro_to_ai/intro-to-ml-and-dl-project/.venv/lib/python3.13/site-packages (from requests->kagglehub) (3.4.3)\n",
      "Requirement already satisfied: idna<4,>=2.5 in /Users/gymmnotjim/Documents/[01]_PARA/[01]_Projects/university/intro_to_ai/intro-to-ml-and-dl-project/.venv/lib/python3.13/site-packages (from requests->kagglehub) (3.10)\n",
      "Requirement already satisfied: urllib3<3,>=1.21.1 in /Users/gymmnotjim/Documents/[01]_PARA/[01]_Projects/university/intro_to_ai/intro-to-ml-and-dl-project/.venv/lib/python3.13/site-packages (from requests->kagglehub) (2.5.0)\n",
      "Requirement already satisfied: certifi>=2017.4.17 in /Users/gymmnotjim/Documents/[01]_PARA/[01]_Projects/university/intro_to_ai/intro-to-ml-and-dl-project/.venv/lib/python3.13/site-packages (from requests->kagglehub) (2025.10.5)\n",
      "\n",
      "\u001b[1m[\u001b[0m\u001b[34;49mnotice\u001b[0m\u001b[1;39;49m]\u001b[0m\u001b[39;49m A new release of pip is available: \u001b[0m\u001b[31;49m25.1.1\u001b[0m\u001b[39;49m -> \u001b[0m\u001b[32;49m25.2\u001b[0m\n",
      "\u001b[1m[\u001b[0m\u001b[34;49mnotice\u001b[0m\u001b[1;39;49m]\u001b[0m\u001b[39;49m To update, run: \u001b[0m\u001b[32;49mpip install --upgrade pip\u001b[0m\n",
      "Note: you may need to restart the kernel to use updated packages.\n"
     ]
    }
   ],
   "source": [
    "%pip install kagglehub numpy pandas seaborn matplotlib scikit-learn imbalanced-learn"
   ]
  },
  {
   "cell_type": "code",
   "execution_count": 203,
   "id": "76a1ba00",
   "metadata": {},
   "outputs": [],
   "source": [
    "# Import stuff\n",
    "import numpy as np\n",
    "import pandas as pd\n",
    "import matplotlib.pyplot as plt\n",
    "import seaborn as sns\n",
    "\n",
    "from imblearn.over_sampling import RandomOverSampler\n",
    "\n",
    "from sklearn.linear_model import LogisticRegression\n",
    "from sklearn.model_selection import train_test_split, GridSearchCV\n",
    "from sklearn.metrics import confusion_matrix, classification_report, roc_curve, auc, roc_auc_score\n",
    "from sklearn.base import BaseEstimator, ClassifierMixin\n",
    "from sklearn.preprocessing import label_binarize"
   ]
  },
  {
   "cell_type": "markdown",
   "id": "c0394bab",
   "metadata": {},
   "source": [
    "## Model From Scratch"
   ]
  },
  {
   "cell_type": "code",
   "execution_count": 204,
   "id": "0c6c0e1b",
   "metadata": {},
   "outputs": [],
   "source": [
    "# @title LogReg from scratch (BCE)\n",
    "class LogisticRegressionScratchBCE(BaseEstimator, ClassifierMixin):\n",
    "    def __init__(self, learning_rate=0.01, num_iterations=1000):\n",
    "        self.learning_rate = learning_rate\n",
    "        self.num_iterations = num_iterations\n",
    "        self.w = None\n",
    "        self.b = None\n",
    "        self.losses = []\n",
    "\n",
    "    def sigmoid(self, z):\n",
    "        return 1 / (1 + np.exp(-z))\n",
    "\n",
    "    def predict(self, X):\n",
    "        z = np.dot(X, self.w) + self.b\n",
    "        probs = self.sigmoid(z)\n",
    "\n",
    "        # Return the class with the highest probability\n",
    "        return np.where(probs >= 0.5, 1, 0)\n",
    "    \n",
    "    def predict_proba(self, X):\n",
    "        z = np.dot(X, self.w) + self.b\n",
    "        probs = self.sigmoid(z)\n",
    "        # Return as two columns: [P(class=0), P(class=1)]\n",
    "        return np.column_stack((1 - probs, probs))\n",
    "\n",
    "\n",
    "    def initialize_weights(self, n_features):\n",
    "        self.w = np.zeros((n_features, 1))  # Init with the same column number as feature\n",
    "        self.b = 0\n",
    "\n",
    "    def cost_function(self, h, y):\n",
    "        m = len(y)\n",
    "        # reg_term = (0.01 / (2 * m)) * np.sum(self.w ** 2)\n",
    "        cost = -(1 / m) * np.sum(y * np.log(h + 1e-8) + (1 - y) * np.log(1 - h + 1e-8))\n",
    "\n",
    "        return cost #+ reg_term\n",
    "\n",
    "    def fit(self, X, y):\n",
    "        X = np.array(X)\n",
    "        y = np.array(y).reshape(-1, 1)  # Ensure y is a column vector\n",
    "        print(X.shape, y.shape)\n",
    "        m = len(y)\n",
    "        n_features = X.shape[1]\n",
    "        self.initialize_weights(n_features)\n",
    "\n",
    "        for i in range(self.num_iterations):\n",
    "            # Forward prop\n",
    "            probs = self.predict(X)\n",
    "\n",
    "            # Cost\n",
    "            # error = -(1 / m) * np.sum(y * np.log(probs + 1e-8) + (1 - y) * np.log(1 - probs + 1e-8))\n",
    "            error = self.cost_function(probs, y)\n",
    "            self.losses.append(error)\n",
    "\n",
    "            # Calculate the gradient of the error with respect to the weights\n",
    "            gradient_w = (1 / m) * np.dot(X.T, (probs - y))\n",
    "            gradient_b = (1 / m) * np.sum(probs - y)\n",
    "\n",
    "            # Update the weights using the gradient and the learning rate\n",
    "            self.w -= self.learning_rate * gradient_w\n",
    "            self.b -= self.learning_rate * gradient_b\n",
    "\n",
    "            # cost compute if more iteration (optional)\n",
    "            # if i % 100 == 0:\n",
    "            #     print(f\"Iteration {i}, Cost: {error}\")\n",
    "\n",
    "    def plot_loss(self):\n",
    "        plt.figure(figsize=(8, 5))\n",
    "        plt.plot(range(self.num_iterations), self.losses, label='MSE Loss')\n",
    "        plt.xlabel(\"Iteration\")\n",
    "        plt.ylabel(\"Loss (MSE)\")\n",
    "        plt.title(\"Loss Curve: Logistic Regression (BCE)\")\n",
    "        plt.grid(True)\n",
    "        plt.legend()\n",
    "        plt.tight_layout()\n",
    "        plt.show()"
   ]
  },
  {
   "cell_type": "markdown",
   "id": "c8f8337c",
   "metadata": {},
   "source": [
    "## Preprocessing"
   ]
  },
  {
   "cell_type": "code",
   "execution_count": 205,
   "id": "08b1f7ad",
   "metadata": {},
   "outputs": [
    {
     "data": {
      "application/vnd.microsoft.datawrangler.viewer.v0+json": {
       "columns": [
        {
         "name": "index",
         "rawType": "int64",
         "type": "integer"
        },
        {
         "name": "Race",
         "rawType": "int64",
         "type": "integer"
        },
        {
         "name": "Marital Status",
         "rawType": "int64",
         "type": "integer"
        },
        {
         "name": "T Stage Encoded",
         "rawType": "int64",
         "type": "integer"
        },
        {
         "name": "N Stage Encoded",
         "rawType": "int64",
         "type": "integer"
        },
        {
         "name": "6th Stage Encoded",
         "rawType": "int64",
         "type": "integer"
        },
        {
         "name": "differentiate",
         "rawType": "int64",
         "type": "integer"
        },
        {
         "name": "Grade",
         "rawType": "int64",
         "type": "integer"
        },
        {
         "name": "M Stage Encoded",
         "rawType": "int64",
         "type": "integer"
        },
        {
         "name": "Estrogen Status",
         "rawType": "int64",
         "type": "integer"
        },
        {
         "name": "Progesterone Status",
         "rawType": "int64",
         "type": "integer"
        },
        {
         "name": "Status",
         "rawType": "int64",
         "type": "integer"
        },
        {
         "name": "Age",
         "rawType": "int64",
         "type": "integer"
        },
        {
         "name": "Tumor Size",
         "rawType": "int64",
         "type": "integer"
        },
        {
         "name": "Regional Node Examined",
         "rawType": "int64",
         "type": "integer"
        },
        {
         "name": "Reginol Node Positive",
         "rawType": "int64",
         "type": "integer"
        },
        {
         "name": "Survival Months",
         "rawType": "int64",
         "type": "integer"
        }
       ],
       "ref": "5c54b616-5114-41d6-ab79-1aa3fc8a7174",
       "rows": [
        [
         "0",
         "2",
         "1",
         "0",
         "0",
         "0",
         "1",
         "3",
         "1",
         "1",
         "1",
         "0",
         "68",
         "4",
         "24",
         "1",
         "60"
        ],
        [
         "1",
         "2",
         "1",
         "1",
         "1",
         "2",
         "0",
         "2",
         "1",
         "1",
         "1",
         "0",
         "50",
         "35",
         "14",
         "5",
         "62"
        ],
        [
         "2",
         "2",
         "0",
         "2",
         "2",
         "4",
         "0",
         "2",
         "1",
         "1",
         "1",
         "0",
         "58",
         "63",
         "14",
         "7",
         "75"
        ],
        [
         "3",
         "2",
         "1",
         "0",
         "0",
         "0",
         "1",
         "3",
         "1",
         "1",
         "1",
         "0",
         "58",
         "18",
         "2",
         "1",
         "84"
        ],
        [
         "4",
         "2",
         "1",
         "1",
         "0",
         "1",
         "1",
         "3",
         "1",
         "1",
         "1",
         "0",
         "47",
         "41",
         "3",
         "1",
         "50"
        ]
       ],
       "shape": {
        "columns": 16,
        "rows": 5
       }
      },
      "text/html": [
       "<div>\n",
       "<style scoped>\n",
       "    .dataframe tbody tr th:only-of-type {\n",
       "        vertical-align: middle;\n",
       "    }\n",
       "\n",
       "    .dataframe tbody tr th {\n",
       "        vertical-align: top;\n",
       "    }\n",
       "\n",
       "    .dataframe thead th {\n",
       "        text-align: right;\n",
       "    }\n",
       "</style>\n",
       "<table border=\"1\" class=\"dataframe\">\n",
       "  <thead>\n",
       "    <tr style=\"text-align: right;\">\n",
       "      <th></th>\n",
       "      <th>Race</th>\n",
       "      <th>Marital Status</th>\n",
       "      <th>T Stage Encoded</th>\n",
       "      <th>N Stage Encoded</th>\n",
       "      <th>6th Stage Encoded</th>\n",
       "      <th>differentiate</th>\n",
       "      <th>Grade</th>\n",
       "      <th>M Stage Encoded</th>\n",
       "      <th>Estrogen Status</th>\n",
       "      <th>Progesterone Status</th>\n",
       "      <th>Status</th>\n",
       "      <th>Age</th>\n",
       "      <th>Tumor Size</th>\n",
       "      <th>Regional Node Examined</th>\n",
       "      <th>Reginol Node Positive</th>\n",
       "      <th>Survival Months</th>\n",
       "    </tr>\n",
       "  </thead>\n",
       "  <tbody>\n",
       "    <tr>\n",
       "      <th>0</th>\n",
       "      <td>2</td>\n",
       "      <td>1</td>\n",
       "      <td>0</td>\n",
       "      <td>0</td>\n",
       "      <td>0</td>\n",
       "      <td>1</td>\n",
       "      <td>3</td>\n",
       "      <td>1</td>\n",
       "      <td>1</td>\n",
       "      <td>1</td>\n",
       "      <td>0</td>\n",
       "      <td>68</td>\n",
       "      <td>4</td>\n",
       "      <td>24</td>\n",
       "      <td>1</td>\n",
       "      <td>60</td>\n",
       "    </tr>\n",
       "    <tr>\n",
       "      <th>1</th>\n",
       "      <td>2</td>\n",
       "      <td>1</td>\n",
       "      <td>1</td>\n",
       "      <td>1</td>\n",
       "      <td>2</td>\n",
       "      <td>0</td>\n",
       "      <td>2</td>\n",
       "      <td>1</td>\n",
       "      <td>1</td>\n",
       "      <td>1</td>\n",
       "      <td>0</td>\n",
       "      <td>50</td>\n",
       "      <td>35</td>\n",
       "      <td>14</td>\n",
       "      <td>5</td>\n",
       "      <td>62</td>\n",
       "    </tr>\n",
       "    <tr>\n",
       "      <th>2</th>\n",
       "      <td>2</td>\n",
       "      <td>0</td>\n",
       "      <td>2</td>\n",
       "      <td>2</td>\n",
       "      <td>4</td>\n",
       "      <td>0</td>\n",
       "      <td>2</td>\n",
       "      <td>1</td>\n",
       "      <td>1</td>\n",
       "      <td>1</td>\n",
       "      <td>0</td>\n",
       "      <td>58</td>\n",
       "      <td>63</td>\n",
       "      <td>14</td>\n",
       "      <td>7</td>\n",
       "      <td>75</td>\n",
       "    </tr>\n",
       "    <tr>\n",
       "      <th>3</th>\n",
       "      <td>2</td>\n",
       "      <td>1</td>\n",
       "      <td>0</td>\n",
       "      <td>0</td>\n",
       "      <td>0</td>\n",
       "      <td>1</td>\n",
       "      <td>3</td>\n",
       "      <td>1</td>\n",
       "      <td>1</td>\n",
       "      <td>1</td>\n",
       "      <td>0</td>\n",
       "      <td>58</td>\n",
       "      <td>18</td>\n",
       "      <td>2</td>\n",
       "      <td>1</td>\n",
       "      <td>84</td>\n",
       "    </tr>\n",
       "    <tr>\n",
       "      <th>4</th>\n",
       "      <td>2</td>\n",
       "      <td>1</td>\n",
       "      <td>1</td>\n",
       "      <td>0</td>\n",
       "      <td>1</td>\n",
       "      <td>1</td>\n",
       "      <td>3</td>\n",
       "      <td>1</td>\n",
       "      <td>1</td>\n",
       "      <td>1</td>\n",
       "      <td>0</td>\n",
       "      <td>47</td>\n",
       "      <td>41</td>\n",
       "      <td>3</td>\n",
       "      <td>1</td>\n",
       "      <td>50</td>\n",
       "    </tr>\n",
       "  </tbody>\n",
       "</table>\n",
       "</div>"
      ],
      "text/plain": [
       "   Race  Marital Status  T Stage Encoded  N Stage Encoded  6th Stage Encoded  \\\n",
       "0     2               1                0                0                  0   \n",
       "1     2               1                1                1                  2   \n",
       "2     2               0                2                2                  4   \n",
       "3     2               1                0                0                  0   \n",
       "4     2               1                1                0                  1   \n",
       "\n",
       "   differentiate  Grade  M Stage Encoded  Estrogen Status  \\\n",
       "0              1      3                1                1   \n",
       "1              0      2                1                1   \n",
       "2              0      2                1                1   \n",
       "3              1      3                1                1   \n",
       "4              1      3                1                1   \n",
       "\n",
       "   Progesterone Status  Status  Age  Tumor Size  Regional Node Examined  \\\n",
       "0                    1       0   68           4                      24   \n",
       "1                    1       0   50          35                      14   \n",
       "2                    1       0   58          63                      14   \n",
       "3                    1       0   58          18                       2   \n",
       "4                    1       0   47          41                       3   \n",
       "\n",
       "   Reginol Node Positive  Survival Months  \n",
       "0                      1               60  \n",
       "1                      5               62  \n",
       "2                      7               75  \n",
       "3                      1               84  \n",
       "4                      1               50  "
      ]
     },
     "execution_count": 205,
     "metadata": {},
     "output_type": "execute_result"
    }
   ],
   "source": [
    "dataset_path = \"../Label_Encoded_Breast_Cancer.csv\"\n",
    "df = pd.read_csv(dataset_path)\n",
    "\n",
    "df.head()"
   ]
  },
  {
   "cell_type": "markdown",
   "id": "e25a85ad",
   "metadata": {},
   "source": [
    "## Training"
   ]
  },
  {
   "cell_type": "markdown",
   "id": "bc120f49",
   "metadata": {},
   "source": [
    "### Model Optimization Checklist\n",
    "\n",
    "- Preprocessing\n",
    "  - Encoding\n",
    "  - Oversampling\n",
    "  - Standard Scaler\n",
    "- Hyperparameters Tuning\n",
    "  - Model Hyperparameters (learning rate, num iterations, MSE, BCE)\n",
    "  - Grid Search\n",
    "- Evaluation\n",
    "  - Cross Validation\n",
    "\n",
    "### 🧠 **Model Accuracy Improvement Checklist**\n",
    "\n",
    "### ⚙️ 1. Data Preprocessing\n",
    "- [ ]  **Handle missing values** (impute, drop, or replace with median/mean)\n",
    "- [ ]  **Remove outliers** (especially for sensitive models)\n",
    "- [ ]  **Fix data imbalance**\n",
    "    - [ ]  Oversampling (e.g. SMOTE)\n",
    "    - [ ]  Undersampling\n",
    "    - [ ]  Class weighting\n",
    "- [ ]  **Normalize or standardize** features (e.g. `StandardScaler`, `MinMaxScaler`)\n",
    "- [ ]  **Encode categorical variables**\n",
    "    - [ ]  One-hot encoding\n",
    "    - [ ]  Label encoding\n",
    "    - [ ]  Target encoding (for advanced cases)\n",
    "\n",
    "---\n",
    "\n",
    "### 🔍 2. Feature Engineering\n",
    "- [ ]  **Feature selection** (drop useless or highly correlated features)\n",
    "- [ ]  **Feature importance analysis** (using tree-based models)\n",
    "- [ ]  **Feature creation** (combine or transform features for better representation)\n",
    "- [ ]  **Dimensionality reduction** (PCA, UMAP, etc.)\n",
    "\n",
    "---\n",
    "\n",
    "### 🎯 3. Model Selection\n",
    "- [ ]  Try **different model types**\n",
    "    - Logistic Regression\n",
    "    - Random Forest\n",
    "    - XGBoost / LightGBM\n",
    "    - SVM\n",
    "    - Neural Networks\n",
    "- [ ]  Compare **baseline models** before tuning\n",
    "\n",
    "---\n",
    "\n",
    "### 🧪 4. Hyperparameter Tuning\n",
    "- [ ]  **Grid Search**\n",
    "- [ ]  **Random Search**\n",
    "- [ ]  **Bayesian Optimization** (Optuna, Hyperopt)\n",
    "- [ ]  **Cross-validation** (e.g. StratifiedKFold)\n",
    "\n",
    "---\n",
    "\n",
    "### 📈 5. Evaluation & Metrics\n",
    "- [ ]  Use metrics appropriate for imbalance\n",
    "    - Accuracy is misleading → use:\n",
    "        - **Precision**, **Recall**, **F1-score**\n",
    "        - **ROC-AUC**\n",
    "        - **Confusion Matrix**\n",
    "- [ ]  Use **cross-validation average** instead of one test split\n",
    "\n",
    "---\n",
    "\n",
    "### 💡 6. Advanced Ideas\n",
    "- [ ]  Ensemble methods (stacking, bagging, boosting)\n",
    "- [ ]  Model calibration (Platt scaling, isotonic regression)\n",
    "- [ ]  Feature selection via recursive elimination (RFE)\n",
    "- [ ]  Data augmentation (for text/images/time series)"
   ]
  },
  {
   "cell_type": "code",
   "execution_count": 206,
   "id": "13dc229a",
   "metadata": {},
   "outputs": [],
   "source": [
    "X = df.drop(columns=[\"Status\"])\n",
    "y = df[\"Status\"]"
   ]
  },
  {
   "cell_type": "code",
   "execution_count": 207,
   "id": "d5ab567e",
   "metadata": {},
   "outputs": [],
   "source": [
    "# Oversampling\n",
    "RS = RandomOverSampler(random_state=42)\n",
    "X, y = RS.fit_resample(X, y)\n",
    "\n",
    "# X.to_csv(\n",
    "#     \"Oversampling.csv\", sep=\",\", encoding=\"utf-8\", index=False, header=True\n",
    "# )"
   ]
  },
  {
   "cell_type": "code",
   "execution_count": 208,
   "id": "900b09e6",
   "metadata": {},
   "outputs": [],
   "source": [
    "# # Standard Scaling\n",
    "# from sklearn.preprocessing import StandardScaler\n",
    "# scaler = StandardScaler()\n",
    "# X_scaled_test = scaler.fit_transform(X)\n",
    "\n",
    "# X_scaled_test"
   ]
  },
  {
   "cell_type": "code",
   "execution_count": 209,
   "id": "365d6593",
   "metadata": {},
   "outputs": [
    {
     "name": "stdout",
     "output_type": "stream",
     "text": [
      "number of alive patients: 679\n",
      "number of dead patients: 685\n"
     ]
    }
   ],
   "source": [
    "# Train test split\n",
    "x_train, x_test, y_train, y_test = train_test_split(\n",
    "    X, y, test_size=0.2, random_state=42\n",
    ")\n",
    "\n",
    "# how to do somehting like this\n",
    "\n",
    "alive_count = (y_test == 0).sum()\n",
    "dead_count = (y_test == 1).sum()\n",
    "\n",
    "print(f\"number of alive patients: {alive_count}\\nnumber of dead patients: {dead_count}\")"
   ]
  },
  {
   "cell_type": "code",
   "execution_count": 210,
   "id": "21d150cc",
   "metadata": {},
   "outputs": [],
   "source": [
    "# Hyperparameters\n",
    "learning_rate = 1e-3\n",
    "num_iterations = 10000"
   ]
  },
  {
   "cell_type": "code",
   "execution_count": 211,
   "id": "92239e5c",
   "metadata": {},
   "outputs": [],
   "source": [
    "# # Grid Search\n",
    "# params = {\n",
    "#     \"learning_rate\": [1e-2, 1e-3, 1e-4],\n",
    "#     \"num_iterations\": [1000, 5000, 10000],\n",
    "# }\n",
    "\n",
    "# grid_dt = GridSearchCV(LogisticRegressionScratchBCE(), params, cv=50, scoring=\"accuracy\")\n",
    "# grid_dt.fit(x_train, y_train)\n",
    "# print(\"Best parameters:\", grid_dt.best_params_)\n",
    "# print(\"Best score:\", grid_dt.best_score_)"
   ]
  },
  {
   "cell_type": "code",
   "execution_count": 212,
   "id": "0cb160c1",
   "metadata": {},
   "outputs": [
    {
     "name": "stdout",
     "output_type": "stream",
     "text": [
      "(5452, 15) (5452, 1)\n"
     ]
    },
    {
     "data": {
      "image/png": "[encoded data removed]",
      "text/plain": [
       "<Figure size 800x500 with 1 Axes>"
      ]
     },
     "metadata": {},
     "output_type": "display_data"
    },
    {
     "data": {
      "text/plain": [
       "0.7096774193548387"
      ]
     },
     "execution_count": 212,
     "metadata": {},
     "output_type": "execute_result"
    }
   ],
   "source": [
    "# Import necessary libraries\n",
    "from sklearn.metrics import accuracy_score\n",
    "\n",
    "# Train Logistic Regression from scratch\n",
    "BCEmodel_scratch = LogisticRegressionScratchBCE(learning_rate=1e-3, num_iterations=10000)\n",
    "BCEmodel_scratch.fit(x_train, y_train)\n",
    "\n",
    "# Predict and evaluate\n",
    "BCE_pred_scratch = BCEmodel_scratch.predict(x_test)\n",
    "BCEmodel_scratch.plot_loss()\n",
    "\n",
    "score = accuracy_score(y_test, BCE_pred_scratch)\n",
    "score"
   ]
  },
  {
   "cell_type": "markdown",
   "id": "70794022",
   "metadata": {},
   "source": [
    "## Evaluation"
   ]
  },
  {
   "cell_type": "code",
   "execution_count": 213,
   "id": "c359c983",
   "metadata": {},
   "outputs": [],
   "source": [
    "def predict(model):\n",
    "    model.fit(x_train, y_train)\n",
    "    model.predict(x_test)\n",
    "    print(classification_report(model.predict(x_test), y_test))"
   ]
  },
  {
   "cell_type": "code",
   "execution_count": 214,
   "id": "1ac745ec",
   "metadata": {},
   "outputs": [
    {
     "name": "stdout",
     "output_type": "stream",
     "text": [
      "(5452, 15) (5452, 1)\n",
      "              precision    recall  f1-score   support\n",
      "\n",
      "           0       0.97      0.64      0.77      1041\n",
      "           1       0.45      0.95      0.61       323\n",
      "\n",
      "    accuracy                           0.71      1364\n",
      "   macro avg       0.71      0.79      0.69      1364\n",
      "weighted avg       0.85      0.71      0.73      1364\n",
      "\n"
     ]
    }
   ],
   "source": [
    "BCEmodel_scratch = LogisticRegressionScratchBCE(learning_rate=1e-3, num_iterations=10000)\n",
    "predict(BCEmodel_scratch)"
   ]
  },
  {
   "cell_type": "code",
   "execution_count": 215,
   "id": "0e0b07f0",
   "metadata": {},
   "outputs": [
    {
     "data": {
      "image/png": "[encoded data removed]",
      "text/plain": [
       "<Figure size 640x480 with 2 Axes>"
      ]
     },
     "metadata": {},
     "output_type": "display_data"
    }
   ],
   "source": [
    "# Confusion matrix\n",
    "cm = confusion_matrix(y_test, BCE_pred_scratch)\n",
    "\n",
    "sns.heatmap(\n",
    "    cm,\n",
    "    annot=True,\n",
    "    fmt=\"g\",\n",
    "    xticklabels=[\"Alive\", \"Dead\"],\n",
    "    yticklabels=[\"Alive\", \"Dead\"],\n",
    ")\n",
    "plt.ylabel(\"Actual\", fontsize=13)\n",
    "plt.title(\"Confusion Matrix\", fontsize=17, pad=20)\n",
    "plt.gca().xaxis.set_label_position(\"top\")\n",
    "plt.xlabel(\"Prediction\", fontsize=13)\n",
    "plt.gca().xaxis.tick_top()\n",
    "\n",
    "plt.gca().figure.subplots_adjust(bottom=0.2)\n",
    "plt.gca().figure.text(0.5, 0.05, \"Prediction\", ha=\"center\", fontsize=13)\n",
    "plt.show()"
   ]
  },
  {
   "cell_type": "code",
   "execution_count": 216,
   "id": "734031a4",
   "metadata": {},
   "outputs": [
    {
     "name": "stdout",
     "output_type": "stream",
     "text": [
      "Logistic: ROC AUC=0.872\n"
     ]
    },
    {
     "data": {
      "image/png": "[encoded data removed]",
      "text/plain": [
       "<Figure size 640x480 with 1 Axes>"
      ]
     },
     "metadata": {},
     "output_type": "display_data"
    }
   ],
   "source": [
    "# ROC & AUC\n",
    "\n",
    "# predict probabilities\n",
    "lr_probs = BCEmodel_scratch.predict_proba(x_test)\n",
    "# keep probabilities for the positive outcome only\n",
    "lr_probs = lr_probs[:, 1]\n",
    "# calculate scores\n",
    "ns_auc = roc_auc_score(y_test, lr_probs)\n",
    "lr_auc = roc_auc_score(y_test, lr_probs)\n",
    "# summarize scores\n",
    "print('Logistic: ROC AUC=%.3f' % (lr_auc))\n",
    "\n",
    "# calculate roc curves\n",
    "lr_fpr, lr_tpr, _ = roc_curve(y_test, lr_probs)\n",
    "# plot the roc curve for the model\n",
    "plt.plot(lr_fpr, lr_tpr, marker='.', label='Logistic')\n",
    "# axis labels\n",
    "plt.xlabel('False Positive Rate')\n",
    "plt.ylabel('True Positive Rate')\n",
    "# show the legend\n",
    "plt.legend()\n",
    "# show the plot\n",
    "plt.show()"
   ]
  },
  {
   "cell_type": "code",
   "execution_count": 196,
   "id": "8f5e58ff",
   "metadata": {},
   "outputs": [
    {
     "name": "stdout",
     "output_type": "stream",
     "text": [
      "              precision    recall  f1-score   support\n",
      "\n",
      "           0       0.82      0.77      0.80       723\n",
      "           1       0.76      0.81      0.79       641\n",
      "\n",
      "    accuracy                           0.79      1364\n",
      "   macro avg       0.79      0.79      0.79      1364\n",
      "weighted avg       0.79      0.79      0.79      1364\n",
      "\n"
     ]
    },
    {
     "name": "stderr",
     "output_type": "stream",
     "text": [
      "/Users/gymmnotjim/Documents/[01]_PARA/[01]_Projects/university/intro_to_ai/intro-to-ml-and-dl-project/.venv/lib/python3.13/site-packages/sklearn/linear_model/_logistic.py:473: ConvergenceWarning: lbfgs failed to converge after 100 iteration(s) (status=1):\n",
      "STOP: TOTAL NO. OF ITERATIONS REACHED LIMIT\n",
      "\n",
      "Increase the number of iterations to improve the convergence (max_iter=100).\n",
      "You might also want to scale the data as shown in:\n",
      "    https://scikit-learn.org/stable/modules/preprocessing.html\n",
      "Please also refer to the documentation for alternative solver options:\n",
      "    https://scikit-learn.org/stable/modules/linear_model.html#logistic-regression\n",
      "  n_iter_i = _check_optimize_result(\n"
     ]
    }
   ],
   "source": [
    "# Compare to scikit-learn\n",
    "Model_LR = LogisticRegression()\n",
    "predict(Model_LR)\n",
    "\n",
    "# ConvergenceWarning: lbfgs failed to converge after 100 iteration(s) (status=1): STOP: TOTAL NO. OF ITERATIONS REACHED LIMIT"
   ]
  },
  {
   "cell_type": "code",
   "execution_count": 199,
   "id": "3a60dab0",
   "metadata": {},
   "outputs": [
    {
     "name": "stdout",
     "output_type": "stream",
     "text": [
      "Logistic: ROC AUC=0.874\n"
     ]
    },
    {
     "name": "stderr",
     "output_type": "stream",
     "text": [
      "/Users/gymmnotjim/Documents/[01]_PARA/[01]_Projects/university/intro_to_ai/intro-to-ml-and-dl-project/.venv/lib/python3.13/site-packages/sklearn/linear_model/_logistic.py:473: ConvergenceWarning: lbfgs failed to converge after 100 iteration(s) (status=1):\n",
      "STOP: TOTAL NO. OF ITERATIONS REACHED LIMIT\n",
      "\n",
      "Increase the number of iterations to improve the convergence (max_iter=100).\n",
      "You might also want to scale the data as shown in:\n",
      "    https://scikit-learn.org/stable/modules/preprocessing.html\n",
      "Please also refer to the documentation for alternative solver options:\n",
      "    https://scikit-learn.org/stable/modules/linear_model.html#logistic-regression\n",
      "  n_iter_i = _check_optimize_result(\n"
     ]
    },
    {
     "data": {
      "image/png": "[encoded data removed]",
      "text/plain": [
       "<Figure size 640x480 with 1 Axes>"
      ]
     },
     "metadata": {},
     "output_type": "display_data"
    }
   ],
   "source": [
    "# ROC & AUC\n",
    "Model_LR = LogisticRegression()\n",
    "Model_LR.fit(x_train, y_train)\n",
    "# predict probabilities\n",
    "lr_probs = Model_LR.predict_proba(x_test)\n",
    "# keep probabilities for the positive outcome only\n",
    "lr_probs = lr_probs[:, 1]\n",
    "# calculate scores\n",
    "ns_auc = roc_auc_score(y_test, lr_probs)\n",
    "lr_auc = roc_auc_score(y_test, lr_probs)\n",
    "# summarize scores\n",
    "print('Logistic: ROC AUC=%.3f' % (lr_auc))\n",
    "\n",
    "# calculate roc curves\n",
    "lr_fpr, lr_tpr, _ = roc_curve(y_test, lr_probs)\n",
    "# plot the roc curve for the model\n",
    "plt.plot(lr_fpr, lr_tpr, marker='.', label='Logistic')\n",
    "# axis labels\n",
    "plt.xlabel('False Positive Rate')\n",
    "plt.ylabel('True Positive Rate')\n",
    "# show the legend\n",
    "plt.legend()\n",
    "# show the plot\n",
    "plt.show()\n"
   ]
  },
  {
   "cell_type": "code",
   "execution_count": null,
   "id": "dbb4275a",
   "metadata": {},
   "outputs": [
    {
     "data": {
      "text/plain": [
       "0.4967693836978131"
      ]
     },
     "execution_count": 75,
     "metadata": {},
     "output_type": "execute_result"
    }
   ],
   "source": [
    "# Import necessary libraries\n",
    "from sklearn.metrics import accuracy_score\n",
    "score = accuracy_score(y, BCE_pred_scratch)\n",
    "score\n",
    "\n",
    "\"\"\"\n",
    "How to increase accuracy?\n",
    "\n",
    "- Medical Ordinal Encoding\n",
    "- Standard Scaler\n",
    "- Cross Validation\n",
    "\n",
    "Clean & validate data (missing values, wrong types, leaks).\n",
    "Use the right encoding for each column (binary→0/1, ordinal→ordered ints, nominal→one-hot or target/leave-one-out).\n",
    "Scale numeric features (StandardScaler) — important for LR.\n",
    "Handle class imbalance (class_weight or resampling/SMOTE).\n",
    "Add interaction / polynomial features if relationships are non-linear.\n",
    "Regularize (L1 or L2) and tune C with cross-validation.\n",
    "Use cross-validation to get reliable performance (not a single train/test).\n",
    "Evaluate with ROC-AUC, PR-AUC, calibration, confusion matrix (not only accuracy).\n",
    "If poor signal → feature engineering or new data.\n",
    "If still weak, try stronger models (tree boosting, ensembles, survival models if time-to-event).\n",
    "\"\"\""
   ]
  }
 ],
 "metadata": {
  "kernelspec": {
   "display_name": ".venv",
   "language": "python",
   "name": "python3"
  },
  "language_info": {
   "codemirror_mode": {
    "name": "ipython",
    "version": 3
   },
   "file_extension": ".py",
   "mimetype": "text/x-python",
   "name": "python",
   "nbconvert_exporter": "python",
   "pygments_lexer": "ipython3",
   "version": "3.13.5"
  }
 },
 "nbformat": 4,
 "nbformat_minor": 5
}
