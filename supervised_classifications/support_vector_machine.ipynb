{
 "cells": [
  {
   "cell_type": "markdown",
   "id": "f92dfba7",
   "metadata": {},
   "source": [
    "# Support Vector Machine"
   ]
  },
  {
   "cell_type": "markdown",
   "id": "d3107836",
   "metadata": {},
   "source": [
    "## Performance Tuning\n",
    "\n",
    "Hyperparameters\n",
    "- C\n",
    "\n",
    "Others\n",
    "- Kernelization mapping (Linear, Polynomial, Gaussian, etc.)"
   ]
  },
  {
   "cell_type": "code",
   "execution_count": 1,
   "id": "c39296f7",
   "metadata": {},
   "outputs": [
    {
     "name": "stdout",
     "output_type": "stream",
     "text": [
      "Requirement already satisfied: kagglehub in /Users/gymmnotjim/Documents/[01]_PARA/[01]_Projects/university/intro_to_ai/intro-to-ml-and-dl-project/.venv/lib/python3.13/site-packages (0.3.13)\n",
      "Requirement already satisfied: numpy in /Users/gymmnotjim/Documents/[01]_PARA/[01]_Projects/university/intro_to_ai/intro-to-ml-and-dl-project/.venv/lib/python3.13/site-packages (2.3.3)\n",
      "Requirement already satisfied: pandas in /Users/gymmnotjim/Documents/[01]_PARA/[01]_Projects/university/intro_to_ai/intro-to-ml-and-dl-project/.venv/lib/python3.13/site-packages (2.3.3)\n",
      "Requirement already satisfied: seaborn in /Users/gymmnotjim/Documents/[01]_PARA/[01]_Projects/university/intro_to_ai/intro-to-ml-and-dl-project/.venv/lib/python3.13/site-packages (0.13.2)\n",
      "Requirement already satisfied: matplotlib in /Users/gymmnotjim/Documents/[01]_PARA/[01]_Projects/university/intro_to_ai/intro-to-ml-and-dl-project/.venv/lib/python3.13/site-packages (3.10.6)\n",
      "Requirement already satisfied: scikit-learn in /Users/gymmnotjim/Documents/[01]_PARA/[01]_Projects/university/intro_to_ai/intro-to-ml-and-dl-project/.venv/lib/python3.13/site-packages (1.7.2)\n",
      "Requirement already satisfied: graphviz in /Users/gymmnotjim/Documents/[01]_PARA/[01]_Projects/university/intro_to_ai/intro-to-ml-and-dl-project/.venv/lib/python3.13/site-packages (0.21)\n",
      "Requirement already satisfied: packaging in /Users/gymmnotjim/Documents/[01]_PARA/[01]_Projects/university/intro_to_ai/intro-to-ml-and-dl-project/.venv/lib/python3.13/site-packages (from kagglehub) (25.0)\n",
      "Requirement already satisfied: pyyaml in /Users/gymmnotjim/Documents/[01]_PARA/[01]_Projects/university/intro_to_ai/intro-to-ml-and-dl-project/.venv/lib/python3.13/site-packages (from kagglehub) (6.0.3)\n",
      "Requirement already satisfied: requests in /Users/gymmnotjim/Documents/[01]_PARA/[01]_Projects/university/intro_to_ai/intro-to-ml-and-dl-project/.venv/lib/python3.13/site-packages (from kagglehub) (2.32.5)\n",
      "Requirement already satisfied: tqdm in /Users/gymmnotjim/Documents/[01]_PARA/[01]_Projects/university/intro_to_ai/intro-to-ml-and-dl-project/.venv/lib/python3.13/site-packages (from kagglehub) (4.67.1)\n",
      "Requirement already satisfied: python-dateutil>=2.8.2 in /Users/gymmnotjim/Documents/[01]_PARA/[01]_Projects/university/intro_to_ai/intro-to-ml-and-dl-project/.venv/lib/python3.13/site-packages (from pandas) (2.9.0.post0)\n",
      "Requirement already satisfied: pytz>=2020.1 in /Users/gymmnotjim/Documents/[01]_PARA/[01]_Projects/university/intro_to_ai/intro-to-ml-and-dl-project/.venv/lib/python3.13/site-packages (from pandas) (2025.2)\n",
      "Requirement already satisfied: tzdata>=2022.7 in /Users/gymmnotjim/Documents/[01]_PARA/[01]_Projects/university/intro_to_ai/intro-to-ml-and-dl-project/.venv/lib/python3.13/site-packages (from pandas) (2025.2)\n",
      "Requirement already satisfied: contourpy>=1.0.1 in /Users/gymmnotjim/Documents/[01]_PARA/[01]_Projects/university/intro_to_ai/intro-to-ml-and-dl-project/.venv/lib/python3.13/site-packages (from matplotlib) (1.3.3)\n",
      "Requirement already satisfied: cycler>=0.10 in /Users/gymmnotjim/Documents/[01]_PARA/[01]_Projects/university/intro_to_ai/intro-to-ml-and-dl-project/.venv/lib/python3.13/site-packages (from matplotlib) (0.12.1)\n",
      "Requirement already satisfied: fonttools>=4.22.0 in /Users/gymmnotjim/Documents/[01]_PARA/[01]_Projects/university/intro_to_ai/intro-to-ml-and-dl-project/.venv/lib/python3.13/site-packages (from matplotlib) (4.60.1)\n",
      "Requirement already satisfied: kiwisolver>=1.3.1 in /Users/gymmnotjim/Documents/[01]_PARA/[01]_Projects/university/intro_to_ai/intro-to-ml-and-dl-project/.venv/lib/python3.13/site-packages (from matplotlib) (1.4.9)\n",
      "Requirement already satisfied: pillow>=8 in /Users/gymmnotjim/Documents/[01]_PARA/[01]_Projects/university/intro_to_ai/intro-to-ml-and-dl-project/.venv/lib/python3.13/site-packages (from matplotlib) (11.3.0)\n",
      "Requirement already satisfied: pyparsing>=2.3.1 in /Users/gymmnotjim/Documents/[01]_PARA/[01]_Projects/university/intro_to_ai/intro-to-ml-and-dl-project/.venv/lib/python3.13/site-packages (from matplotlib) (3.2.5)\n",
      "Requirement already satisfied: scipy>=1.8.0 in /Users/gymmnotjim/Documents/[01]_PARA/[01]_Projects/university/intro_to_ai/intro-to-ml-and-dl-project/.venv/lib/python3.13/site-packages (from scikit-learn) (1.16.2)\n",
      "Requirement already satisfied: joblib>=1.2.0 in /Users/gymmnotjim/Documents/[01]_PARA/[01]_Projects/university/intro_to_ai/intro-to-ml-and-dl-project/.venv/lib/python3.13/site-packages (from scikit-learn) (1.5.2)\n",
      "Requirement already satisfied: threadpoolctl>=3.1.0 in /Users/gymmnotjim/Documents/[01]_PARA/[01]_Projects/university/intro_to_ai/intro-to-ml-and-dl-project/.venv/lib/python3.13/site-packages (from scikit-learn) (3.6.0)\n",
      "Requirement already satisfied: six>=1.5 in /Users/gymmnotjim/Documents/[01]_PARA/[01]_Projects/university/intro_to_ai/intro-to-ml-and-dl-project/.venv/lib/python3.13/site-packages (from python-dateutil>=2.8.2->pandas) (1.17.0)\n",
      "Requirement already satisfied: charset_normalizer<4,>=2 in /Users/gymmnotjim/Documents/[01]_PARA/[01]_Projects/university/intro_to_ai/intro-to-ml-and-dl-project/.venv/lib/python3.13/site-packages (from requests->kagglehub) (3.4.3)\n",
      "Requirement already satisfied: idna<4,>=2.5 in /Users/gymmnotjim/Documents/[01]_PARA/[01]_Projects/university/intro_to_ai/intro-to-ml-and-dl-project/.venv/lib/python3.13/site-packages (from requests->kagglehub) (3.10)\n",
      "Requirement already satisfied: urllib3<3,>=1.21.1 in /Users/gymmnotjim/Documents/[01]_PARA/[01]_Projects/university/intro_to_ai/intro-to-ml-and-dl-project/.venv/lib/python3.13/site-packages (from requests->kagglehub) (2.5.0)\n",
      "Requirement already satisfied: certifi>=2017.4.17 in /Users/gymmnotjim/Documents/[01]_PARA/[01]_Projects/university/intro_to_ai/intro-to-ml-and-dl-project/.venv/lib/python3.13/site-packages (from requests->kagglehub) (2025.10.5)\n",
      "\n",
      "\u001b[1m[\u001b[0m\u001b[34;49mnotice\u001b[0m\u001b[1;39;49m]\u001b[0m\u001b[39;49m A new release of pip is available: \u001b[0m\u001b[31;49m25.1.1\u001b[0m\u001b[39;49m -> \u001b[0m\u001b[32;49m25.2\u001b[0m\n",
      "\u001b[1m[\u001b[0m\u001b[34;49mnotice\u001b[0m\u001b[1;39;49m]\u001b[0m\u001b[39;49m To update, run: \u001b[0m\u001b[32;49mpip install --upgrade pip\u001b[0m\n",
      "Note: you may need to restart the kernel to use updated packages.\n"
     ]
    }
   ],
   "source": [
    "%pip install kagglehub numpy pandas seaborn matplotlib scikit-learn graphviz"
   ]
  },
  {
   "cell_type": "code",
   "execution_count": 2,
   "id": "55c492ff",
   "metadata": {},
   "outputs": [],
   "source": [
    "import numpy as np"
   ]
  },
  {
   "cell_type": "code",
   "execution_count": 3,
   "id": "982e0c91",
   "metadata": {},
   "outputs": [],
   "source": [
    "# https://adeveloperdiary.com/data-science/machine-learning/support-vector-machines-for-beginners-linear-svm/\n",
    "# https://dev.to/harsimranjit_singh_0133dc/support-vector-machines-from-hard-margin-to-soft-margin-1bj1\n",
    "\n",
    "# Soft Margin SVM\n",
    "class SVM_Linear_Scratch:\n",
    "    def __init__(self, C=1, batch_size=100, learning_rate=0.001, iterations=1000):\n",
    "        # C = error term\n",
    "        self.C = C\n",
    "        self.batch_size = batch_size\n",
    "        self.iterations = iterations\n",
    "        self.learning_rate = learning_rate\n",
    "        self.w = None\n",
    "        self.b = None\n",
    "\n",
    "    def decision_function(self, X):\n",
    "        return np.dot(X, self.w) + self.b # w.x + b\n",
    "\n",
    "    def hingeloss(self, w, b, x, y):\n",
    "        # Regularizer term\n",
    "        reg = 0.5 * (w * w)\n",
    "\n",
    "        for i in range(x.shape[0]):\n",
    "            # Optimization term\n",
    "            opt_term = y[i] * ((np.dot(w, x[i])) + b)\n",
    "            loss = reg + self.C * max(0, 1 - opt_term)\n",
    "\n",
    "        return loss[0]\n",
    "\n",
    "    def fit(self, X, Y):\n",
    "        # initialize\n",
    "        n_samples = X.shape[0]\n",
    "        n_features = X.shape[1]\n",
    "        self.w = np.zeros(n_features)\n",
    "        self.b = 0\n",
    "        losses = []\n",
    "\n",
    "        # convert y to signed value (-1, +1)\n",
    "        Y = np.where(Y <= 0, -1, 1)\n",
    "\n",
    "        # gradient descent optimization start\n",
    "        for i in range(self.iterations):\n",
    "            l = self.hingeloss(self.w, self.b, X, Y)\n",
    "            losses.append(l)\n",
    "\n",
    "            # iterate through samples with batch_size as interval\n",
    "            for batch_start in range(0, n_samples, self.batch_size):\n",
    "                gradw = 0\n",
    "                gradb = 0\n",
    "                for x in range(batch_start, batch_start + self.batch_size):\n",
    "                    if x >= n_samples:\n",
    "                        break\n",
    "                     # correct classification\n",
    "                    if Y[x] * self.decision_function(X[x]) >= 1:\n",
    "                        gradw += 0 # w = w - α*w\n",
    "                        gradb += 0  # b = b\n",
    "                    # misclassification\n",
    "                    else:\n",
    "                        gradw += self.C * Y[x] * X[x]  # w = w - α*(w - C*yi*xi)\n",
    "                        gradb += self.C * Y[x] # b = b - α*(C*yi)\n",
    "\n",
    "                # Updating weights and bias\n",
    "                self.w += self.learning_rate * gradw\n",
    "                self.b += self.learning_rate * gradb\n",
    "\n",
    "        return self.w, self.b, losses\n",
    "\n",
    "    def predict(self, X):\n",
    "        prediction = self.decision_function(X)\n",
    "        label_signs = np.sign(prediction)\n",
    "        result = np.where(label_signs <= -1, 0, 1)\n",
    "        return result"
   ]
  },
  {
   "cell_type": "markdown",
   "id": "7fd02a2c",
   "metadata": {},
   "source": [
    "### Visualization Functions"
   ]
  },
  {
   "cell_type": "code",
   "execution_count": 4,
   "id": "67c9ac31",
   "metadata": {},
   "outputs": [],
   "source": [
    "import matplotlib.pyplot as plt\n",
    "\n",
    "def plot_decision_support_vectors(clf, X, y, cmap='Paired_r', title ='Plot for linear SVM'):\n",
    "    # Data points\n",
    "    plt.scatter(X[:, 0], X[:, 1], c=y, s=30, cmap=cmap)\n",
    "    # Get plot min and max limit\n",
    "    ax = plt.gca()\n",
    "    xlim = ax.get_xlim()\n",
    "    ylim = ax.get_ylim()\n",
    "    # plot decision boundary and margins\n",
    "    xx = np.linspace(xlim[0], xlim[1], 30)\n",
    "    yy = np.linspace(ylim[0], ylim[1], 30)\n",
    "    YY, XX = np.meshgrid(yy, xx)\n",
    "    xy = np.vstack([XX.ravel(), YY.ravel()]).T\n",
    "    Z = clf.decision_function(xy).reshape(XX.shape)\n",
    "    ax.contour(XX, YY, Z, colors='k', levels=[-1, 0, 1], alpha=0.5, linestyles=['--', '-', '--'])\n",
    "    # plot support vectors\n",
    "    dfX = clf.decision_function(X)\n",
    "    sv_ind = np.where(np.abs(dfX) <= 1 + 1e-15)[0]\n",
    "    sv = X[sv_ind]\n",
    "    plt.scatter(sv[:, 0], sv[:, 1], s=100, linewidth=1, facecolors='none', edgecolors='k')\n",
    "    plt.title(title)\n",
    "    plt.show()"
   ]
  },
  {
   "cell_type": "code",
   "execution_count": 5,
   "id": "a9a03066",
   "metadata": {},
   "outputs": [],
   "source": [
    "import matplotlib.pyplot as plt\n",
    "\n",
    "def plot_decision_boundary(clf, X, y, cmap='Paired_r', title ='Plot for non-linear SVM'):\n",
    "    h = 0.005  # Boundary lines' resolution\n",
    "    x_min, x_max = X[:,0].min() - 10*h, X[:,0].max() + 10*h\n",
    "    y_min, y_max = X[:,1].min() - 10*h, X[:,1].max() + 10*h\n",
    "    xx, yy = np.meshgrid(np.arange(x_min, x_max, h), np.arange(y_min, y_max, h))\n",
    "    Z = clf.predict(np.c_[xx.ravel(), yy.ravel()])\n",
    "    Z = Z.reshape(xx.shape)\n",
    "    plt.figure(figsize=(7,6))\n",
    "    plt.contourf(xx, yy, Z, cmap=cmap, alpha=0.25)  # Background\n",
    "    plt.contour(xx, yy, Z, colors='k', linewidths=0.2)  # Boundary lines\n",
    "    plt.scatter(X[:,0], X[:,1], c=y, cmap=cmap);  # Data points\n",
    "    plt.title(title)\n",
    "    plt.show()\n",
    "    # plt.xlabel(iris.feature_names[2])\n",
    "    # plt.ylabel(iris.feature_names[3])"
   ]
  },
  {
   "cell_type": "markdown",
   "id": "fbb6cec0",
   "metadata": {},
   "source": [
    "### Processing Data"
   ]
  },
  {
   "cell_type": "code",
   "execution_count": 6,
   "id": "b62177b7",
   "metadata": {},
   "outputs": [
    {
     "data": {
      "application/vnd.microsoft.datawrangler.viewer.v0+json": {
       "columns": [
        {
         "name": "index",
         "rawType": "int64",
         "type": "integer"
        },
        {
         "name": "Age",
         "rawType": "int64",
         "type": "integer"
        },
        {
         "name": "Grade",
         "rawType": "int64",
         "type": "integer"
        },
        {
         "name": "Tumor Size",
         "rawType": "int64",
         "type": "integer"
        },
        {
         "name": "Survival Months",
         "rawType": "int64",
         "type": "integer"
        },
        {
         "name": "Node Positive Ratio",
         "rawType": "float64",
         "type": "float"
        },
        {
         "name": "T Stage Encoded",
         "rawType": "float64",
         "type": "float"
        },
        {
         "name": "M Stage Encoded",
         "rawType": "int64",
         "type": "integer"
        },
        {
         "name": "N Stage Encoded",
         "rawType": "float64",
         "type": "float"
        },
        {
         "name": "Estrogen Status Encoded",
         "rawType": "int64",
         "type": "integer"
        },
        {
         "name": "Progesterone Status Encoded",
         "rawType": "int64",
         "type": "integer"
        },
        {
         "name": "Survival More Than 6 Years",
         "rawType": "int64",
         "type": "integer"
        }
       ],
       "ref": "334d7c4c-567e-4a8a-9956-852c9fa0fde9",
       "rows": [
        [
         "0",
         "68",
         "3",
         "4",
         "60",
         "0.0416666666666666",
         "0.0",
         "1",
         "0.0",
         "1",
         "1",
         "0"
        ],
        [
         "1",
         "50",
         "2",
         "35",
         "62",
         "0.3571428571428571",
         "1.0",
         "1",
         "1.0",
         "1",
         "1",
         "0"
        ],
        [
         "2",
         "58",
         "2",
         "63",
         "75",
         "0.5",
         "2.0",
         "1",
         "2.0",
         "1",
         "1",
         "1"
        ],
        [
         "3",
         "58",
         "3",
         "18",
         "84",
         "0.5",
         "0.0",
         "1",
         "0.0",
         "1",
         "1",
         "1"
        ],
        [
         "4",
         "47",
         "3",
         "41",
         "50",
         "0.3333333333333333",
         "1.0",
         "1",
         "0.0",
         "1",
         "1",
         "0"
        ]
       ],
       "shape": {
        "columns": 11,
        "rows": 5
       }
      },
      "text/html": [
       "<div>\n",
       "<style scoped>\n",
       "    .dataframe tbody tr th:only-of-type {\n",
       "        vertical-align: middle;\n",
       "    }\n",
       "\n",
       "    .dataframe tbody tr th {\n",
       "        vertical-align: top;\n",
       "    }\n",
       "\n",
       "    .dataframe thead th {\n",
       "        text-align: right;\n",
       "    }\n",
       "</style>\n",
       "<table border=\"1\" class=\"dataframe\">\n",
       "  <thead>\n",
       "    <tr style=\"text-align: right;\">\n",
       "      <th></th>\n",
       "      <th>Age</th>\n",
       "      <th>Grade</th>\n",
       "      <th>Tumor Size</th>\n",
       "      <th>Survival Months</th>\n",
       "      <th>Node Positive Ratio</th>\n",
       "      <th>T Stage Encoded</th>\n",
       "      <th>M Stage Encoded</th>\n",
       "      <th>N Stage Encoded</th>\n",
       "      <th>Estrogen Status Encoded</th>\n",
       "      <th>Progesterone Status Encoded</th>\n",
       "      <th>Survival More Than 6 Years</th>\n",
       "    </tr>\n",
       "  </thead>\n",
       "  <tbody>\n",
       "    <tr>\n",
       "      <th>0</th>\n",
       "      <td>68</td>\n",
       "      <td>3</td>\n",
       "      <td>4</td>\n",
       "      <td>60</td>\n",
       "      <td>0.041667</td>\n",
       "      <td>0.0</td>\n",
       "      <td>1</td>\n",
       "      <td>0.0</td>\n",
       "      <td>1</td>\n",
       "      <td>1</td>\n",
       "      <td>0</td>\n",
       "    </tr>\n",
       "    <tr>\n",
       "      <th>1</th>\n",
       "      <td>50</td>\n",
       "      <td>2</td>\n",
       "      <td>35</td>\n",
       "      <td>62</td>\n",
       "      <td>0.357143</td>\n",
       "      <td>1.0</td>\n",
       "      <td>1</td>\n",
       "      <td>1.0</td>\n",
       "      <td>1</td>\n",
       "      <td>1</td>\n",
       "      <td>0</td>\n",
       "    </tr>\n",
       "    <tr>\n",
       "      <th>2</th>\n",
       "      <td>58</td>\n",
       "      <td>2</td>\n",
       "      <td>63</td>\n",
       "      <td>75</td>\n",
       "      <td>0.500000</td>\n",
       "      <td>2.0</td>\n",
       "      <td>1</td>\n",
       "      <td>2.0</td>\n",
       "      <td>1</td>\n",
       "      <td>1</td>\n",
       "      <td>1</td>\n",
       "    </tr>\n",
       "    <tr>\n",
       "      <th>3</th>\n",
       "      <td>58</td>\n",
       "      <td>3</td>\n",
       "      <td>18</td>\n",
       "      <td>84</td>\n",
       "      <td>0.500000</td>\n",
       "      <td>0.0</td>\n",
       "      <td>1</td>\n",
       "      <td>0.0</td>\n",
       "      <td>1</td>\n",
       "      <td>1</td>\n",
       "      <td>1</td>\n",
       "    </tr>\n",
       "    <tr>\n",
       "      <th>4</th>\n",
       "      <td>47</td>\n",
       "      <td>3</td>\n",
       "      <td>41</td>\n",
       "      <td>50</td>\n",
       "      <td>0.333333</td>\n",
       "      <td>1.0</td>\n",
       "      <td>1</td>\n",
       "      <td>0.0</td>\n",
       "      <td>1</td>\n",
       "      <td>1</td>\n",
       "      <td>0</td>\n",
       "    </tr>\n",
       "  </tbody>\n",
       "</table>\n",
       "</div>"
      ],
      "text/plain": [
       "   Age  Grade  Tumor Size  Survival Months  Node Positive Ratio  \\\n",
       "0   68      3           4               60             0.041667   \n",
       "1   50      2          35               62             0.357143   \n",
       "2   58      2          63               75             0.500000   \n",
       "3   58      3          18               84             0.500000   \n",
       "4   47      3          41               50             0.333333   \n",
       "\n",
       "   T Stage Encoded  M Stage Encoded  N Stage Encoded  Estrogen Status Encoded  \\\n",
       "0              0.0                1              0.0                        1   \n",
       "1              1.0                1              1.0                        1   \n",
       "2              2.0                1              2.0                        1   \n",
       "3              0.0                1              0.0                        1   \n",
       "4              1.0                1              0.0                        1   \n",
       "\n",
       "   Progesterone Status Encoded  Survival More Than 6 Years  \n",
       "0                            1                           0  \n",
       "1                            1                           0  \n",
       "2                            1                           1  \n",
       "3                            1                           1  \n",
       "4                            1                           0  "
      ]
     },
     "execution_count": 6,
     "metadata": {},
     "output_type": "execute_result"
    }
   ],
   "source": [
    "# Loading Dataset\n",
    "import pandas as pd\n",
    "\n",
    "dataset_path = \"../Cleaned_Breast_Cancer.csv\"\n",
    "df = pd.read_csv(dataset_path)\n",
    "\n",
    "df.head()"
   ]
  },
  {
   "cell_type": "code",
   "execution_count": 7,
   "id": "1805c0a7",
   "metadata": {},
   "outputs": [],
   "source": [
    "X = df.drop(columns=[\"Survival Months\", \"Survival More Than 6 Years\"])\n",
    "y = df[\"Survival More Than 6 Years\"]"
   ]
  },
  {
   "cell_type": "code",
   "execution_count": 8,
   "id": "408a8fec",
   "metadata": {},
   "outputs": [],
   "source": [
    "# Scaling\n",
    "from sklearn.preprocessing import StandardScaler\n",
    "\n",
    "# READ THIS WHEN YOU BACK: find a way to scale\n",
    "\n",
    "X = df.drop(columns=[\"Survival Months\", \"Survival More Than 6 Years\"])\n",
    "y = df[\"Survival More Than 6 Years\"]"
   ]
  },
  {
   "cell_type": "markdown",
   "id": "707f01b1",
   "metadata": {},
   "source": [
    "### Train, Test"
   ]
  },
  {
   "cell_type": "code",
   "execution_count": 9,
   "id": "2310571b",
   "metadata": {},
   "outputs": [
    {
     "name": "stdout",
     "output_type": "stream",
     "text": [
      "Accuracy: 0.49502982107355864\n"
     ]
    },
    {
     "ename": "ValueError",
     "evalue": "shapes (900,2) and (9,) not aligned: 2 (dim 1) != 9 (dim 0)",
     "output_type": "error",
     "traceback": [
      "\u001b[31m---------------------------------------------------------------------------\u001b[39m",
      "\u001b[31mValueError\u001b[39m                                Traceback (most recent call last)",
      "\u001b[36mCell\u001b[39m\u001b[36m \u001b[39m\u001b[32mIn[9]\u001b[39m\u001b[32m, line 8\u001b[39m\n\u001b[32m      5\u001b[39m pred_ls1 = svm_ls1.predict(X)\n\u001b[32m      6\u001b[39m \u001b[38;5;28mprint\u001b[39m(\u001b[33m'\u001b[39m\u001b[33mAccuracy:\u001b[39m\u001b[33m'\u001b[39m, accuracy_score(y.to_numpy(), pred_ls1))\n\u001b[32m----> \u001b[39m\u001b[32m8\u001b[39m \u001b[43mplot_decision_support_vectors\u001b[49m\u001b[43m(\u001b[49m\u001b[43msvm_ls1\u001b[49m\u001b[43m,\u001b[49m\u001b[43m \u001b[49m\u001b[43mX\u001b[49m\u001b[43m.\u001b[49m\u001b[43mto_numpy\u001b[49m\u001b[43m(\u001b[49m\u001b[43m)\u001b[49m\u001b[43m,\u001b[49m\u001b[43m \u001b[49m\u001b[43my\u001b[49m\u001b[43m.\u001b[49m\u001b[43mto_numpy\u001b[49m\u001b[43m(\u001b[49m\u001b[43m)\u001b[49m\u001b[43m,\u001b[49m\u001b[43m \u001b[49m\u001b[43mtitle\u001b[49m\u001b[43m=\u001b[49m\u001b[33;43m'\u001b[39;49m\u001b[33;43mLinear SVM form scratch C=1\u001b[39;49m\u001b[33;43m'\u001b[39;49m\u001b[43m)\u001b[49m\n",
      "\u001b[36mCell\u001b[39m\u001b[36m \u001b[39m\u001b[32mIn[4]\u001b[39m\u001b[32m, line 15\u001b[39m, in \u001b[36mplot_decision_support_vectors\u001b[39m\u001b[34m(clf, X, y, cmap, title)\u001b[39m\n\u001b[32m     13\u001b[39m YY, XX = np.meshgrid(yy, xx)\n\u001b[32m     14\u001b[39m xy = np.vstack([XX.ravel(), YY.ravel()]).T\n\u001b[32m---> \u001b[39m\u001b[32m15\u001b[39m Z = \u001b[43mclf\u001b[49m\u001b[43m.\u001b[49m\u001b[43mdecision_function\u001b[49m\u001b[43m(\u001b[49m\u001b[43mxy\u001b[49m\u001b[43m)\u001b[49m.reshape(XX.shape)\n\u001b[32m     16\u001b[39m ax.contour(XX, YY, Z, colors=\u001b[33m'\u001b[39m\u001b[33mk\u001b[39m\u001b[33m'\u001b[39m, levels=[-\u001b[32m1\u001b[39m, \u001b[32m0\u001b[39m, \u001b[32m1\u001b[39m], alpha=\u001b[32m0.5\u001b[39m, linestyles=[\u001b[33m'\u001b[39m\u001b[33m--\u001b[39m\u001b[33m'\u001b[39m, \u001b[33m'\u001b[39m\u001b[33m-\u001b[39m\u001b[33m'\u001b[39m, \u001b[33m'\u001b[39m\u001b[33m--\u001b[39m\u001b[33m'\u001b[39m])\n\u001b[32m     17\u001b[39m \u001b[38;5;66;03m# plot support vectors\u001b[39;00m\n",
      "\u001b[36mCell\u001b[39m\u001b[36m \u001b[39m\u001b[32mIn[3]\u001b[39m\u001b[32m, line 16\u001b[39m, in \u001b[36mSVM_Linear_Scratch.decision_function\u001b[39m\u001b[34m(self, X)\u001b[39m\n\u001b[32m     15\u001b[39m \u001b[38;5;28;01mdef\u001b[39;00m\u001b[38;5;250m \u001b[39m\u001b[34mdecision_function\u001b[39m(\u001b[38;5;28mself\u001b[39m, X):\n\u001b[32m---> \u001b[39m\u001b[32m16\u001b[39m     \u001b[38;5;28;01mreturn\u001b[39;00m \u001b[43mnp\u001b[49m\u001b[43m.\u001b[49m\u001b[43mdot\u001b[49m\u001b[43m(\u001b[49m\u001b[43mX\u001b[49m\u001b[43m,\u001b[49m\u001b[43m \u001b[49m\u001b[38;5;28;43mself\u001b[39;49m\u001b[43m.\u001b[49m\u001b[43mw\u001b[49m\u001b[43m)\u001b[49m + \u001b[38;5;28mself\u001b[39m.b\n",
      "\u001b[31mValueError\u001b[39m: shapes (900,2) and (9,) not aligned: 2 (dim 1) != 9 (dim 0)"
     ]
    },
    {
     "data": {
      "image/png": "[encoded data removed]",
      "text/plain": [
       "<Figure size 640x480 with 1 Axes>"
      ]
     },
     "metadata": {},
     "output_type": "display_data"
    }
   ],
   "source": [
    "from sklearn.metrics import accuracy_score\n",
    "\n",
    "svm_ls1 = SVM_Linear_Scratch(C=1)\n",
    "svm_ls1.fit(X.to_numpy(), y.to_numpy())\n",
    "pred_ls1 = svm_ls1.predict(X)\n",
    "print('Accuracy:', accuracy_score(y.to_numpy(), pred_ls1))\n",
    "\n",
    "plot_decision_support_vectors(svm_ls1, X.to_numpy(), y.to_numpy(), title='Linear SVM form scratch C=1')"
   ]
  }
 ],
 "metadata": {
  "kernelspec": {
   "display_name": ".venv",
   "language": "python",
   "name": "python3"
  },
  "language_info": {
   "codemirror_mode": {
    "name": "ipython",
    "version": 3
   },
   "file_extension": ".py",
   "mimetype": "text/x-python",
   "name": "python",
   "nbconvert_exporter": "python",
   "pygments_lexer": "ipython3",
   "version": "3.13.5"
  }
 },
 "nbformat": 4,
 "nbformat_minor": 5
}
