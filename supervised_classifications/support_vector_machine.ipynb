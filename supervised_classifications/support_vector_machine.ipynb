{
 "cells": [
  {
   "cell_type": "markdown",
   "id": "f92dfba7",
   "metadata": {},
   "source": [
    "# Support Vector Machine"
   ]
  },
  {
   "cell_type": "markdown",
   "id": "d3107836",
   "metadata": {},
   "source": [
    "## Performance Tuning\n",
    "\n",
    "Hyperparameters\n",
    "- C\n",
    "\n",
    "Others\n",
    "- Kernelization mapping (Linear, Polynomial, Gaussian, etc.)"
   ]
  },
  {
   "cell_type": "code",
   "execution_count": 64,
   "id": "c39296f7",
   "metadata": {},
   "outputs": [
    {
     "name": "stdout",
     "output_type": "stream",
     "text": [
      "Requirement already satisfied: kagglehub in /Users/gymmnotjim/Documents/[01]_PARA/[01]_Projects/university/intro_to_ai/intro-to-ml-and-dl-project/.venv/lib/python3.13/site-packages (0.3.13)\n",
      "Requirement already satisfied: numpy in /Users/gymmnotjim/Documents/[01]_PARA/[01]_Projects/university/intro_to_ai/intro-to-ml-and-dl-project/.venv/lib/python3.13/site-packages (2.3.3)\n",
      "Requirement already satisfied: pandas in /Users/gymmnotjim/Documents/[01]_PARA/[01]_Projects/university/intro_to_ai/intro-to-ml-and-dl-project/.venv/lib/python3.13/site-packages (2.3.3)\n",
      "Requirement already satisfied: seaborn in /Users/gymmnotjim/Documents/[01]_PARA/[01]_Projects/university/intro_to_ai/intro-to-ml-and-dl-project/.venv/lib/python3.13/site-packages (0.13.2)\n",
      "Requirement already satisfied: matplotlib in /Users/gymmnotjim/Documents/[01]_PARA/[01]_Projects/university/intro_to_ai/intro-to-ml-and-dl-project/.venv/lib/python3.13/site-packages (3.10.6)\n",
      "Requirement already satisfied: scikit-learn in /Users/gymmnotjim/Documents/[01]_PARA/[01]_Projects/university/intro_to_ai/intro-to-ml-and-dl-project/.venv/lib/python3.13/site-packages (1.7.2)\n",
      "Requirement already satisfied: graphviz in /Users/gymmnotjim/Documents/[01]_PARA/[01]_Projects/university/intro_to_ai/intro-to-ml-and-dl-project/.venv/lib/python3.13/site-packages (0.21)\n",
      "Requirement already satisfied: packaging in /Users/gymmnotjim/Documents/[01]_PARA/[01]_Projects/university/intro_to_ai/intro-to-ml-and-dl-project/.venv/lib/python3.13/site-packages (from kagglehub) (25.0)\n",
      "Requirement already satisfied: pyyaml in /Users/gymmnotjim/Documents/[01]_PARA/[01]_Projects/university/intro_to_ai/intro-to-ml-and-dl-project/.venv/lib/python3.13/site-packages (from kagglehub) (6.0.3)\n",
      "Requirement already satisfied: requests in /Users/gymmnotjim/Documents/[01]_PARA/[01]_Projects/university/intro_to_ai/intro-to-ml-and-dl-project/.venv/lib/python3.13/site-packages (from kagglehub) (2.32.5)\n",
      "Requirement already satisfied: tqdm in /Users/gymmnotjim/Documents/[01]_PARA/[01]_Projects/university/intro_to_ai/intro-to-ml-and-dl-project/.venv/lib/python3.13/site-packages (from kagglehub) (4.67.1)\n",
      "Requirement already satisfied: python-dateutil>=2.8.2 in /Users/gymmnotjim/Documents/[01]_PARA/[01]_Projects/university/intro_to_ai/intro-to-ml-and-dl-project/.venv/lib/python3.13/site-packages (from pandas) (2.9.0.post0)\n",
      "Requirement already satisfied: pytz>=2020.1 in /Users/gymmnotjim/Documents/[01]_PARA/[01]_Projects/university/intro_to_ai/intro-to-ml-and-dl-project/.venv/lib/python3.13/site-packages (from pandas) (2025.2)\n",
      "Requirement already satisfied: tzdata>=2022.7 in /Users/gymmnotjim/Documents/[01]_PARA/[01]_Projects/university/intro_to_ai/intro-to-ml-and-dl-project/.venv/lib/python3.13/site-packages (from pandas) (2025.2)\n",
      "Requirement already satisfied: contourpy>=1.0.1 in /Users/gymmnotjim/Documents/[01]_PARA/[01]_Projects/university/intro_to_ai/intro-to-ml-and-dl-project/.venv/lib/python3.13/site-packages (from matplotlib) (1.3.3)\n",
      "Requirement already satisfied: cycler>=0.10 in /Users/gymmnotjim/Documents/[01]_PARA/[01]_Projects/university/intro_to_ai/intro-to-ml-and-dl-project/.venv/lib/python3.13/site-packages (from matplotlib) (0.12.1)\n",
      "Requirement already satisfied: fonttools>=4.22.0 in /Users/gymmnotjim/Documents/[01]_PARA/[01]_Projects/university/intro_to_ai/intro-to-ml-and-dl-project/.venv/lib/python3.13/site-packages (from matplotlib) (4.60.1)\n",
      "Requirement already satisfied: kiwisolver>=1.3.1 in /Users/gymmnotjim/Documents/[01]_PARA/[01]_Projects/university/intro_to_ai/intro-to-ml-and-dl-project/.venv/lib/python3.13/site-packages (from matplotlib) (1.4.9)\n",
      "Requirement already satisfied: pillow>=8 in /Users/gymmnotjim/Documents/[01]_PARA/[01]_Projects/university/intro_to_ai/intro-to-ml-and-dl-project/.venv/lib/python3.13/site-packages (from matplotlib) (11.3.0)\n",
      "Requirement already satisfied: pyparsing>=2.3.1 in /Users/gymmnotjim/Documents/[01]_PARA/[01]_Projects/university/intro_to_ai/intro-to-ml-and-dl-project/.venv/lib/python3.13/site-packages (from matplotlib) (3.2.5)\n",
      "Requirement already satisfied: scipy>=1.8.0 in /Users/gymmnotjim/Documents/[01]_PARA/[01]_Projects/university/intro_to_ai/intro-to-ml-and-dl-project/.venv/lib/python3.13/site-packages (from scikit-learn) (1.16.2)\n",
      "Requirement already satisfied: joblib>=1.2.0 in /Users/gymmnotjim/Documents/[01]_PARA/[01]_Projects/university/intro_to_ai/intro-to-ml-and-dl-project/.venv/lib/python3.13/site-packages (from scikit-learn) (1.5.2)\n",
      "Requirement already satisfied: threadpoolctl>=3.1.0 in /Users/gymmnotjim/Documents/[01]_PARA/[01]_Projects/university/intro_to_ai/intro-to-ml-and-dl-project/.venv/lib/python3.13/site-packages (from scikit-learn) (3.6.0)\n",
      "Requirement already satisfied: six>=1.5 in /Users/gymmnotjim/Documents/[01]_PARA/[01]_Projects/university/intro_to_ai/intro-to-ml-and-dl-project/.venv/lib/python3.13/site-packages (from python-dateutil>=2.8.2->pandas) (1.17.0)\n",
      "Requirement already satisfied: charset_normalizer<4,>=2 in /Users/gymmnotjim/Documents/[01]_PARA/[01]_Projects/university/intro_to_ai/intro-to-ml-and-dl-project/.venv/lib/python3.13/site-packages (from requests->kagglehub) (3.4.3)\n",
      "Requirement already satisfied: idna<4,>=2.5 in /Users/gymmnotjim/Documents/[01]_PARA/[01]_Projects/university/intro_to_ai/intro-to-ml-and-dl-project/.venv/lib/python3.13/site-packages (from requests->kagglehub) (3.10)\n",
      "Requirement already satisfied: urllib3<3,>=1.21.1 in /Users/gymmnotjim/Documents/[01]_PARA/[01]_Projects/university/intro_to_ai/intro-to-ml-and-dl-project/.venv/lib/python3.13/site-packages (from requests->kagglehub) (2.5.0)\n",
      "Requirement already satisfied: certifi>=2017.4.17 in /Users/gymmnotjim/Documents/[01]_PARA/[01]_Projects/university/intro_to_ai/intro-to-ml-and-dl-project/.venv/lib/python3.13/site-packages (from requests->kagglehub) (2025.10.5)\n",
      "\n",
      "\u001b[1m[\u001b[0m\u001b[34;49mnotice\u001b[0m\u001b[1;39;49m]\u001b[0m\u001b[39;49m A new release of pip is available: \u001b[0m\u001b[31;49m25.1.1\u001b[0m\u001b[39;49m -> \u001b[0m\u001b[32;49m25.2\u001b[0m\n",
      "\u001b[1m[\u001b[0m\u001b[34;49mnotice\u001b[0m\u001b[1;39;49m]\u001b[0m\u001b[39;49m To update, run: \u001b[0m\u001b[32;49mpip install --upgrade pip\u001b[0m\n",
      "Note: you may need to restart the kernel to use updated packages.\n"
     ]
    }
   ],
   "source": [
    "%pip install kagglehub numpy pandas seaborn matplotlib scikit-learn graphviz"
   ]
  },
  {
   "cell_type": "code",
   "execution_count": 65,
   "id": "55c492ff",
   "metadata": {},
   "outputs": [],
   "source": [
    "# import stuff\n",
    "import numpy as np\n",
    "from sklearn.model_selection import train_test_split\n",
    "import seaborn as sns\n",
    "\n",
    "from imblearn.over_sampling import RandomOverSampler, SMOTENC\n",
    "from sklearn.metrics import accuracy_score, confusion_matrix, classification_report, roc_curve, auc, roc_auc_score"
   ]
  },
  {
   "cell_type": "markdown",
   "id": "049bc1e6",
   "metadata": {},
   "source": [
    "## Model from Scratch"
   ]
  },
  {
   "cell_type": "code",
   "execution_count": 66,
   "id": "982e0c91",
   "metadata": {},
   "outputs": [],
   "source": [
    "# https://adeveloperdiary.com/data-science/machine-learning/support-vector-machines-for-beginners-linear-svm/\n",
    "# https://dev.to/harsimranjit_singh_0133dc/support-vector-machines-from-hard-margin-to-soft-margin-1bj1\n",
    "\n",
    "# Soft Margin SVM\n",
    "class SVM_Linear_Scratch:\n",
    "    def __init__(self, C=1, batch_size=100, learning_rate=0.001, iterations=1000):\n",
    "        # C = error term\n",
    "        self.C = C\n",
    "        self.batch_size = batch_size\n",
    "        self.iterations = iterations\n",
    "        self.learning_rate = learning_rate\n",
    "        self.w = None\n",
    "        self.b = None\n",
    "\n",
    "    def decision_function(self, X):\n",
    "        return np.dot(X, self.w) + self.b # w.x + b\n",
    "\n",
    "    def hingeloss(self, w, b, x, y):\n",
    "        # Regularizer term\n",
    "        reg = 0.5 * (w * w)\n",
    "\n",
    "        for i in range(x.shape[0]):\n",
    "            # Optimization term\n",
    "            opt_term = y[i] * ((np.dot(w, x[i])) + b)\n",
    "            loss = reg + self.C * max(0, 1 - opt_term)\n",
    "\n",
    "        return loss[0]\n",
    "\n",
    "    def fit(self, X, Y):\n",
    "        # initialize\n",
    "        n_samples = X.shape[0]\n",
    "        n_features = X.shape[1]\n",
    "        self.w = np.zeros(n_features)\n",
    "        self.b = 0\n",
    "        losses = []\n",
    "\n",
    "        # convert y to signed value (-1, +1)\n",
    "        Y = np.where(Y <= 0, -1, 1)\n",
    "\n",
    "        # gradient descent optimization start\n",
    "        for i in range(self.iterations):\n",
    "            l = self.hingeloss(self.w, self.b, X, Y)\n",
    "            losses.append(l)\n",
    "\n",
    "            # iterate through samples with batch_size as interval\n",
    "            for batch_start in range(0, n_samples, self.batch_size):\n",
    "                gradw = 0\n",
    "                gradb = 0\n",
    "                for x in range(batch_start, batch_start + self.batch_size):\n",
    "                    if x >= n_samples:\n",
    "                        break\n",
    "                     # correct classification\n",
    "                    if Y[x] * self.decision_function(X[x]) >= 1:\n",
    "                        gradw += 0 # w = w - α*w\n",
    "                        gradb += 0  # b = b\n",
    "                    # misclassification\n",
    "                    else:\n",
    "                        gradw += self.C * Y[x] * X[x]  # w = w - α*(w - C*yi*xi)\n",
    "                        gradb += self.C * Y[x] # b = b - α*(C*yi)\n",
    "\n",
    "                # Updating weights and bias\n",
    "                self.w += self.learning_rate * gradw\n",
    "                self.b += self.learning_rate * gradb\n",
    "\n",
    "        return self.w, self.b, losses\n",
    "\n",
    "    def predict(self, X):\n",
    "        prediction = self.decision_function(X)\n",
    "        label_signs = np.sign(prediction)\n",
    "        result = np.where(label_signs <= -1, 0, 1)\n",
    "        return result"
   ]
  },
  {
   "cell_type": "markdown",
   "id": "7fd02a2c",
   "metadata": {},
   "source": [
    "### Visualization Functions"
   ]
  },
  {
   "cell_type": "code",
   "execution_count": 67,
   "id": "67c9ac31",
   "metadata": {},
   "outputs": [],
   "source": [
    "import matplotlib.pyplot as plt\n",
    "\n",
    "def plot_decision_support_vectors(clf, X, y, cmap='Paired_r', title ='Plot for linear SVM'):\n",
    "    # Data points\n",
    "    plt.scatter(X[:, 0], X[:, 1], c=y, s=30, cmap=cmap)\n",
    "    # Get plot min and max limit\n",
    "    ax = plt.gca()\n",
    "    xlim = ax.get_xlim()\n",
    "    ylim = ax.get_ylim()\n",
    "    # plot decision boundary and margins\n",
    "    xx = np.linspace(xlim[0], xlim[1], 30)\n",
    "    yy = np.linspace(ylim[0], ylim[1], 30)\n",
    "    YY, XX = np.meshgrid(yy, xx)\n",
    "    xy = np.vstack([XX.ravel(), YY.ravel()]).T\n",
    "    Z = clf.decision_function(xy).reshape(XX.shape)\n",
    "    ax.contour(XX, YY, Z, colors='k', levels=[-1, 0, 1], alpha=0.5, linestyles=['--', '-', '--'])\n",
    "    # plot support vectors\n",
    "    dfX = clf.decision_function(X)\n",
    "    sv_ind = np.where(np.abs(dfX) <= 1 + 1e-15)[0]\n",
    "    sv = X[sv_ind]\n",
    "    plt.scatter(sv[:, 0], sv[:, 1], s=100, linewidth=1, facecolors='none', edgecolors='k')\n",
    "    plt.title(title)\n",
    "    plt.show()"
   ]
  },
  {
   "cell_type": "code",
   "execution_count": 68,
   "id": "a9a03066",
   "metadata": {},
   "outputs": [],
   "source": [
    "import matplotlib.pyplot as plt\n",
    "\n",
    "def plot_decision_boundary(clf, X, y, cmap='Paired_r', title ='Plot for non-linear SVM'):\n",
    "    h = 0.005  # Boundary lines' resolution\n",
    "    x_min, x_max = X[:,0].min() - 10*h, X[:,0].max() + 10*h\n",
    "    y_min, y_max = X[:,1].min() - 10*h, X[:,1].max() + 10*h\n",
    "    xx, yy = np.meshgrid(np.arange(x_min, x_max, h), np.arange(y_min, y_max, h))\n",
    "    Z = clf.predict(np.c_[xx.ravel(), yy.ravel()])\n",
    "    Z = Z.reshape(xx.shape)\n",
    "    plt.figure(figsize=(7,6))\n",
    "    plt.contourf(xx, yy, Z, cmap=cmap, alpha=0.25)  # Background\n",
    "    plt.contour(xx, yy, Z, colors='k', linewidths=0.2)  # Boundary lines\n",
    "    plt.scatter(X[:,0], X[:,1], c=y, cmap=cmap);  # Data points\n",
    "    plt.title(title)\n",
    "    plt.show()\n",
    "    # plt.xlabel(iris.feature_names[2])\n",
    "    # plt.ylabel(iris.feature_names[3])"
   ]
  },
  {
   "cell_type": "markdown",
   "id": "fbb6cec0",
   "metadata": {},
   "source": [
    "### Processing Data"
   ]
  },
  {
   "cell_type": "code",
   "execution_count": 69,
   "id": "b62177b7",
   "metadata": {},
   "outputs": [
    {
     "data": {
      "application/vnd.microsoft.datawrangler.viewer.v0+json": {
       "columns": [
        {
         "name": "index",
         "rawType": "int64",
         "type": "integer"
        },
        {
         "name": "Age",
         "rawType": "int64",
         "type": "integer"
        },
        {
         "name": "Tumor Size",
         "rawType": "int64",
         "type": "integer"
        },
        {
         "name": "Estrogen Status",
         "rawType": "int64",
         "type": "integer"
        },
        {
         "name": "Progesterone Status",
         "rawType": "int64",
         "type": "integer"
        },
        {
         "name": "Regional Node Examined",
         "rawType": "int64",
         "type": "integer"
        },
        {
         "name": "Reginol Node Positive",
         "rawType": "int64",
         "type": "integer"
        },
        {
         "name": "Survival Months",
         "rawType": "int64",
         "type": "integer"
        },
        {
         "name": "Status",
         "rawType": "int64",
         "type": "integer"
        },
        {
         "name": "T Stage Ordinal",
         "rawType": "float64",
         "type": "float"
        },
        {
         "name": "N Stage Ordinal",
         "rawType": "float64",
         "type": "float"
        },
        {
         "name": "M Stage Ordinal",
         "rawType": "float64",
         "type": "float"
        },
        {
         "name": "Differentiate Ordinal",
         "rawType": "float64",
         "type": "float"
        },
        {
         "name": "Marital Status_Divorced",
         "rawType": "int64",
         "type": "integer"
        },
        {
         "name": "Marital Status_Married",
         "rawType": "int64",
         "type": "integer"
        },
        {
         "name": "Marital Status_Separated",
         "rawType": "int64",
         "type": "integer"
        },
        {
         "name": "Marital Status_Single ",
         "rawType": "int64",
         "type": "integer"
        },
        {
         "name": "Marital Status_Widowed",
         "rawType": "int64",
         "type": "integer"
        },
        {
         "name": "Race_Black",
         "rawType": "int64",
         "type": "integer"
        },
        {
         "name": "Race_Other",
         "rawType": "int64",
         "type": "integer"
        },
        {
         "name": "Race_White",
         "rawType": "int64",
         "type": "integer"
        }
       ],
       "ref": "7eef3278-4845-4c65-a539-1956df4c4ac3",
       "rows": [
        [
         "0",
         "68",
         "4",
         "1",
         "1",
         "24",
         "1",
         "60",
         "0",
         "0.0",
         "0.0",
         "0.0",
         "0.0",
         "0",
         "1",
         "0",
         "0",
         "0",
         "0",
         "0",
         "1"
        ],
        [
         "1",
         "50",
         "35",
         "1",
         "1",
         "14",
         "5",
         "62",
         "0",
         "1.0",
         "1.0",
         "0.0",
         "1.0",
         "0",
         "1",
         "0",
         "0",
         "0",
         "0",
         "0",
         "1"
        ],
        [
         "2",
         "58",
         "63",
         "1",
         "1",
         "14",
         "7",
         "75",
         "0",
         "2.0",
         "2.0",
         "0.0",
         "1.0",
         "1",
         "0",
         "0",
         "0",
         "0",
         "0",
         "0",
         "1"
        ],
        [
         "3",
         "58",
         "18",
         "1",
         "1",
         "2",
         "1",
         "84",
         "0",
         "0.0",
         "0.0",
         "0.0",
         "0.0",
         "0",
         "1",
         "0",
         "0",
         "0",
         "0",
         "0",
         "1"
        ],
        [
         "4",
         "47",
         "41",
         "1",
         "1",
         "3",
         "1",
         "50",
         "0",
         "1.0",
         "0.0",
         "0.0",
         "0.0",
         "0",
         "1",
         "0",
         "0",
         "0",
         "0",
         "0",
         "1"
        ]
       ],
       "shape": {
        "columns": 20,
        "rows": 5
       }
      },
      "text/html": [
       "<div>\n",
       "<style scoped>\n",
       "    .dataframe tbody tr th:only-of-type {\n",
       "        vertical-align: middle;\n",
       "    }\n",
       "\n",
       "    .dataframe tbody tr th {\n",
       "        vertical-align: top;\n",
       "    }\n",
       "\n",
       "    .dataframe thead th {\n",
       "        text-align: right;\n",
       "    }\n",
       "</style>\n",
       "<table border=\"1\" class=\"dataframe\">\n",
       "  <thead>\n",
       "    <tr style=\"text-align: right;\">\n",
       "      <th></th>\n",
       "      <th>Age</th>\n",
       "      <th>Tumor Size</th>\n",
       "      <th>Estrogen Status</th>\n",
       "      <th>Progesterone Status</th>\n",
       "      <th>Regional Node Examined</th>\n",
       "      <th>Reginol Node Positive</th>\n",
       "      <th>Survival Months</th>\n",
       "      <th>Status</th>\n",
       "      <th>T Stage Ordinal</th>\n",
       "      <th>N Stage Ordinal</th>\n",
       "      <th>M Stage Ordinal</th>\n",
       "      <th>Differentiate Ordinal</th>\n",
       "      <th>Marital Status_Divorced</th>\n",
       "      <th>Marital Status_Married</th>\n",
       "      <th>Marital Status_Separated</th>\n",
       "      <th>Marital Status_Single</th>\n",
       "      <th>Marital Status_Widowed</th>\n",
       "      <th>Race_Black</th>\n",
       "      <th>Race_Other</th>\n",
       "      <th>Race_White</th>\n",
       "    </tr>\n",
       "  </thead>\n",
       "  <tbody>\n",
       "    <tr>\n",
       "      <th>0</th>\n",
       "      <td>68</td>\n",
       "      <td>4</td>\n",
       "      <td>1</td>\n",
       "      <td>1</td>\n",
       "      <td>24</td>\n",
       "      <td>1</td>\n",
       "      <td>60</td>\n",
       "      <td>0</td>\n",
       "      <td>0.0</td>\n",
       "      <td>0.0</td>\n",
       "      <td>0.0</td>\n",
       "      <td>0.0</td>\n",
       "      <td>0</td>\n",
       "      <td>1</td>\n",
       "      <td>0</td>\n",
       "      <td>0</td>\n",
       "      <td>0</td>\n",
       "      <td>0</td>\n",
       "      <td>0</td>\n",
       "      <td>1</td>\n",
       "    </tr>\n",
       "    <tr>\n",
       "      <th>1</th>\n",
       "      <td>50</td>\n",
       "      <td>35</td>\n",
       "      <td>1</td>\n",
       "      <td>1</td>\n",
       "      <td>14</td>\n",
       "      <td>5</td>\n",
       "      <td>62</td>\n",
       "      <td>0</td>\n",
       "      <td>1.0</td>\n",
       "      <td>1.0</td>\n",
       "      <td>0.0</td>\n",
       "      <td>1.0</td>\n",
       "      <td>0</td>\n",
       "      <td>1</td>\n",
       "      <td>0</td>\n",
       "      <td>0</td>\n",
       "      <td>0</td>\n",
       "      <td>0</td>\n",
       "      <td>0</td>\n",
       "      <td>1</td>\n",
       "    </tr>\n",
       "    <tr>\n",
       "      <th>2</th>\n",
       "      <td>58</td>\n",
       "      <td>63</td>\n",
       "      <td>1</td>\n",
       "      <td>1</td>\n",
       "      <td>14</td>\n",
       "      <td>7</td>\n",
       "      <td>75</td>\n",
       "      <td>0</td>\n",
       "      <td>2.0</td>\n",
       "      <td>2.0</td>\n",
       "      <td>0.0</td>\n",
       "      <td>1.0</td>\n",
       "      <td>1</td>\n",
       "      <td>0</td>\n",
       "      <td>0</td>\n",
       "      <td>0</td>\n",
       "      <td>0</td>\n",
       "      <td>0</td>\n",
       "      <td>0</td>\n",
       "      <td>1</td>\n",
       "    </tr>\n",
       "    <tr>\n",
       "      <th>3</th>\n",
       "      <td>58</td>\n",
       "      <td>18</td>\n",
       "      <td>1</td>\n",
       "      <td>1</td>\n",
       "      <td>2</td>\n",
       "      <td>1</td>\n",
       "      <td>84</td>\n",
       "      <td>0</td>\n",
       "      <td>0.0</td>\n",
       "      <td>0.0</td>\n",
       "      <td>0.0</td>\n",
       "      <td>0.0</td>\n",
       "      <td>0</td>\n",
       "      <td>1</td>\n",
       "      <td>0</td>\n",
       "      <td>0</td>\n",
       "      <td>0</td>\n",
       "      <td>0</td>\n",
       "      <td>0</td>\n",
       "      <td>1</td>\n",
       "    </tr>\n",
       "    <tr>\n",
       "      <th>4</th>\n",
       "      <td>47</td>\n",
       "      <td>41</td>\n",
       "      <td>1</td>\n",
       "      <td>1</td>\n",
       "      <td>3</td>\n",
       "      <td>1</td>\n",
       "      <td>50</td>\n",
       "      <td>0</td>\n",
       "      <td>1.0</td>\n",
       "      <td>0.0</td>\n",
       "      <td>0.0</td>\n",
       "      <td>0.0</td>\n",
       "      <td>0</td>\n",
       "      <td>1</td>\n",
       "      <td>0</td>\n",
       "      <td>0</td>\n",
       "      <td>0</td>\n",
       "      <td>0</td>\n",
       "      <td>0</td>\n",
       "      <td>1</td>\n",
       "    </tr>\n",
       "  </tbody>\n",
       "</table>\n",
       "</div>"
      ],
      "text/plain": [
       "   Age  Tumor Size  Estrogen Status  Progesterone Status  \\\n",
       "0   68           4                1                    1   \n",
       "1   50          35                1                    1   \n",
       "2   58          63                1                    1   \n",
       "3   58          18                1                    1   \n",
       "4   47          41                1                    1   \n",
       "\n",
       "   Regional Node Examined  Reginol Node Positive  Survival Months  Status  \\\n",
       "0                      24                      1               60       0   \n",
       "1                      14                      5               62       0   \n",
       "2                      14                      7               75       0   \n",
       "3                       2                      1               84       0   \n",
       "4                       3                      1               50       0   \n",
       "\n",
       "   T Stage Ordinal  N Stage Ordinal  M Stage Ordinal  Differentiate Ordinal  \\\n",
       "0              0.0              0.0              0.0                    0.0   \n",
       "1              1.0              1.0              0.0                    1.0   \n",
       "2              2.0              2.0              0.0                    1.0   \n",
       "3              0.0              0.0              0.0                    0.0   \n",
       "4              1.0              0.0              0.0                    0.0   \n",
       "\n",
       "   Marital Status_Divorced  Marital Status_Married  Marital Status_Separated  \\\n",
       "0                        0                       1                         0   \n",
       "1                        0                       1                         0   \n",
       "2                        1                       0                         0   \n",
       "3                        0                       1                         0   \n",
       "4                        0                       1                         0   \n",
       "\n",
       "   Marital Status_Single   Marital Status_Widowed  Race_Black  Race_Other  \\\n",
       "0                       0                       0           0           0   \n",
       "1                       0                       0           0           0   \n",
       "2                       0                       0           0           0   \n",
       "3                       0                       0           0           0   \n",
       "4                       0                       0           0           0   \n",
       "\n",
       "   Race_White  \n",
       "0           1  \n",
       "1           1  \n",
       "2           1  \n",
       "3           1  \n",
       "4           1  "
      ]
     },
     "execution_count": 69,
     "metadata": {},
     "output_type": "execute_result"
    }
   ],
   "source": [
    "# Loading Dataset\n",
    "import pandas as pd\n",
    "\n",
    "dataset_path = \"../Breast_Cancer_Preprocessed.csv\"\n",
    "df = pd.read_csv(dataset_path)\n",
    "\n",
    "df.head()"
   ]
  },
  {
   "cell_type": "code",
   "execution_count": 70,
   "id": "1805c0a7",
   "metadata": {},
   "outputs": [],
   "source": [
    "X = df[\n",
    "    [\n",
    "        \"Progesterone Status\",\n",
    "        \"N Stage Ordinal\",\n",
    "        \"Differentiate Ordinal\",\n",
    "        \"Race_Other\",\n",
    "        \"Marital Status_Divorced\",\n",
    "    ]\n",
    "]\n",
    "y = df[\"Status\"]"
   ]
  },
  {
   "cell_type": "code",
   "execution_count": 71,
   "id": "408a8fec",
   "metadata": {},
   "outputs": [],
   "source": [
    "# Scaling\n",
    "# from sklearn.preprocessing import StandardScaler\n",
    "# only caterorical features, scaler isn't needed"
   ]
  },
  {
   "cell_type": "code",
   "execution_count": 72,
   "id": "c286ac1d",
   "metadata": {},
   "outputs": [],
   "source": [
    "# Train test split\n",
    "X_train, X_test, y_train, y_test = train_test_split(\n",
    "    X, y, test_size=0.2, random_state=42\n",
    ")"
   ]
  },
  {
   "cell_type": "code",
   "execution_count": 73,
   "id": "b9c804f9",
   "metadata": {},
   "outputs": [],
   "source": [
    "# Oversampling\n",
    "categorical_features = [\n",
    "    X_train.columns.get_loc(c)\n",
    "    for c in X_train.columns\n",
    "    if \"Marital Status\" in c or \"Race\" in c\n",
    "]\n",
    "\n",
    "\n",
    "sm = SMOTENC(categorical_features=categorical_features, random_state=42)\n",
    "X_train, y_train = sm.fit_resample(X_train, y_train)"
   ]
  },
  {
   "cell_type": "markdown",
   "id": "707f01b1",
   "metadata": {},
   "source": [
    "## Training"
   ]
  },
  {
   "cell_type": "code",
   "execution_count": 74,
   "id": "2310571b",
   "metadata": {},
   "outputs": [
    {
     "name": "stdout",
     "output_type": "stream",
     "text": [
      "Accuracy: 0.14906832298136646\n"
     ]
    }
   ],
   "source": [
    "svm_ls1 = SVM_Linear_Scratch(C=1)\n",
    "svm_ls1.fit(X_train.to_numpy(), y_train.to_numpy())\n",
    "pred_ls1 = svm_ls1.predict(X_test)\n",
    "print(\"Accuracy:\", accuracy_score(y_true=y_test.to_numpy(), y_pred=pred_ls1))\n",
    "\n",
    "# plot_decision_support_vectors(svm_ls1, X.to_numpy(), y.to_numpy(), title='Linear SVM form scratch C=1')"
   ]
  },
  {
   "cell_type": "code",
   "execution_count": 75,
   "id": "f5d629d2",
   "metadata": {},
   "outputs": [
    {
     "name": "stdout",
     "output_type": "stream",
     "text": [
      "              precision    recall  f1-score   support\n",
      "\n",
      "           0       0.00      0.00      0.00       685\n",
      "           1       0.15      1.00      0.26       120\n",
      "\n",
      "    accuracy                           0.15       805\n",
      "   macro avg       0.07      0.50      0.13       805\n",
      "weighted avg       0.02      0.15      0.04       805\n",
      "\n"
     ]
    },
    {
     "name": "stderr",
     "output_type": "stream",
     "text": [
      "/Users/gymmnotjim/Documents/[01]_PARA/[01]_Projects/university/intro_to_ai/intro-to-ml-and-dl-project/.venv/lib/python3.13/site-packages/sklearn/metrics/_classification.py:1731: UndefinedMetricWarning: Precision is ill-defined and being set to 0.0 in labels with no predicted samples. Use `zero_division` parameter to control this behavior.\n",
      "  _warn_prf(average, modifier, f\"{metric.capitalize()} is\", result.shape[0])\n",
      "/Users/gymmnotjim/Documents/[01]_PARA/[01]_Projects/university/intro_to_ai/intro-to-ml-and-dl-project/.venv/lib/python3.13/site-packages/sklearn/metrics/_classification.py:1731: UndefinedMetricWarning: Precision is ill-defined and being set to 0.0 in labels with no predicted samples. Use `zero_division` parameter to control this behavior.\n",
      "  _warn_prf(average, modifier, f\"{metric.capitalize()} is\", result.shape[0])\n",
      "/Users/gymmnotjim/Documents/[01]_PARA/[01]_Projects/university/intro_to_ai/intro-to-ml-and-dl-project/.venv/lib/python3.13/site-packages/sklearn/metrics/_classification.py:1731: UndefinedMetricWarning: Precision is ill-defined and being set to 0.0 in labels with no predicted samples. Use `zero_division` parameter to control this behavior.\n",
      "  _warn_prf(average, modifier, f\"{metric.capitalize()} is\", result.shape[0])\n"
     ]
    }
   ],
   "source": [
    "print(classification_report(y_true=y_test, y_pred=pred_ls1))"
   ]
  },
  {
   "cell_type": "code",
   "execution_count": 76,
   "id": "52cb0735",
   "metadata": {},
   "outputs": [
    {
     "data": {
      "image/png": "[encoded data removed]",
      "text/plain": [
       "<Figure size 640x480 with 2 Axes>"
      ]
     },
     "metadata": {},
     "output_type": "display_data"
    }
   ],
   "source": [
    "# Confusion matrix\n",
    "cm = confusion_matrix(y_true=y_test, y_pred=pred_ls1)\n",
    "\n",
    "sns.heatmap(\n",
    "    cm,\n",
    "    annot=True,\n",
    "    fmt=\"g\",\n",
    "    xticklabels=[\"Alive\", \"Dead\"],\n",
    "    yticklabels=[\"Alive\", \"Dead\"],\n",
    ")\n",
    "plt.ylabel(\"Actual\", fontsize=13)\n",
    "plt.title(\"Confusion Matrix\", fontsize=17, pad=20)\n",
    "plt.gca().xaxis.set_label_position(\"top\")\n",
    "plt.xlabel(\"Prediction\", fontsize=13)\n",
    "plt.gca().xaxis.tick_top()\n",
    "\n",
    "plt.gca().figure.subplots_adjust(bottom=0.2)\n",
    "plt.gca().figure.text(0.5, 0.05, \"Prediction\", ha=\"center\", fontsize=13)\n",
    "plt.show()"
   ]
  }
 ],
 "metadata": {
  "kernelspec": {
   "display_name": ".venv",
   "language": "python",
   "name": "python3"
  },
  "language_info": {
   "codemirror_mode": {
    "name": "ipython",
    "version": 3
   },
   "file_extension": ".py",
   "mimetype": "text/x-python",
   "name": "python",
   "nbconvert_exporter": "python",
   "pygments_lexer": "ipython3",
   "version": "3.13.5"
  }
 },
 "nbformat": 4,
 "nbformat_minor": 5
}
