{
 "cells": [
  {
   "cell_type": "code",
   "execution_count": null,
   "id": "3e95f8ac",
   "metadata": {},
   "outputs": [],
   "source": [
    "%pip install numpy"
   ]
  },
  {
   "cell_type": "code",
   "execution_count": null,
   "id": "6014199b",
   "metadata": {},
   "outputs": [],
   "source": [
    "import numpy as np"
   ]
  },
  {
   "cell_type": "code",
   "execution_count": null,
   "id": "5920b719",
   "metadata": {},
   "outputs": [],
   "source": [
    "class PolyRegressionScratch:\n",
    "    def __init__(self):\n",
    "        pass\n"
   ]
  }
 ],
 "metadata": {
  "language_info": {
   "name": "python"
  }
 },
 "nbformat": 4,
 "nbformat_minor": 5
}
