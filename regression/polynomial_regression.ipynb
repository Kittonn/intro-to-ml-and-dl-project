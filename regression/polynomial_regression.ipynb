{
 "cells": [
  {
   "cell_type": "code",
   "execution_count": 19,
   "id": "3e95f8ac",
   "metadata": {},
   "outputs": [
    {
     "name": "stdout",
     "output_type": "stream",
     "text": [
      "Requirement already satisfied: numpy in /Users/7n100489/Library/CloudStorage/OneDrive-BankofAyudhyaPublicCompanyLimited/Desktop/Workspace/github/intro-to-ml-and-dl-project/.venv/lib/python3.13/site-packages (2.3.3)\n",
      "Requirement already satisfied: pandas in /Users/7n100489/Library/CloudStorage/OneDrive-BankofAyudhyaPublicCompanyLimited/Desktop/Workspace/github/intro-to-ml-and-dl-project/.venv/lib/python3.13/site-packages (2.3.3)\n",
      "Requirement already satisfied: python-dateutil>=2.8.2 in /Users/7n100489/Library/CloudStorage/OneDrive-BankofAyudhyaPublicCompanyLimited/Desktop/Workspace/github/intro-to-ml-and-dl-project/.venv/lib/python3.13/site-packages (from pandas) (2.9.0.post0)\n",
      "Requirement already satisfied: pytz>=2020.1 in /Users/7n100489/Library/CloudStorage/OneDrive-BankofAyudhyaPublicCompanyLimited/Desktop/Workspace/github/intro-to-ml-and-dl-project/.venv/lib/python3.13/site-packages (from pandas) (2025.2)\n",
      "Requirement already satisfied: tzdata>=2022.7 in /Users/7n100489/Library/CloudStorage/OneDrive-BankofAyudhyaPublicCompanyLimited/Desktop/Workspace/github/intro-to-ml-and-dl-project/.venv/lib/python3.13/site-packages (from pandas) (2025.2)\n",
      "Requirement already satisfied: six>=1.5 in /Users/7n100489/Library/CloudStorage/OneDrive-BankofAyudhyaPublicCompanyLimited/Desktop/Workspace/github/intro-to-ml-and-dl-project/.venv/lib/python3.13/site-packages (from python-dateutil>=2.8.2->pandas) (1.17.0)\n",
      "Note: you may need to restart the kernel to use updated packages.\n"
     ]
    }
   ],
   "source": [
    "%pip install numpy pandas"
   ]
  },
  {
   "cell_type": "code",
   "execution_count": 20,
   "id": "6014199b",
   "metadata": {},
   "outputs": [],
   "source": [
    "import numpy as np\n",
    "import pandas as pd\n",
    "from sklearn.model_selection import train_test_split\n",
    "from sklearn.preprocessing import StandardScaler\n",
    "from itertools import combinations_with_replacement"
   ]
  },
  {
   "cell_type": "code",
   "execution_count": 21,
   "id": "8ffb9767",
   "metadata": {},
   "outputs": [],
   "source": [
    "df = pd.read_csv(\"../regression_breast_cancer_data.csv\")\n",
    "\n",
    "scaler = StandardScaler()\n",
    "\n",
    "selected_feature = [\n",
    "    \"Node Positive Ratio\",\n",
    "    \"M Stage Encoded\",\n",
    "    \"N Stage Encoded\",\n",
    "    \"Estrogen Status Encoded\",\n",
    "    \"Progesterone Status Encoded\",\n",
    "]\n",
    "\n",
    "X = df[selected_feature]\n",
    "y = df[\"Survival Months\"]\n",
    "\n",
    "X_train, X_test, y_train, y_test = train_test_split(\n",
    "    X, y, test_size=0.2, random_state=42\n",
    ")\n",
    "\n",
    "X_scaled_train = scaler.fit_transform(X_train)\n",
    "X_scaled_test = scaler.transform(X_test)"
   ]
  },
  {
   "cell_type": "code",
   "execution_count": 22,
   "id": "5920b719",
   "metadata": {},
   "outputs": [
    {
     "name": "stdout",
     "output_type": "stream",
     "text": [
      "Degree 1: R² train = 0.030, R² test = 0.060\n",
      "Degree 2: R² train = 0.037, R² test = 0.071\n",
      "Degree 3: R² train = 0.048, R² test = 0.053\n",
      "Degree 4: R² train = 0.052, R² test = -5.902\n",
      "Degree 5: R² train = 0.059, R² test = -19.861\n"
     ]
    }
   ],
   "source": [
    "from sklearn.preprocessing import PolynomialFeatures\n",
    "from sklearn.linear_model import LinearRegression\n",
    "from sklearn.metrics import r2_score\n",
    "\n",
    "degrees = list(range(1, 6))\n",
    "for d in degrees:\n",
    "    poly = PolynomialFeatures(degree=d, include_bias=False)\n",
    "    X_train_poly = poly.fit_transform(X_scaled_train)\n",
    "    X_test_poly = poly.transform(X_scaled_test)\n",
    "\n",
    "    model = LinearRegression()\n",
    "    model.fit(X_train_poly, y_train)\n",
    "\n",
    "    y_train_pred = model.predict(X_train_poly)\n",
    "    y_test_pred = model.predict(X_test_poly)\n",
    "\n",
    "    r2_train = r2_score(y_train, y_train_pred)\n",
    "    r2_test = r2_score(y_test, y_test_pred)\n",
    "\n",
    "    print(f\"Degree {d}: R² train = {r2_train:.3f}, R² test = {r2_test:.3f}\")"
   ]
  },
  {
   "cell_type": "code",
   "execution_count": 23,
   "id": "21cfe0f1",
   "metadata": {},
   "outputs": [],
   "source": [
    "class PolyRegressionScratch:\n",
    "    def __init__(self, degree=2, learning_rate=0.01, n_iterations=1000):\n",
    "        self.degree = degree\n",
    "        self.learning_rate = learning_rate\n",
    "        self.n_iterations = n_iterations\n",
    "        self.weights = None \n",
    "        self.powers = None\n",
    "\n",
    "    def _expand_features(self, X):\n",
    "        n_samples, n_features = X.shape\n",
    "        self.powers = []\n",
    "        for deg in range(1, self.degree + 1):\n",
    "            for comb in combinations_with_replacement(range(n_features), deg):\n",
    "                count = [0] * n_features\n",
    "                for idx in comb:\n",
    "                    count[idx] += 1\n",
    "                self.powers.append(count)\n",
    "\n",
    "        X_poly = np.ones((n_samples, 1))\n",
    "        for power in self.powers:\n",
    "            term = np.prod(X**power, axis=1).reshape(-1, 1)\n",
    "            X_poly = np.hstack([X_poly, term])\n",
    "        return X_poly\n",
    "\n",
    "    def predict(self, X):\n",
    "        X_poly = self._expand_features(X)\n",
    "        return X_poly @ self.weights\n",
    "\n",
    "    def compute_cost(self, X, y):\n",
    "        m = len(y)\n",
    "        y_pred = self.predict(X)\n",
    "        return (1 / m) * np.sum((y_pred - y) ** 2)\n",
    "\n",
    "    def fit(self, X, y):\n",
    "        X_poly = self._expand_features(X)\n",
    "        n_samples, n_features_poly = X_poly.shape\n",
    "        self.weights = np.ones(n_features_poly)\n",
    "\n",
    "        for _ in range(self.n_iterations):\n",
    "            y_pred = X_poly @ self.weights\n",
    "            gradient = (2 / n_samples) * X_poly.T @ (y_pred - y)\n",
    "            self.weights -= self.learning_rate * gradient\n"
   ]
  },
  {
   "cell_type": "code",
   "execution_count": 24,
   "id": "aacd7355",
   "metadata": {},
   "outputs": [],
   "source": [
    "def r2_score_scratch(y_true, y_pred):\n",
    "    ss_total = np.sum((y_true - np.mean(y_true)) ** 2)\n",
    "    ss_residual = np.sum((y_true - y_pred) ** 2)\n",
    "    return 1 - (ss_residual / ss_total)"
   ]
  },
  {
   "cell_type": "code",
   "execution_count": 25,
   "id": "d5cd760e",
   "metadata": {},
   "outputs": [],
   "source": [
    "model = PolyRegressionScratch(degree=2, learning_rate=0.01, n_iterations=10000)\n",
    "model.fit(X_scaled_train, y_train)"
   ]
  },
  {
   "cell_type": "code",
   "execution_count": 26,
   "id": "e473c635",
   "metadata": {},
   "outputs": [
    {
     "name": "stdout",
     "output_type": "stream",
     "text": [
      "R² test (scratch): 0.071\n"
     ]
    }
   ],
   "source": [
    "y_pred = model.predict(X_scaled_test)\n",
    "r2 = r2_score_scratch(y_test, y_pred)\n",
    "print(f\"R² test (scratch): {r2:.3f}\")"
   ]
  }
 ],
 "metadata": {
  "kernelspec": {
   "display_name": ".venv",
   "language": "python",
   "name": "python3"
  },
  "language_info": {
   "codemirror_mode": {
    "name": "ipython",
    "version": 3
   },
   "file_extension": ".py",
   "mimetype": "text/x-python",
   "name": "python",
   "nbconvert_exporter": "python",
   "pygments_lexer": "ipython3",
   "version": "3.13.5"
  }
 },
 "nbformat": 4,
 "nbformat_minor": 5
}
