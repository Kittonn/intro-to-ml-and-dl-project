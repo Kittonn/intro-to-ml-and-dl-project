{
 "cells": [
  {
   "cell_type": "code",
   "execution_count": 161,
   "id": "5f497590",
   "metadata": {},
   "outputs": [
    {
     "name": "stdout",
     "output_type": "stream",
     "text": [
      "Requirement already satisfied: numpy in /Users/7n100489/Library/CloudStorage/OneDrive-BankofAyudhyaPublicCompanyLimited/Desktop/Workspace/github/intro-to-ml-and-dl-project/.venv/lib/python3.13/site-packages (2.3.3)\n",
      "Requirement already satisfied: pandas in /Users/7n100489/Library/CloudStorage/OneDrive-BankofAyudhyaPublicCompanyLimited/Desktop/Workspace/github/intro-to-ml-and-dl-project/.venv/lib/python3.13/site-packages (2.3.3)\n",
      "Requirement already satisfied: matplotlib in /Users/7n100489/Library/CloudStorage/OneDrive-BankofAyudhyaPublicCompanyLimited/Desktop/Workspace/github/intro-to-ml-and-dl-project/.venv/lib/python3.13/site-packages (3.10.6)\n",
      "Requirement already satisfied: scikit-learn in /Users/7n100489/Library/CloudStorage/OneDrive-BankofAyudhyaPublicCompanyLimited/Desktop/Workspace/github/intro-to-ml-and-dl-project/.venv/lib/python3.13/site-packages (1.7.2)\n",
      "Requirement already satisfied: python-dateutil>=2.8.2 in /Users/7n100489/Library/CloudStorage/OneDrive-BankofAyudhyaPublicCompanyLimited/Desktop/Workspace/github/intro-to-ml-and-dl-project/.venv/lib/python3.13/site-packages (from pandas) (2.9.0.post0)\n",
      "Requirement already satisfied: pytz>=2020.1 in /Users/7n100489/Library/CloudStorage/OneDrive-BankofAyudhyaPublicCompanyLimited/Desktop/Workspace/github/intro-to-ml-and-dl-project/.venv/lib/python3.13/site-packages (from pandas) (2025.2)\n",
      "Requirement already satisfied: tzdata>=2022.7 in /Users/7n100489/Library/CloudStorage/OneDrive-BankofAyudhyaPublicCompanyLimited/Desktop/Workspace/github/intro-to-ml-and-dl-project/.venv/lib/python3.13/site-packages (from pandas) (2025.2)\n",
      "Requirement already satisfied: contourpy>=1.0.1 in /Users/7n100489/Library/CloudStorage/OneDrive-BankofAyudhyaPublicCompanyLimited/Desktop/Workspace/github/intro-to-ml-and-dl-project/.venv/lib/python3.13/site-packages (from matplotlib) (1.3.3)\n",
      "Requirement already satisfied: cycler>=0.10 in /Users/7n100489/Library/CloudStorage/OneDrive-BankofAyudhyaPublicCompanyLimited/Desktop/Workspace/github/intro-to-ml-and-dl-project/.venv/lib/python3.13/site-packages (from matplotlib) (0.12.1)\n",
      "Requirement already satisfied: fonttools>=4.22.0 in /Users/7n100489/Library/CloudStorage/OneDrive-BankofAyudhyaPublicCompanyLimited/Desktop/Workspace/github/intro-to-ml-and-dl-project/.venv/lib/python3.13/site-packages (from matplotlib) (4.60.1)\n",
      "Requirement already satisfied: kiwisolver>=1.3.1 in /Users/7n100489/Library/CloudStorage/OneDrive-BankofAyudhyaPublicCompanyLimited/Desktop/Workspace/github/intro-to-ml-and-dl-project/.venv/lib/python3.13/site-packages (from matplotlib) (1.4.9)\n",
      "Requirement already satisfied: packaging>=20.0 in /Users/7n100489/Library/CloudStorage/OneDrive-BankofAyudhyaPublicCompanyLimited/Desktop/Workspace/github/intro-to-ml-and-dl-project/.venv/lib/python3.13/site-packages (from matplotlib) (25.0)\n",
      "Requirement already satisfied: pillow>=8 in /Users/7n100489/Library/CloudStorage/OneDrive-BankofAyudhyaPublicCompanyLimited/Desktop/Workspace/github/intro-to-ml-and-dl-project/.venv/lib/python3.13/site-packages (from matplotlib) (11.3.0)\n",
      "Requirement already satisfied: pyparsing>=2.3.1 in /Users/7n100489/Library/CloudStorage/OneDrive-BankofAyudhyaPublicCompanyLimited/Desktop/Workspace/github/intro-to-ml-and-dl-project/.venv/lib/python3.13/site-packages (from matplotlib) (3.2.5)\n",
      "Requirement already satisfied: scipy>=1.8.0 in /Users/7n100489/Library/CloudStorage/OneDrive-BankofAyudhyaPublicCompanyLimited/Desktop/Workspace/github/intro-to-ml-and-dl-project/.venv/lib/python3.13/site-packages (from scikit-learn) (1.16.2)\n",
      "Requirement already satisfied: joblib>=1.2.0 in /Users/7n100489/Library/CloudStorage/OneDrive-BankofAyudhyaPublicCompanyLimited/Desktop/Workspace/github/intro-to-ml-and-dl-project/.venv/lib/python3.13/site-packages (from scikit-learn) (1.5.2)\n",
      "Requirement already satisfied: threadpoolctl>=3.1.0 in /Users/7n100489/Library/CloudStorage/OneDrive-BankofAyudhyaPublicCompanyLimited/Desktop/Workspace/github/intro-to-ml-and-dl-project/.venv/lib/python3.13/site-packages (from scikit-learn) (3.6.0)\n",
      "Requirement already satisfied: six>=1.5 in /Users/7n100489/Library/CloudStorage/OneDrive-BankofAyudhyaPublicCompanyLimited/Desktop/Workspace/github/intro-to-ml-and-dl-project/.venv/lib/python3.13/site-packages (from python-dateutil>=2.8.2->pandas) (1.17.0)\n",
      "Note: you may need to restart the kernel to use updated packages.\n"
     ]
    }
   ],
   "source": [
    "%pip install numpy pandas matplotlib scikit-learn"
   ]
  },
  {
   "cell_type": "code",
   "execution_count": 162,
   "id": "70d60408",
   "metadata": {},
   "outputs": [],
   "source": [
    "import numpy as np\n",
    "import pandas as pd\n",
    "import matplotlib.pyplot as plt\n",
    "from sklearn.model_selection import train_test_split\n",
    "from sklearn.preprocessing import StandardScaler"
   ]
  },
  {
   "cell_type": "code",
   "execution_count": 163,
   "id": "2d001ffe",
   "metadata": {},
   "outputs": [
    {
     "data": {
      "text/html": [
       "<div>\n",
       "<style scoped>\n",
       "    .dataframe tbody tr th:only-of-type {\n",
       "        vertical-align: middle;\n",
       "    }\n",
       "\n",
       "    .dataframe tbody tr th {\n",
       "        vertical-align: top;\n",
       "    }\n",
       "\n",
       "    .dataframe thead th {\n",
       "        text-align: right;\n",
       "    }\n",
       "</style>\n",
       "<table border=\"1\" class=\"dataframe\">\n",
       "  <thead>\n",
       "    <tr style=\"text-align: right;\">\n",
       "      <th></th>\n",
       "      <th>Age</th>\n",
       "      <th>differentiate</th>\n",
       "      <th>Tumor Size</th>\n",
       "      <th>Survival Months</th>\n",
       "      <th>Node Positive Ratio</th>\n",
       "      <th>T Stage Encoded</th>\n",
       "      <th>M Stage Encoded</th>\n",
       "      <th>N Stage Encoded</th>\n",
       "      <th>Estrogen Status Encoded</th>\n",
       "      <th>Progesterone Status Encoded</th>\n",
       "    </tr>\n",
       "  </thead>\n",
       "  <tbody>\n",
       "    <tr>\n",
       "      <th>0</th>\n",
       "      <td>68</td>\n",
       "      <td>3</td>\n",
       "      <td>4</td>\n",
       "      <td>60</td>\n",
       "      <td>0.041667</td>\n",
       "      <td>0.0</td>\n",
       "      <td>1</td>\n",
       "      <td>0.0</td>\n",
       "      <td>1</td>\n",
       "      <td>1</td>\n",
       "    </tr>\n",
       "    <tr>\n",
       "      <th>1</th>\n",
       "      <td>50</td>\n",
       "      <td>2</td>\n",
       "      <td>35</td>\n",
       "      <td>62</td>\n",
       "      <td>0.357143</td>\n",
       "      <td>1.0</td>\n",
       "      <td>1</td>\n",
       "      <td>1.0</td>\n",
       "      <td>1</td>\n",
       "      <td>1</td>\n",
       "    </tr>\n",
       "    <tr>\n",
       "      <th>2</th>\n",
       "      <td>58</td>\n",
       "      <td>2</td>\n",
       "      <td>63</td>\n",
       "      <td>75</td>\n",
       "      <td>0.500000</td>\n",
       "      <td>2.0</td>\n",
       "      <td>1</td>\n",
       "      <td>2.0</td>\n",
       "      <td>1</td>\n",
       "      <td>1</td>\n",
       "    </tr>\n",
       "    <tr>\n",
       "      <th>3</th>\n",
       "      <td>58</td>\n",
       "      <td>3</td>\n",
       "      <td>18</td>\n",
       "      <td>84</td>\n",
       "      <td>0.500000</td>\n",
       "      <td>0.0</td>\n",
       "      <td>1</td>\n",
       "      <td>0.0</td>\n",
       "      <td>1</td>\n",
       "      <td>1</td>\n",
       "    </tr>\n",
       "    <tr>\n",
       "      <th>4</th>\n",
       "      <td>47</td>\n",
       "      <td>3</td>\n",
       "      <td>41</td>\n",
       "      <td>50</td>\n",
       "      <td>0.333333</td>\n",
       "      <td>1.0</td>\n",
       "      <td>1</td>\n",
       "      <td>0.0</td>\n",
       "      <td>1</td>\n",
       "      <td>1</td>\n",
       "    </tr>\n",
       "  </tbody>\n",
       "</table>\n",
       "</div>"
      ],
      "text/plain": [
       "   Age  differentiate  Tumor Size  Survival Months  Node Positive Ratio  \\\n",
       "0   68              3           4               60             0.041667   \n",
       "1   50              2          35               62             0.357143   \n",
       "2   58              2          63               75             0.500000   \n",
       "3   58              3          18               84             0.500000   \n",
       "4   47              3          41               50             0.333333   \n",
       "\n",
       "   T Stage Encoded  M Stage Encoded  N Stage Encoded  Estrogen Status Encoded  \\\n",
       "0              0.0                1              0.0                        1   \n",
       "1              1.0                1              1.0                        1   \n",
       "2              2.0                1              2.0                        1   \n",
       "3              0.0                1              0.0                        1   \n",
       "4              1.0                1              0.0                        1   \n",
       "\n",
       "   Progesterone Status Encoded  \n",
       "0                            1  \n",
       "1                            1  \n",
       "2                            1  \n",
       "3                            1  \n",
       "4                            1  "
      ]
     },
     "execution_count": 163,
     "metadata": {},
     "output_type": "execute_result"
    }
   ],
   "source": [
    "df = pd.read_csv(\"../regression_breast_cancer_data.csv\")\n",
    "\n",
    "df.head()"
   ]
  },
  {
   "cell_type": "code",
   "execution_count": 164,
   "id": "2a2ae4aa",
   "metadata": {},
   "outputs": [],
   "source": [
    "selected_feature = [\n",
    "    \"N Stage Encoded\",\n",
    "]\n",
    "\n",
    "X = df[selected_feature].values\n",
    "y = df[\"Survival Months\"].values\n",
    "\n",
    "y = y.reshape(-1, 1)\n",
    "\n",
    "X_train, X_test, y_train, y_test = train_test_split(\n",
    "    X, y, test_size=0.2, random_state=42\n",
    ")\n",
    "\n",
    "\n",
    "scaler = StandardScaler()\n",
    "X_train_scaled = scaler.fit_transform(X_train.reshape(-1, 1))\n",
    "X_test_scaled = scaler.transform(X_test.reshape(-1, 1))\n"
   ]
  },
  {
   "cell_type": "code",
   "execution_count": 165,
   "id": "9699c28c",
   "metadata": {},
   "outputs": [
    {
     "name": "stdout",
     "output_type": "stream",
     "text": [
      "Degree 1: R² train = 0.015, R² test = 0.034\n",
      "Degree 2: R² train = 0.015, R² test = 0.035\n",
      "Degree 3: R² train = 0.015, R² test = 0.035\n",
      "Degree 4: R² train = 0.015, R² test = 0.035\n",
      "Degree 5: R² train = 0.015, R² test = 0.035\n"
     ]
    }
   ],
   "source": [
    "from sklearn.preprocessing import PolynomialFeatures\n",
    "from sklearn.linear_model import LinearRegression\n",
    "from sklearn.metrics import r2_score\n",
    "\n",
    "degrees = list(range(1, 6))\n",
    "for d in degrees:\n",
    "    poly = PolynomialFeatures(degree=d, include_bias=False)\n",
    "    X_train_poly = poly.fit_transform(X_train)\n",
    "    X_test_poly = poly.transform(X_test)\n",
    "    model = LinearRegression()\n",
    "    model.fit(X_train_poly, y_train)\n",
    "    y_train_pred = model.predict(X_train_poly)\n",
    "    y_test_pred = model.predict(X_test_poly)\n",
    "    r2_train = r2_score(y_train, y_train_pred)\n",
    "    r2_test = r2_score(y_test, y_test_pred)\n",
    "    print(f\"Degree {d}: R² train = {r2_train:.3f}, R² test = {r2_test:.3f}\")"
   ]
  },
  {
   "cell_type": "code",
   "execution_count": 166,
   "id": "4a802779",
   "metadata": {},
   "outputs": [],
   "source": [
    "class PolyRegressionScratch:\n",
    "    \"\"\"\n",
    "    Custom implementation of quadratic regression (degree 2) using gradient descent.\n",
    "    \"\"\"\n",
    "\n",
    "    def __init__(self, alpha=1e-3, iterations=1000):\n",
    "        self.a2 = 1  # coef of x^2\n",
    "        self.a1 = 1  # coef of x\n",
    "        self.a0 = 1  # intercept\n",
    "        self.alpha = alpha\n",
    "        self.iterations = iterations\n",
    "\n",
    "    def predict(self, x):\n",
    "        return self.a2 * x**2 + self.a1 * x + self.a0\n",
    "\n",
    "    # Cost function (MSE)\n",
    "    def compute_cost(self, x, y):\n",
    "        m = len(x)\n",
    "        predictions = self.predict(x)\n",
    "        cost = (1 / m) * np.sum((predictions - y) ** 2)\n",
    "        return cost\n",
    "\n",
    "    def fit(self, x, y):\n",
    "        m = len(x)\n",
    "\n",
    "        for i in range(self.iterations):\n",
    "            predictions = self.predict(x)\n",
    "\n",
    "            # Gradients\n",
    "            dJ_da0 = (2 / m) * np.sum(predictions - y)\n",
    "            dJ_da1 = (2 / m) * np.sum((predictions - y) * x)\n",
    "            dJ_da2 = (2 / m) * np.sum((predictions - y) * x**2)\n",
    "\n",
    "            # Update coefficients\n",
    "            self.a0 -= self.alpha * dJ_da0\n",
    "            self.a1 -= self.alpha * dJ_da1\n",
    "            self.a2 -= self.alpha * dJ_da2\n",
    "\n",
    "            if i % 1000 == 0:\n",
    "                cost = self.compute_cost(x, y)\n",
    "                print(f\"Iteration {i}, Cost: {cost}\")\n",
    "\n",
    "        print(f\"Optimized a0 (Intercept): {self.a0}\")\n",
    "        print(f\"Optimized a1 (coef of x): {self.a1}\")\n",
    "        print(f\"Optimized a2 (coef of x^2): {self.a2}\")\n"
   ]
  },
  {
   "cell_type": "code",
   "execution_count": 167,
   "id": "c05ee228",
   "metadata": {},
   "outputs": [],
   "source": [
    "def r2_score_scratch(y_true, y_pred):\n",
    "    ss_total = np.sum((y_true - np.mean(y_true)) ** 2)\n",
    "    ss_residual = np.sum((y_true - y_pred) ** 2)\n",
    "    return 1 - (ss_residual / ss_total)"
   ]
  },
  {
   "cell_type": "code",
   "execution_count": 168,
   "id": "6a2b7189",
   "metadata": {},
   "outputs": [
    {
     "name": "stdout",
     "output_type": "stream",
     "text": [
      "Iteration 0, Cost: 5290.278684969754\n",
      "Iteration 1000, Cost: 682.4484427125227\n",
      "Iteration 2000, Cost: 577.1468161327846\n",
      "Iteration 3000, Cost: 549.5893642045271\n"
     ]
    },
    {
     "name": "stdout",
     "output_type": "stream",
     "text": [
      "Iteration 4000, Cost: 534.5543316292567\n",
      "Iteration 5000, Cost: 526.0422591499216\n",
      "Iteration 6000, Cost: 521.2172965220146\n",
      "Iteration 7000, Cost: 518.482219327507\n",
      "Iteration 8000, Cost: 516.9318121519656\n",
      "Iteration 9000, Cost: 516.0529475582314\n",
      "Optimized a0 (Intercept): 70.13887820532936\n",
      "Optimized a1 (coef of x): -4.107267020359993\n",
      "Optimized a2 (coef of x^2): 0.8562881238315246\n"
     ]
    }
   ],
   "source": [
    "alpha = 1e-3\n",
    "iterations = 10000\n",
    "\n",
    "model = PolyRegressionScratch(alpha=alpha, iterations=iterations)\n",
    "model.fit(X_train_scaled, y_train)"
   ]
  },
  {
   "cell_type": "code",
   "execution_count": 169,
   "id": "b4502674",
   "metadata": {},
   "outputs": [
    {
     "name": "stdout",
     "output_type": "stream",
     "text": [
      "R² test (scratch): 0.029\n"
     ]
    }
   ],
   "source": [
    "y_pred = model.predict(X_test_scaled)\n",
    "r2 = r2_score_scratch(y_test, y_pred)\n",
    "print(f\"R² test (scratch): {r2:.3f}\")"
   ]
  }
 ],
 "metadata": {
  "kernelspec": {
   "display_name": ".venv",
   "language": "python",
   "name": "python3"
  },
  "language_info": {
   "codemirror_mode": {
    "name": "ipython",
    "version": 3
   },
   "file_extension": ".py",
   "mimetype": "text/x-python",
   "name": "python",
   "nbconvert_exporter": "python",
   "pygments_lexer": "ipython3",
   "version": "3.13.5"
  }
 },
 "nbformat": 4,
 "nbformat_minor": 5
}
