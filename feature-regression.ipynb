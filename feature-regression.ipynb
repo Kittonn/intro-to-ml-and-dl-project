{
 "cells": [
  {
   "cell_type": "code",
   "execution_count": 52,
   "id": "37aa6329",
   "metadata": {},
   "outputs": [
    {
     "name": "stdout",
     "output_type": "stream",
     "text": [
      "Requirement already satisfied: xgboost in ./.venv/lib/python3.13/site-packages (3.0.5)\n",
      "Requirement already satisfied: matplotlib in ./.venv/lib/python3.13/site-packages (3.10.6)\n",
      "Requirement already satisfied: numpy in ./.venv/lib/python3.13/site-packages (from xgboost) (2.3.3)\n",
      "Requirement already satisfied: scipy in ./.venv/lib/python3.13/site-packages (from xgboost) (1.16.2)\n",
      "Requirement already satisfied: contourpy>=1.0.1 in ./.venv/lib/python3.13/site-packages (from matplotlib) (1.3.3)\n",
      "Requirement already satisfied: cycler>=0.10 in ./.venv/lib/python3.13/site-packages (from matplotlib) (0.12.1)\n",
      "Requirement already satisfied: fonttools>=4.22.0 in ./.venv/lib/python3.13/site-packages (from matplotlib) (4.60.1)\n",
      "Requirement already satisfied: kiwisolver>=1.3.1 in ./.venv/lib/python3.13/site-packages (from matplotlib) (1.4.9)\n",
      "Requirement already satisfied: packaging>=20.0 in ./.venv/lib/python3.13/site-packages (from matplotlib) (25.0)\n",
      "Requirement already satisfied: pillow>=8 in ./.venv/lib/python3.13/site-packages (from matplotlib) (11.3.0)\n",
      "Requirement already satisfied: pyparsing>=2.3.1 in ./.venv/lib/python3.13/site-packages (from matplotlib) (3.2.5)\n",
      "Requirement already satisfied: python-dateutil>=2.7 in ./.venv/lib/python3.13/site-packages (from matplotlib) (2.9.0.post0)\n",
      "Requirement already satisfied: six>=1.5 in ./.venv/lib/python3.13/site-packages (from python-dateutil>=2.7->matplotlib) (1.17.0)\n",
      "Note: you may need to restart the kernel to use updated packages.\n"
     ]
    }
   ],
   "source": [
    "%pip install xgboost matplotlib"
   ]
  },
  {
   "cell_type": "code",
   "execution_count": 53,
   "id": "04adae6b",
   "metadata": {},
   "outputs": [],
   "source": [
    "import pandas as pd\n",
    "import xgboost as xgb\n",
    "import matplotlib.pyplot as plt\n",
    "from sklearn.model_selection import train_test_split\n",
    "import warnings"
   ]
  },
  {
   "cell_type": "code",
   "execution_count": 54,
   "id": "8af47efb",
   "metadata": {},
   "outputs": [],
   "source": [
    "warnings.filterwarnings(\"ignore\")"
   ]
  },
  {
   "cell_type": "code",
   "execution_count": 55,
   "id": "2bc28f58",
   "metadata": {},
   "outputs": [
    {
     "data": {
      "text/html": [
       "<div>\n",
       "<style scoped>\n",
       "    .dataframe tbody tr th:only-of-type {\n",
       "        vertical-align: middle;\n",
       "    }\n",
       "\n",
       "    .dataframe tbody tr th {\n",
       "        vertical-align: top;\n",
       "    }\n",
       "\n",
       "    .dataframe thead th {\n",
       "        text-align: right;\n",
       "    }\n",
       "</style>\n",
       "<table border=\"1\" class=\"dataframe\">\n",
       "  <thead>\n",
       "    <tr style=\"text-align: right;\">\n",
       "      <th></th>\n",
       "      <th>Age</th>\n",
       "      <th>differentiate</th>\n",
       "      <th>Tumor Size</th>\n",
       "      <th>Survival Months</th>\n",
       "      <th>Node Positive Ratio</th>\n",
       "      <th>T Stage Encoded</th>\n",
       "      <th>M Stage Encoded</th>\n",
       "      <th>N Stage Encoded</th>\n",
       "      <th>Estrogen Status Encoded</th>\n",
       "      <th>Progesterone Status Encoded</th>\n",
       "      <th>Survival More Than 6 Years</th>\n",
       "    </tr>\n",
       "  </thead>\n",
       "  <tbody>\n",
       "    <tr>\n",
       "      <th>0</th>\n",
       "      <td>68</td>\n",
       "      <td>3</td>\n",
       "      <td>4</td>\n",
       "      <td>60</td>\n",
       "      <td>0.041667</td>\n",
       "      <td>0.0</td>\n",
       "      <td>1</td>\n",
       "      <td>0.0</td>\n",
       "      <td>1</td>\n",
       "      <td>1</td>\n",
       "      <td>0</td>\n",
       "    </tr>\n",
       "    <tr>\n",
       "      <th>1</th>\n",
       "      <td>50</td>\n",
       "      <td>2</td>\n",
       "      <td>35</td>\n",
       "      <td>62</td>\n",
       "      <td>0.357143</td>\n",
       "      <td>1.0</td>\n",
       "      <td>1</td>\n",
       "      <td>1.0</td>\n",
       "      <td>1</td>\n",
       "      <td>1</td>\n",
       "      <td>0</td>\n",
       "    </tr>\n",
       "    <tr>\n",
       "      <th>2</th>\n",
       "      <td>58</td>\n",
       "      <td>2</td>\n",
       "      <td>63</td>\n",
       "      <td>75</td>\n",
       "      <td>0.500000</td>\n",
       "      <td>2.0</td>\n",
       "      <td>1</td>\n",
       "      <td>2.0</td>\n",
       "      <td>1</td>\n",
       "      <td>1</td>\n",
       "      <td>1</td>\n",
       "    </tr>\n",
       "    <tr>\n",
       "      <th>3</th>\n",
       "      <td>58</td>\n",
       "      <td>3</td>\n",
       "      <td>18</td>\n",
       "      <td>84</td>\n",
       "      <td>0.500000</td>\n",
       "      <td>0.0</td>\n",
       "      <td>1</td>\n",
       "      <td>0.0</td>\n",
       "      <td>1</td>\n",
       "      <td>1</td>\n",
       "      <td>1</td>\n",
       "    </tr>\n",
       "    <tr>\n",
       "      <th>4</th>\n",
       "      <td>47</td>\n",
       "      <td>3</td>\n",
       "      <td>41</td>\n",
       "      <td>50</td>\n",
       "      <td>0.333333</td>\n",
       "      <td>1.0</td>\n",
       "      <td>1</td>\n",
       "      <td>0.0</td>\n",
       "      <td>1</td>\n",
       "      <td>1</td>\n",
       "      <td>0</td>\n",
       "    </tr>\n",
       "  </tbody>\n",
       "</table>\n",
       "</div>"
      ],
      "text/plain": [
       "   Age  differentiate  Tumor Size  Survival Months  Node Positive Ratio  \\\n",
       "0   68              3           4               60             0.041667   \n",
       "1   50              2          35               62             0.357143   \n",
       "2   58              2          63               75             0.500000   \n",
       "3   58              3          18               84             0.500000   \n",
       "4   47              3          41               50             0.333333   \n",
       "\n",
       "   T Stage Encoded  M Stage Encoded  N Stage Encoded  Estrogen Status Encoded  \\\n",
       "0              0.0                1              0.0                        1   \n",
       "1              1.0                1              1.0                        1   \n",
       "2              2.0                1              2.0                        1   \n",
       "3              0.0                1              0.0                        1   \n",
       "4              1.0                1              0.0                        1   \n",
       "\n",
       "   Progesterone Status Encoded  Survival More Than 6 Years  \n",
       "0                            1                           0  \n",
       "1                            1                           0  \n",
       "2                            1                           1  \n",
       "3                            1                           1  \n",
       "4                            1                           0  "
      ]
     },
     "execution_count": 55,
     "metadata": {},
     "output_type": "execute_result"
    }
   ],
   "source": [
    "df = pd.read_csv(\"cleaned_breast_cancer_data.csv\")\n",
    "\n",
    "df.head()"
   ]
  },
  {
   "cell_type": "code",
   "execution_count": 56,
   "id": "adc7c1dd",
   "metadata": {},
   "outputs": [],
   "source": [
    "X = df.drop(columns=[\"Survival More Than 6 Years\", \"Survival Months\"])\n",
    "y = df[\"Survival Months\"]"
   ]
  },
  {
   "cell_type": "code",
   "execution_count": 57,
   "id": "c3b11b54",
   "metadata": {},
   "outputs": [
    {
     "name": "stdout",
     "output_type": "stream",
     "text": [
      "[0.08512621 0.08965654 0.10572889 0.10856219 0.07021804 0.12809627\n",
      " 0.14736243 0.12382723 0.14142221]\n"
     ]
    },
    {
     "data": {
      "image/png": "[encoded data removed]",
      "text/plain": [
       "<Figure size 640x480 with 1 Axes>"
      ]
     },
     "metadata": {},
     "output_type": "display_data"
    }
   ],
   "source": [
    "from sklearn.model_selection import train_test_split, GridSearchCV\n",
    "import xgboost as xgb\n",
    "\n",
    "X_train, X_test, y_train, y_test = train_test_split(\n",
    "    X, y, test_size=0.3, random_state=42\n",
    ")\n",
    "\n",
    "model = xgb.XGBRegressor()\n",
    "model.fit(X_train, y_train)\n",
    "\n",
    "print(model.feature_importances_)\n",
    "\n",
    "xgb.plot_importance(model, importance_type=\"gain\")\n",
    "plt.tight_layout()\n",
    "plt.show()"
   ]
  },
  {
   "cell_type": "code",
   "execution_count": 58,
   "id": "57ecc613",
   "metadata": {},
   "outputs": [
    {
     "name": "stdout",
     "output_type": "stream",
     "text": [
      "                       feature  importance\n",
      "6              N Stage Encoded  653.296143\n",
      "8  Progesterone Status Encoded  626.961609\n",
      "5              M Stage Encoded  567.884216\n",
      "7      Estrogen Status Encoded  548.958435\n",
      "3          Node Positive Ratio  481.284515\n",
      "2                   Tumor Size  468.723816\n",
      "1                differentiate  397.470856\n",
      "0                          Age  377.386719\n",
      "4              T Stage Encoded  311.294922\n"
     ]
    }
   ],
   "source": [
    "importance_dict = model.get_booster().get_score(importance_type=\"gain\")\n",
    "keys = list(importance_dict.keys())\n",
    "values = list(importance_dict.values())\n",
    "\n",
    "importance_df = pd.DataFrame(\n",
    "    {\n",
    "        \"feature\": list(importance_dict.keys()),\n",
    "        \"importance\": list(importance_dict.values()),\n",
    "    }\n",
    ").sort_values(by=\"importance\", ascending=False)\n",
    "\n",
    "print(importance_df)\n"
   ]
  },
  {
   "cell_type": "code",
   "execution_count": 59,
   "id": "43b99696",
   "metadata": {},
   "outputs": [
    {
     "name": "stdout",
     "output_type": "stream",
     "text": [
      "Thresh=0.070, n=9, R²: -0.202, RMSE: 25.327\n",
      "Selected Features: ['Age', 'differentiate', 'Tumor Size', 'Node Positive Ratio', 'T Stage Encoded', 'M Stage Encoded', 'N Stage Encoded', 'Estrogen Status Encoded', 'Progesterone Status Encoded']\n",
      "------------------------------------------------------------\n",
      "Thresh=0.085, n=8, R²: -0.200, RMSE: 25.301\n",
      "Selected Features: ['Age', 'differentiate', 'Tumor Size', 'Node Positive Ratio', 'M Stage Encoded', 'N Stage Encoded', 'Estrogen Status Encoded', 'Progesterone Status Encoded']\n",
      "------------------------------------------------------------\n",
      "Thresh=0.090, n=7, R²: -0.138, RMSE: 24.641\n",
      "Selected Features: ['differentiate', 'Tumor Size', 'Node Positive Ratio', 'M Stage Encoded', 'N Stage Encoded', 'Estrogen Status Encoded', 'Progesterone Status Encoded']\n",
      "------------------------------------------------------------\n",
      "Thresh=0.106, n=6, R²: -0.129, RMSE: 24.545\n",
      "Selected Features: ['Tumor Size', 'Node Positive Ratio', 'M Stage Encoded', 'N Stage Encoded', 'Estrogen Status Encoded', 'Progesterone Status Encoded']\n",
      "------------------------------------------------------------\n",
      "Thresh=0.109, n=5, R²: -0.094, RMSE: 24.160\n",
      "Selected Features: ['Node Positive Ratio', 'M Stage Encoded', 'N Stage Encoded', 'Estrogen Status Encoded', 'Progesterone Status Encoded']\n",
      "------------------------------------------------------------\n",
      "Thresh=0.124, n=4, R²: 0.044, RMSE: 22.587\n",
      "Selected Features: ['M Stage Encoded', 'N Stage Encoded', 'Estrogen Status Encoded', 'Progesterone Status Encoded']\n",
      "------------------------------------------------------------\n",
      "Thresh=0.128, n=3, R²: 0.031, RMSE: 22.741\n",
      "Selected Features: ['M Stage Encoded', 'N Stage Encoded', 'Progesterone Status Encoded']\n",
      "------------------------------------------------------------\n",
      "Thresh=0.141, n=2, R²: 0.034, RMSE: 22.699\n",
      "Selected Features: ['N Stage Encoded', 'Progesterone Status Encoded']\n",
      "------------------------------------------------------------\n",
      "Thresh=0.147, n=1, R²: 0.026, RMSE: 22.800\n",
      "Selected Features: ['N Stage Encoded']\n",
      "------------------------------------------------------------\n"
     ]
    }
   ],
   "source": [
    "import numpy as np\n",
    "from numpy import sort\n",
    "from sklearn.feature_selection import SelectFromModel\n",
    "from sklearn.metrics import r2_score, root_mean_squared_error\n",
    "from xgboost import XGBRegressor\n",
    "\n",
    "model = XGBRegressor()\n",
    "model.fit(X_train, y_train)\n",
    "\n",
    "thresholds = sort(model.feature_importances_)\n",
    "\n",
    "for thresh in thresholds:\n",
    "    selection = SelectFromModel(model, threshold=thresh, prefit=True)\n",
    "    select_X_train = selection.transform(X_train)\n",
    "\n",
    "    selected_features = X_train.columns[selection.get_support()]\n",
    "\n",
    "    selection_model = XGBRegressor()\n",
    "    selection_model.fit(select_X_train, y_train)\n",
    "\n",
    "    select_X_test = selection.transform(X_test)\n",
    "    y_pred = selection_model.predict(select_X_test)\n",
    "\n",
    "    r2 = r2_score(y_test, y_pred)\n",
    "    rmse = root_mean_squared_error(y_test, y_pred)\n",
    "\n",
    "    print(\n",
    "        \"Thresh=%.3f, n=%d, R²: %.3f, RMSE: %.3f\"\n",
    "        % (thresh, select_X_train.shape[1], r2, rmse)\n",
    "    )\n",
    "    print(\"Selected Features:\", list(selected_features))\n",
    "    print(\"-\" * 60)\n"
   ]
  }
 ],
 "metadata": {
  "kernelspec": {
   "display_name": ".venv",
   "language": "python",
   "name": "python3"
  },
  "language_info": {
   "codemirror_mode": {
    "name": "ipython",
    "version": 3
   },
   "file_extension": ".py",
   "mimetype": "text/x-python",
   "name": "python",
   "nbconvert_exporter": "python",
   "pygments_lexer": "ipython3",
   "version": "3.13.5"
  }
 },
 "nbformat": 4,
 "nbformat_minor": 5
}
